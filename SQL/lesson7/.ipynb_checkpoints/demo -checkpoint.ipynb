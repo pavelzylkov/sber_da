{
 "cells": [
  {
   "cell_type": "code",
   "execution_count": 7,
   "metadata": {},
   "outputs": [],
   "source": [
    "import psycopg2\n",
    "import pandas as pd\n",
    "#Библиотека ждя визуализации\n",
    "from IPython.display import HTML\n",
    "\n",
    "\n",
    "#!введите свои реквизиты!\n",
    "DB_HOST = '52.157.159.24'\n",
    "DB_USER = 'student5'\n",
    "DB_USER_PASSWORD = 'student5_password'\n",
    "DB_NAME = 'sql_ex_for_student5'\n",
    "\n",
    "conn_postgre = psycopg2.connect(host=DB_HOST, user=DB_USER, password=DB_USER_PASSWORD, dbname=DB_NAME)\n",
    "\n",
    "import sqlite3\n",
    "conn = sqlite3.connect('Copy.db')  \n",
    "c = conn.cursor()"
   ]
  },
  {
   "cell_type": "code",
   "execution_count": 8,
   "metadata": {},
   "outputs": [
    {
     "ename": "TypeError",
     "evalue": "can only concatenate str (not \"NoneType\") to str",
     "output_type": "error",
     "traceback": [
      "\u001b[1;31m---------------------------------------------------------------------------\u001b[0m",
      "\u001b[1;31mTypeError\u001b[0m                                 Traceback (most recent call last)",
      "\u001b[1;32m<ipython-input-8-f2d9a82ae06d>\u001b[0m in \u001b[0;36m<module>\u001b[1;34m\u001b[0m\n\u001b[0;32m      1\u001b[0m \u001b[0mpostgre_request\u001b[0m \u001b[1;33m=\u001b[0m \u001b[1;34m\"select * from pc\"\u001b[0m\u001b[1;33m\u001b[0m\u001b[1;33m\u001b[0m\u001b[0m\n\u001b[1;32m----> 2\u001b[1;33m \u001b[0mrequest\u001b[0m \u001b[1;33m=\u001b[0m \u001b[1;34m\"CREATE TABLE PC as (\"\u001b[0m \u001b[1;33m+\u001b[0m \u001b[0mconn_postgre\u001b[0m\u001b[1;33m.\u001b[0m\u001b[0mcursor\u001b[0m\u001b[1;33m(\u001b[0m\u001b[1;33m)\u001b[0m\u001b[1;33m.\u001b[0m\u001b[0mexecute\u001b[0m\u001b[1;33m(\u001b[0m\u001b[0mpostgre_request\u001b[0m\u001b[1;33m)\u001b[0m \u001b[1;33m+\u001b[0m \u001b[1;34m\")\"\u001b[0m\u001b[1;33m\u001b[0m\u001b[1;33m\u001b[0m\u001b[0m\n\u001b[0m\u001b[0;32m      3\u001b[0m \u001b[0mc\u001b[0m\u001b[1;33m.\u001b[0m\u001b[0mexecute\u001b[0m\u001b[1;33m(\u001b[0m\u001b[0mrequest\u001b[0m\u001b[1;33m)\u001b[0m\u001b[1;33m\u001b[0m\u001b[1;33m\u001b[0m\u001b[0m\n\u001b[0;32m      4\u001b[0m \u001b[0mtables\u001b[0m \u001b[1;33m=\u001b[0m \u001b[0mc\u001b[0m\u001b[1;33m.\u001b[0m\u001b[0mfetchall\u001b[0m\u001b[1;33m(\u001b[0m\u001b[1;33m)\u001b[0m\u001b[1;33m\u001b[0m\u001b[1;33m\u001b[0m\u001b[0m\n",
      "\u001b[1;31mTypeError\u001b[0m: can only concatenate str (not \"NoneType\") to str"
     ]
    }
   ],
   "source": [
    "postgre_request = \"select * from pc\"\n",
    "request = \"CREATE TABLE PC as (\" + conn_postgre.cursor().execute(postgre_request) + \")\"\n",
    "c.execute(request)\n",
    "tables = c.fetchall()"
   ]
  },
  {
   "cell_type": "code",
   "execution_count": null,
   "metadata": {},
   "outputs": [],
   "source": [
    "c.execute(\"SELECT count(*) from EMP\")\n",
    "results = c.fetchall()\n",
    "results[0][0]"
   ]
  },
  {
   "cell_type": "code",
   "execution_count": 1,
   "metadata": {},
   "outputs": [],
   "source": [
    "import psycopg2\n",
    "import pandas as pd\n",
    "\n",
    "#!введите свои реквизиты!\n",
    "DB_HOST = '52.157.159.24'\n",
    "DB_USER = 'student5'\n",
    "DB_USER_PASSWORD = 'student5_password'\n",
    "DB_NAME = 'sql_ex_for_student5'\n",
    "\n",
    "conn = psycopg2.connect(host=DB_HOST, user=DB_USER, password=DB_USER_PASSWORD, dbname=DB_NAME)\n",
    "\n",
    "\n",
    "#task7\n",
    "request = \"\"\"\n",
    "\n",
    "SELECT *\n",
    "from printer\n",
    "\n",
    "\"\"\"\n",
    "df = pd.read_sql_query(request, conn)\n",
    "\n",
    "\n",
    "import sqlite3\n",
    "conn = sqlite3.connect('Copy.db')  \n",
    "c = conn.cursor()\n",
    "\n",
    "request = \"CREATE TABLE printer(code int, model int, color varchar(1), type varchar(10), price float)\"\n",
    "c.execute(request)\n",
    "tables = c.fetchall()\n",
    "\n",
    "df.to_sql('printer', con = conn, if_exists = 'append', index = False)\n"
   ]
  },
  {
   "cell_type": "code",
   "execution_count": null,
   "metadata": {},
   "outputs": [],
   "source": []
  },
  {
   "cell_type": "code",
   "execution_count": null,
   "metadata": {},
   "outputs": [],
   "source": []
  },
  {
   "cell_type": "code",
   "execution_count": null,
   "metadata": {},
   "outputs": [],
   "source": []
  },
  {
   "cell_type": "code",
   "execution_count": null,
   "metadata": {},
   "outputs": [],
   "source": []
  },
  {
   "cell_type": "code",
   "execution_count": null,
   "metadata": {},
   "outputs": [],
   "source": []
  },
  {
   "cell_type": "code",
   "execution_count": 2,
   "metadata": {
    "scrolled": true
   },
   "outputs": [
    {
     "name": "stdout",
     "output_type": "stream",
     "text": [
      "Collecting sqlitedict\n",
      "  Downloading sqlitedict-1.7.0.tar.gz (28 kB)\n",
      "Building wheels for collected packages: sqlitedict\n",
      "  Building wheel for sqlitedict (setup.py): started\n",
      "  Building wheel for sqlitedict (setup.py): finished with status 'done'\n",
      "  Created wheel for sqlitedict: filename=sqlitedict-1.7.0-py3-none-any.whl size=14381 sha256=1f73fc7f8be45af1edccc8d55c389b0a84923c2b1a470dcad393a5e91c2a2a7e\n",
      "  Stored in directory: c:\\users\\pavel\\appdata\\local\\pip\\cache\\wheels\\92\\82\\8c\\54ef8d8770fd1a80938197e55d3ccd26eccd117f44c58f601b\n",
      "Successfully built sqlitedict\n",
      "Installing collected packages: sqlitedict\n",
      "Successfully installed sqlitedict-1.7.0\n"
     ]
    }
   ],
   "source": [
    "import sys\n",
    "!{sys.executable} -m pip install sqlitedict"
   ]
  },
  {
   "cell_type": "code",
   "execution_count": 3,
   "metadata": {},
   "outputs": [],
   "source": [
    "import sqlitedict\n",
    "import pandas as pd"
   ]
  },
  {
   "cell_type": "code",
   "execution_count": 5,
   "metadata": {},
   "outputs": [],
   "source": [
    "from sqlitedict import SqliteDict\n",
    "mydict = SqliteDict('TestDB_key_value.sqlite', autocommit=True)"
   ]
  },
  {
   "cell_type": "code",
   "execution_count": 17,
   "metadata": {},
   "outputs": [],
   "source": [
    "mydict['key1'] = 'value1'\n",
    "mydict['key2'] = ['123',123]\n",
    "mydict['key3'] = pd.DataFrame()\n",
    "mydict.commit()\n",
    "# mydict.close()"
   ]
  },
  {
   "cell_type": "code",
   "execution_count": 19,
   "metadata": {},
   "outputs": [
    {
     "name": "stdout",
     "output_type": "stream",
     "text": [
      "value1\n",
      "['123', 123]\n",
      "Empty DataFrame\n",
      "Columns: []\n",
      "Index: []\n"
     ]
    }
   ],
   "source": [
    "print(mydict['key1'])\n",
    "print(mydict['key2'])\n",
    "print(mydict['key3'])"
   ]
  },
  {
   "cell_type": "code",
   "execution_count": 6,
   "metadata": {},
   "outputs": [],
   "source": [
    "mydict['lesson4_1'] = 'select p.*, case when p.price > (select avg(price) from pc) then 1 else 0 end from printer p'\n",
    "mydict['key2'] = ['123',123]\n",
    "mydict['key3'] = pd.DataFrame()\n",
    "mydict.commit()"
   ]
  },
  {
   "cell_type": "code",
   "execution_count": 7,
   "metadata": {},
   "outputs": [
    {
     "name": "stdout",
     "output_type": "stream",
     "text": [
      "select p.*, case when p.price > (select avg(price) from pc) then 1 else 0 end from printer p\n"
     ]
    }
   ],
   "source": [
    "print(mydict['lesson4_1'])"
   ]
  },
  {
   "cell_type": "code",
   "execution_count": null,
   "metadata": {},
   "outputs": [],
   "source": []
  },
  {
   "cell_type": "code",
   "execution_count": null,
   "metadata": {},
   "outputs": [],
   "source": []
  },
  {
   "cell_type": "code",
   "execution_count": 9,
   "metadata": {},
   "outputs": [
    {
     "name": "stdout",
     "output_type": "stream",
     "text": [
      "Collecting tinydb\n",
      "  Downloading tinydb-4.4.0-py3-none-any.whl (21 kB)\n",
      "Installing collected packages: tinydb\n",
      "Successfully installed tinydb-4.4.0\n"
     ]
    }
   ],
   "source": [
    "!{sys.executable} -m pip install tinydb"
   ]
  },
  {
   "cell_type": "code",
   "execution_count": 10,
   "metadata": {},
   "outputs": [],
   "source": [
    "from tinydb import TinyDB, Query"
   ]
  },
  {
   "cell_type": "code",
   "execution_count": 11,
   "metadata": {},
   "outputs": [
    {
     "data": {
      "text/plain": [
       "2"
      ]
     },
     "execution_count": 11,
     "metadata": {},
     "output_type": "execute_result"
    }
   ],
   "source": [
    "from tinydb import TinyDB, Query\n",
    "db = TinyDB('db.json')\n",
    "db.insert({'lesson3_1': 'select o.ship, s.\"class\" from outcomes o left join ships s on s.\"name\"  = o.ship where s.\"class\" is null'})\n",
    "db.insert({'int': 1, 'char': 'b'})"
   ]
  },
  {
   "cell_type": "code",
   "execution_count": 13,
   "metadata": {},
   "outputs": [
    {
     "data": {
      "text/plain": [
       "[{'lesson3_1': 'select o.ship, s.\"class\" from outcomes o left join ships s on s.\"name\"  = o.ship where s.\"class\" is null'}]"
      ]
     },
     "execution_count": 13,
     "metadata": {},
     "output_type": "execute_result"
    }
   ],
   "source": [
    "User = Query()\n",
    "db.search(User.lesson3_1 == 'select o.ship, s.\"class\" from outcomes o left join ships s on s.\"name\"  = o.ship where s.\"class\" is null')"
   ]
  },
  {
   "cell_type": "code",
   "execution_count": 14,
   "metadata": {},
   "outputs": [
    {
     "data": {
      "text/plain": [
       "[{'lesson3_1': 'select o.ship, s.\"class\" from outcomes o left join ships s on s.\"name\"  = o.ship where s.\"class\" is null'},\n",
       " {'int': 1, 'char': 'b'}]"
      ]
     },
     "execution_count": 14,
     "metadata": {},
     "output_type": "execute_result"
    }
   ],
   "source": [
    "db.all()"
   ]
  },
  {
   "cell_type": "code",
   "execution_count": null,
   "metadata": {},
   "outputs": [],
   "source": []
  }
 ],
 "metadata": {
  "kernelspec": {
   "display_name": "Python 3",
   "language": "python",
   "name": "python3"
  },
  "language_info": {
   "codemirror_mode": {
    "name": "ipython",
    "version": 3
   },
   "file_extension": ".py",
   "mimetype": "text/x-python",
   "name": "python",
   "nbconvert_exporter": "python",
   "pygments_lexer": "ipython3",
   "version": "3.8.3"
  }
 },
 "nbformat": 4,
 "nbformat_minor": 4
}
