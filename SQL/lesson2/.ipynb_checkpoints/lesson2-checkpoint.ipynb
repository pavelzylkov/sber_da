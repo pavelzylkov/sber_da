{
 "cells": [
  {
   "cell_type": "code",
   "execution_count": null,
   "metadata": {
    "id": "8w-uMyA4FZd9"
   },
   "outputs": [],
   "source": [
    "#установка библиотеки\n",
    "# !pip install psycopg2"
   ]
  },
  {
   "cell_type": "code",
   "execution_count": 2,
   "metadata": {
    "colab": {
     "base_uri": "https://localhost:8080/"
    },
    "executionInfo": {
     "elapsed": 1969,
     "status": "ok",
     "timestamp": 1619001782339,
     "user": {
      "displayName": "Father John Abba",
      "photoUrl": "https://lh3.googleusercontent.com/a-/AOh14GhEgv8CjKHW5pm_2HSRwsFldLIuXY_LeyXHPcLn_g=s64",
      "userId": "00222344656684414893"
     },
     "user_tz": -180
    },
    "id": "tg6CUoL3Fo1X",
    "outputId": "f32b8700-db33-4f4d-e207-36def26cf304"
   },
   "outputs": [
    {
     "name": "stderr",
     "output_type": "stream",
     "text": [
      "/usr/local/lib/python3.7/dist-packages/psycopg2/__init__.py:144: UserWarning: The psycopg2 wheel package will be renamed from release 2.8; in order to keep installing from binary please use \"pip install psycopg2-binary\" instead. For details see: <http://initd.org/psycopg/docs/install.html#binary-install-from-pypi>.\n",
      "  \"\"\")\n"
     ]
    }
   ],
   "source": [
    "#проверка подключения PostgreSQL \n",
    "import psycopg2\n",
    "import pandas as pd\n",
    "\n",
    "#!введите свои реквизиты!\n",
    "DB_HOST = '52.157.159.24'\n",
    "DB_USER = 'student0'\n",
    "DB_USER_PASSWORD = 'student0_password'\n",
    "DB_NAME = 'sql_ex'\n",
    "\n",
    "conn = psycopg2.connect(host=DB_HOST, user=DB_USER, password=DB_USER_PASSWORD, dbname=DB_NAME)"
   ]
  },
  {
   "cell_type": "markdown",
   "metadata": {
    "id": "5c6XRNIFvrRJ"
   },
   "source": [
    "Схема БД состоит из четырех таблиц:\n",
    "\n",
    "\n",
    "\n",
    "*   Product(maker, model, type)\n",
    "*   PC(code, model, speed, ram, hd, cd, price)\n",
    "*   Laptop(code, model, speed, ram, hd, price, screen)\n",
    "*   Printer(code, model, color, type, price)\n",
    "\n",
    "\n",
    "Таблица Product представляет производителя (maker), номер модели (model) и тип ('PC' - ПК, 'Laptop' - ПК-блокнот или 'Printer' - принтер). Предполагается, что номера моделей в таблице Product уникальны для всех производителей и типов продуктов. В таблице PC для каждого ПК, однозначно определяемого уникальным кодом – code, указаны модель – model (внешний ключ к таблице Product), скорость - speed (процессора в мегагерцах), объем памяти - ram (в мегабайтах), размер диска - hd (в гигабайтах), скорость считывающего устройства - cd (например, '4x') и цена - price. Таблица Laptop аналогична таблице РС за исключением того, что вместо скорости CD содержит размер экрана -screen (в дюймах). В таблице Printer для каждой модели принтера указывается, является ли он цветным - color ('y', если цветной), тип принтера - type (лазерный – 'Laser', струйный – 'Jet' или матричный – 'Matrix') и цена - price.\n",
    "\n",
    "![computers.gif](data:image/gif;base64,R0lGODlh1wEzAbMKAAYAAICAgP//AAoKCgICAgcBAR8eHQAAANTQyP///////wAAAAAAAAAAAAAAAAAAACH5BAEAAAoALAAAAADXATMBAAT/UMlJq7046827/2AojmRpnmiqrmzrvnAsz3Rt33iu73zv/8CgcEgsGo/IpHLJbDqf0Kh0Sq1ar9isdsvter/gsHhMLpvP6LR6zW673/C4fP4C2O/4vH7P7/v/gIGCg4SFhod6dIpaAAiOj5CRkpOUlZaXmJmam5ydnp+QAIujVo2gp6ipqqusrZGiM4iys7S1tre4fDumrr2+v8DBlbAyvMLHyMnKl8Q4xsvQ0dKuzTDP09jZ2sy7297f4NV14OTl0eI11+br7KzoLert8vOc77H0+Pma9ivx+v/5+MV4duAAwIPzBKbwh7BhOYXjIBXsNNGhRV8QTzC8yHFaRniR/ypuEtmxJKiPJTaCImmyJSWU/UIadFRw5sSaNGva1JkTAU6XJmGOUPmJ5SWjQPEJXSiTZs+fFUVKNQh1ZtKLS0MQ9YS0Uter7bJqbCqRqtWoZ9P6VAvWotgPBM3u9Jnz51qeU+vK/dqW3NuUZHWafYSWsNq8fRv+7RB3Lt7DkA2vJZs4YbeykycjRqyZbWWAiznElcz5ZuSnVnt+lhdaxOjCmz2blrz6X2sNo1HT7kz69O7a5m6DyC34rt27enfyBK5POIbcvFVHnz4bM/PglzPxtbT9+jrnF6BXzxwdJ9rB1r2Hy46pOyX36tffK7ucZPG6mc0rT5s6PjbwjPkn4P8rNEA3IHAAinbggQlSYOCCnzWImyMBVGjhhRhmqOGGHHbo4YcghijiiCSWWOIjEkqwFYRtpfgchVxZ1J8+M6pilYsrsniVi+HBSJGMDdWYyo0FUmjikUgmqeSSTDa5IYqXBRCjJkJmU+U8V05CFXdQzifljw5l2Y6YUyLAowWmfMlJasuFZONZQxr2lZj3/cImnJJs6VWXxfi4JpAIkQmmmVGWmaWg3OF5iqJCCoroSunVqOd7fA7k50iYlvMoOZtOqmWlN6Q5paRR0eWUfnq5aRN+yE3FJmESsVqVpLCeatdx7cW6Kpx64kqkl2Ua9+mQikIqZ5V0ttnLnbWqyqX/I2dWICqYM/JqKl2rYtusttee6hS31xbbn6fbfhvuucUepau33pLbLI6XUllunm/OO+i5w+YaDAGRfnrlrzlM+2e35m5pramTvsotXt/uxWiswt5p1KvZYqusurUaDKvBtEJbJAJqZkrqrhtXd3Gvso53nMINn8eqmwUL+zImA6wLrsbIQUyoDgKLTG+7GzeMr9AJI8wuzN0W/TDSCwcdLMnWemYuvCCP+rO2B5NsbtM2az100s5e3ezBN2tSs9NKg4t0tA7Gq125UaN9NMs3yV12zELPPe+4Y3+NccFpszz1xyHLSzC6iBstLrsMK96m4PsljSvYFTusiQEQ44w1/3k6sz1Bz4anmnPk2RY9Nul5r3wsfXPJrDPgrg4MeKocVwtqRIW/fXjcjOudcdmlHw6203fv3jXxm2D+e+C/Xeu5im7rGyQygi/qC8CWVj0o30D3Xny4aSve9/hkp0vww+ZTovzsvG/tfKH3HrRpUa9bv+ztLoCuu+hQ0U70tmxpXOnsw7oC5mdy3HPd5CqxPvD5Ty5Xe54C9Ce9QE3vfh4DVvwAMj/62asTZ3MF9kIVvb9Z8IQixB9ItCc7FAqjep/gFwZ3FjAKCeaGOMyhDnfIwx768IdADKIQawKIIfZQhSygoAnld8EUZrCGLBxJAqZIxSpa8YpYzKIWt8hFKv8ioItgDKMYwfjFMZIRiTGJYuhc+I8O/k2CSuSOGedIRzGWsY54zOMU76jHKoaCcEYMpCAHSchCCtEOBUhkHgyJQzRmL3fJCckcD9DHSiaAj5bM5BYxWck/anBNmgxlFzkpylKSUo+ehCIkDyCAVraSTZMsJR3vSMkr1lKWeDxlHlP5SK7g8pd7BKYsdZlLR1ojeqwUQDJhacZbCpOLxEyAM58ZxmjO0pgoiKNXmklNMvZxml0EJxbF6UVR8pKEaqSJK18pkSrWZIrvhGc849lNP1KRkjqRJznraUVrzvGcuPPlGPfJz0t+c6DudGdB7qlFf5oRoOkoYTKVKUl4JtT/orfEJ0MLalCMMpSgHA1mKCG6QkgehZshvaJDtwhSK2Y0oxvd50rtiM38ldAnFK2oNC+6U5gKJqS03KlHU9pQc9bUBNp8zz0XulB9WlSo8xSqMIP61KjW8p35dGpPpfpUqcIUizOt5lGTeNNl6tSZPv0oUUW61aGuVaVGfWIvKRLTrnr0qh9taSapytWe4nWjfcXnXwH71b6Wc6RjTaNJcVotwHr1sYXlZ1DT+la4Ilaux0xne+oKVay+FKv15KNG9Tlarn41n5F9bFfJGdYzYtYGcTRrO5d61aZKc562LehkY6rX0MaVhnMFZVXdqtHB2nWqCR1sadGqVuK6lLCO/7XnZYGLzsWysrGVnWV2H/pbqi12m8Nta1uXa9hfYrKw5IUuZQML3eMeVpMk/WS+ZrvdMba2sveFZmKHclPwQrWqoMVoU3tryfMqlKkHVi1qeUrPBhd1unDsr1Lra18KV7O7hBOohb1ZTwLLFMM8k7CWNnxhEm8SxH3S7ElNDM2C6pWg+d3kfpkCMiPqiCPe1TCLsxhjovaYxzPOpojztOMTF9my8A3ycIas0yP308lPhjD8hAtl6Va5o0l+rU1rPMQbY2XKUqyjOAncxx+Xl6VghDGKgxvmK7O1ymZWqZKRymT6xtKW3TQzmWuL29Raea9z9kBSR+zmN0M5zv3En/9OMvvdCdNxzHk+qBiNq+AHZ5m6AdXSyfAIaWrqGaVcVLOUKzDRgihgRIKZQKoHTWSn2rbBfXYvLvnK56F69tUDFu800cvjNTNaS+vMKU04Pc5I63HPpK21rA3dSSgJZp30DCdac1sQVp91uOslL5lR2d682jW1gl1tVFfb61GfYNFoQuYr2UkYYuPZ05IOI6VPa2lAQ2ui0FbmQqk07Wlbm75/1XZeA/xM0XqV4MwFMIJlnd4zI9qPNe1QQVx5gHRrFt/C9gltb7tx0mp127tsr1VdDWu8Npzcy364F52tzJZTfKEhorbM/93u8Arcrcs2ZXLJHdlsq/a5vAarrzP/EIAs1gTai1Ziqa/9X5+vF7ko97Zpoxvug+c66lG+NCwqzvWXK0CQqk56nWv+X11DtrkFfy7PHev0bjectUPHQNE1fd1gvzK2GR+2zc8uYIJDnbgIZ7DH/Wz2lMcd3VtuNKHLruzbDvjqaeep40vreAX7/bMdPzOW7Y1puV8yQ0eneMsrjve809vsT9e8OXfO96k7l/BvL7fWLVDqinuo4loZu94LrfI0T7reBY7453NI8a8bf4JlzbvG9952nAPTwGv/Ntpj71zDS/nZLydoAHC/ZBXLsdCbp+aLjTz7Dsx9+7SvSY+8L1uyB1yrk/+4sdl++YV31v5Wz/yHIYzx/3W/sxLol3ve519u1nvwZm4bcH7cJ2jJh128x08eBnzN5jF1h2/vpCHD5xq6t3wPWIBxdwEKKIDfJSngF37PNH4SWGZdwnVf53U4FIIiaGNe5hAZAYNwsYEgt10GGHnlR2rq53k1poED6GgeWIQ9mIAZ2H2K12odeGUGGF9IGIQiqGNO2IScV4NJeINcJkQzSIMkYINauIRNZkk5qF3EVoYhh4AaAIYBMoSLZ4Rw9oEcwIZtKIZ2RoYHKGbiJXnwJYcVQIcbQHO7B4eH5odrmIVhSIWVhIbcdYZaxIjkd4UeAIgT4oZMSIiPBmpoloKoFGSUWIl2SHaVl1WVB3+k+P98CeZZHVdc8VeKfaiGRIeIdahhkKhb8eZ7k9d4+3eEIPCJGSCIHJhwqDd9eZhw87ZVN7d6sAiEAZiIdJVzJPZpv8de4SV0y2h+sjiLz8hxPIdaCwaNr8iNjDd4yIh2I2WIE+CL6xeKuxd4pBhttohyIzeKJXdXVNdtWSeJI6CO60iF9kd51Kh64ShP45hWrOh8e4WOEsCP0oKDbtd6tZhL+OhX0ndcVfdZyhVd76WPIsCQDWmJYziMr6eRw4Rn72eQIqmMvBiLUuiMVMZcGflTQMV68ddzvPWPxRZ0SMaRIeCRbQOSAPd4uIZ5HseD4xZwoHWQnaWSPHmILcmAQOn/fqyXejPZXD6nXsRokhO5kcGnZdj4lFDJjhyodiy2g3/XlCzZjGFJi2R5lRwFfRApeG45l7KHlpOYjQoSlYPIhxtmlqh4jRbgk9Cjl2P5arRFlFVJf/gXeDXJYENJksymgl45h3gZiA4Jfn5pXgp5apX5i5f5buCYmOI3jda4kncJltpIZZh4ZE8ofKhpmYRJTsJYX5lpdLhYl13ZeV+plmEpg114EFj4mqCoiIW4mp04mVHIm6nZZsa5Y62JnBQgmMgXmyVYmyUJmMm5gGu5jc1ZlpspnWnim79pG1/YmZ5JnZiZRwDJg3YJgua5fuMZIeUpnMPJnVXoiJ3GlLkZ/5zKCZvxWRlZIZ3TKZYRKZqxtE8FupP7eZr9WYn/mRgB+p79uI2jFWu55WOpyFREyYpZBY+d9J0SKi25MKIkWqImeqKAMJ8NWp8vCU4VGppGeVHHyKHmOJALupvaSQo6uo8h+pEEqpgvKpDFeHp8RqNUWWAgSp87uqTZKYQ/GnVBmqBpuFQFqVZKuZ5Iip3R2aNM2qULyaWf85m89n5vxUlRenZXKqR19Jy6GZhg6qVLKqDA2HMBRmmJeZQKZ6S8pZ8T2KZ/+KZwqqNy+pndaWJsyp85GqiK+qVK+iLoaYXFaZru2aiLyqSD+qiFGo1JuqKV2qWX+qSQ6mSHyqCJ2v+pXvqp4vmgloGjptqpn0qcohqqkumnW0qprToKr2qfcZip/+SanHqrpJCrL/mIfZmJGKql6QiowPoGwtpmCFqsd5ZSo8qqywqnzUolkKmm8aiJb7mppVqtuAqoc3qY5Gphu+WK4yat3gqupyquYpqVFEZLGUmTBtqniMqunuquj+qWtElYHep33YqsjPqr+BoH16odWAmj2wpuNbqt7emmtlqwbnCwmxV92ipZD3mkviWwnBmxEssGFLtilneh2cVX6AqwDnujlOmxH6sGIft9slpk07qyBNuyIKuvoMqr5rquNrsIL0uA9xm0D/unLNuzZvCzRCi0kTq0tVqzRov/BqjaZaqqFKT6tHSAtG+otLHKsQJqtWGAtZeotazJs14LB2AbkkubtvZatWVrtjgLq2TZrzrLl4kGnclatG37BWd7h7sqtiwFUlDYtN+at0f7thQ6csrmofOnih9Xjz/Hp3xIsnJmtwM7uIRLBnsrlQKGc4QXo01HjPx6jsRKpaPkq5Z7uWKQue0IugcmuZ5rcqDboRdrhkbXuZNLq3frtKjrBaobjKybrYuLbb9Lr5Aro70VuLl7ururt4Y7rCO5lcUovM/7uDr3t64LVqa7vC7bvM6arol7vX9Hpt4Lf7NLu49IZshbuVqBouzbvu77voTAo3g7rgqrg6IkpbhZ/2z2lb3dN7UtIr+6G6b76rfqeZYq26T96787AsDK66NwK7Mxu0v8q4UKvMAdyb3Ymp5zS1OU27EBPJ0VnBRLEbVcGMLscK8JbMJBwcBO+sDOGcHF1MHgqcJAMcIYjLAaTMAxjLvqm8I0jGMsPIW6qrZjy7VvmiM/TA82PL+EGrS2S7f4m7+zisIUnMRAfMFMjKlOvIjsecBO+cFIbMVhEcRKqGMWen+rqLiiO4qtaJCxpplGXLSv4SpuJMbCsMQfPKBsSX8We3LVG5coiZB/zLTJK4Byoht2fMJk7JLdy3aHKViMOWsJ+7kpCceSCrFgTBnjkcgPscjbqZocJ4y71v+WfxmX49V6lkzIPVzF5LHJnCwfPXnDFUuvYwqv12nKgNzFa0utrJwX8PHKy4DHDfyToFqP/baKwPuhVEp9hQe+ynzJRJvJkYIewAzLvSjLIrvBUbymZAuVx0LH1ewNwtzCQ7y18lay3dyGzRPO2IHFeUy/MGyo6ZyX68zOfuHJy5nB8aypcSzN9hwQ+JyX2ye1/5wMVOzNBQ0KCmDQAe2fCT3GvByWTjLRFF3RFn3RHzJjl/rQEE2zwzyYBAoobLQKI8S2PszR9xzR+bw/I00j16PR4gq/Mj3TNH2iJv3JmcLS31DH29ApwvMuDa29XDDDsWlATLMS6dNCF1M/dPf/y0+TPu7SOUEt1FpA1CHtPmKD1B+U036z1Uf90rtBK/8C03hL1VBg1VaTJ6XCKybjK0YzOipDQACUMsqRL2wdO1yNMrzj1h0czR9t1lGA1tRyNZqDMt9j2HZjOsPjPlFtOzFTPnktPkDTKGSdx4DtBII9MI69Od6j2JItQLZyK6+DOqvDNIhtOWsENUFDzVLtzn992Zh9xDiI1e1j2J6t2p0tPJCTOF1NMY/tQf9T2wk0zrDdBZmd0wlU2G9926SR2ENDN7+NN/WDPl5t2s3dPYxd2a9d3Etw3Kk9Ky1TN5K92Odh2zMjMeitGkud3Lfi1HSDOhC0NlPN3VLg3TrN/0HJAEPA3QolrdKMUdMAHuACXgg3vdIVxETUw9T7zQr97dFCiNLfUeACHSwI3tJx0teC++AQ3sn+DZtX3UT6sNA/jQoNjsAnveHbcNB1yEgs3uIu/uIwTtDEfeIong0qPuHlXMQbLFYYXsiGXOPfcOMe7sLeuc+92uOrzMpArg1CzqIy4SvRulbWecuqjMmvHcZLDgxNfp6rFGzMhFD4RZLb/MxV7tcanuU2LuFDnifrlnEgN+b/FGr8DM1peeVc8S88veFb7qhdDm129sZt7MyWDMmNZ78ca+Y/zuB5DuF7PqFszm6a28fUG7waW6abiegpbBqOwRuzUt5PgeYyLP/b7Kd8Nvl6p7ixlSy3dM6Mdk4fqDEbVSEdsLFAKN7oFmddkL66k4ylGDu98XrpGZ7ovuwbhaHerI3mtu7A70Hqjjy9cN5ivq7qZR7smU7s1FzsxuHKWZ7sxOwVuV6YQlmuahyjp/Xs3Hzo1N7L1t7KrcM57r7tau7kIcHsOazDa6rdZz7svUEbpfHuS87tAjyCWdu39n5NSO7Brf7N7R7XhywzTl3QAA/SRC7PRv5Q+C7siw7q9RDvXD7xc17wR87DVp7vGa/x+8DxfJ6qJv8JM67kK68MEa/HOQ7BFb+/B7/RLw8NMQ/PO27oqz6p72wkGD30RF/0Rp/RoS7HTQz/5nFbyu5GmpvIiRJ889j8LCDeRmAt8vY9y1GezDZqrOeci6YYiV6M8nxO4fht4SQ+wTitz11fv2V2i+FkkZwlxccp8pjOyGu0RN5Q8tHg02Od9BiSahKwamKqofr3xuZuZeUOu/T4mOVI91iXj2Xf4Wuu1Au06FJx4a6T1U3t92Kz+fQS+Fq/eTLnb+9KySnJ63/MsJBHvRcp7tAbmXff8m2/P4dSL1i9PR/kKMfALLsf1UD9lWWRYEsFzycZuygrydMXySPrx9WneTN7zVl81SOjN6jS+VwD3ngt3QjjMjmDNHfNH0o93jjD11oPesd8/Knv+Km++BsZpIUn6bD3/3O7OO0+XsaDLf7AAwEIHUlplfjebPEEv3AkQS4rR87TOvSFT5Y1a3gEFH3n+eMHBoE7oQIgCdyUnUTz4IQ+o83EU1rFUrVbbte7RWyv42y5bKWioWssmc0Nf+VyVK53xwcSiMAB/9854lta2ohxoZlpEQmZAWrUCHJh3HiUeXyRgYzEJJz88Fip+bnhsANETeURTPKMSVuTAkqbrfp5m8vNjYOlvb2yVcsKMhu7dTo2g9NlpqpTzdvrg+5hdT1MEU3c3J4MRQRNUUHZFmWk3LS5JmcfBV85waGex7NeZ2rO199v4uXnBzYnIJh/dDKcoqeHjx96RpDc+xRP2zhD6v80VSgXzty4cIs4tosI7hyhixMylhSBsOE8exAHFoT5z1/MZi+52HRGE87BlQoUTmvY8t4lUiYrSjr6UUUlUkmNgpTUAVPRqCBFVO10rSRVSyaKglTZU5XQdTh1nv0yE+1aL2ppPlv5kyE9sloh3sWLN15eVyj5ivubUizdh3fNskXsFvFixTDhNpS7sm7fwJUt77WMbWRezJVNDWaJRMho0p0zn0adWvXqsNAiBy3scvVsJaZpn7bN9zNoaJM9HV6MtnFw4Yl5xpU2N/Qgw7edb36eOTfn47xT+SZJXHu/7cSHy6yeMLlk0aXNn0efXv169u3dvwcQX/78+O/Xh7f//gd7IcTAz34XSJnuuGPrMfEWIo85lwYMDkAG9XEQQvzyu2O/2vpjMEIv0HjJP5mMk6A1VV4jTMGhHkwMxeIKnJDCVWI7kS0P34JJmJu8AxEBEVMhcblWYqiqgn1m3E5DFecwkhkDXawGxrK0mIUYZIyhkkjHoPwlS1+msKKWWgrMcUdUeqRmsgMEQBNNGYY8sq1exGhzlzCZ1M9Jrd48I08y3OiOF2BkwYXDNmCxMp8kdVmSGjJ7s3MCNdUkh804CZKj0AEP3aVFOi0shZY3u4ySGD6L9DSWWKIcdE8cWQyxp0XHavTMNAVYc8tgfJElmSP9DCZXS7XDFElNmeT0/xUs9YQTSjyBFUMNQFUVdIoG50QOQdhMJCdNifBUVVoBMyQ03EnTopbOJrG9E85uB/X2133UcrbdVJGdllUdXR3v2h9joNXYYsRtQ8pdAbZxXErXStTcYjOxVeAvH/6S1ClNHQbVaCtmrNwDgSpx30wgjfSNdQtuk9d1DT5YuGFdXDjkG1FGEmZ+gjWo1Wo59rGQfhkWmeA8S/bZXWbtFZPClvF5WWY3lTZU43leva7RCkBG+lare504TpN70RVmmtNa2Wips2O66bKVdFrRfDvWeS+hDf560ri7SHjTsfk7G+285SQaX2vZLqTTvfkefGmEw86PFfuiY7xxxysr+v8PqFE5WsjC6bjccJVtNvdFdPvKnNzQl+n7ZuXKvPvC0UlfncDDOe9ch8onaD3l1ufeCfan1/Zx8cd/Bz74FyK3bva3x/2a5EvTdo131D//rXYtcB+49NhlT11w6feokd1kM7Z+49MZhZ7s7alXEX1nEC8+e3+lT/5bXBBmfkTnyfc4XYC6OL6Zua30j1nU1w/28cZ44vKSlryGJVDZomGpSmD/WLe5e5kuQfkD3T869KD/5cNXx3iY6F5Xwes5pHx4c6C6KAY3bq2QS95T3n/qx6P7weqEqttf0vpEEyIBSlkutJ1O6kYs9/GsGKgaxgKRwbVT/WJe3kpR+HbHhwD/VLGKRdBBEQ44sWRADIQg5OCnsuasLHURjMIICJ9sMsA9FBA0W/wZu3zIwmP5EI3zOhmYpKi2megqYj+Aox3pBUP5gS+OUZjjIQPGBimpUXP/ceNgAilGQaIMXkkkpKDySL89Ng9IDMTSJJM4sl7F0JAwROK/mnjHGzmSbjNkWRFd9ickJlJuD8SkqJ6IsSiOkHh3sGIw+0BLWoryWUH73g4R6DNKMlOFjHykECMpFjjCb3vc66Qq1kOEIJgQg9Gj2B1JKUFEfY+UzZQXNF05QUjqrnPVrB0bwZXNEhqzibgaYxh/OCUbpfKDqrxaCKP5lmn2BJ63uyYbh3i9g65O/56VqokIKfjLN8qyavFMKCxj19DRPRSiuRCgRhNXHvcIz6QnbRxFY3lD7VnTpb4sIfZY+j6Mnk+kCrOo5Wz60onG1Jt6uSY2edpOEvo0ECRtD0qVutTUqJSaOaXd/JYlM0yRsyAKLWj7ZmrEoXb0pgaE6qiSqbSqWvKrRNyqy7oaOqy6E6dpRRpOrLoifcx1Zmdd6TfNF6CyKQaA/KsXTGMaSC/aVYgINKMtgUZPhoaVGYaNiV89uM9CXomxYoOrTs/Z11KJ1ZT6FKxRj5rZqIL0bJKN6BKnetjLjpS0jhQrVT/VyFTesrVv1SsKrealfEKWcLdy2BmVkcZe9nSwjv9V52rNCs19fnaeoRXtTw3Twhci0rYAJS4YKVvZD90WrK9FJ3e1JkZ5+dZ/eMVsbnH4p3BtEkW8Iq8uAzVW1kJ3o8j9mcCYBt+sYc28erOvUUWZXPeClr3lXRZx9Rhg3AI1oztl8HHB27Pqem+x2B2kgpVr2QijVb0trelaI5vV7374fRG8p3iHxkWu1ZZKG+awceuJXxFnrq1FFS1H2aoTuZ6SqE41KI1DPOQfR3e0JuYqkQuyQR9L0612W8h7mDplKvMFyFpFslqVvGPvVnTCEN7yiJ884y/XuHA3vrK+HAxmhHY5r76rcpzlrIQ0A25BfD0tD+uqi8Og2cgyzfL/RdscZseQ2M4x+mieY9JDygp0oGLGsYCFPGhKF1nCgdbpF/57VT2nNoX5xZyb07tmMz92z6aVqKXJjOnS7jZi+42vcIHrxQozV5HTQ69rWR3by3XQ00fktetk3NgvH1jFF/ZsCo2dXVuuEyd+/vOAvbroyaoW1I8u9JjzuuZl780faPRnc/mpSGen2smR9ilhxUnr67qBt77CWm+HS175QXvV3BZ33r6NSUKGl5X0DrZQh51j/MLWmdUjt7LzTahmAxzbVzV0zqZL4WMj3Nb/znDCL25ugmr7vsVW1hxB1bX3hhyfo3J3uBcebHsTe9egjLeiueViJ64Su4mFccsJ/w7yZULxunI8+DgT7PBXijrIZSZ0cGYUUqNjGd8rvzVoN45yZM5340Xv8LYnzuYBBTBmTS8xqbuIz/5eWGQ0Z6V8GYlzqQpb1S4nddLPnGunbz2Zm74ripbOcUjXWeJ35vq0s/7xlwMWxj9nkNf5nm10Q3mYJZ1z5CXf+HvbXe7epruaLV9ph2bey4UPvI09/3dEl3pwOpd0lCE/edZP2e/PA73pMQ/2z8ed81wevK5tb3jOhj7RbYn4U5F+e9HTnvRPerDsj1UzysN9851XvqGCjz9uv7ti8B4vF18cc962XYaablamPP7OSfMe1tE//EJHvfU9HZPe6WNiJqte8f+8b2j5whp/g58veOJrus/TtyHQEzpcwTusE6RxaiT6qz/+CTgwAEDNA7wEJCPsQzYFcjW2a8DI+r1PA5v8Czv2mz8FNKQDDEGfKy7DIzng80APe7pFsrAMXJVcyrjNOsG78w/10z0QRLD3K7lwmkEebLJmSUEVbD7Ca0FxYqAhVCYZREDri0EGPLz1WUFJKrjuu76ygz8f3K0WM7Yn3BAiwUH9i8AQLMBQY8IStLAaTBYldMApFD4BvDxJkZgNFL8iJD+ekz8gfC4S3MGo4yT/Y8M2tMO6G8P+W7LlMb43rD7tusKrQbhKskIKFEEIASkwfEDKKT/+M0TwcMMcLET/6FuLTQMQKwnDDwQ89Du/3BNDRCvD7wvFJRy4O3y8pGq9Wlyq1zu62ItDmYvFt7LFXwTGQXS83dPEYuw4YfSyYFRG1sPFC4KzZYRG2mjGqInGaqyyaSwRa9RGlMJGQKCPbwTHcBTHcSTHcjTHc0THdFTHdWRHdfwzE9rGeAyebnzHerTHe8THlZLHfXQceszHfwTIgBRII2jHgjTIg0TIhFTIhQTHgXTIh4TIiJTIiaTIirTIi8TIjNTIjeTIjvTIjwTJkBTJkSTJkjTJk0TJlFTJlWTJlnTJl4TJmJTJmaTJmrTJm8TJnNTJneTJnvTJnwTKoBTKoSTKojTKe4wAADs=)\n"
   ]
  },
  {
   "cell_type": "code",
   "execution_count": null,
   "metadata": {
    "id": "36pF3XeowFXt"
   },
   "outputs": [],
   "source": [
    "#insert\n",
    "request = \"\"\"\n",
    "\n",
    "\"\"\"\n",
    "\n",
    "conn.cursor().execute(request)\n",
    "conn.commit()"
   ]
  },
  {
   "cell_type": "markdown",
   "metadata": {
    "id": "sR5_FSf3cVBn"
   },
   "source": []
  },
  {
   "cell_type": "code",
   "execution_count": null,
   "metadata": {
    "colab": {
     "base_uri": "https://localhost:8080/",
     "height": 80
    },
    "executionInfo": {
     "elapsed": 939,
     "status": "ok",
     "timestamp": 1618958744582,
     "user": {
      "displayName": "Father John Abba",
      "photoUrl": "https://lh3.googleusercontent.com/a-/AOh14GhEgv8CjKHW5pm_2HSRwsFldLIuXY_LeyXHPcLn_g=s64",
      "userId": "00222344656684414893"
     },
     "user_tz": -180
    },
    "id": "vpZKgx9qcwAR",
    "outputId": "f9fa225a-9d62-4a98-8c27-6158a66e0af2"
   },
   "outputs": [
    {
     "data": {
      "text/html": [
       "<div>\n",
       "<style scoped>\n",
       "    .dataframe tbody tr th:only-of-type {\n",
       "        vertical-align: middle;\n",
       "    }\n",
       "\n",
       "    .dataframe tbody tr th {\n",
       "        vertical-align: top;\n",
       "    }\n",
       "\n",
       "    .dataframe thead th {\n",
       "        text-align: right;\n",
       "    }\n",
       "</style>\n",
       "<table border=\"1\" class=\"dataframe\">\n",
       "  <thead>\n",
       "    <tr style=\"text-align: right;\">\n",
       "      <th></th>\n",
       "      <th>maker</th>\n",
       "      <th>model</th>\n",
       "      <th>type</th>\n",
       "    </tr>\n",
       "  </thead>\n",
       "  <tbody>\n",
       "    <tr>\n",
       "      <th>0</th>\n",
       "      <td>E</td>\n",
       "      <td>product_by_student_0</td>\n",
       "      <td>PC</td>\n",
       "    </tr>\n",
       "  </tbody>\n",
       "</table>\n",
       "</div>"
      ],
      "text/plain": [
       "  maker                 model type\n",
       "0     E  product_by_student_0   PC"
      ]
     },
     "execution_count": 5,
     "metadata": {
      "tags": []
     },
     "output_type": "execute_result"
    }
   ],
   "source": [
    "#проверяем insert\n",
    "pd.read_sql_query(\"select * from Product where model = 'product_by_student_0';\", conn)"
   ]
  },
  {
   "cell_type": "code",
   "execution_count": null,
   "metadata": {
    "id": "JNLDeWB3c0ap"
   },
   "outputs": [],
   "source": [
    "#update\n",
    "request = \"\"\"\n",
    "\n",
    "\"\"\"\n",
    "\n",
    "conn.cursor().execute(request)\n",
    "conn.commit()"
   ]
  },
  {
   "cell_type": "code",
   "execution_count": null,
   "metadata": {
    "colab": {
     "base_uri": "https://localhost:8080/",
     "height": 80
    },
    "executionInfo": {
     "elapsed": 515,
     "status": "ok",
     "timestamp": 1618959002309,
     "user": {
      "displayName": "Father John Abba",
      "photoUrl": "https://lh3.googleusercontent.com/a-/AOh14GhEgv8CjKHW5pm_2HSRwsFldLIuXY_LeyXHPcLn_g=s64",
      "userId": "00222344656684414893"
     },
     "user_tz": -180
    },
    "id": "agzC7ONWd-k8",
    "outputId": "930282e2-b112-4c6f-e67d-1aeb976236f5"
   },
   "outputs": [
    {
     "data": {
      "text/html": [
       "<div>\n",
       "<style scoped>\n",
       "    .dataframe tbody tr th:only-of-type {\n",
       "        vertical-align: middle;\n",
       "    }\n",
       "\n",
       "    .dataframe tbody tr th {\n",
       "        vertical-align: top;\n",
       "    }\n",
       "\n",
       "    .dataframe thead th {\n",
       "        text-align: right;\n",
       "    }\n",
       "</style>\n",
       "<table border=\"1\" class=\"dataframe\">\n",
       "  <thead>\n",
       "    <tr style=\"text-align: right;\">\n",
       "      <th></th>\n",
       "      <th>maker</th>\n",
       "      <th>model</th>\n",
       "      <th>type</th>\n",
       "    </tr>\n",
       "  </thead>\n",
       "  <tbody>\n",
       "    <tr>\n",
       "      <th>0</th>\n",
       "      <td>E_updated</td>\n",
       "      <td>product_by_student_0</td>\n",
       "      <td>PC</td>\n",
       "    </tr>\n",
       "  </tbody>\n",
       "</table>\n",
       "</div>"
      ],
      "text/plain": [
       "       maker                 model type\n",
       "0  E_updated  product_by_student_0   PC"
      ]
     },
     "execution_count": 8,
     "metadata": {
      "tags": []
     },
     "output_type": "execute_result"
    }
   ],
   "source": [
    "#проверяем insert\n",
    "pd.read_sql_query(\"select * from Product where model = 'product_by_student_0';\", conn)"
   ]
  },
  {
   "cell_type": "code",
   "execution_count": null,
   "metadata": {
    "id": "egjyhs9bd_bL"
   },
   "outputs": [],
   "source": [
    "#delete\n",
    "request = \"\"\"\n",
    "\n",
    "\"\"\"\n",
    "\n",
    "conn.cursor().execute(request)\n",
    "conn.commit()"
   ]
  },
  {
   "cell_type": "code",
   "execution_count": null,
   "metadata": {
    "colab": {
     "base_uri": "https://localhost:8080/",
     "height": 49
    },
    "executionInfo": {
     "elapsed": 3318,
     "status": "ok",
     "timestamp": 1618959011108,
     "user": {
      "displayName": "Father John Abba",
      "photoUrl": "https://lh3.googleusercontent.com/a-/AOh14GhEgv8CjKHW5pm_2HSRwsFldLIuXY_LeyXHPcLn_g=s64",
      "userId": "00222344656684414893"
     },
     "user_tz": -180
    },
    "id": "N7lrVcNkecJx",
    "outputId": "1dc46dd2-c156-4883-a7a3-601a711e4933"
   },
   "outputs": [
    {
     "data": {
      "text/html": [
       "<div>\n",
       "<style scoped>\n",
       "    .dataframe tbody tr th:only-of-type {\n",
       "        vertical-align: middle;\n",
       "    }\n",
       "\n",
       "    .dataframe tbody tr th {\n",
       "        vertical-align: top;\n",
       "    }\n",
       "\n",
       "    .dataframe thead th {\n",
       "        text-align: right;\n",
       "    }\n",
       "</style>\n",
       "<table border=\"1\" class=\"dataframe\">\n",
       "  <thead>\n",
       "    <tr style=\"text-align: right;\">\n",
       "      <th></th>\n",
       "      <th>maker</th>\n",
       "      <th>model</th>\n",
       "      <th>type</th>\n",
       "    </tr>\n",
       "  </thead>\n",
       "  <tbody>\n",
       "  </tbody>\n",
       "</table>\n",
       "</div>"
      ],
      "text/plain": [
       "Empty DataFrame\n",
       "Columns: [maker, model, type]\n",
       "Index: []"
      ]
     },
     "execution_count": 10,
     "metadata": {
      "tags": []
     },
     "output_type": "execute_result"
    }
   ],
   "source": [
    "#проверяем delete\n",
    "pd.read_sql_query(\"select * from Product where model = 'product_by_student_0';\", conn)"
   ]
  },
  {
   "cell_type": "markdown",
   "metadata": {
    "id": "OcM3ISAgi7gI"
   },
   "source": [
    "**JOIN**"
   ]
  },
  {
   "cell_type": "code",
   "execution_count": 4,
   "metadata": {
    "colab": {
     "base_uri": "https://localhost:8080/",
     "height": 235
    },
    "executionInfo": {
     "elapsed": 1197,
     "status": "ok",
     "timestamp": 1619001792968,
     "user": {
      "displayName": "Father John Abba",
      "photoUrl": "https://lh3.googleusercontent.com/a-/AOh14GhEgv8CjKHW5pm_2HSRwsFldLIuXY_LeyXHPcLn_g=s64",
      "userId": "00222344656684414893"
     },
     "user_tz": -180
    },
    "id": "vuWKIDDHef_i",
    "outputId": "baa08c16-9741-4dc3-a25a-18f1d6e24eb0"
   },
   "outputs": [
    {
     "data": {
      "text/html": [
       "<div>\n",
       "<style scoped>\n",
       "    .dataframe tbody tr th:only-of-type {\n",
       "        vertical-align: middle;\n",
       "    }\n",
       "\n",
       "    .dataframe tbody tr th {\n",
       "        vertical-align: top;\n",
       "    }\n",
       "\n",
       "    .dataframe thead th {\n",
       "        text-align: right;\n",
       "    }\n",
       "</style>\n",
       "<table border=\"1\" class=\"dataframe\">\n",
       "  <thead>\n",
       "    <tr style=\"text-align: right;\">\n",
       "      <th></th>\n",
       "      <th>code</th>\n",
       "      <th>model</th>\n",
       "      <th>color</th>\n",
       "      <th>type</th>\n",
       "      <th>price</th>\n",
       "      <th>maker</th>\n",
       "      <th>model</th>\n",
       "      <th>type</th>\n",
       "    </tr>\n",
       "  </thead>\n",
       "  <tbody>\n",
       "    <tr>\n",
       "      <th>0</th>\n",
       "      <td>1</td>\n",
       "      <td>1276</td>\n",
       "      <td>n</td>\n",
       "      <td>Laser</td>\n",
       "      <td>400.0</td>\n",
       "      <td>A</td>\n",
       "      <td>1276</td>\n",
       "      <td>Printer</td>\n",
       "    </tr>\n",
       "    <tr>\n",
       "      <th>1</th>\n",
       "      <td>2</td>\n",
       "      <td>1433</td>\n",
       "      <td>y</td>\n",
       "      <td>Jet</td>\n",
       "      <td>270.0</td>\n",
       "      <td>D</td>\n",
       "      <td>1433</td>\n",
       "      <td>Printer</td>\n",
       "    </tr>\n",
       "    <tr>\n",
       "      <th>2</th>\n",
       "      <td>3</td>\n",
       "      <td>1434</td>\n",
       "      <td>y</td>\n",
       "      <td>Jet</td>\n",
       "      <td>290.0</td>\n",
       "      <td>E</td>\n",
       "      <td>1434</td>\n",
       "      <td>Printer</td>\n",
       "    </tr>\n",
       "    <tr>\n",
       "      <th>3</th>\n",
       "      <td>4</td>\n",
       "      <td>1401</td>\n",
       "      <td>n</td>\n",
       "      <td>Matrix</td>\n",
       "      <td>150.0</td>\n",
       "      <td>A</td>\n",
       "      <td>1401</td>\n",
       "      <td>Printer</td>\n",
       "    </tr>\n",
       "    <tr>\n",
       "      <th>4</th>\n",
       "      <td>5</td>\n",
       "      <td>1408</td>\n",
       "      <td>n</td>\n",
       "      <td>Matrix</td>\n",
       "      <td>270.0</td>\n",
       "      <td>A</td>\n",
       "      <td>1408</td>\n",
       "      <td>Printer</td>\n",
       "    </tr>\n",
       "    <tr>\n",
       "      <th>5</th>\n",
       "      <td>6</td>\n",
       "      <td>1288</td>\n",
       "      <td>n</td>\n",
       "      <td>Laser</td>\n",
       "      <td>400.0</td>\n",
       "      <td>D</td>\n",
       "      <td>1288</td>\n",
       "      <td>Printer</td>\n",
       "    </tr>\n",
       "  </tbody>\n",
       "</table>\n",
       "</div>"
      ],
      "text/plain": [
       "   code model color    type  price maker model     type\n",
       "0     1  1276     n   Laser  400.0     A  1276  Printer\n",
       "1     2  1433     y     Jet  270.0     D  1433  Printer\n",
       "2     3  1434     y     Jet  290.0     E  1434  Printer\n",
       "3     4  1401     n  Matrix  150.0     A  1401  Printer\n",
       "4     5  1408     n  Matrix  270.0     A  1408  Printer\n",
       "5     6  1288     n   Laser  400.0     D  1288  Printer"
      ]
     },
     "execution_count": 4,
     "metadata": {
      "tags": []
     },
     "output_type": "execute_result"
    }
   ],
   "source": [
    "#join по таблицам laptop & product\n",
    "request = \"\"\"\n",
    "SELECT *\n",
    "FROM printer l \n",
    "join product p\n",
    "on l.model = p.model\n",
    "\"\"\"\n",
    "pd.read_sql_query(request, conn)"
   ]
  },
  {
   "cell_type": "markdown",
   "metadata": {
    "id": "_F97d7OojC6n"
   },
   "source": [
    "Задание 1: Вывести всю информацию по каждому принтеру (join printer & product)"
   ]
  },
  {
   "cell_type": "code",
   "execution_count": null,
   "metadata": {
    "id": "QhjlUhH7jFNf"
   },
   "outputs": [],
   "source": [
    "#task1\n",
    "request = \"\"\"\n",
    "\n",
    "\"\"\"\n",
    "pd.read_sql_query(request, conn)"
   ]
  },
  {
   "cell_type": "markdown",
   "metadata": {
    "id": "esaM7z8Ijiet"
   },
   "source": [
    "Задание 2: Вывести всю информацию по каждому laptop, у которого цена больше 500"
   ]
  },
  {
   "cell_type": "code",
   "execution_count": null,
   "metadata": {
    "id": "SKrNIbAdjgR1"
   },
   "outputs": [],
   "source": [
    "#task2\n",
    "request = \"\"\"\n",
    "\n",
    "\"\"\"\n",
    "pd.read_sql_query(request, conn)"
   ]
  },
  {
   "cell_type": "markdown",
   "metadata": {
    "id": "kXX9Qj27j9GM"
   },
   "source": [
    "Задание 3: Вывести всю информацию по каждому PC, у которого объем RAM > 100"
   ]
  },
  {
   "cell_type": "code",
   "execution_count": null,
   "metadata": {
    "id": "VvvxC2YXkdZQ"
   },
   "outputs": [],
   "source": [
    "#task3\n",
    "request = \"\"\"\n",
    "\n",
    "\"\"\"\n",
    "pd.read_sql_query(request, conn)"
   ]
  },
  {
   "cell_type": "markdown",
   "metadata": {
    "id": "cBNaOpful4VM"
   },
   "source": [
    "Задание 4: Найдите среднюю скорость PC, выпущенных производителем 'A'"
   ]
  },
  {
   "cell_type": "code",
   "execution_count": null,
   "metadata": {
    "colab": {
     "base_uri": "https://localhost:8080/",
     "height": 198
    },
    "executionInfo": {
     "elapsed": 1021,
     "status": "error",
     "timestamp": 1618961102514,
     "user": {
      "displayName": "Father John Abba",
      "photoUrl": "https://lh3.googleusercontent.com/a-/AOh14GhEgv8CjKHW5pm_2HSRwsFldLIuXY_LeyXHPcLn_g=s64",
      "userId": "00222344656684414893"
     },
     "user_tz": -180
    },
    "id": "8iKzqnT5mZIJ",
    "outputId": "85665bef-f939-4ecd-de60-376a231d840e"
   },
   "outputs": [
    {
     "ename": "NameError",
     "evalue": "ignored",
     "output_type": "error",
     "traceback": [
      "\u001b[0;31m---------------------------------------------------------------------------\u001b[0m",
      "\u001b[0;31mNameError\u001b[0m                                 Traceback (most recent call last)",
      "\u001b[0;32m<ipython-input-1-966721ee86dc>\u001b[0m in \u001b[0;36m<module>\u001b[0;34m()\u001b[0m\n\u001b[1;32m      3\u001b[0m \u001b[0;34m\u001b[0m\u001b[0m\n\u001b[1;32m      4\u001b[0m \"\"\"\n\u001b[0;32m----> 5\u001b[0;31m \u001b[0mpd\u001b[0m\u001b[0;34m.\u001b[0m\u001b[0mread_sql_query\u001b[0m\u001b[0;34m(\u001b[0m\u001b[0mrequest\u001b[0m\u001b[0;34m,\u001b[0m \u001b[0mconn\u001b[0m\u001b[0;34m)\u001b[0m\u001b[0;34m\u001b[0m\u001b[0;34m\u001b[0m\u001b[0m\n\u001b[0m",
      "\u001b[0;31mNameError\u001b[0m: name 'pd' is not defined"
     ]
    }
   ],
   "source": [
    "#task4\n",
    "request = \"\"\"\n",
    "\n",
    "\"\"\"\n",
    "pd.read_sql_query(request, conn)"
   ]
  },
  {
   "cell_type": "markdown",
   "metadata": {
    "id": "7kIqEhnLmejg"
   },
   "source": [
    "Задание 5: Вывести среднюю цену принтера по каждому производителю (maker)"
   ]
  },
  {
   "cell_type": "code",
   "execution_count": null,
   "metadata": {
    "id": "7Mea8tiSmdfC"
   },
   "outputs": [],
   "source": [
    "#task5\n",
    "request = \"\"\"\n",
    "\n",
    "\"\"\"\n",
    "pd.read_sql_query(request, conn)"
   ]
  },
  {
   "cell_type": "markdown",
   "metadata": {
    "id": "eH-Htg9botZa"
   },
   "source": [
    "Задание 6: Для каждого PC вывести дополнительно производителя (maker)\n",
    "\n",
    "\n"
   ]
  },
  {
   "cell_type": "code",
   "execution_count": null,
   "metadata": {
    "id": "0-TMsIYTotLQ"
   },
   "outputs": [],
   "source": [
    "#task6\n",
    "request = \"\"\"\n",
    "\n",
    "\"\"\"\n",
    "pd.read_sql_query(request, conn)"
   ]
  },
  {
   "cell_type": "markdown",
   "metadata": {
    "id": "Opo6ZRYj-qPI"
   },
   "source": [
    "Задание 7: Вывести значения цены, производителя всех принтеров (printer), у котороых цена больше 500"
   ]
  },
  {
   "cell_type": "code",
   "execution_count": null,
   "metadata": {
    "id": "3zlZgqr4_Nyz"
   },
   "outputs": [],
   "source": [
    "#task7\n",
    "request = \"\"\"\n",
    "\n",
    "\"\"\"\n",
    "pd.read_sql_query(request, conn)"
   ]
  },
  {
   "cell_type": "markdown",
   "metadata": {
    "id": "faYVbsgG_hRw"
   },
   "source": [
    "Задание 8: Вывести всех производителей (без дупликатов)\n",
    "\n"
   ]
  },
  {
   "cell_type": "code",
   "execution_count": null,
   "metadata": {
    "id": "fiMXLcKz_xjz"
   },
   "outputs": [],
   "source": [
    "#task8\n",
    "request = \"\"\"\n",
    "\n",
    "\"\"\"\n",
    "pd.read_sql_query(request, conn)"
   ]
  },
  {
   "cell_type": "markdown",
   "metadata": {
    "id": "ynsjemoB_8N3"
   },
   "source": [
    "Задание 9: Посчитать количество возможных типов cd в таблице PC\n",
    "\n",
    "\n"
   ]
  },
  {
   "cell_type": "code",
   "execution_count": null,
   "metadata": {
    "id": "FIvLv9V6AcW6"
   },
   "outputs": [],
   "source": [
    "#task9\n",
    "request = \"\"\"\n",
    "\n",
    "\"\"\"\n",
    "pd.read_sql_query(request, conn)"
   ]
  },
  {
   "cell_type": "markdown",
   "metadata": {
    "id": "Czk1Vr0ZA8Zs"
   },
   "source": [
    "Задание 10: Какое количество принтеров у каждого производителя (maker), стоимость (price) которых (принтера)  больше 280"
   ]
  },
  {
   "cell_type": "code",
   "execution_count": null,
   "metadata": {
    "id": "p1z6ryFDByg5"
   },
   "outputs": [],
   "source": [
    "#task10\n",
    "request = \"\"\"\n",
    "\n",
    "\"\"\"\n",
    "pd.read_sql_query(request, conn)"
   ]
  },
  {
   "cell_type": "markdown",
   "metadata": {
    "id": "Tzt-DOVJB0US"
   },
   "source": [
    "## **Подзапросы / Subqueries**"
   ]
  },
  {
   "cell_type": "markdown",
   "metadata": {
    "id": "8hXW49iXB6W-"
   },
   "source": [
    "Задание 11: Найдите модели принтеров, имеющих самую высокую цену. Вывести: model, price"
   ]
  },
  {
   "cell_type": "code",
   "execution_count": null,
   "metadata": {
    "id": "-WGQZbmTB66P"
   },
   "outputs": [],
   "source": [
    "#task11\n",
    "request = \"\"\"\n",
    "\n",
    "\"\"\"\n",
    "pd.read_sql_query(request, conn)"
   ]
  },
  {
   "cell_type": "markdown",
   "metadata": {
    "id": "GP5QqgodB76d"
   },
   "source": [
    "Задание 12: Вывести разницу в средней цене между PC и принтерами (Printer)"
   ]
  },
  {
   "cell_type": "code",
   "execution_count": null,
   "metadata": {
    "id": "xbyzyP3aB7fa"
   },
   "outputs": [],
   "source": [
    "#task12\n",
    "request = \"\"\"\n",
    "\n",
    "\"\"\"\n",
    "pd.read_sql_query(request, conn)"
   ]
  },
  {
   "cell_type": "markdown",
   "metadata": {
    "id": "l1IVk9O5B8_6"
   },
   "source": [
    "Задание 13: Вывести производителей самых дешевых принтеров. Вывести price, maker"
   ]
  },
  {
   "cell_type": "code",
   "execution_count": null,
   "metadata": {
    "id": "p5JKoAw1B9xU"
   },
   "outputs": [],
   "source": [
    "#task13\n",
    "request = \"\"\"\n",
    "\n",
    "\"\"\"\n",
    "pd.read_sql_query(request, conn)"
   ]
  },
  {
   "cell_type": "markdown",
   "metadata": {
    "id": "UYMWrPyyB-NV"
   },
   "source": [
    "Задание 14: Вывести производителей самых дешевых цветных принтеров (color = 'y')"
   ]
  },
  {
   "cell_type": "code",
   "execution_count": null,
   "metadata": {
    "id": "tmn5IoOxCTeW"
   },
   "outputs": [],
   "source": [
    "#task14\n",
    "request = \"\"\"\n",
    "\n",
    "\"\"\"\n",
    "pd.read_sql_query(request, conn)"
   ]
  },
  {
   "cell_type": "markdown",
   "metadata": {
    "id": "Ms3RqcNVD4Cv"
   },
   "source": [
    "Задание 15: Вывести все принтеры со стоимостью выше средней по принтерам"
   ]
  },
  {
   "cell_type": "code",
   "execution_count": null,
   "metadata": {
    "id": "Pm4tKD-uD52G"
   },
   "outputs": [],
   "source": [
    "#task15\n",
    "request = \"\"\"\n",
    "\n",
    "\"\"\"\n",
    "pd.read_sql_query(request, conn)"
   ]
  },
  {
   "cell_type": "markdown",
   "metadata": {
    "id": "RyFsiJ6KFNgz"
   },
   "source": [
    "Задание 16: Какое количество уникальных продуктов среди PC и Laptop "
   ]
  },
  {
   "cell_type": "code",
   "execution_count": null,
   "metadata": {
    "id": "mFDVztj7FNBI"
   },
   "outputs": [],
   "source": [
    "#task16\n",
    "request = \"\"\"\n",
    "\n",
    "\"\"\"\n",
    "pd.read_sql_query(request, conn)"
   ]
  },
  {
   "cell_type": "markdown",
   "metadata": {
    "id": "eIVAXesLFdmb"
   },
   "source": [
    "Задание 17: Какая средняя цена среди уникальных продуктов производителя = 'A' (только printer & laptop, без pc)"
   ]
  },
  {
   "cell_type": "code",
   "execution_count": null,
   "metadata": {
    "id": "IkfNJaakF0-D"
   },
   "outputs": [],
   "source": [
    "#task17\n",
    "request = \"\"\"\n",
    "\n",
    "\"\"\"\n",
    "pd.read_sql_query(request, conn)"
   ]
  },
  {
   "cell_type": "markdown",
   "metadata": {
    "id": "IxnWUztyGk0g"
   },
   "source": [
    "Задание 18: Вывести все принтеры производителя = 'A' со стоимостью выше средней по принтерам производителя = 'B'. Вывести model"
   ]
  },
  {
   "cell_type": "code",
   "execution_count": null,
   "metadata": {
    "id": "1f0-sn5sGrit"
   },
   "outputs": [],
   "source": [
    "#task18\n",
    "request = \"\"\"\n",
    "\n",
    "\"\"\"\n",
    "pd.read_sql_query(request, conn)"
   ]
  },
  {
   "cell_type": "markdown",
   "metadata": {
    "id": "7XSyRPj7JVcT"
   },
   "source": [
    "Задание 19: Найдите производителей, которые производили бы как PC\n",
    "со скоростью (speed) не менее 750, так и laptop со скоростью (speed) не менее 750.\n",
    "Вывести maker"
   ]
  },
  {
   "cell_type": "code",
   "execution_count": null,
   "metadata": {
    "id": "a1MHPo8vJYfS"
   },
   "outputs": [],
   "source": [
    "#task19\n",
    "request = \"\"\"\n",
    "\n",
    "\"\"\"\n",
    "pd.read_sql_query(request, conn)"
   ]
  },
  {
   "cell_type": "markdown",
   "metadata": {
    "id": "4C9yghjkJ9Rv"
   },
   "source": [
    "Задание 20: Найдите средний размер hd PC каждого из тех производителей, которые выпускают и принтеры. Вывести: maker, средний размер HD.\n"
   ]
  },
  {
   "cell_type": "code",
   "execution_count": null,
   "metadata": {
    "id": "s3C-0PHYKED4"
   },
   "outputs": [],
   "source": [
    "#task20\n",
    "request = \"\"\"\n",
    "\n",
    "\"\"\"\n",
    "pd.read_sql_query(request, conn)"
   ]
  }
 ],
 "metadata": {
  "colab": {
   "authorship_tag": "ABX9TyOy8kcDqHscUUUQuRvNTh87",
   "name": "lesson2",
   "provenance": [
    {
     "file_id": "1cvSbsFqe0xpkrEr6VkYfC3j3jhZ8ftn_",
     "timestamp": 1618959230786
    },
    {
     "file_id": "1mFSjpzRYnVq8iv6xmycsy9RtMq7tTwCz",
     "timestamp": 1618958504822
    }
   ]
  },
  "kernelspec": {
   "display_name": "Python 3",
   "language": "python",
   "name": "python3"
  },
  "language_info": {
   "codemirror_mode": {
    "name": "ipython",
    "version": 3
   },
   "file_extension": ".py",
   "mimetype": "text/x-python",
   "name": "python",
   "nbconvert_exporter": "python",
   "pygments_lexer": "ipython3",
   "version": "3.8.3"
  }
 },
 "nbformat": 4,
 "nbformat_minor": 1
}
