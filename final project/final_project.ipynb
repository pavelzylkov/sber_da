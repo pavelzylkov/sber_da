{
 "cells": [
  {
   "cell_type": "code",
   "execution_count": 1,
   "metadata": {},
   "outputs": [],
   "source": [
    "import pandas as pd\n",
    "import numpy as np\n",
    "import matplotlib.pyplot as plt\n",
    "import scipy.stats as sts\n",
    "from sklearn.cluster import KMeans\n",
    "from sklearn.decomposition import PCA\n",
    "%matplotlib inline\n",
    "\n",
    "file = 'rates 12052021.csv'"
   ]
  },
  {
   "cell_type": "code",
   "execution_count": 2,
   "metadata": {},
   "outputs": [
    {
     "data": {
      "text/plain": [
       "{'encoding': 'windows-1251',\n",
       " 'confidence': 0.8592048592477813,\n",
       " 'language': 'Bulgarian'}"
      ]
     },
     "execution_count": 2,
     "metadata": {},
     "output_type": "execute_result"
    }
   ],
   "source": [
    "import chardet\n",
    "with open(file, 'rb') as rawdata:\n",
    "    result = chardet.detect(rawdata.read(100000))\n",
    "result"
   ]
  },
  {
   "cell_type": "code",
   "execution_count": 3,
   "metadata": {},
   "outputs": [],
   "source": [
    "df = pd.read_csv(file, encoding='windows-1251', sep=';', header=1)"
   ]
  },
  {
   "cell_type": "code",
   "execution_count": 4,
   "metadata": {},
   "outputs": [],
   "source": [
    "df_sliced = df[['SECID', 'SHORTNAME', 'NAME', 'FACEVALUE', 'FACEUNIT', 'DURATION', 'IS_QUALIFIED_INVESTORS', 'HIGH_RISK', 'COUPONFREQUENCY', 'COUPONDATE', 'COUPONPERCENT', 'COUPONVALUE', 'OFFERDATE', 'INN', 'PRICE', 'PRICE_RUB']]"
   ]
  },
  {
   "cell_type": "code",
   "execution_count": 5,
   "metadata": {},
   "outputs": [],
   "source": [
    "df_rub = df_sliced[df_sliced['FACEUNIT']=='RUB']"
   ]
  },
  {
   "cell_type": "code",
   "execution_count": 6,
   "metadata": {},
   "outputs": [
    {
     "data": {
      "text/html": [
       "<div>\n",
       "<style scoped>\n",
       "    .dataframe tbody tr th:only-of-type {\n",
       "        vertical-align: middle;\n",
       "    }\n",
       "\n",
       "    .dataframe tbody tr th {\n",
       "        vertical-align: top;\n",
       "    }\n",
       "\n",
       "    .dataframe thead th {\n",
       "        text-align: right;\n",
       "    }\n",
       "</style>\n",
       "<table border=\"1\" class=\"dataframe\">\n",
       "  <thead>\n",
       "    <tr style=\"text-align: right;\">\n",
       "      <th></th>\n",
       "      <th>SECID</th>\n",
       "      <th>SHORTNAME</th>\n",
       "      <th>NAME</th>\n",
       "      <th>FACEVALUE</th>\n",
       "      <th>FACEUNIT</th>\n",
       "      <th>DURATION</th>\n",
       "      <th>IS_QUALIFIED_INVESTORS</th>\n",
       "      <th>HIGH_RISK</th>\n",
       "      <th>COUPONFREQUENCY</th>\n",
       "      <th>COUPONDATE</th>\n",
       "      <th>COUPONPERCENT</th>\n",
       "      <th>COUPONVALUE</th>\n",
       "      <th>OFFERDATE</th>\n",
       "      <th>INN</th>\n",
       "      <th>PRICE</th>\n",
       "      <th>PRICE_RUB</th>\n",
       "    </tr>\n",
       "  </thead>\n",
       "  <tbody>\n",
       "    <tr>\n",
       "      <th>9</th>\n",
       "      <td>RU000A0JNYN1</td>\n",
       "      <td>МГор48-об</td>\n",
       "      <td>Гор.Обл.Займ Москвы 48 в.</td>\n",
       "      <td>1000,0</td>\n",
       "      <td>RUB</td>\n",
       "      <td>379.0</td>\n",
       "      <td>0</td>\n",
       "      <td>0</td>\n",
       "      <td>2.0</td>\n",
       "      <td>11.06.2021</td>\n",
       "      <td>6,00</td>\n",
       "      <td>29,92</td>\n",
       "      <td>NaN</td>\n",
       "      <td>7.710152e+09</td>\n",
       "      <td>100,118</td>\n",
       "      <td>1026,17</td>\n",
       "    </tr>\n",
       "    <tr>\n",
       "      <th>10</th>\n",
       "      <td>RU000A0JQ5C5</td>\n",
       "      <td>НПФ 01</td>\n",
       "      <td>\"НПФ\" ООО об.сер. 01</td>\n",
       "      <td>1000,0</td>\n",
       "      <td>RUB</td>\n",
       "      <td>NaN</td>\n",
       "      <td>0</td>\n",
       "      <td>1</td>\n",
       "      <td>NaN</td>\n",
       "      <td>06.05.2029</td>\n",
       "      <td>5,00</td>\n",
       "      <td>1000,55</td>\n",
       "      <td>NaN</td>\n",
       "      <td>6.658197e+09</td>\n",
       "      <td>100,0</td>\n",
       "      <td>1601,1</td>\n",
       "    </tr>\n",
       "    <tr>\n",
       "      <th>11</th>\n",
       "      <td>RU000A0JQ7Z2</td>\n",
       "      <td>РЖД-19 обл</td>\n",
       "      <td>\"Российские ЖД\" ОАО 19 обл.</td>\n",
       "      <td>1000,0</td>\n",
       "      <td>RUB</td>\n",
       "      <td>1020.0</td>\n",
       "      <td>0</td>\n",
       "      <td>0</td>\n",
       "      <td>2.0</td>\n",
       "      <td>12.07.2021</td>\n",
       "      <td>7,85</td>\n",
       "      <td>39,14</td>\n",
       "      <td>NaN</td>\n",
       "      <td>7.708504e+09</td>\n",
       "      <td>103,195</td>\n",
       "      <td>1057,97</td>\n",
       "    </tr>\n",
       "    <tr>\n",
       "      <th>12</th>\n",
       "      <td>RU000A0JQ8V9</td>\n",
       "      <td>Мечел  4об</td>\n",
       "      <td>Мечел ПАО 04 обл.</td>\n",
       "      <td>50,0</td>\n",
       "      <td>RUB</td>\n",
       "      <td>64.0</td>\n",
       "      <td>0</td>\n",
       "      <td>0</td>\n",
       "      <td>4.0</td>\n",
       "      <td>15.07.2021</td>\n",
       "      <td>8,00</td>\n",
       "      <td>1,0</td>\n",
       "      <td>NaN</td>\n",
       "      <td>7.703370e+09</td>\n",
       "      <td>253,9698</td>\n",
       "      <td>127,2849</td>\n",
       "    </tr>\n",
       "    <tr>\n",
       "      <th>13</th>\n",
       "      <td>RU000A0JQAL8</td>\n",
       "      <td>ДОМ.РФ14об</td>\n",
       "      <td>ДОМ.РФ (АО) обл. сер. А14</td>\n",
       "      <td>1000,0</td>\n",
       "      <td>RUB</td>\n",
       "      <td>677.0</td>\n",
       "      <td>0</td>\n",
       "      <td>0</td>\n",
       "      <td>2.0</td>\n",
       "      <td>15.05.2021</td>\n",
       "      <td>6,75</td>\n",
       "      <td>33,47</td>\n",
       "      <td>NaN</td>\n",
       "      <td>7.729356e+09</td>\n",
       "      <td>105,437</td>\n",
       "      <td>1087,29</td>\n",
       "    </tr>\n",
       "  </tbody>\n",
       "</table>\n",
       "</div>"
      ],
      "text/plain": [
       "           SECID   SHORTNAME                         NAME FACEVALUE FACEUNIT  \\\n",
       "9   RU000A0JNYN1   МГор48-об    Гор.Обл.Займ Москвы 48 в.    1000,0      RUB   \n",
       "10  RU000A0JQ5C5      НПФ 01         \"НПФ\" ООО об.сер. 01    1000,0      RUB   \n",
       "11  RU000A0JQ7Z2  РЖД-19 обл  \"Российские ЖД\" ОАО 19 обл.    1000,0      RUB   \n",
       "12  RU000A0JQ8V9  Мечел  4об            Мечел ПАО 04 обл.      50,0      RUB   \n",
       "13  RU000A0JQAL8  ДОМ.РФ14об    ДОМ.РФ (АО) обл. сер. А14    1000,0      RUB   \n",
       "\n",
       "    DURATION  IS_QUALIFIED_INVESTORS  HIGH_RISK  COUPONFREQUENCY  COUPONDATE  \\\n",
       "9      379.0                       0          0              2.0  11.06.2021   \n",
       "10       NaN                       0          1              NaN  06.05.2029   \n",
       "11    1020.0                       0          0              2.0  12.07.2021   \n",
       "12      64.0                       0          0              4.0  15.07.2021   \n",
       "13     677.0                       0          0              2.0  15.05.2021   \n",
       "\n",
       "   COUPONPERCENT COUPONVALUE OFFERDATE           INN     PRICE PRICE_RUB  \n",
       "9           6,00       29,92       NaN  7.710152e+09   100,118   1026,17  \n",
       "10          5,00     1000,55       NaN  6.658197e+09     100,0    1601,1  \n",
       "11          7,85       39,14       NaN  7.708504e+09   103,195   1057,97  \n",
       "12          8,00         1,0       NaN  7.703370e+09  253,9698  127,2849  \n",
       "13          6,75       33,47       NaN  7.729356e+09   105,437   1087,29  "
      ]
     },
     "execution_count": 6,
     "metadata": {},
     "output_type": "execute_result"
    }
   ],
   "source": [
    "df_rub.head(5)"
   ]
  },
  {
   "cell_type": "code",
   "execution_count": 7,
   "metadata": {
    "collapsed": true
   },
   "outputs": [
    {
     "name": "stderr",
     "output_type": "stream",
     "text": [
      "<ipython-input-7-dc46c670ccc7>:1: SettingWithCopyWarning: \n",
      "A value is trying to be set on a copy of a slice from a DataFrame.\n",
      "Try using .loc[row_indexer,col_indexer] = value instead\n",
      "\n",
      "See the caveats in the documentation: https://pandas.pydata.org/pandas-docs/stable/user_guide/indexing.html#returning-a-view-versus-a-copy\n",
      "  df_rub['INN'] = df_rub['INN'].fillna(0).astype(np.int64)\n"
     ]
    }
   ],
   "source": [
    "df_rub['INN'] = df_rub['INN'].fillna(0).astype(np.int64)"
   ]
  },
  {
   "cell_type": "code",
   "execution_count": 8,
   "metadata": {
    "collapsed": true
   },
   "outputs": [
    {
     "name": "stderr",
     "output_type": "stream",
     "text": [
      "<ipython-input-8-ce40e4d0a112>:1: SettingWithCopyWarning: \n",
      "A value is trying to be set on a copy of a slice from a DataFrame\n",
      "\n",
      "See the caveats in the documentation: https://pandas.pydata.org/pandas-docs/stable/user_guide/indexing.html#returning-a-view-versus-a-copy\n",
      "  df_rub.dropna(subset=['COUPONPERCENT'], inplace=True)\n"
     ]
    }
   ],
   "source": [
    "df_rub.dropna(subset=['COUPONPERCENT'], inplace=True)"
   ]
  },
  {
   "cell_type": "code",
   "execution_count": 9,
   "metadata": {},
   "outputs": [],
   "source": [
    "def convert_currency(val):\n",
    "    \"\"\"\n",
    "    Convert the string number value to a float\n",
    "     - Remove commas\n",
    "     - Convert to float type\n",
    "    \"\"\"\n",
    "    new_val = val.replace(',','.')\n",
    "    return float(new_val)"
   ]
  },
  {
   "cell_type": "code",
   "execution_count": 10,
   "metadata": {
    "collapsed": true
   },
   "outputs": [
    {
     "name": "stderr",
     "output_type": "stream",
     "text": [
      "<ipython-input-10-4c9aaee94eb4>:1: SettingWithCopyWarning: \n",
      "A value is trying to be set on a copy of a slice from a DataFrame\n",
      "\n",
      "See the caveats in the documentation: https://pandas.pydata.org/pandas-docs/stable/user_guide/indexing.html#returning-a-view-versus-a-copy\n",
      "  df_rub.dropna(subset=['PRICE_RUB'], inplace=True)\n"
     ]
    }
   ],
   "source": [
    "df_rub.dropna(subset=['PRICE_RUB'], inplace=True)"
   ]
  },
  {
   "cell_type": "code",
   "execution_count": 11,
   "metadata": {
    "collapsed": true
   },
   "outputs": [
    {
     "name": "stderr",
     "output_type": "stream",
     "text": [
      "<ipython-input-11-4dd245eb6848>:1: SettingWithCopyWarning: \n",
      "A value is trying to be set on a copy of a slice from a DataFrame.\n",
      "Try using .loc[row_indexer,col_indexer] = value instead\n",
      "\n",
      "See the caveats in the documentation: https://pandas.pydata.org/pandas-docs/stable/user_guide/indexing.html#returning-a-view-versus-a-copy\n",
      "  df_rub['COUPONPERCENT'] = df_rub['COUPONPERCENT'].apply(convert_currency)\n",
      "<ipython-input-11-4dd245eb6848>:2: SettingWithCopyWarning: \n",
      "A value is trying to be set on a copy of a slice from a DataFrame.\n",
      "Try using .loc[row_indexer,col_indexer] = value instead\n",
      "\n",
      "See the caveats in the documentation: https://pandas.pydata.org/pandas-docs/stable/user_guide/indexing.html#returning-a-view-versus-a-copy\n",
      "  df_rub['FACEVALUE'] = df_rub['FACEVALUE'].apply(convert_currency)\n",
      "<ipython-input-11-4dd245eb6848>:3: SettingWithCopyWarning: \n",
      "A value is trying to be set on a copy of a slice from a DataFrame.\n",
      "Try using .loc[row_indexer,col_indexer] = value instead\n",
      "\n",
      "See the caveats in the documentation: https://pandas.pydata.org/pandas-docs/stable/user_guide/indexing.html#returning-a-view-versus-a-copy\n",
      "  df_rub['PRICE_RUB'] = df_rub['PRICE_RUB'].apply(convert_currency)\n"
     ]
    }
   ],
   "source": [
    "df_rub['COUPONPERCENT'] = df_rub['COUPONPERCENT'].apply(convert_currency)\n",
    "df_rub['FACEVALUE'] = df_rub['FACEVALUE'].apply(convert_currency)\n",
    "df_rub['PRICE_RUB'] = df_rub['PRICE_RUB'].apply(convert_currency)"
   ]
  },
  {
   "cell_type": "code",
   "execution_count": 12,
   "metadata": {},
   "outputs": [
    {
     "data": {
      "text/html": [
       "<div>\n",
       "<style scoped>\n",
       "    .dataframe tbody tr th:only-of-type {\n",
       "        vertical-align: middle;\n",
       "    }\n",
       "\n",
       "    .dataframe tbody tr th {\n",
       "        vertical-align: top;\n",
       "    }\n",
       "\n",
       "    .dataframe thead th {\n",
       "        text-align: right;\n",
       "    }\n",
       "</style>\n",
       "<table border=\"1\" class=\"dataframe\">\n",
       "  <thead>\n",
       "    <tr style=\"text-align: right;\">\n",
       "      <th></th>\n",
       "      <th>SECID</th>\n",
       "      <th>SHORTNAME</th>\n",
       "      <th>NAME</th>\n",
       "      <th>FACEVALUE</th>\n",
       "      <th>FACEUNIT</th>\n",
       "      <th>DURATION</th>\n",
       "      <th>IS_QUALIFIED_INVESTORS</th>\n",
       "      <th>HIGH_RISK</th>\n",
       "      <th>COUPONFREQUENCY</th>\n",
       "      <th>COUPONDATE</th>\n",
       "      <th>COUPONPERCENT</th>\n",
       "      <th>COUPONVALUE</th>\n",
       "      <th>OFFERDATE</th>\n",
       "      <th>INN</th>\n",
       "      <th>PRICE</th>\n",
       "      <th>PRICE_RUB</th>\n",
       "    </tr>\n",
       "  </thead>\n",
       "  <tbody>\n",
       "    <tr>\n",
       "      <th>9</th>\n",
       "      <td>RU000A0JNYN1</td>\n",
       "      <td>МГор48-об</td>\n",
       "      <td>Гор.Обл.Займ Москвы 48 в.</td>\n",
       "      <td>1000.0</td>\n",
       "      <td>RUB</td>\n",
       "      <td>379.0</td>\n",
       "      <td>0</td>\n",
       "      <td>0</td>\n",
       "      <td>2.0</td>\n",
       "      <td>11.06.2021</td>\n",
       "      <td>6.00</td>\n",
       "      <td>29,92</td>\n",
       "      <td>NaN</td>\n",
       "      <td>7710152113</td>\n",
       "      <td>100,118</td>\n",
       "      <td>1026.1700</td>\n",
       "    </tr>\n",
       "    <tr>\n",
       "      <th>10</th>\n",
       "      <td>RU000A0JQ5C5</td>\n",
       "      <td>НПФ 01</td>\n",
       "      <td>\"НПФ\" ООО об.сер. 01</td>\n",
       "      <td>1000.0</td>\n",
       "      <td>RUB</td>\n",
       "      <td>NaN</td>\n",
       "      <td>0</td>\n",
       "      <td>1</td>\n",
       "      <td>NaN</td>\n",
       "      <td>06.05.2029</td>\n",
       "      <td>5.00</td>\n",
       "      <td>1000,55</td>\n",
       "      <td>NaN</td>\n",
       "      <td>6658196868</td>\n",
       "      <td>100,0</td>\n",
       "      <td>1601.1000</td>\n",
       "    </tr>\n",
       "    <tr>\n",
       "      <th>11</th>\n",
       "      <td>RU000A0JQ7Z2</td>\n",
       "      <td>РЖД-19 обл</td>\n",
       "      <td>\"Российские ЖД\" ОАО 19 обл.</td>\n",
       "      <td>1000.0</td>\n",
       "      <td>RUB</td>\n",
       "      <td>1020.0</td>\n",
       "      <td>0</td>\n",
       "      <td>0</td>\n",
       "      <td>2.0</td>\n",
       "      <td>12.07.2021</td>\n",
       "      <td>7.85</td>\n",
       "      <td>39,14</td>\n",
       "      <td>NaN</td>\n",
       "      <td>7708503727</td>\n",
       "      <td>103,195</td>\n",
       "      <td>1057.9700</td>\n",
       "    </tr>\n",
       "    <tr>\n",
       "      <th>12</th>\n",
       "      <td>RU000A0JQ8V9</td>\n",
       "      <td>Мечел  4об</td>\n",
       "      <td>Мечел ПАО 04 обл.</td>\n",
       "      <td>50.0</td>\n",
       "      <td>RUB</td>\n",
       "      <td>64.0</td>\n",
       "      <td>0</td>\n",
       "      <td>0</td>\n",
       "      <td>4.0</td>\n",
       "      <td>15.07.2021</td>\n",
       "      <td>8.00</td>\n",
       "      <td>1,0</td>\n",
       "      <td>NaN</td>\n",
       "      <td>7703370008</td>\n",
       "      <td>253,9698</td>\n",
       "      <td>127.2849</td>\n",
       "    </tr>\n",
       "    <tr>\n",
       "      <th>13</th>\n",
       "      <td>RU000A0JQAL8</td>\n",
       "      <td>ДОМ.РФ14об</td>\n",
       "      <td>ДОМ.РФ (АО) обл. сер. А14</td>\n",
       "      <td>1000.0</td>\n",
       "      <td>RUB</td>\n",
       "      <td>677.0</td>\n",
       "      <td>0</td>\n",
       "      <td>0</td>\n",
       "      <td>2.0</td>\n",
       "      <td>15.05.2021</td>\n",
       "      <td>6.75</td>\n",
       "      <td>33,47</td>\n",
       "      <td>NaN</td>\n",
       "      <td>7729355614</td>\n",
       "      <td>105,437</td>\n",
       "      <td>1087.2900</td>\n",
       "    </tr>\n",
       "    <tr>\n",
       "      <th>14</th>\n",
       "      <td>RU000A0JQAM6</td>\n",
       "      <td>ДОМ.РФ15об</td>\n",
       "      <td>ДОМ.РФ (АО) обл. сер. А15</td>\n",
       "      <td>1000.0</td>\n",
       "      <td>RUB</td>\n",
       "      <td>2172.0</td>\n",
       "      <td>0</td>\n",
       "      <td>0</td>\n",
       "      <td>2.0</td>\n",
       "      <td>15.09.2021</td>\n",
       "      <td>6.75</td>\n",
       "      <td>34,03</td>\n",
       "      <td>NaN</td>\n",
       "      <td>7729355614</td>\n",
       "      <td>113,387</td>\n",
       "      <td>1144.6000</td>\n",
       "    </tr>\n",
       "    <tr>\n",
       "      <th>15</th>\n",
       "      <td>RU000A0JQRD9</td>\n",
       "      <td>РЖД-23 обл</td>\n",
       "      <td>\"Российские ЖД\" ОАО 23 обл.</td>\n",
       "      <td>1000.0</td>\n",
       "      <td>RUB</td>\n",
       "      <td>1171.0</td>\n",
       "      <td>0</td>\n",
       "      <td>0</td>\n",
       "      <td>2.0</td>\n",
       "      <td>22.07.2021</td>\n",
       "      <td>7.85</td>\n",
       "      <td>39,14</td>\n",
       "      <td>NaN</td>\n",
       "      <td>7708503727</td>\n",
       "      <td>103,787</td>\n",
       "      <td>1061.7400</td>\n",
       "    </tr>\n",
       "    <tr>\n",
       "      <th>16</th>\n",
       "      <td>RU000A0JQXG0</td>\n",
       "      <td>ДОМ.РФ16об</td>\n",
       "      <td>ДОМ.РФ (АО) обл. сер. А16</td>\n",
       "      <td>100.0</td>\n",
       "      <td>RUB</td>\n",
       "      <td>124.0</td>\n",
       "      <td>0</td>\n",
       "      <td>0</td>\n",
       "      <td>4.0</td>\n",
       "      <td>15.06.2021</td>\n",
       "      <td>8.25</td>\n",
       "      <td>2,08</td>\n",
       "      <td>NaN</td>\n",
       "      <td>7729355614</td>\n",
       "      <td>101,0875</td>\n",
       "      <td>102.3975</td>\n",
       "    </tr>\n",
       "    <tr>\n",
       "      <th>17</th>\n",
       "      <td>RU000A0JR4U9</td>\n",
       "      <td>ГлДорога 3</td>\n",
       "      <td>Главная дорога АО об.сер. 03</td>\n",
       "      <td>1000.0</td>\n",
       "      <td>RUB</td>\n",
       "      <td>1315.0</td>\n",
       "      <td>0</td>\n",
       "      <td>0</td>\n",
       "      <td>1.0</td>\n",
       "      <td>08.11.2021</td>\n",
       "      <td>4.00</td>\n",
       "      <td>39,89</td>\n",
       "      <td>NaN</td>\n",
       "      <td>7726581132</td>\n",
       "      <td>97,888</td>\n",
       "      <td>999.0400</td>\n",
       "    </tr>\n",
       "    <tr>\n",
       "      <th>18</th>\n",
       "      <td>RU000A0JR5F7</td>\n",
       "      <td>ДОМ.РФ17об</td>\n",
       "      <td>ДОМ.РФ (АО) обл. сер.А17</td>\n",
       "      <td>150.0</td>\n",
       "      <td>RUB</td>\n",
       "      <td>326.0</td>\n",
       "      <td>0</td>\n",
       "      <td>0</td>\n",
       "      <td>4.0</td>\n",
       "      <td>15.07.2021</td>\n",
       "      <td>9.05</td>\n",
       "      <td>3,38</td>\n",
       "      <td>NaN</td>\n",
       "      <td>7729355614</td>\n",
       "      <td>102,652</td>\n",
       "      <td>154.9780</td>\n",
       "    </tr>\n",
       "  </tbody>\n",
       "</table>\n",
       "</div>"
      ],
      "text/plain": [
       "           SECID   SHORTNAME                          NAME  FACEVALUE  \\\n",
       "9   RU000A0JNYN1   МГор48-об     Гор.Обл.Займ Москвы 48 в.     1000.0   \n",
       "10  RU000A0JQ5C5      НПФ 01          \"НПФ\" ООО об.сер. 01     1000.0   \n",
       "11  RU000A0JQ7Z2  РЖД-19 обл   \"Российские ЖД\" ОАО 19 обл.     1000.0   \n",
       "12  RU000A0JQ8V9  Мечел  4об             Мечел ПАО 04 обл.       50.0   \n",
       "13  RU000A0JQAL8  ДОМ.РФ14об     ДОМ.РФ (АО) обл. сер. А14     1000.0   \n",
       "14  RU000A0JQAM6  ДОМ.РФ15об     ДОМ.РФ (АО) обл. сер. А15     1000.0   \n",
       "15  RU000A0JQRD9  РЖД-23 обл   \"Российские ЖД\" ОАО 23 обл.     1000.0   \n",
       "16  RU000A0JQXG0  ДОМ.РФ16об     ДОМ.РФ (АО) обл. сер. А16      100.0   \n",
       "17  RU000A0JR4U9  ГлДорога 3  Главная дорога АО об.сер. 03     1000.0   \n",
       "18  RU000A0JR5F7  ДОМ.РФ17об      ДОМ.РФ (АО) обл. сер.А17      150.0   \n",
       "\n",
       "   FACEUNIT  DURATION  IS_QUALIFIED_INVESTORS  HIGH_RISK  COUPONFREQUENCY  \\\n",
       "9       RUB     379.0                       0          0              2.0   \n",
       "10      RUB       NaN                       0          1              NaN   \n",
       "11      RUB    1020.0                       0          0              2.0   \n",
       "12      RUB      64.0                       0          0              4.0   \n",
       "13      RUB     677.0                       0          0              2.0   \n",
       "14      RUB    2172.0                       0          0              2.0   \n",
       "15      RUB    1171.0                       0          0              2.0   \n",
       "16      RUB     124.0                       0          0              4.0   \n",
       "17      RUB    1315.0                       0          0              1.0   \n",
       "18      RUB     326.0                       0          0              4.0   \n",
       "\n",
       "    COUPONDATE  COUPONPERCENT COUPONVALUE OFFERDATE         INN     PRICE  \\\n",
       "9   11.06.2021           6.00       29,92       NaN  7710152113   100,118   \n",
       "10  06.05.2029           5.00     1000,55       NaN  6658196868     100,0   \n",
       "11  12.07.2021           7.85       39,14       NaN  7708503727   103,195   \n",
       "12  15.07.2021           8.00         1,0       NaN  7703370008  253,9698   \n",
       "13  15.05.2021           6.75       33,47       NaN  7729355614   105,437   \n",
       "14  15.09.2021           6.75       34,03       NaN  7729355614   113,387   \n",
       "15  22.07.2021           7.85       39,14       NaN  7708503727   103,787   \n",
       "16  15.06.2021           8.25        2,08       NaN  7729355614  101,0875   \n",
       "17  08.11.2021           4.00       39,89       NaN  7726581132    97,888   \n",
       "18  15.07.2021           9.05        3,38       NaN  7729355614   102,652   \n",
       "\n",
       "    PRICE_RUB  \n",
       "9   1026.1700  \n",
       "10  1601.1000  \n",
       "11  1057.9700  \n",
       "12   127.2849  \n",
       "13  1087.2900  \n",
       "14  1144.6000  \n",
       "15  1061.7400  \n",
       "16   102.3975  \n",
       "17   999.0400  \n",
       "18   154.9780  "
      ]
     },
     "execution_count": 12,
     "metadata": {},
     "output_type": "execute_result"
    }
   ],
   "source": [
    "df_rub.head(10)"
   ]
  },
  {
   "cell_type": "code",
   "execution_count": 13,
   "metadata": {},
   "outputs": [],
   "source": [
    "X = df_rub.iloc[:, [10, 15]].values"
   ]
  },
  {
   "cell_type": "code",
   "execution_count": 14,
   "metadata": {
    "collapsed": true
   },
   "outputs": [
    {
     "data": {
      "text/html": [
       "<div>\n",
       "<style scoped>\n",
       "    .dataframe tbody tr th:only-of-type {\n",
       "        vertical-align: middle;\n",
       "    }\n",
       "\n",
       "    .dataframe tbody tr th {\n",
       "        vertical-align: top;\n",
       "    }\n",
       "\n",
       "    .dataframe thead th {\n",
       "        text-align: right;\n",
       "    }\n",
       "</style>\n",
       "<table border=\"1\" class=\"dataframe\">\n",
       "  <thead>\n",
       "    <tr style=\"text-align: right;\">\n",
       "      <th></th>\n",
       "      <th>PRICE_RUB</th>\n",
       "    </tr>\n",
       "  </thead>\n",
       "  <tbody>\n",
       "    <tr>\n",
       "      <th>count</th>\n",
       "      <td>2.034000e+03</td>\n",
       "    </tr>\n",
       "    <tr>\n",
       "      <th>mean</th>\n",
       "      <td>9.413380e+04</td>\n",
       "    </tr>\n",
       "    <tr>\n",
       "      <th>std</th>\n",
       "      <td>1.660177e+06</td>\n",
       "    </tr>\n",
       "    <tr>\n",
       "      <th>min</th>\n",
       "      <td>3.500000e+00</td>\n",
       "    </tr>\n",
       "    <tr>\n",
       "      <th>25%</th>\n",
       "      <td>9.832650e+02</td>\n",
       "    </tr>\n",
       "    <tr>\n",
       "      <th>50%</th>\n",
       "      <td>1.014775e+03</td>\n",
       "    </tr>\n",
       "    <tr>\n",
       "      <th>75%</th>\n",
       "      <td>1.042490e+03</td>\n",
       "    </tr>\n",
       "    <tr>\n",
       "      <th>max</th>\n",
       "      <td>6.678942e+07</td>\n",
       "    </tr>\n",
       "  </tbody>\n",
       "</table>\n",
       "</div>"
      ],
      "text/plain": [
       "          PRICE_RUB\n",
       "count  2.034000e+03\n",
       "mean   9.413380e+04\n",
       "std    1.660177e+06\n",
       "min    3.500000e+00\n",
       "25%    9.832650e+02\n",
       "50%    1.014775e+03\n",
       "75%    1.042490e+03\n",
       "max    6.678942e+07"
      ]
     },
     "execution_count": 14,
     "metadata": {},
     "output_type": "execute_result"
    }
   ],
   "source": [
    "df_rub.iloc[:, [15]].describe()"
   ]
  },
  {
   "cell_type": "code",
   "execution_count": 15,
   "metadata": {},
   "outputs": [
    {
     "data": {
      "image/png": "[encoded data removed]",
      "text/plain": [
       "<Figure size 432x288 with 1 Axes>"
      ]
     },
     "metadata": {
      "needs_background": "light"
     },
     "output_type": "display_data"
    }
   ],
   "source": [
    "distortion = []\n",
    "K = range(1, 10)\n",
    "for k in K:\n",
    "    model = KMeans(n_clusters=k, random_state=12345)\n",
    "    model.fit(X)\n",
    "    distortion.append(model.inertia_) \n",
    "plt.plot(K, distortion)\n",
    "plt.title('The Elbow Method')\n",
    "plt.xlabel('Number of Clusters')\n",
    "plt.ylabel('Distortion');"
   ]
  },
  {
   "cell_type": "code",
   "execution_count": 16,
   "metadata": {},
   "outputs": [],
   "source": [
    "model = KMeans(n_clusters=3, random_state=12345)\n",
    "y_means = model.fit_predict(X)"
   ]
  },
  {
   "cell_type": "code",
   "execution_count": 17,
   "metadata": {},
   "outputs": [
    {
     "data": {
      "image/png": "[encoded data removed]",
      "text/plain": [
       "<Figure size 864x432 with 1 Axes>"
      ]
     },
     "metadata": {
      "needs_background": "light"
     },
     "output_type": "display_data"
    }
   ],
   "source": [
    "fig, ax = plt.subplots(figsize=(12, 6))\n",
    "plt.scatter(X[y_means == 0, 0], X[y_means == 0, 1], s=100, c='red', label='Cluster 1')\n",
    "plt.scatter(X[y_means == 1, 0], X[y_means == 1, 1], s=100, c='blue', label='Cluster 2')\n",
    "plt.scatter(X[y_means == 2, 0], X[y_means == 2, 1], s=100, c='green', label='Cluster 3')\n",
    "#plt.scatter(model.cluster_centers_[:, 0], model.cluster_centers_[:, 1], s=100, c='yellow', label='Centroids')\n",
    "plt.title('Кластеры доходности облигаций')\n",
    "plt.ylabel('Рыночная стоимость')\n",
    "plt.xlabel('Cтавка купонной доходности')\n",
    "plt.legend();"
   ]
  },
  {
   "cell_type": "code",
   "execution_count": 18,
   "metadata": {
    "collapsed": true
   },
   "outputs": [
    {
     "name": "stderr",
     "output_type": "stream",
     "text": [
      "<ipython-input-18-9bd3458e1619>:1: SettingWithCopyWarning: \n",
      "A value is trying to be set on a copy of a slice from a DataFrame.\n",
      "Try using .loc[row_indexer,col_indexer] = value instead\n",
      "\n",
      "See the caveats in the documentation: https://pandas.pydata.org/pandas-docs/stable/user_guide/indexing.html#returning-a-view-versus-a-copy\n",
      "  df_rub['CLUSTER'] = y_means\n"
     ]
    }
   ],
   "source": [
    "df_rub['CLUSTER'] = y_means"
   ]
  },
  {
   "cell_type": "code",
   "execution_count": 286,
   "metadata": {},
   "outputs": [],
   "source": [
    "#df_rub['CLUSTER'] = df_rub['CLUSTER'].astype(np.int)\n",
    "df_cheap = df_rub[df_rub['CLUSTER']==0]"
   ]
  },
  {
   "cell_type": "code",
   "execution_count": 287,
   "metadata": {},
   "outputs": [],
   "source": [
    "X = df_cheap.iloc[:, [15, 10]].values"
   ]
  },
  {
   "cell_type": "code",
   "execution_count": 288,
   "metadata": {},
   "outputs": [
    {
     "data": {
      "image/png": "[encoded data removed]",
      "text/plain": [
       "<Figure size 432x288 with 1 Axes>"
      ]
     },
     "metadata": {
      "needs_background": "light"
     },
     "output_type": "display_data"
    }
   ],
   "source": [
    "distortion = []\n",
    "K = range(1, 10)\n",
    "for k in K:\n",
    "    model = KMeans(n_clusters=k, random_state=12345)\n",
    "    model.fit(X)\n",
    "    distortion.append(model.inertia_) \n",
    "plt.plot(K, distortion)\n",
    "plt.title('The Elbow Method')\n",
    "plt.xlabel('Number of Clusters')\n",
    "plt.ylabel('Distortion');"
   ]
  },
  {
   "cell_type": "code",
   "execution_count": 292,
   "metadata": {},
   "outputs": [],
   "source": [
    "model = KMeans(n_clusters=2, random_state=12345)\n",
    "y_means = model.fit_predict(X)"
   ]
  },
  {
   "cell_type": "code",
   "execution_count": 293,
   "metadata": {},
   "outputs": [
    {
     "data": {
      "image/png": "[encoded data removed]",
      "text/plain": [
       "<Figure size 864x432 with 1 Axes>"
      ]
     },
     "metadata": {
      "needs_background": "light"
     },
     "output_type": "display_data"
    }
   ],
   "source": [
    "fig, ax = plt.subplots(figsize=(12, 6))\n",
    "plt.scatter(X[y_means == 0, 0], X[y_means == 0, 1], s=100, c='red', label='Cluster 1')\n",
    "plt.scatter(X[y_means == 1, 0], X[y_means == 1, 1], s=100, c='blue', label='Cluster 2')\n",
    "plt.scatter(X[y_means == 2, 0], X[y_means == 2, 1], s=100, c='green', label='Cluster 3')\n",
    "#plt.scatter(model.cluster_centers_[:, 0], model.cluster_centers_[:, 1], s=100, c='yellow', label='Centroids')\n",
    "plt.title('Кластеры доходности облигаций')\n",
    "plt.xlabel('Рыночная стоимость')\n",
    "plt.ylabel('Cтавка купонной доходности')\n",
    "plt.legend();"
   ]
  },
  {
   "cell_type": "code",
   "execution_count": null,
   "metadata": {},
   "outputs": [],
   "source": []
  }
 ],
 "metadata": {
  "kernelspec": {
   "display_name": "Python 3",
   "language": "python",
   "name": "python3"
  },
  "language_info": {
   "codemirror_mode": {
    "name": "ipython",
    "version": 3
   },
   "file_extension": ".py",
   "mimetype": "text/x-python",
   "name": "python",
   "nbconvert_exporter": "python",
   "pygments_lexer": "ipython3",
   "version": "3.8.3"
  }
 },
 "nbformat": 4,
 "nbformat_minor": 4
}
