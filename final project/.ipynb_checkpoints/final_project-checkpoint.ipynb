{
 "cells": [
  {
   "cell_type": "code",
   "execution_count": 84,
   "metadata": {},
   "outputs": [],
   "source": [
    "import pandas as pd\n",
    "import numpy as np\n",
    "import matplotlib.pyplot as plt\n",
    "import scipy.stats as sts\n",
    "from sklearn.cluster import KMeans\n",
    "from sklearn.decomposition import PCA\n",
    "%matplotlib inline\n",
    "\n",
    "file = 'rates 12052021.csv'"
   ]
  },
  {
   "cell_type": "code",
   "execution_count": 85,
   "metadata": {},
   "outputs": [
    {
     "data": {
      "text/plain": [
       "{'encoding': 'windows-1251',\n",
       " 'confidence': 0.8592048592477813,\n",
       " 'language': 'Bulgarian'}"
      ]
     },
     "execution_count": 85,
     "metadata": {},
     "output_type": "execute_result"
    }
   ],
   "source": [
    "import chardet\n",
    "with open(file, 'rb') as rawdata:\n",
    "    result = chardet.detect(rawdata.read(100000))\n",
    "result"
   ]
  },
  {
   "cell_type": "code",
   "execution_count": 86,
   "metadata": {},
   "outputs": [],
   "source": [
    "df = pd.read_csv(file, encoding='windows-1251', sep=';', header=1)"
   ]
  },
  {
   "cell_type": "code",
   "execution_count": 87,
   "metadata": {},
   "outputs": [],
   "source": [
    "df_sliced = df[['SECID', 'SHORTNAME', 'NAME', 'FACEVALUE', 'FACEUNIT', 'DURATION', 'IS_QUALIFIED_INVESTORS', 'HIGH_RISK', 'COUPONFREQUENCY', 'COUPONDATE', 'COUPONPERCENT', 'COUPONVALUE', 'OFFERDATE', 'INN', 'PRICE', 'PRICE_RUB']]"
   ]
  },
  {
   "cell_type": "code",
   "execution_count": 88,
   "metadata": {},
   "outputs": [],
   "source": [
    "df_rub = df_sliced[df_sliced['FACEUNIT']=='RUB']"
   ]
  },
  {
   "cell_type": "code",
   "execution_count": 98,
   "metadata": {},
   "outputs": [
    {
     "data": {
      "text/html": [
       "<div>\n",
       "<style scoped>\n",
       "    .dataframe tbody tr th:only-of-type {\n",
       "        vertical-align: middle;\n",
       "    }\n",
       "\n",
       "    .dataframe tbody tr th {\n",
       "        vertical-align: top;\n",
       "    }\n",
       "\n",
       "    .dataframe thead th {\n",
       "        text-align: right;\n",
       "    }\n",
       "</style>\n",
       "<table border=\"1\" class=\"dataframe\">\n",
       "  <thead>\n",
       "    <tr style=\"text-align: right;\">\n",
       "      <th></th>\n",
       "      <th>SECID</th>\n",
       "      <th>SHORTNAME</th>\n",
       "      <th>NAME</th>\n",
       "      <th>FACEVALUE</th>\n",
       "      <th>FACEUNIT</th>\n",
       "      <th>DURATION</th>\n",
       "      <th>IS_QUALIFIED_INVESTORS</th>\n",
       "      <th>HIGH_RISK</th>\n",
       "      <th>COUPONFREQUENCY</th>\n",
       "      <th>COUPONDATE</th>\n",
       "      <th>COUPONPERCENT</th>\n",
       "      <th>COUPONVALUE</th>\n",
       "      <th>OFFERDATE</th>\n",
       "      <th>INN</th>\n",
       "      <th>PRICE</th>\n",
       "      <th>PRICE_RUB</th>\n",
       "    </tr>\n",
       "  </thead>\n",
       "  <tbody>\n",
       "    <tr>\n",
       "      <th>9</th>\n",
       "      <td>RU000A0JNYN1</td>\n",
       "      <td>МГор48-об</td>\n",
       "      <td>Гор.Обл.Займ Москвы 48 в.</td>\n",
       "      <td>1000,0</td>\n",
       "      <td>RUB</td>\n",
       "      <td>379.0</td>\n",
       "      <td>0</td>\n",
       "      <td>0</td>\n",
       "      <td>2.0</td>\n",
       "      <td>11.06.2021</td>\n",
       "      <td>6.00</td>\n",
       "      <td>29,92</td>\n",
       "      <td>NaN</td>\n",
       "      <td>7710152113</td>\n",
       "      <td>100,118</td>\n",
       "      <td>1026,17</td>\n",
       "    </tr>\n",
       "    <tr>\n",
       "      <th>10</th>\n",
       "      <td>RU000A0JQ5C5</td>\n",
       "      <td>НПФ 01</td>\n",
       "      <td>\"НПФ\" ООО об.сер. 01</td>\n",
       "      <td>1000,0</td>\n",
       "      <td>RUB</td>\n",
       "      <td>NaN</td>\n",
       "      <td>0</td>\n",
       "      <td>1</td>\n",
       "      <td>NaN</td>\n",
       "      <td>06.05.2029</td>\n",
       "      <td>5.00</td>\n",
       "      <td>1000,55</td>\n",
       "      <td>NaN</td>\n",
       "      <td>6658196868</td>\n",
       "      <td>100,0</td>\n",
       "      <td>1601,1</td>\n",
       "    </tr>\n",
       "    <tr>\n",
       "      <th>11</th>\n",
       "      <td>RU000A0JQ7Z2</td>\n",
       "      <td>РЖД-19 обл</td>\n",
       "      <td>\"Российские ЖД\" ОАО 19 обл.</td>\n",
       "      <td>1000,0</td>\n",
       "      <td>RUB</td>\n",
       "      <td>1020.0</td>\n",
       "      <td>0</td>\n",
       "      <td>0</td>\n",
       "      <td>2.0</td>\n",
       "      <td>12.07.2021</td>\n",
       "      <td>7.85</td>\n",
       "      <td>39,14</td>\n",
       "      <td>NaN</td>\n",
       "      <td>7708503727</td>\n",
       "      <td>103,195</td>\n",
       "      <td>1057,97</td>\n",
       "    </tr>\n",
       "    <tr>\n",
       "      <th>12</th>\n",
       "      <td>RU000A0JQ8V9</td>\n",
       "      <td>Мечел  4об</td>\n",
       "      <td>Мечел ПАО 04 обл.</td>\n",
       "      <td>50,0</td>\n",
       "      <td>RUB</td>\n",
       "      <td>64.0</td>\n",
       "      <td>0</td>\n",
       "      <td>0</td>\n",
       "      <td>4.0</td>\n",
       "      <td>15.07.2021</td>\n",
       "      <td>8.00</td>\n",
       "      <td>1,0</td>\n",
       "      <td>NaN</td>\n",
       "      <td>7703370008</td>\n",
       "      <td>253,9698</td>\n",
       "      <td>127,2849</td>\n",
       "    </tr>\n",
       "    <tr>\n",
       "      <th>13</th>\n",
       "      <td>RU000A0JQAL8</td>\n",
       "      <td>ДОМ.РФ14об</td>\n",
       "      <td>ДОМ.РФ (АО) обл. сер. А14</td>\n",
       "      <td>1000,0</td>\n",
       "      <td>RUB</td>\n",
       "      <td>677.0</td>\n",
       "      <td>0</td>\n",
       "      <td>0</td>\n",
       "      <td>2.0</td>\n",
       "      <td>15.05.2021</td>\n",
       "      <td>6.75</td>\n",
       "      <td>33,47</td>\n",
       "      <td>NaN</td>\n",
       "      <td>7729355614</td>\n",
       "      <td>105,437</td>\n",
       "      <td>1087,29</td>\n",
       "    </tr>\n",
       "  </tbody>\n",
       "</table>\n",
       "</div>"
      ],
      "text/plain": [
       "           SECID   SHORTNAME                         NAME FACEVALUE FACEUNIT  \\\n",
       "9   RU000A0JNYN1   МГор48-об    Гор.Обл.Займ Москвы 48 в.    1000,0      RUB   \n",
       "10  RU000A0JQ5C5      НПФ 01         \"НПФ\" ООО об.сер. 01    1000,0      RUB   \n",
       "11  RU000A0JQ7Z2  РЖД-19 обл  \"Российские ЖД\" ОАО 19 обл.    1000,0      RUB   \n",
       "12  RU000A0JQ8V9  Мечел  4об            Мечел ПАО 04 обл.      50,0      RUB   \n",
       "13  RU000A0JQAL8  ДОМ.РФ14об    ДОМ.РФ (АО) обл. сер. А14    1000,0      RUB   \n",
       "\n",
       "    DURATION  IS_QUALIFIED_INVESTORS  HIGH_RISK  COUPONFREQUENCY  COUPONDATE  \\\n",
       "9      379.0                       0          0              2.0  11.06.2021   \n",
       "10       NaN                       0          1              NaN  06.05.2029   \n",
       "11    1020.0                       0          0              2.0  12.07.2021   \n",
       "12      64.0                       0          0              4.0  15.07.2021   \n",
       "13     677.0                       0          0              2.0  15.05.2021   \n",
       "\n",
       "    COUPONPERCENT COUPONVALUE OFFERDATE         INN     PRICE PRICE_RUB  \n",
       "9            6.00       29,92       NaN  7710152113   100,118   1026,17  \n",
       "10           5.00     1000,55       NaN  6658196868     100,0    1601,1  \n",
       "11           7.85       39,14       NaN  7708503727   103,195   1057,97  \n",
       "12           8.00         1,0       NaN  7703370008  253,9698  127,2849  \n",
       "13           6.75       33,47       NaN  7729355614   105,437   1087,29  "
      ]
     },
     "execution_count": 98,
     "metadata": {},
     "output_type": "execute_result"
    }
   ],
   "source": [
    "df_rub.head(5)"
   ]
  },
  {
   "cell_type": "code",
   "execution_count": 90,
   "metadata": {},
   "outputs": [
    {
     "name": "stdout",
     "output_type": "stream",
     "text": [
      "<class 'pandas.core.frame.DataFrame'>\n",
      "Int64Index: 2222 entries, 9 to 2553\n",
      "Data columns (total 16 columns):\n",
      " #   Column                  Non-Null Count  Dtype  \n",
      "---  ------                  --------------  -----  \n",
      " 0   SECID                   2222 non-null   object \n",
      " 1   SHORTNAME               2222 non-null   object \n",
      " 2   NAME                    2222 non-null   object \n",
      " 3   FACEVALUE               2222 non-null   object \n",
      " 4   FACEUNIT                2222 non-null   object \n",
      " 5   DURATION                1555 non-null   float64\n",
      " 6   IS_QUALIFIED_INVESTORS  2222 non-null   int64  \n",
      " 7   HIGH_RISK               2222 non-null   int64  \n",
      " 8   COUPONFREQUENCY         1894 non-null   float64\n",
      " 9   COUPONDATE              2217 non-null   object \n",
      " 10  COUPONPERCENT           2171 non-null   object \n",
      " 11  COUPONVALUE             2171 non-null   object \n",
      " 12  OFFERDATE               531 non-null    object \n",
      " 13  INN                     2092 non-null   float64\n",
      " 14  PRICE                   2076 non-null   object \n",
      " 15  PRICE_RUB               2076 non-null   object \n",
      "dtypes: float64(3), int64(2), object(11)\n",
      "memory usage: 295.1+ KB\n"
     ]
    }
   ],
   "source": [
    "df_rub.info()"
   ]
  },
  {
   "cell_type": "code",
   "execution_count": 91,
   "metadata": {},
   "outputs": [
    {
     "name": "stderr",
     "output_type": "stream",
     "text": [
      "<ipython-input-91-dc46c670ccc7>:1: SettingWithCopyWarning: \n",
      "A value is trying to be set on a copy of a slice from a DataFrame.\n",
      "Try using .loc[row_indexer,col_indexer] = value instead\n",
      "\n",
      "See the caveats in the documentation: https://pandas.pydata.org/pandas-docs/stable/user_guide/indexing.html#returning-a-view-versus-a-copy\n",
      "  df_rub['INN'] = df_rub['INN'].fillna(0).astype(np.int64)\n"
     ]
    }
   ],
   "source": [
    "df_rub['INN'] = df_rub['INN'].fillna(0).astype(np.int64)"
   ]
  },
  {
   "cell_type": "code",
   "execution_count": 92,
   "metadata": {},
   "outputs": [
    {
     "data": {
      "text/plain": [
       "9       7710152113\n",
       "10      6658196868\n",
       "11      7708503727\n",
       "12      7703370008\n",
       "13      7729355614\n",
       "           ...    \n",
       "2521      10035220\n",
       "2525      10035220\n",
       "2533      10035220\n",
       "2545      10035220\n",
       "2553      10035220\n",
       "Name: INN, Length: 2222, dtype: int64"
      ]
     },
     "execution_count": 92,
     "metadata": {},
     "output_type": "execute_result"
    }
   ],
   "source": [
    "df_rub['INN']"
   ]
  },
  {
   "cell_type": "code",
   "execution_count": 93,
   "metadata": {},
   "outputs": [
    {
     "name": "stderr",
     "output_type": "stream",
     "text": [
      "<ipython-input-93-ce40e4d0a112>:1: SettingWithCopyWarning: \n",
      "A value is trying to be set on a copy of a slice from a DataFrame\n",
      "\n",
      "See the caveats in the documentation: https://pandas.pydata.org/pandas-docs/stable/user_guide/indexing.html#returning-a-view-versus-a-copy\n",
      "  df_rub.dropna(subset=['COUPONPERCENT'], inplace=True)\n"
     ]
    }
   ],
   "source": [
    "df_rub.dropna(subset=['COUPONPERCENT'], inplace=True)"
   ]
  },
  {
   "cell_type": "code",
   "execution_count": 94,
   "metadata": {},
   "outputs": [],
   "source": [
    "def convert_currency(val):\n",
    "    \"\"\"\n",
    "    Convert the string number value to a float\n",
    "     - Remove commas\n",
    "     - Convert to float type\n",
    "    \"\"\"\n",
    "    new_val = val.replace(',','.')\n",
    "    return float(new_val)"
   ]
  },
  {
   "cell_type": "code",
   "execution_count": 110,
   "metadata": {},
   "outputs": [
    {
     "name": "stderr",
     "output_type": "stream",
     "text": [
      "<ipython-input-110-ff51cd6fe905>:3: SettingWithCopyWarning: \n",
      "A value is trying to be set on a copy of a slice from a DataFrame.\n",
      "Try using .loc[row_indexer,col_indexer] = value instead\n",
      "\n",
      "See the caveats in the documentation: https://pandas.pydata.org/pandas-docs/stable/user_guide/indexing.html#returning-a-view-versus-a-copy\n",
      "  df_rub['FACEVALUE'] = df_rub['FACEVALUE'].apply(convert_currency)\n"
     ]
    }
   ],
   "source": [
    "#df_rub['COUPONPERCENT'] = df_rub['COUPONPERCENT'].astype(np.float64)\n",
    "df_rub['COUPONPERCENT'] = df_rub['COUPONPERCENT'].apply(convert_currency)\n",
    "df_rub['FACEVALUE'] = df_rub['FACEVALUE'].apply(convert_currency)\n",
    "#df_rub['COUPONPERCENT'] = pd.to_numeric(df_rub['COUPONPERCENT'], errors='coerce')"
   ]
  },
  {
   "cell_type": "code",
   "execution_count": 111,
   "metadata": {},
   "outputs": [
    {
     "data": {
      "text/html": [
       "<div>\n",
       "<style scoped>\n",
       "    .dataframe tbody tr th:only-of-type {\n",
       "        vertical-align: middle;\n",
       "    }\n",
       "\n",
       "    .dataframe tbody tr th {\n",
       "        vertical-align: top;\n",
       "    }\n",
       "\n",
       "    .dataframe thead th {\n",
       "        text-align: right;\n",
       "    }\n",
       "</style>\n",
       "<table border=\"1\" class=\"dataframe\">\n",
       "  <thead>\n",
       "    <tr style=\"text-align: right;\">\n",
       "      <th></th>\n",
       "      <th>SECID</th>\n",
       "      <th>SHORTNAME</th>\n",
       "      <th>NAME</th>\n",
       "      <th>FACEVALUE</th>\n",
       "      <th>FACEUNIT</th>\n",
       "      <th>DURATION</th>\n",
       "      <th>IS_QUALIFIED_INVESTORS</th>\n",
       "      <th>HIGH_RISK</th>\n",
       "      <th>COUPONFREQUENCY</th>\n",
       "      <th>COUPONDATE</th>\n",
       "      <th>COUPONPERCENT</th>\n",
       "      <th>COUPONVALUE</th>\n",
       "      <th>OFFERDATE</th>\n",
       "      <th>INN</th>\n",
       "      <th>PRICE</th>\n",
       "      <th>PRICE_RUB</th>\n",
       "    </tr>\n",
       "  </thead>\n",
       "  <tbody>\n",
       "    <tr>\n",
       "      <th>9</th>\n",
       "      <td>RU000A0JNYN1</td>\n",
       "      <td>МГор48-об</td>\n",
       "      <td>Гор.Обл.Займ Москвы 48 в.</td>\n",
       "      <td>1000.0</td>\n",
       "      <td>RUB</td>\n",
       "      <td>379.0</td>\n",
       "      <td>0</td>\n",
       "      <td>0</td>\n",
       "      <td>2.0</td>\n",
       "      <td>11.06.2021</td>\n",
       "      <td>6.00</td>\n",
       "      <td>29,92</td>\n",
       "      <td>NaN</td>\n",
       "      <td>7710152113</td>\n",
       "      <td>100,118</td>\n",
       "      <td>1026,17</td>\n",
       "    </tr>\n",
       "    <tr>\n",
       "      <th>10</th>\n",
       "      <td>RU000A0JQ5C5</td>\n",
       "      <td>НПФ 01</td>\n",
       "      <td>\"НПФ\" ООО об.сер. 01</td>\n",
       "      <td>1000.0</td>\n",
       "      <td>RUB</td>\n",
       "      <td>NaN</td>\n",
       "      <td>0</td>\n",
       "      <td>1</td>\n",
       "      <td>NaN</td>\n",
       "      <td>06.05.2029</td>\n",
       "      <td>5.00</td>\n",
       "      <td>1000,55</td>\n",
       "      <td>NaN</td>\n",
       "      <td>6658196868</td>\n",
       "      <td>100,0</td>\n",
       "      <td>1601,1</td>\n",
       "    </tr>\n",
       "    <tr>\n",
       "      <th>11</th>\n",
       "      <td>RU000A0JQ7Z2</td>\n",
       "      <td>РЖД-19 обл</td>\n",
       "      <td>\"Российские ЖД\" ОАО 19 обл.</td>\n",
       "      <td>1000.0</td>\n",
       "      <td>RUB</td>\n",
       "      <td>1020.0</td>\n",
       "      <td>0</td>\n",
       "      <td>0</td>\n",
       "      <td>2.0</td>\n",
       "      <td>12.07.2021</td>\n",
       "      <td>7.85</td>\n",
       "      <td>39,14</td>\n",
       "      <td>NaN</td>\n",
       "      <td>7708503727</td>\n",
       "      <td>103,195</td>\n",
       "      <td>1057,97</td>\n",
       "    </tr>\n",
       "    <tr>\n",
       "      <th>12</th>\n",
       "      <td>RU000A0JQ8V9</td>\n",
       "      <td>Мечел  4об</td>\n",
       "      <td>Мечел ПАО 04 обл.</td>\n",
       "      <td>50.0</td>\n",
       "      <td>RUB</td>\n",
       "      <td>64.0</td>\n",
       "      <td>0</td>\n",
       "      <td>0</td>\n",
       "      <td>4.0</td>\n",
       "      <td>15.07.2021</td>\n",
       "      <td>8.00</td>\n",
       "      <td>1,0</td>\n",
       "      <td>NaN</td>\n",
       "      <td>7703370008</td>\n",
       "      <td>253,9698</td>\n",
       "      <td>127,2849</td>\n",
       "    </tr>\n",
       "    <tr>\n",
       "      <th>13</th>\n",
       "      <td>RU000A0JQAL8</td>\n",
       "      <td>ДОМ.РФ14об</td>\n",
       "      <td>ДОМ.РФ (АО) обл. сер. А14</td>\n",
       "      <td>1000.0</td>\n",
       "      <td>RUB</td>\n",
       "      <td>677.0</td>\n",
       "      <td>0</td>\n",
       "      <td>0</td>\n",
       "      <td>2.0</td>\n",
       "      <td>15.05.2021</td>\n",
       "      <td>6.75</td>\n",
       "      <td>33,47</td>\n",
       "      <td>NaN</td>\n",
       "      <td>7729355614</td>\n",
       "      <td>105,437</td>\n",
       "      <td>1087,29</td>\n",
       "    </tr>\n",
       "    <tr>\n",
       "      <th>14</th>\n",
       "      <td>RU000A0JQAM6</td>\n",
       "      <td>ДОМ.РФ15об</td>\n",
       "      <td>ДОМ.РФ (АО) обл. сер. А15</td>\n",
       "      <td>1000.0</td>\n",
       "      <td>RUB</td>\n",
       "      <td>2172.0</td>\n",
       "      <td>0</td>\n",
       "      <td>0</td>\n",
       "      <td>2.0</td>\n",
       "      <td>15.09.2021</td>\n",
       "      <td>6.75</td>\n",
       "      <td>34,03</td>\n",
       "      <td>NaN</td>\n",
       "      <td>7729355614</td>\n",
       "      <td>113,387</td>\n",
       "      <td>1144,6</td>\n",
       "    </tr>\n",
       "    <tr>\n",
       "      <th>15</th>\n",
       "      <td>RU000A0JQRD9</td>\n",
       "      <td>РЖД-23 обл</td>\n",
       "      <td>\"Российские ЖД\" ОАО 23 обл.</td>\n",
       "      <td>1000.0</td>\n",
       "      <td>RUB</td>\n",
       "      <td>1171.0</td>\n",
       "      <td>0</td>\n",
       "      <td>0</td>\n",
       "      <td>2.0</td>\n",
       "      <td>22.07.2021</td>\n",
       "      <td>7.85</td>\n",
       "      <td>39,14</td>\n",
       "      <td>NaN</td>\n",
       "      <td>7708503727</td>\n",
       "      <td>103,787</td>\n",
       "      <td>1061,74</td>\n",
       "    </tr>\n",
       "    <tr>\n",
       "      <th>16</th>\n",
       "      <td>RU000A0JQXG0</td>\n",
       "      <td>ДОМ.РФ16об</td>\n",
       "      <td>ДОМ.РФ (АО) обл. сер. А16</td>\n",
       "      <td>100.0</td>\n",
       "      <td>RUB</td>\n",
       "      <td>124.0</td>\n",
       "      <td>0</td>\n",
       "      <td>0</td>\n",
       "      <td>4.0</td>\n",
       "      <td>15.06.2021</td>\n",
       "      <td>8.25</td>\n",
       "      <td>2,08</td>\n",
       "      <td>NaN</td>\n",
       "      <td>7729355614</td>\n",
       "      <td>101,0875</td>\n",
       "      <td>102,3975</td>\n",
       "    </tr>\n",
       "    <tr>\n",
       "      <th>17</th>\n",
       "      <td>RU000A0JR4U9</td>\n",
       "      <td>ГлДорога 3</td>\n",
       "      <td>Главная дорога АО об.сер. 03</td>\n",
       "      <td>1000.0</td>\n",
       "      <td>RUB</td>\n",
       "      <td>1315.0</td>\n",
       "      <td>0</td>\n",
       "      <td>0</td>\n",
       "      <td>1.0</td>\n",
       "      <td>08.11.2021</td>\n",
       "      <td>4.00</td>\n",
       "      <td>39,89</td>\n",
       "      <td>NaN</td>\n",
       "      <td>7726581132</td>\n",
       "      <td>97,888</td>\n",
       "      <td>999,04</td>\n",
       "    </tr>\n",
       "    <tr>\n",
       "      <th>18</th>\n",
       "      <td>RU000A0JR5F7</td>\n",
       "      <td>ДОМ.РФ17об</td>\n",
       "      <td>ДОМ.РФ (АО) обл. сер.А17</td>\n",
       "      <td>150.0</td>\n",
       "      <td>RUB</td>\n",
       "      <td>326.0</td>\n",
       "      <td>0</td>\n",
       "      <td>0</td>\n",
       "      <td>4.0</td>\n",
       "      <td>15.07.2021</td>\n",
       "      <td>9.05</td>\n",
       "      <td>3,38</td>\n",
       "      <td>NaN</td>\n",
       "      <td>7729355614</td>\n",
       "      <td>102,652</td>\n",
       "      <td>154,978</td>\n",
       "    </tr>\n",
       "  </tbody>\n",
       "</table>\n",
       "</div>"
      ],
      "text/plain": [
       "           SECID   SHORTNAME                          NAME  FACEVALUE  \\\n",
       "9   RU000A0JNYN1   МГор48-об     Гор.Обл.Займ Москвы 48 в.     1000.0   \n",
       "10  RU000A0JQ5C5      НПФ 01          \"НПФ\" ООО об.сер. 01     1000.0   \n",
       "11  RU000A0JQ7Z2  РЖД-19 обл   \"Российские ЖД\" ОАО 19 обл.     1000.0   \n",
       "12  RU000A0JQ8V9  Мечел  4об             Мечел ПАО 04 обл.       50.0   \n",
       "13  RU000A0JQAL8  ДОМ.РФ14об     ДОМ.РФ (АО) обл. сер. А14     1000.0   \n",
       "14  RU000A0JQAM6  ДОМ.РФ15об     ДОМ.РФ (АО) обл. сер. А15     1000.0   \n",
       "15  RU000A0JQRD9  РЖД-23 обл   \"Российские ЖД\" ОАО 23 обл.     1000.0   \n",
       "16  RU000A0JQXG0  ДОМ.РФ16об     ДОМ.РФ (АО) обл. сер. А16      100.0   \n",
       "17  RU000A0JR4U9  ГлДорога 3  Главная дорога АО об.сер. 03     1000.0   \n",
       "18  RU000A0JR5F7  ДОМ.РФ17об      ДОМ.РФ (АО) обл. сер.А17      150.0   \n",
       "\n",
       "   FACEUNIT  DURATION  IS_QUALIFIED_INVESTORS  HIGH_RISK  COUPONFREQUENCY  \\\n",
       "9       RUB     379.0                       0          0              2.0   \n",
       "10      RUB       NaN                       0          1              NaN   \n",
       "11      RUB    1020.0                       0          0              2.0   \n",
       "12      RUB      64.0                       0          0              4.0   \n",
       "13      RUB     677.0                       0          0              2.0   \n",
       "14      RUB    2172.0                       0          0              2.0   \n",
       "15      RUB    1171.0                       0          0              2.0   \n",
       "16      RUB     124.0                       0          0              4.0   \n",
       "17      RUB    1315.0                       0          0              1.0   \n",
       "18      RUB     326.0                       0          0              4.0   \n",
       "\n",
       "    COUPONDATE  COUPONPERCENT COUPONVALUE OFFERDATE         INN     PRICE  \\\n",
       "9   11.06.2021           6.00       29,92       NaN  7710152113   100,118   \n",
       "10  06.05.2029           5.00     1000,55       NaN  6658196868     100,0   \n",
       "11  12.07.2021           7.85       39,14       NaN  7708503727   103,195   \n",
       "12  15.07.2021           8.00         1,0       NaN  7703370008  253,9698   \n",
       "13  15.05.2021           6.75       33,47       NaN  7729355614   105,437   \n",
       "14  15.09.2021           6.75       34,03       NaN  7729355614   113,387   \n",
       "15  22.07.2021           7.85       39,14       NaN  7708503727   103,787   \n",
       "16  15.06.2021           8.25        2,08       NaN  7729355614  101,0875   \n",
       "17  08.11.2021           4.00       39,89       NaN  7726581132    97,888   \n",
       "18  15.07.2021           9.05        3,38       NaN  7729355614   102,652   \n",
       "\n",
       "   PRICE_RUB  \n",
       "9    1026,17  \n",
       "10    1601,1  \n",
       "11   1057,97  \n",
       "12  127,2849  \n",
       "13   1087,29  \n",
       "14    1144,6  \n",
       "15   1061,74  \n",
       "16  102,3975  \n",
       "17    999,04  \n",
       "18   154,978  "
      ]
     },
     "execution_count": 111,
     "metadata": {},
     "output_type": "execute_result"
    }
   ],
   "source": [
    "df_rub.head(10)"
   ]
  },
  {
   "cell_type": "code",
   "execution_count": 112,
   "metadata": {},
   "outputs": [],
   "source": [
    "X = df_rub.iloc[:, [10]].values"
   ]
  },
  {
   "cell_type": "code",
   "execution_count": 113,
   "metadata": {},
   "outputs": [
    {
     "data": {
      "image/png": "[encoded data removed]",
      "text/plain": [
       "<Figure size 432x288 with 1 Axes>"
      ]
     },
     "metadata": {
      "needs_background": "light"
     },
     "output_type": "display_data"
    }
   ],
   "source": [
    "distortion = []\n",
    "K = range(1, 10)\n",
    "for k in K:\n",
    "    model = KMeans(n_clusters=k, random_state=12345)\n",
    "    model.fit(X)\n",
    "    distortion.append(model.inertia_) \n",
    "plt.plot(K, distortion)\n",
    "plt.title('The Elbow Method')\n",
    "plt.xlabel('Number of Clusters')\n",
    "plt.ylabel('Distortion');"
   ]
  },
  {
   "cell_type": "code",
   "execution_count": 118,
   "metadata": {},
   "outputs": [],
   "source": [
    "model = KMeans(n_clusters=2, random_state=12345)\n",
    "y_means = model.fit_predict(X)"
   ]
  },
  {
   "cell_type": "code",
   "execution_count": 119,
   "metadata": {},
   "outputs": [
    {
     "data": {
      "image/png": "[encoded data removed]",
      "text/plain": [
       "<Figure size 432x288 with 1 Axes>"
      ]
     },
     "metadata": {
      "needs_background": "light"
     },
     "output_type": "display_data"
    }
   ],
   "source": [
    "plt.scatter(X[y_means == 0, 0], X[y_means == 0, 1], s=100, c='red', label='Cluster 1')\n",
    "plt.scatter(X[y_means == 1, 0], X[y_means == 1, 1], s=100, c='blue', label='Cluster 2')\n",
    "plt.scatter(model.cluster_centers_[:, 0], model.cluster_centers_[:, 1], s=300, c='yellow', label='Centroids')\n",
    "plt.title('Кластеры доходности облигаций')\n",
    "plt.xlabel('Первоначальная стоимость')\n",
    "plt.ylabel('Заявленная ставка доходности')\n",
    "plt.legend();"
   ]
  },
  {
   "cell_type": "code",
   "execution_count": null,
   "metadata": {},
   "outputs": [],
   "source": []
  }
 ],
 "metadata": {
  "kernelspec": {
   "display_name": "Python 3",
   "language": "python",
   "name": "python3"
  },
  "language_info": {
   "codemirror_mode": {
    "name": "ipython",
    "version": 3
   },
   "file_extension": ".py",
   "mimetype": "text/x-python",
   "name": "python",
   "nbconvert_exporter": "python",
   "pygments_lexer": "ipython3",
   "version": "3.8.3"
  }
 },
 "nbformat": 4,
 "nbformat_minor": 4
}
