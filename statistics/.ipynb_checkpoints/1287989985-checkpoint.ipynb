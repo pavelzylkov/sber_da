{
 "cells": [
  {
   "cell_type": "markdown",
   "metadata": {
    "id": "pLTUNG4IDm2R"
   },
   "source": [
    "# Занятие 12"
   ]
  },
  {
   "cell_type": "code",
   "execution_count": 2,
   "metadata": {
    "id": "-bcV0a2zDLtb"
   },
   "outputs": [],
   "source": [
    "import pandas as pd\n",
    "import numpy as np\n",
    "import matplotlib.pyplot as plt\n",
    "import scipy.stats as sts\n",
    "%matplotlib inline"
   ]
  },
  {
   "cell_type": "markdown",
   "metadata": {
    "id": "m6IF_67zDqCi"
   },
   "source": [
    "## Оценка распределений"
   ]
  },
  {
   "cell_type": "markdown",
   "metadata": {
    "id": "axbYHglJDtqG"
   },
   "source": [
    "### Дискретное"
   ]
  },
  {
   "cell_type": "code",
   "execution_count": 3,
   "metadata": {
    "colab": {
     "base_uri": "https://localhost:8080/"
    },
    "id": "-2fAgE4xDL7Z",
    "outputId": "45ee12ca-734c-41fa-9c79-f9f2ea38adb3"
   },
   "outputs": [
    {
     "data": {
      "text/plain": [
       "array([3, 6, 4, 2, 2, 5, 3, 5, 4, 1, 5, 5, 3, 4, 2, 3, 4, 5, 2, 4, 6, 5,\n",
       "       5, 2, 6, 3, 1, 3, 5, 1, 6, 4, 2, 6, 4, 3, 2, 6, 1, 6, 2, 5, 4, 4,\n",
       "       6, 6, 6, 4, 6, 1, 1, 1, 5, 5, 2, 5, 6, 6, 6, 5, 1, 5, 2, 4, 2, 5,\n",
       "       1, 6, 6, 5, 5, 3, 6, 3, 3, 5, 4, 1, 2, 2, 4, 1, 5, 6, 6, 5, 1, 2,\n",
       "       4, 5, 3, 6, 1, 1, 1, 2, 5, 4, 4, 6, 3, 2, 4, 3, 3, 3, 1, 1, 4, 5,\n",
       "       6, 6, 5, 5, 4, 3, 3, 1, 2, 3, 4, 6, 1, 3, 2, 2, 1, 6, 3, 4, 2, 6,\n",
       "       2, 1, 2, 3, 6, 4, 1, 3, 3, 4, 4, 4, 4, 6, 2, 2, 1, 6, 1, 5, 3, 1,\n",
       "       5, 2, 3, 4, 4, 4, 6, 5, 4, 6, 6, 3, 6, 6, 3, 2, 1, 2, 2, 2, 4, 4,\n",
       "       6, 4, 2, 3, 3, 4, 6, 1, 5, 4, 4, 4, 2, 3, 5, 4, 1, 4, 3, 5, 4, 4,\n",
       "       6, 3, 4, 4, 2, 6, 3, 1, 5, 3, 4, 5, 6, 4, 1, 1, 4, 5, 4, 1, 2, 5,\n",
       "       6, 5, 3, 3, 4, 6, 2, 3, 1, 5, 5, 2, 3, 3, 1, 1, 6, 5, 6, 5, 4, 6,\n",
       "       3, 4, 3, 2, 3, 4, 2, 6, 1, 3, 5, 3, 4, 6, 6, 2, 2, 2, 6, 3, 4, 2,\n",
       "       6, 5, 6, 4, 5, 3, 3, 2, 1, 3, 1, 5, 4, 6, 1, 4, 6, 5, 2, 6, 4, 2,\n",
       "       4, 1, 3, 2, 4, 3, 6, 1, 3, 4, 3, 6, 2, 2, 5, 4, 3, 2, 3, 3, 6, 3,\n",
       "       2, 1, 6, 6, 1, 3, 2, 2, 5, 5, 4, 5, 1, 6, 4, 2, 4, 2, 3, 3, 2, 5,\n",
       "       2, 6, 2, 4, 1, 5, 3, 4, 1, 1, 6, 2, 6, 2, 6, 2, 2, 6, 3, 3, 2, 2,\n",
       "       6, 1, 6, 4, 5, 3, 5, 3, 3, 4, 4, 1, 5, 2, 6, 2, 3, 6, 5, 1, 2, 4,\n",
       "       5, 2, 5, 5, 5, 4, 5, 3, 2, 2, 4, 2, 5, 4, 3, 6, 6, 5, 3, 1, 6, 4,\n",
       "       4, 6, 4, 1, 3, 6, 2, 3, 2, 3, 4, 5, 6, 1, 6, 2, 2, 2, 5, 2, 6, 1,\n",
       "       2, 1, 5, 3, 1, 4, 2, 2, 4, 5, 6, 4, 5, 5, 2, 5, 1, 3, 3, 5, 1, 6,\n",
       "       5, 2, 4, 2, 4, 5, 3, 2, 3, 3, 4, 2, 4, 4, 1, 1, 4, 6, 3, 5, 3, 1,\n",
       "       5, 5, 1, 4, 4, 5, 5, 4, 4, 5, 1, 5, 2, 2, 5, 4, 2, 3, 3, 3, 6, 5,\n",
       "       1, 6, 6, 4, 6, 5, 2, 6, 6, 4, 5, 2, 3, 3, 3, 1, 1, 6, 6, 3, 4, 2,\n",
       "       1, 4, 4, 5, 6, 5, 1, 5, 5, 5, 6, 5, 2, 5, 1, 2, 6, 2, 3, 4, 1, 2,\n",
       "       6, 1, 1, 3, 5, 2, 5, 1, 5, 2, 1, 6, 4, 4, 6, 3, 4, 3, 5, 5, 3, 1,\n",
       "       1, 4, 5, 2, 3, 3, 5, 4, 6, 3, 3, 6, 3, 6, 5, 2, 5, 6, 3, 1, 1, 5,\n",
       "       1, 6, 1, 6, 4, 1, 6, 4, 3, 6, 3, 1, 3, 2, 5, 1, 2, 1, 3, 6, 2, 4,\n",
       "       1, 3, 3, 4, 6, 1, 2, 1, 4, 2, 2, 3, 6, 1, 1, 5, 5, 6, 2, 2, 2, 3,\n",
       "       3, 2, 5, 4, 1, 6, 3, 2, 2, 3, 2, 6, 1, 6, 5, 5, 1, 4, 6, 6, 6, 3,\n",
       "       2, 3, 6, 5, 1, 4, 2, 1, 5, 1, 4, 6, 3, 1, 3, 2, 3, 4, 2, 3, 3, 3,\n",
       "       6, 3, 2, 6, 5, 3, 4, 4, 2, 2, 3, 4, 4, 1, 1, 2, 6, 4, 4, 4, 6, 3,\n",
       "       5, 1, 2, 1, 2, 5, 1, 5, 2, 3, 1, 2, 1, 3, 6, 3, 4, 6, 4, 4, 1, 5,\n",
       "       5, 3, 6, 6, 4, 4, 4, 2, 6, 4, 1, 5, 2, 3, 5, 6, 1, 5, 4, 4, 3, 4,\n",
       "       4, 2, 4, 2, 3, 5, 6, 5, 5, 1, 2, 1, 4, 1, 5, 5, 4, 3, 6, 3, 6, 1,\n",
       "       5, 3, 4, 2, 1, 3, 3, 4, 6, 6, 6, 1, 4, 1, 2, 5, 6, 3, 5, 1, 1, 6,\n",
       "       4, 3, 3, 2, 4, 6, 3, 6, 4, 6, 1, 4, 4, 2, 1, 1, 3, 5, 2, 5, 3, 6,\n",
       "       3, 5, 4, 6, 3, 4, 3, 1, 6, 1, 6, 4, 5, 3, 2, 5, 6, 1, 1, 4, 4, 4,\n",
       "       5, 6, 1, 4, 6, 6, 6, 2, 3, 5, 3, 4, 2, 3, 3, 2, 4, 3, 6, 2, 4, 6,\n",
       "       1, 5, 6, 5, 4, 4, 1, 4, 5, 4, 6, 3, 1, 3, 4, 4, 3, 6, 2, 5, 5, 6,\n",
       "       1, 6, 4, 2, 2, 6, 2, 6, 3, 1, 1, 1, 2, 3, 5, 6, 1, 6, 6, 3, 4, 3,\n",
       "       4, 6, 1, 1, 3, 4, 2, 5, 2, 2, 1, 1, 2, 3, 2, 6, 5, 4, 4, 6, 4, 2,\n",
       "       6, 1, 3, 5, 1, 2, 1, 1, 2, 1, 1, 5, 4, 6, 6, 3, 2, 5, 3, 6, 4, 4,\n",
       "       4, 2, 5, 3, 2, 6, 5, 6, 4, 1, 4, 3, 3, 1, 1, 3, 6, 2, 3, 6, 1, 1,\n",
       "       5, 4, 2, 1, 6, 3, 6, 4, 3, 1, 4, 5, 6, 1, 2, 2, 6, 1, 5, 6, 2, 6,\n",
       "       6, 4, 3, 1, 4, 5, 2, 1, 1, 3, 5, 4, 2, 1, 4, 4, 3, 5, 6, 3, 5, 5,\n",
       "       4, 5, 1, 4, 4, 6, 4, 5, 6, 5])"
      ]
     },
     "execution_count": 3,
     "metadata": {
      "tags": []
     },
     "output_type": "execute_result"
    }
   ],
   "source": [
    "N = 1000\n",
    "sample = np.random.choice([1,2,3,4,5,6], N)\n",
    "sample"
   ]
  },
  {
   "cell_type": "code",
   "execution_count": 5,
   "metadata": {
    "colab": {
     "base_uri": "https://localhost:8080/"
    },
    "id": "WimoFRQKD1sB",
    "outputId": "c506e3ca-002e-4731-b776-4e1ccf172b76"
   },
   "outputs": [
    {
     "name": "stdout",
     "output_type": "stream",
     "text": [
      "[155 160 171 182 156 176]\n",
      "[0.155 0.16  0.171 0.182 0.156 0.176]\n",
      "[1 2 3 4 5 6]\n",
      "1.0\n"
     ]
    }
   ],
   "source": [
    "# оценим функцию вероятности частотами\n",
    "unique_value, counts = np.unique(sample, return_counts=True)\n",
    "\n",
    "print(counts)\n",
    "print(counts / N)\n",
    "print(unique_value)\n",
    "print (np.sum(counts / N))"
   ]
  },
  {
   "cell_type": "code",
   "execution_count": 6,
   "metadata": {
    "colab": {
     "base_uri": "https://localhost:8080/"
    },
    "id": "RLyrVaq8jsQ7",
    "outputId": "94b52b5a-a239-4b2c-8001-b9e4b940e6eb"
   },
   "outputs": [
    {
     "name": "stdout",
     "output_type": "stream",
     "text": [
      "[1 3 4 5 6]\n",
      "10: [0.3 0.2 0.1 0.2 0.2]\n",
      "[1 2 3 4 5 6]\n",
      "100: [0.13 0.22 0.16 0.19 0.17 0.13]\n",
      "[1 2 3 4 5 6]\n",
      "1000: [0.143 0.155 0.174 0.184 0.161 0.183]\n",
      "[1 2 3 4 5 6]\n",
      "10000: [0.165  0.1647 0.1672 0.1649 0.1702 0.168 ]\n",
      "[1 2 3 4 5 6]\n",
      "100000: [0.16825 0.16749 0.16399 0.1676  0.16668 0.16599]\n"
     ]
    }
   ],
   "source": [
    "for N in [10, 100, 1000, 10000, 100000]:\n",
    "  sample = np.random.choice([1,2,3,4,5,6], N)\n",
    "  unique_value, counts = np.unique(sample, return_counts=True)\n",
    "  print(unique_value)\n",
    "  print(\"{}: {}\".format(N, counts/N))"
   ]
  },
  {
   "cell_type": "code",
   "execution_count": 5,
   "metadata": {
    "colab": {
     "base_uri": "https://localhost:8080/"
    },
    "id": "IDRfewmokN09",
    "outputId": "a2d050cf-ece8-4a75-e2ef-4885ba19938f"
   },
   "outputs": [
    {
     "data": {
      "text/plain": [
       "0.16666666666666666"
      ]
     },
     "execution_count": 5,
     "metadata": {
      "tags": []
     },
     "output_type": "execute_result"
    }
   ],
   "source": [
    "1/6"
   ]
  },
  {
   "cell_type": "markdown",
   "metadata": {
    "id": "FTC7rHEYDvmz"
   },
   "source": [
    "### Непрерывное"
   ]
  },
  {
   "cell_type": "code",
   "execution_count": 7,
   "metadata": {
    "id": "k4pQRYwjDLnz"
   },
   "outputs": [],
   "source": [
    "# возьмём выборку из нормального распределения\n",
    "norm_rv = sts.norm(0, 1)\n",
    "sample = norm_rv.rvs(100)\n",
    "#sample"
   ]
  },
  {
   "cell_type": "code",
   "execution_count": 8,
   "metadata": {
    "colab": {
     "base_uri": "https://localhost:8080/",
     "height": 316
    },
    "id": "aF6nrO0lEbYB",
    "outputId": "bbc3d760-7b46-4074-ef0f-6ede2278a237"
   },
   "outputs": [
    {
     "name": "stderr",
     "output_type": "stream",
     "text": [
      "/usr/local/lib/python3.7/dist-packages/statsmodels/tools/_testing.py:19: FutureWarning: pandas.util.testing is deprecated. Use the functions in the public API at pandas.testing instead.\n",
      "  import pandas.util.testing as tm\n"
     ]
    },
    {
     "data": {
      "text/plain": [
       "[<matplotlib.lines.Line2D at 0x7fc5ecad4710>]"
      ]
     },
     "execution_count": 8,
     "metadata": {
      "tags": []
     },
     "output_type": "execute_result"
    },
    {
     "data": {
      "image/png": "[encoded data removed]",
      "text/plain": [
       "<Figure size 432x288 with 1 Axes>"
      ]
     },
     "metadata": {
      "needs_background": "light",
      "tags": []
     },
     "output_type": "display_data"
    }
   ],
   "source": [
    "x = np.linspace(-4,4,100)\n",
    "cdf = norm_rv.cdf(x)\n",
    "plt.plot(x, cdf, label='Теоретическая функция распределения')\n",
    "\n",
    "# Воспользуемся библиотекой для оценки (спасибо питон!)\n",
    "from statsmodels.distributions.empirical_distribution import ECDF\n",
    "ecdf = ECDF(sample)\n",
    "plt.step(ecdf.x, ecdf.y, label='Оценка функции распределения')\n"
   ]
  },
  {
   "cell_type": "code",
   "execution_count": 19,
   "metadata": {
    "colab": {
     "base_uri": "https://localhost:8080/",
     "height": 282
    },
    "id": "OdIcVbG_E_1k",
    "outputId": "3187a035-9b4a-4080-95c0-b49a7fb77548"
   },
   "outputs": [
    {
     "name": "stdout",
     "output_type": "stream",
     "text": [
      "[ 2.  3.  3. 11. 17. 16. 21. 11.  9.  7.]\n"
     ]
    },
    {
     "data": {
      "image/png": "[encoded data removed]",
      "text/plain": [
       "<Figure size 432x288 with 1 Axes>"
      ]
     },
     "metadata": {
      "needs_background": "light",
      "tags": []
     },
     "output_type": "display_data"
    }
   ],
   "source": [
    "# теперь посмотрим на функцию плотности\n",
    "b, n, _ = plt.hist(sample, )\n",
    "print(b)"
   ]
  },
  {
   "cell_type": "code",
   "execution_count": 21,
   "metadata": {
    "colab": {
     "base_uri": "https://localhost:8080/"
    },
    "id": "wlutQ9DTevwQ",
    "outputId": "9db02c3f-5b9f-4429-c408-a46491b2e6ad"
   },
   "outputs": [
    {
     "data": {
      "text/plain": [
       "11"
      ]
     },
     "execution_count": 21,
     "metadata": {
      "tags": []
     },
     "output_type": "execute_result"
    }
   ],
   "source": [
    "len(n)"
   ]
  },
  {
   "cell_type": "code",
   "execution_count": 11,
   "metadata": {
    "colab": {
     "base_uri": "https://localhost:8080/",
     "height": 282
    },
    "id": "DYFrqDsqFQrO",
    "outputId": "78b1f110-235c-4af9-806e-b2ddbeea3184"
   },
   "outputs": [
    {
     "data": {
      "text/plain": [
       "<matplotlib.legend.Legend at 0x7fc5ea353410>"
      ]
     },
     "execution_count": 11,
     "metadata": {
      "tags": []
     },
     "output_type": "execute_result"
    },
    {
     "data": {
      "image/png": "[encoded data removed]",
      "text/plain": [
       "<Figure size 432x288 with 1 Axes>"
      ]
     },
     "metadata": {
      "needs_background": "light",
      "tags": []
     },
     "output_type": "display_data"
    }
   ],
   "source": [
    "# ядерное сглаживание\n",
    "# можно сделать в pandas\n",
    "df = pd.DataFrame(sample, columns=['KDE'])\n",
    "ax = df.plot(kind='density')\n",
    "\n",
    "# строим теоретическую плотность\n",
    "x = np.linspace(-4,4,100)\n",
    "pdf = norm_rv.pdf(x)\n",
    "plt.plot(x, pdf, label='теоретическая плотность', alpha=0.5)\n",
    "plt.legend()"
   ]
  },
  {
   "cell_type": "markdown",
   "metadata": {
    "id": "VOFaXjx4PnqZ"
   },
   "source": [
    "### Предсказательный интервал\n",
    "Имеем $X \\sim N(\\mu, \\sigma^2)$. Согласно правилу [2-х сигм](https://ru.wikipedia.org/wiki/%D0%A1%D1%80%D0%B5%D0%B4%D0%BD%D0%B5%D0%BA%D0%B2%D0%B0%D0%B4%D1%80%D0%B0%D1%82%D0%B8%D1%87%D0%B5%D1%81%D0%BA%D0%BE%D0%B5_%D0%BE%D1%82%D0%BA%D0%BB%D0%BE%D0%BD%D0%B5%D0%BD%D0%B8%D0%B5#%D0%9F%D1%80%D0%B0%D0%B2%D0%B8%D0%BB%D0%BE_%D1%82%D1%80%D1%91%D1%85_%D1%81%D0%B8%D0%B3%D0%BC) имеем $$\\mathbf{P}(\\mu - 2 \\sigma \\leq X \\leq \\mu + 2 \\sigma) \\approx 0.95$$\n",
    "\n",
    "\n",
    "\n",
    "Если мы применим данное правило к стандартному нормальному распределению $X \\sim N(0,1)$, то получим\n",
    "$$\\mathbf{P}(0 - 2 \\cdot 1 \\leq X \\leq 0 + 2 \\cdot 1) \\approx 0.95$$\n",
    "\n",
    "Проиллюстрируем это визуально"
   ]
  },
  {
   "cell_type": "code",
   "execution_count": 22,
   "metadata": {
    "colab": {
     "base_uri": "https://localhost:8080/"
    },
    "id": "gmMy5mFYQJ13",
    "outputId": "1f7f1883-f94a-4d56-8173-8a029b4b675d"
   },
   "outputs": [
    {
     "data": {
      "text/plain": [
       "array([ 0.19586554, -0.32645854,  1.37841873,  0.05644193,  0.27634523,\n",
       "       -0.64843652, -0.55544114,  1.27938143, -0.05688084,  1.10053493,\n",
       "        0.43067134,  1.52618692,  0.97763214,  0.6609747 ,  2.04896774,\n",
       "        1.26823719, -0.0076089 ,  1.80126922,  1.06557422,  0.45195011,\n",
       "        2.13559716, -0.63480747,  0.32171915,  0.221919  , -1.14327495,\n",
       "        1.65267413, -0.36524437,  1.71130845,  0.65613443,  1.29246751,\n",
       "       -1.26612917,  0.49269345,  0.57812574,  0.58074073, -1.82159824,\n",
       "        0.93919058,  0.37313739,  0.29289039,  0.61478404, -1.08390434,\n",
       "        1.46556684, -1.36436272,  0.37014293, -0.36270162,  0.56445085,\n",
       "        0.22351235, -1.1802369 ,  0.45752174,  0.82279917, -0.2615973 ,\n",
       "        1.81139573, -0.92054607, -1.17579002,  0.01224624,  0.7150252 ,\n",
       "       -0.50443753,  0.89406255,  0.17783502, -0.13420911,  2.32046568,\n",
       "        0.61481415,  0.19967764, -0.80193062,  0.87217128,  1.81426792,\n",
       "        0.12919714, -0.51772328, -0.5513211 ,  1.23936592, -0.44633776,\n",
       "       -2.10781227, -0.12697459, -1.99349459,  0.37621653,  2.12702333,\n",
       "       -0.7413722 , -1.3938724 , -0.67734872, -0.70639243, -1.64684377,\n",
       "       -0.36302271, -0.04053496,  1.56840777,  1.17300028,  0.73161626,\n",
       "       -0.10655131,  1.51268218,  0.37487521,  1.05719671,  0.76959181,\n",
       "        0.39447864, -0.22196167,  0.09153378,  1.77686093, -0.46555687,\n",
       "        1.89066121, -1.28686415,  0.3624906 , -2.63881363, -0.46774058])"
      ]
     },
     "execution_count": 22,
     "metadata": {
      "tags": []
     },
     "output_type": "execute_result"
    }
   ],
   "source": [
    "# возьмём выборку из стандартного нормального распределения\n",
    "norm_rv = sts.norm(0, 1)\n",
    "sample = norm_rv.rvs(100)\n",
    "sample"
   ]
  },
  {
   "cell_type": "code",
   "execution_count": 31,
   "metadata": {
    "colab": {
     "base_uri": "https://localhost:8080/",
     "height": 282
    },
    "id": "9UHr_jUQQ5ym",
    "outputId": "1e3ec0c4-9b14-42ac-9727-b65e6d23c2a5"
   },
   "outputs": [
    {
     "data": {
      "text/plain": [
       "<matplotlib.collections.PolyCollection at 0x7fc5e5d24b90>"
      ]
     },
     "execution_count": 31,
     "metadata": {
      "tags": []
     },
     "output_type": "execute_result"
    },
    {
     "data": {
      "image/png": "[encoded data removed]",
      "text/plain": [
       "<Figure size 432x288 with 1 Axes>"
      ]
     },
     "metadata": {
      "needs_background": "light",
      "tags": []
     },
     "output_type": "display_data"
    }
   ],
   "source": [
    "x = np.linspace(-5,5,10000000)\n",
    "pdf = norm_rv.pdf(x)\n",
    "plt.plot(x, pdf, label='теоретическая плотность', alpha=0.5)\n",
    "to_fill = np.linspace(-1.96, 1.96, 100)\n",
    "plt.fill_between(to_fill, norm_rv.pdf(to_fill), alpha=0.5, color='green')"
   ]
  },
  {
   "cell_type": "code",
   "execution_count": 33,
   "metadata": {
    "colab": {
     "base_uri": "https://localhost:8080/"
    },
    "id": "9q0058LcsFKz",
    "outputId": "01127550-2619-4228-8225-b9c51dc361c6"
   },
   "outputs": [
    {
     "data": {
      "text/plain": [
       "0.00013383022576488537"
      ]
     },
     "execution_count": 33,
     "metadata": {
      "tags": []
     },
     "output_type": "execute_result"
    }
   ],
   "source": [
    "norm_rv.pdf(-4)"
   ]
  },
  {
   "cell_type": "markdown",
   "metadata": {
    "id": "FyryheNiUpkq"
   },
   "source": [
    "Оценка эта неточная, и не всегда нам нужно именно 0.95 вероятностной массы. \n",
    "\n",
    "В общем случае работают с квантилями"
   ]
  },
  {
   "cell_type": "code",
   "execution_count": 25,
   "metadata": {
    "colab": {
     "base_uri": "https://localhost:8080/"
    },
    "id": "6BVgAyBYVAba",
    "outputId": "6bf3c9df-1b9d-4ff1-fbd8-843e9bc8e238"
   },
   "outputs": [
    {
     "data": {
      "text/plain": [
       "0.0"
      ]
     },
     "execution_count": 25,
     "metadata": {
      "tags": []
     },
     "output_type": "execute_result"
    }
   ],
   "source": [
    "norm_rv.ppf(0.5)"
   ]
  },
  {
   "cell_type": "code",
   "execution_count": 26,
   "metadata": {
    "colab": {
     "base_uri": "https://localhost:8080/",
     "height": 282
    },
    "id": "7lDzZnecU0AA",
    "outputId": "84be47d9-723a-49fc-cc4f-90877781eeb6"
   },
   "outputs": [
    {
     "data": {
      "text/plain": [
       "<matplotlib.collections.PolyCollection at 0x7fc5e5e2ea50>"
      ]
     },
     "execution_count": 26,
     "metadata": {
      "tags": []
     },
     "output_type": "execute_result"
    },
    {
     "data": {
      "image/png": "[encoded data removed]",
      "text/plain": [
       "<Figure size 432x288 with 1 Axes>"
      ]
     },
     "metadata": {
      "needs_background": "light",
      "tags": []
     },
     "output_type": "display_data"
    }
   ],
   "source": [
    "alpha = 0.05\n",
    "pdf = norm_rv.pdf(x)\n",
    "plt.plot(x, pdf, label='теоретическая плотность', alpha=0.5)\n",
    "q_a = norm_rv.ppf(alpha/2)\n",
    "q_b = norm_rv.ppf(1-alpha/2)\n",
    "to_fill = np.linspace(q_a, q_b, 100)\n",
    "plt.fill_between(to_fill, norm_rv.pdf(to_fill), alpha=0.5, color='green')"
   ]
  },
  {
   "cell_type": "markdown",
   "metadata": {
    "id": "e1ffy4vDV2TW"
   },
   "source": [
    "Теперь, если мы хотим найти такой интервал в котором с вероятностью 95% окажется реализация нашей случайной величины, нам лишь нужно найти соответствующие квантили $X_{\\frac{\\alpha}{2}}$ и $X_{1-\\frac{\\alpha}{2}}$."
   ]
  },
  {
   "cell_type": "markdown",
   "metadata": {
    "id": "cs5LfPUKW_8y"
   },
   "source": [
    "Такой интервал можем найти для произвольно распределенной случайной величины\n",
    "\n",
    "В частности, для нормально распределенной случайной величины\n",
    "$$\\mathbf{P}(\\mu - \\zeta_{1-\\frac{\\alpha}{2}} \\sigma \\leq X \\leq \\mu + \\zeta_{1-\\frac{\\alpha}{2}} \\sigma) = 1-\\alpha$$\n",
    "\n",
    "$\\zeta_{\\alpha}$ будем обозначать квантиль порядка $\\alpha$ стандартного нормального распределения (то-есть распределения $N(0,1)$). Тут мы воспользовались тем, что $\\zeta_{\\frac{\\alpha}{2}} = - \\zeta_{1-\\frac{\\alpha}{2}}$\n",
    "\n",
    "$ \\zeta_{0.975} \\approx 1.95996 \\approx 2$\n",
    "\n"
   ]
  },
  {
   "cell_type": "markdown",
   "metadata": {
    "id": "vAH-RrbsaHUU"
   },
   "source": [
    "**Предсказательный интервал оценивает диапазон значений**"
   ]
  },
  {
   "cell_type": "markdown",
   "metadata": {
    "id": "e1BULYLpPq5R"
   },
   "source": [
    "### Доверительный интервал\n",
    "Точечные оценки параметров это уже что-то, но также представляет интерес и то, в каком диапазоне изменяются оцениваемые параметры, например, средние значения.\n",
    "\n",
    "Отвечают на вопрос **в каком диапазоне скорее всего лежит оцениваемый параметр**\n",
    "\n"
   ]
  },
  {
   "cell_type": "markdown",
   "metadata": {
    "id": "OLQI3Rpqboj6"
   },
   "source": [
    "Например, снова возьмем выборку из нормального распределения $X^n = (X_1, \\dotso, X_n),\\ X \\sim \\mathbf{N}(\\mu, \\sigma^2)$\n",
    "\n",
    "Пусть нам известна дисперсия, т.е $\\sigma^2$. Тогда по [свойствам](http://www.machinelearning.ru/wiki/index.php?title=%D0%9D%D0%BE%D1%80%D0%BC%D0%B0%D0%BB%D1%8C%D0%BD%D0%BE%D0%B5_%D1%80%D0%B0%D1%81%D0%BF%D1%80%D0%B5%D0%B4%D0%B5%D0%BB%D0%B5%D0%BD%D0%B8%D0%B5) нормального распределения получаем $\\sum_{i=1}^{n} X_i \\sim \\mathbf{N}(n\\mu, n\\sigma^2) \\rightarrow \\frac{\\sum_{i=1}^{n} X_i}{n} = \\overline{X_n} \\sim \\mathbf{N}(\\mu, \\frac{\\sigma^2}{n})$\n",
    "\n",
    "По формуле для предсказательного интервала получаем $$\\mathbf{P}(\\mu - \\zeta_{1-\\frac{\\alpha}{2}} \\frac{\\sigma}{\\sqrt{n}} \\leq \\overline{X_n} \\leq \\mu + \\zeta_{1-\\frac{\\alpha}{2}} \\frac{\\sigma}{\\sqrt{n}}) = 1-\\alpha$$\n",
    "\n",
    "Теперь, переносим $\\overline{X_n}$ и $\\mu$ в неравенствах, и получаем доверительный интервал для $\\mu$\n",
    "\n",
    "$$\\mathbf{P}(\\overline{X_n} - \\zeta_{1-\\frac{\\alpha}{2}} \\frac{\\sigma}{\\sqrt{n}} \\leq \\mu \\leq \\overline{X_n} + \\zeta_{1-\\frac{\\alpha}{2}} \\frac{\\sigma}{\\sqrt{n}}) = 1-\\alpha$$"
   ]
  },
  {
   "cell_type": "code",
   "execution_count": 59,
   "metadata": {
    "colab": {
     "base_uri": "https://localhost:8080/"
    },
    "id": "5wbYENCRsZXM",
    "outputId": "45a4ced4-06f2-4dae-fdfa-71c9ac60c1df"
   },
   "outputs": [
    {
     "name": "stdout",
     "output_type": "stream",
     "text": [
      "Для N= 10 ДИ 11.6288 ... 19.9954\n",
      "Для N= 50 ДИ 8.1402 ... 11.8818\n",
      "Для N= 100 ДИ 7.2464 ... 9.8922\n",
      "Для N= 1000000 ДИ 5.0231 ... 5.0495\n"
     ]
    }
   ],
   "source": [
    "# Задание, \n",
    "# 1) сгенерируйте 10, 50, 100 примеров из нормального распределения с произвольными мат ожиданием и дисперсией\n",
    "# 2) Постройте по формуле интервал с alpha = 0.05\n",
    "# ваш код тут\n",
    "mu = 5\n",
    "sigma = 7\n",
    "norm_rv = sts.norm(mu, sigma)\n",
    "N = [10, 50, 100, 1000000]\n",
    "alpha = 0.05\n",
    "for n in N:\n",
    "  samples = np.linspace(-1, 11, n)\n",
    "  pdf = norm_rv.pdf(samples)\n",
    "  qa = norm_rv.ppf(alpha/2)\n",
    "  qb = norm_rv.ppf(1-alpha/2)\n",
    "  print(\"Для N= %.f ДИ %.4f ... %.4f\" % (n,samples[np.argmax(pdf)] - qa*np.sqrt(sigma/n), samples[np.argmax(pdf)] + qb*np.sqrt(sigma/n) ))"
   ]
  },
  {
   "cell_type": "code",
   "execution_count": 60,
   "metadata": {
    "colab": {
     "base_uri": "https://localhost:8080/"
    },
    "id": "sxnKvVKY9bfd",
    "outputId": "9513d473-2d6c-4d18-ef08-2ec621e6033d"
   },
   "outputs": [
    {
     "name": "stdout",
     "output_type": "stream",
     "text": [
      "Для N= 10 ДИ 11.2955 ... 19.6621\n",
      "Для N= 50 ДИ 8.0790 ... 11.8206\n",
      "Для N= 100 ДИ 7.2161 ... 9.8619\n",
      "Для N= 1000000 ДИ 5.0231 ... 5.0495\n"
     ]
    }
   ],
   "source": [
    "# Задание, \n",
    "# 1) сгенерируйте 10, 50, 100 примеров из нормального распределения с произвольными мат ожиданием и дисперсией\n",
    "# 2) Постройте по формуле интервал с alpha = 0.05\n",
    "# ваш код тут\n",
    "mu = 5\n",
    "sigma = 7\n",
    "norm_rv = sts.norm(mu, sigma)\n",
    "N = [10, 50, 100, 1000000]\n",
    "alpha = 0.05\n",
    "for n in N:\n",
    "  samples = np.linspace(-4, 14, n)\n",
    "  pdf = norm_rv.pdf(samples)\n",
    "  qa = norm_rv.ppf(alpha/2)\n",
    "  qb = norm_rv.ppf(1-alpha/2)\n",
    "  print(\"Для N= %.f ДИ %.4f ... %.4f\" % (n,samples[np.argmax(pdf)] - qa*np.sqrt(sigma/n), samples[np.argmax(pdf)] + qb*np.sqrt(sigma/n) ))"
   ]
  },
  {
   "cell_type": "code",
   "execution_count": 58,
   "metadata": {
    "colab": {
     "base_uri": "https://localhost:8080/"
    },
    "id": "8VLs2Jqz0Ypt",
    "outputId": "f0a1fbda-5684-41e3-ff6c-c5f0421597cd"
   },
   "outputs": [
    {
     "data": {
      "text/plain": [
       "5.291502622129181"
      ]
     },
     "execution_count": 58,
     "metadata": {
      "tags": []
     },
     "output_type": "execute_result"
    }
   ],
   "source": [
    "np.sqrt(7) *2"
   ]
  },
  {
   "cell_type": "markdown",
   "metadata": {
    "id": "iOIhq23ksa_x"
   },
   "source": [
    "Случай известной дисперсии как правило встречается для измерительных приборов, когда нам известная его погрешность.\n",
    "\n",
    "Есть метод, позволяющий построить доверительный интервал и для такого случая. Разница будет лишь в том, что вместо выборочной дисперсии будет взята выборочная дисперсия, а вместо квантилей стандартного нормального распределения используют квантили распределения Стьюдента (согласно которой распределена так называемая t-статистика)"
   ]
  },
  {
   "cell_type": "markdown",
   "metadata": {
    "id": "OmAyt9Q1bzh5"
   },
   "source": [
    "Но что делать, если распределение отлично от нормального или это доподлино неизвестно?\n",
    "\n",
    "\n",
    "К счастью...\n"
   ]
  },
  {
   "cell_type": "markdown",
   "metadata": {
    "id": "LOh4CdTWF3vs"
   },
   "source": [
    "## Центральная предельная теорема"
   ]
  },
  {
   "cell_type": "code",
   "execution_count": 42,
   "metadata": {
    "colab": {
     "base_uri": "https://localhost:8080/"
    },
    "id": "_HWg2Ul-F7jk",
    "outputId": "057636cc-873f-4d68-f158-9a0071be6ac5"
   },
   "outputs": [
    {
     "data": {
      "text/plain": [
       "array([3.73879258, 3.41515209, 1.62517182, 3.82367588, 3.98738979,\n",
       "       2.5093152 , 1.87148606, 3.13162054, 1.24886677, 3.36333214])"
      ]
     },
     "execution_count": 42,
     "metadata": {
      "tags": []
     },
     "output_type": "execute_result"
    }
   ],
   "source": [
    "a = 1\n",
    "b = 4\n",
    "\n",
    "# обратите внимание, что в этой функции задается левая граница и масштаб, а не левая и правая границы:\n",
    "uniform_rv = sts.uniform(a, b-a)\n",
    "\n",
    "uniform_rv.rvs(10)"
   ]
  },
  {
   "cell_type": "code",
   "execution_count": 43,
   "metadata": {
    "id": "pvuyXniYGMeE"
   },
   "outputs": [],
   "source": [
    "N = 100\n",
    "# сгенерируем много выборочных средних\n",
    "means = []\n",
    "for i in range(10000):\n",
    "  means.append(np.mean(uniform_rv.rvs(N)))"
   ]
  },
  {
   "cell_type": "code",
   "execution_count": 44,
   "metadata": {
    "colab": {
     "base_uri": "https://localhost:8080/",
     "height": 726
    },
    "id": "aU_S5A5VqnpL",
    "outputId": "8a8e7d78-7f4e-4c5c-9610-5a18639033f9"
   },
   "outputs": [
    {
     "data": {
      "text/plain": [
       "(array([0.00929456, 0.        , 0.00929456, 0.00929456, 0.01858912,\n",
       "        0.00929456, 0.02788368, 0.04647281, 0.06506193, 0.10224018,\n",
       "        0.1208293 , 0.19518579, 0.21377492, 0.38107702, 0.38107702,\n",
       "        0.45543351, 0.67850299, 0.73427036, 1.06887458, 1.23617668,\n",
       "        1.47783528, 1.65443195, 1.9797416 , 2.50953161, 2.90919776,\n",
       "        3.34604215, 3.81077022, 3.52263882, 3.89442128, 4.45209497,\n",
       "        4.36844392, 4.79599375, 4.55433515, 4.81458287, 4.50786234,\n",
       "        4.33126567, 3.82935935, 4.02454514, 3.26239109, 2.946376  ,\n",
       "        2.8255467 , 2.37940775, 2.42588056, 1.63584283, 1.51501353,\n",
       "        1.208293  , 0.91086703, 0.75285948, 0.58555738, 0.53908457,\n",
       "        0.39966615, 0.2416586 , 0.18589123, 0.21377492, 0.13941842,\n",
       "        0.07435649, 0.03717825, 0.08365105, 0.00929456, 0.00929456,\n",
       "        0.01858912]),\n",
       " array([2.15080905, 2.16156803, 2.17232701, 2.18308599, 2.19384497,\n",
       "        2.20460395, 2.21536293, 2.22612191, 2.23688089, 2.24763987,\n",
       "        2.25839885, 2.26915783, 2.27991681, 2.29067579, 2.30143477,\n",
       "        2.31219375, 2.32295273, 2.33371171, 2.34447069, 2.35522967,\n",
       "        2.36598865, 2.37674763, 2.38750661, 2.39826559, 2.40902457,\n",
       "        2.41978355, 2.43054253, 2.44130151, 2.45206049, 2.46281947,\n",
       "        2.47357845, 2.48433743, 2.49509641, 2.50585539, 2.51661437,\n",
       "        2.52737335, 2.53813233, 2.54889131, 2.55965029, 2.57040927,\n",
       "        2.58116825, 2.59192723, 2.60268621, 2.61344519, 2.62420417,\n",
       "        2.63496315, 2.64572213, 2.65648111, 2.66724009, 2.67799907,\n",
       "        2.68875805, 2.69951703, 2.710276  , 2.72103498, 2.73179396,\n",
       "        2.74255294, 2.75331192, 2.7640709 , 2.77482988, 2.78558886,\n",
       "        2.79634784, 2.80710682]),\n",
       " <a list of 61 Patch objects>)"
      ]
     },
     "execution_count": 44,
     "metadata": {
      "tags": []
     },
     "output_type": "execute_result"
    },
    {
     "data": {
      "image/png": "[encoded data removed]",
      "text/plain": [
       "<Figure size 432x288 with 1 Axes>"
      ]
     },
     "metadata": {
      "needs_background": "light",
      "tags": []
     },
     "output_type": "display_data"
    }
   ],
   "source": [
    "plt.hist(means, density=True, bins='auto')"
   ]
  },
  {
   "cell_type": "code",
   "execution_count": 45,
   "metadata": {
    "colab": {
     "base_uri": "https://localhost:8080/",
     "height": 537
    },
    "id": "cj7esASVr_ok",
    "outputId": "bdd73248-603b-4d80-9924-2fd5f84ed6ba"
   },
   "outputs": [
    {
     "data": {
      "image/png": "[encoded data removed]",
      "text/plain": [
       "<Figure size 1152x648 with 1 Axes>"
      ]
     },
     "metadata": {
      "needs_background": "light",
      "tags": []
     },
     "output_type": "display_data"
    }
   ],
   "source": [
    "plt.figure(figsize=(16,9))\n",
    "# сгенерируем много выборочных средних\n",
    "for N in [10, 100, 1000, 10000]:\n",
    "  means = []\n",
    "  for i in range(1000):\n",
    "    means.append(np.mean(uniform_rv.rvs(N)))\n",
    "  plt.hist(means, alpha=0.5)\n",
    "\n",
    "plt.legend(['10', '100', '1000', '10000'])\n",
    "plt.show()"
   ]
  },
  {
   "cell_type": "code",
   "execution_count": null,
   "metadata": {
    "id": "Cz3Dp2SEy1L_"
   },
   "outputs": [],
   "source": []
  },
  {
   "cell_type": "code",
   "execution_count": 46,
   "metadata": {
    "id": "rfCJy33ZUYoy"
   },
   "outputs": [],
   "source": [
    "N = 30\n",
    "# сгенерируем много выборочных средних\n",
    "means = []\n",
    "for i in range(1000):\n",
    "  means.append(np.mean(uniform_rv.rvs(N)))\n",
    "\n",
    "means = np.array(means).astype(np.float32)"
   ]
  },
  {
   "cell_type": "code",
   "execution_count": 47,
   "metadata": {
    "colab": {
     "base_uri": "https://localhost:8080/"
    },
    "id": "Z4NWkc2QUYmA",
    "outputId": "480f76f4-4e2e-46cb-b4f5-e704b0d3e9c9"
   },
   "outputs": [
    {
     "data": {
      "text/plain": [
       "2.5"
      ]
     },
     "execution_count": 47,
     "metadata": {
      "tags": []
     },
     "output_type": "execute_result"
    }
   ],
   "source": [
    "uniform_rv.mean()"
   ]
  },
  {
   "cell_type": "code",
   "execution_count": 48,
   "metadata": {
    "colab": {
     "base_uri": "https://localhost:8080/"
    },
    "id": "pxwM0gmUAwnP",
    "outputId": "0077225a-9e9d-41b2-cc20-44e2d1c6534a"
   },
   "outputs": [
    {
     "data": {
      "text/plain": [
       "0.75"
      ]
     },
     "execution_count": 48,
     "metadata": {
      "tags": []
     },
     "output_type": "execute_result"
    }
   ],
   "source": [
    "uniform_rv.var()"
   ]
  },
  {
   "cell_type": "code",
   "execution_count": 49,
   "metadata": {
    "colab": {
     "base_uri": "https://localhost:8080/"
    },
    "id": "oeJqs2HAUx_V",
    "outputId": "5282eae5-3883-421c-9753-3e54cf8a3e2d"
   },
   "outputs": [
    {
     "data": {
      "text/plain": [
       "0.8660254037844386"
      ]
     },
     "execution_count": 49,
     "metadata": {
      "tags": []
     },
     "output_type": "execute_result"
    }
   ],
   "source": [
    "uniform_rv.std()"
   ]
  },
  {
   "cell_type": "code",
   "execution_count": 50,
   "metadata": {
    "colab": {
     "base_uri": "https://localhost:8080/",
     "height": 283
    },
    "id": "ebIBQt20Uoq9",
    "outputId": "028fc9cb-aecc-4636-f970-21c450621274"
   },
   "outputs": [
    {
     "data": {
      "text/plain": [
       "[]"
      ]
     },
     "execution_count": 50,
     "metadata": {
      "tags": []
     },
     "output_type": "execute_result"
    },
    {
     "data": {
      "image/png": "[encoded data removed]",
      "text/plain": [
       "<Figure size 432x288 with 1 Axes>"
      ]
     },
     "metadata": {
      "needs_background": "light",
      "tags": []
     },
     "output_type": "display_data"
    }
   ],
   "source": [
    "norm_rv = sts.norm(loc=uniform_rv.mean(), scale=uniform_rv.std() / np.sqrt(N))\n",
    "plt.hist(means, density=True, bins=40)\n",
    "x = np.linspace(1,4, 100)\n",
    "pdf = norm_rv.pdf(x)\n",
    "plt.plot(x, pdf, label='Теоретическая плотность', alpha=0.5)\n",
    "plt.legend()\n",
    "plt.plot()"
   ]
  },
  {
   "cell_type": "code",
   "execution_count": 51,
   "metadata": {
    "colab": {
     "base_uri": "https://localhost:8080/"
    },
    "id": "ccKqRmK1gsKN",
    "outputId": "2ce29162-4501-496f-f0ad-6e7eb5da1b11"
   },
   "outputs": [
    {
     "name": "stdout",
     "output_type": "stream",
     "text": [
      "Доверительный интервал для среднего по цпт, если нам известна дисперсия: [2.3552481013078843, 2.9877036333415603] \n"
     ]
    }
   ],
   "source": [
    "data = uniform_rv.rvs(N)\n",
    "print(\"Доверительный интервал для среднего по цпт, если нам известна дисперсия: [{}, {}] \".format(\n",
    "    np.mean(data) - 2 * uniform_rv.std() / np.sqrt(N), np.mean(data) + 2 * uniform_rv.std() / np.sqrt(N) \n",
    "))"
   ]
  },
  {
   "cell_type": "markdown",
   "metadata": {
    "id": "JxyEqHudzTvz"
   },
   "source": [
    "#### То же и для дискретных, посмотрим на примере биномиального распределения"
   ]
  },
  {
   "cell_type": "code",
   "execution_count": 52,
   "metadata": {
    "colab": {
     "base_uri": "https://localhost:8080/"
    },
    "id": "ibwXLXINzYo2",
    "outputId": "757290d6-7829-45a9-bc73-7e461da83d78"
   },
   "outputs": [
    {
     "data": {
      "text/plain": [
       "array([ 7, 10, 11,  8,  6,  8,  8, 12,  9,  8])"
      ]
     },
     "execution_count": 52,
     "metadata": {
      "tags": []
     },
     "output_type": "execute_result"
    }
   ],
   "source": [
    "binomial_rv = sts.binom(20, 0.4)\n",
    "binomial_rv.rvs(10)\n",
    "\n",
    "# мат ожидание np = 20*0.4 = 8\n",
    "# дисперсия npq = np(1-p) = 20*0.4*0.6 = 8 * 0.6 = 4.8"
   ]
  },
  {
   "cell_type": "code",
   "execution_count": 53,
   "metadata": {
    "colab": {
     "base_uri": "https://localhost:8080/",
     "height": 296
    },
    "id": "CoYZ7SDDzorr",
    "outputId": "2d2c3757-cce2-45e2-eb56-bcb08b2b06d6"
   },
   "outputs": [
    {
     "data": {
      "text/plain": [
       "Text(0.5, 0, '$x$')"
      ]
     },
     "execution_count": 53,
     "metadata": {
      "tags": []
     },
     "output_type": "execute_result"
    },
    {
     "data": {
      "image/png": "[encoded data removed]",
      "text/plain": [
       "<Figure size 432x288 with 1 Axes>"
      ]
     },
     "metadata": {
      "needs_background": "light",
      "tags": []
     },
     "output_type": "display_data"
    }
   ],
   "source": [
    "x = np.linspace(0,20,21)\n",
    "pmf = binomial_rv.pmf(x)\n",
    "plt.plot(x, pmf, 'o')\n",
    "\n",
    "plt.ylabel('$P(X=x)$')\n",
    "plt.xlabel('$x$')"
   ]
  },
  {
   "cell_type": "code",
   "execution_count": 54,
   "metadata": {
    "colab": {
     "base_uri": "https://localhost:8080/",
     "height": 537
    },
    "id": "wDRJyTaEzxvt",
    "outputId": "045ae779-01a3-4f38-be6d-128c263f411a"
   },
   "outputs": [
    {
     "data": {
      "image/png": "[encoded data removed]",
      "text/plain": [
       "<Figure size 1152x648 with 1 Axes>"
      ]
     },
     "metadata": {
      "needs_background": "light",
      "tags": []
     },
     "output_type": "display_data"
    }
   ],
   "source": [
    "plt.figure(figsize=(16,9))\n",
    "# сгенерируем много выборочных средних\n",
    "for N in [10, 20, 50, 100]:\n",
    "  means = []\n",
    "  for i in range(1000):\n",
    "    means.append(np.mean(binomial_rv.rvs(N)))\n",
    "  plt.hist(means, alpha=0.5)\n",
    "\n",
    "plt.legend(['10', '100', '1000', '10000'])\n",
    "plt.show()"
   ]
  },
  {
   "cell_type": "markdown",
   "metadata": {
    "id": "ACZdnVgnvph3"
   },
   "source": [
    "### Всегда ли ЦПТ хорошо работает?\n",
    "Вообще в полной формулировке есть формальные требования, определяющие границы применимости данной теоремы. Но пока что, будем говорить, что применять ЦПТ можно, если кол-во примеров по крайней мере пара десятков (30-50), и само распределение случайно величины $X$ не является явно ассимметричным (\"скошенным\")"
   ]
  },
  {
   "cell_type": "markdown",
   "metadata": {
    "id": "Uzode7W90b1Y"
   },
   "source": [
    "#### Попробуем уменьшить вероятность успеха в серии n независимых испытаний, тем самым, сделаем наше распределение успехов несколько более ассиметричным"
   ]
  },
  {
   "cell_type": "code",
   "execution_count": 55,
   "metadata": {
    "colab": {
     "base_uri": "https://localhost:8080/"
    },
    "id": "RJ9S7Zlx0hUB",
    "outputId": "407d4eab-e296-43e2-c466-cf010841b091"
   },
   "outputs": [
    {
     "data": {
      "text/plain": [
       "array([0, 1, 0, 0, 0, 1, 1, 0, 0, 0])"
      ]
     },
     "execution_count": 55,
     "metadata": {
      "tags": []
     },
     "output_type": "execute_result"
    }
   ],
   "source": [
    "binomial_rv = sts.binom(20, 0.01)\n",
    "binomial_rv.rvs(10)"
   ]
  },
  {
   "cell_type": "code",
   "execution_count": 56,
   "metadata": {
    "colab": {
     "base_uri": "https://localhost:8080/",
     "height": 296
    },
    "id": "tbc3AuNx0mYO",
    "outputId": "2928d61e-8bd6-4a42-a1aa-67a38bc1a4fc"
   },
   "outputs": [
    {
     "data": {
      "text/plain": [
       "Text(0.5, 0, '$x$')"
      ]
     },
     "execution_count": 56,
     "metadata": {
      "tags": []
     },
     "output_type": "execute_result"
    },
    {
     "data": {
      "image/png": "[encoded data removed]",
      "text/plain": [
       "<Figure size 432x288 with 1 Axes>"
      ]
     },
     "metadata": {
      "needs_background": "light",
      "tags": []
     },
     "output_type": "display_data"
    }
   ],
   "source": [
    "x = np.linspace(0,20,21)\n",
    "pmf = binomial_rv.pmf(x)\n",
    "plt.plot(x, pmf, 'o')\n",
    "plt.ylabel('$P(X=x)$')\n",
    "plt.xlabel('$x$')"
   ]
  },
  {
   "cell_type": "code",
   "execution_count": 57,
   "metadata": {
    "colab": {
     "base_uri": "https://localhost:8080/",
     "height": 537
    },
    "id": "q7vvun5W0tw2",
    "outputId": "19635b92-844a-4669-a3b0-d258c6d499d1"
   },
   "outputs": [
    {
     "data": {
      "image/png": "[encoded data removed]",
      "text/plain": [
       "<Figure size 1152x648 with 1 Axes>"
      ]
     },
     "metadata": {
      "needs_background": "light",
      "tags": []
     },
     "output_type": "display_data"
    }
   ],
   "source": [
    "plt.figure(figsize=(16,9))\n",
    "# сгенерируем много выборочных средних\n",
    "for N in [10, 20, 50, 100]:\n",
    "  means = []\n",
    "  for i in range(1000):\n",
    "    means.append(np.mean(binomial_rv.rvs(N)))\n",
    "  plt.hist(means, alpha=0.5)\n",
    "\n",
    "plt.legend(['10', '100', '1000', '10000'])\n",
    "plt.show()"
   ]
  },
  {
   "cell_type": "code",
   "execution_count": null,
   "metadata": {
    "id": "Sdjwf7cqeo3m"
   },
   "outputs": [],
   "source": []
  },
  {
   "cell_type": "markdown",
   "metadata": {
    "id": "p6YQLkvTzMkv"
   },
   "source": [
    "## Попробуем применить полученные знания, на более содержательных примерах"
   ]
  },
  {
   "cell_type": "code",
   "execution_count": 34,
   "metadata": {
    "colab": {
     "base_uri": "https://localhost:8080/"
    },
    "id": "6f7FtOWpZakR",
    "outputId": "3fe19a52-2d16-44dc-ebb2-ad46220a28ed"
   },
   "outputs": [
    {
     "name": "stdout",
     "output_type": "stream",
     "text": [
      "Populating the interactive namespace from numpy and matplotlib\n"
     ]
    },
    {
     "name": "stderr",
     "output_type": "stream",
     "text": [
      "/usr/local/lib/python3.7/dist-packages/IPython/core/magics/pylab.py:161: UserWarning: pylab import has clobbered these variables: ['sample']\n",
      "`%matplotlib` prevents importing * from pylab and numpy\n",
      "  \"\\n`%matplotlib` prevents importing * from pylab and numpy\"\n"
     ]
    }
   ],
   "source": [
    "from sklearn import model_selection, datasets, linear_model, tree, metrics, neighbors\n",
    "from matplotlib import pyplot as plt\n",
    "\n",
    "%pylab inline\n",
    "import numpy as np"
   ]
  },
  {
   "cell_type": "markdown",
   "metadata": {
    "id": "a9KJhpMcZakY"
   },
   "source": [
    "### Генерация данных"
   ]
  },
  {
   "cell_type": "code",
   "execution_count": 35,
   "metadata": {
    "id": "OGaMW23cZakZ"
   },
   "outputs": [],
   "source": [
    "blobs = datasets.make_blobs(500, centers = 2, cluster_std = 6, random_state=1)"
   ]
  },
  {
   "cell_type": "code",
   "execution_count": 38,
   "metadata": {
    "colab": {
     "base_uri": "https://localhost:8080/"
    },
    "id": "-RcsOikDBph4",
    "outputId": "8ceaf5ce-f485-4a85-c271-b9cb23cbc6ee"
   },
   "outputs": [
    {
     "data": {
      "text/plain": [
       "array([1, 0, 1, 0, 1, 0, 0, 1, 0, 1, 1, 1, 1, 0, 0, 1, 0, 1, 0, 1, 1, 1,\n",
       "       0, 0, 1, 1, 0, 0, 0, 1, 0, 0, 1, 1, 1, 1, 0, 0, 1, 0, 1, 1, 0, 1,\n",
       "       1, 1, 0, 1, 0, 0, 0, 1, 1, 1, 0, 1, 1, 0, 0, 0, 0, 0, 0, 1, 0, 0,\n",
       "       1, 0, 0, 1, 1, 0, 1, 1, 1, 0, 1, 1, 1, 0, 1, 0, 1, 0, 0, 0, 0, 0,\n",
       "       0, 1, 0, 1, 0, 1, 0, 1, 0, 1, 1, 0, 0, 1, 0, 0, 0, 0, 1, 0, 0, 0,\n",
       "       0, 0, 0, 0, 0, 0, 0, 1, 0, 1, 1, 0, 1, 1, 1, 0, 0, 1, 1, 0, 0, 0,\n",
       "       0, 1, 1, 1, 0, 1, 0, 0, 1, 0, 1, 0, 0, 0, 1, 0, 1, 1, 1, 0, 0, 1,\n",
       "       0, 1, 1, 0, 0, 0, 0, 0, 0, 0, 1, 1, 1, 1, 0, 1, 0, 0, 0, 0, 0, 1,\n",
       "       0, 1, 1, 1, 0, 0, 1, 1, 1, 1, 1, 0, 1, 0, 0, 1, 1, 1, 0, 1, 0, 1,\n",
       "       0, 1, 0, 1, 1, 1, 1, 0, 1, 1, 0, 1, 0, 1, 1, 1, 1, 0, 0, 0, 1, 1,\n",
       "       0, 1, 0, 0, 0, 1, 0, 0, 1, 0, 1, 0, 0, 0, 0, 1, 0, 1, 1, 0, 1, 1,\n",
       "       1, 1, 1, 0, 1, 0, 1, 0, 0, 1, 1, 0, 0, 0, 1, 0, 0, 1, 0, 0, 0, 0,\n",
       "       1, 1, 1, 0, 0, 0, 1, 0, 0, 1, 0, 0, 1, 0, 1, 0, 1, 1, 0, 1, 0, 0,\n",
       "       1, 0, 0, 0, 1, 1, 1, 1, 0, 1, 0, 1, 1, 1, 1, 1, 0, 1, 1, 0, 1, 1,\n",
       "       0, 0, 1, 1, 1, 0, 0, 1, 1, 0, 0, 1, 1, 0, 0, 1, 0, 0, 0, 1, 1, 1,\n",
       "       0, 0, 1, 1, 0, 0, 1, 1, 0, 1, 1, 0, 0, 0, 0, 0, 0, 0, 1, 1, 1, 0,\n",
       "       0, 1, 1, 0, 0, 0, 1, 0, 0, 1, 0, 0, 1, 1, 1, 0, 1, 1, 1, 1, 1, 1,\n",
       "       0, 1, 0, 1, 0, 0, 0, 0, 1, 0, 1, 1, 0, 0, 0, 1, 1, 0, 1, 0, 0, 0,\n",
       "       0, 1, 0, 1, 0, 1, 1, 1, 1, 1, 1, 0, 0, 1, 0, 1, 0, 0, 1, 0, 0, 1,\n",
       "       0, 0, 1, 0, 1, 1, 0, 0, 0, 1, 0, 1, 1, 0, 1, 1, 0, 1, 1, 1, 0, 0,\n",
       "       1, 1, 1, 1, 0, 0, 1, 1, 1, 1, 1, 1, 1, 1, 1, 0, 1, 1, 0, 0, 1, 0,\n",
       "       1, 0, 0, 0, 0, 1, 0, 1, 0, 0, 1, 1, 0, 1, 0, 1, 1, 0, 0, 1, 0, 1,\n",
       "       1, 0, 0, 0, 1, 1, 0, 0, 1, 1, 1, 1, 1, 1, 0, 1])"
      ]
     },
     "execution_count": 38,
     "metadata": {
      "tags": []
     },
     "output_type": "execute_result"
    }
   ],
   "source": [
    "blobs[1]"
   ]
  },
  {
   "cell_type": "code",
   "execution_count": 36,
   "metadata": {
    "colab": {
     "base_uri": "https://localhost:8080/",
     "height": 500
    },
    "id": "lyVW8D1-Zakb",
    "outputId": "1ff82bba-225a-4c36-c5d6-f7d57e686190"
   },
   "outputs": [
    {
     "data": {
      "text/plain": [
       "<matplotlib.collections.PathCollection at 0x7f91cc2a5510>"
      ]
     },
     "execution_count": 36,
     "metadata": {
      "tags": []
     },
     "output_type": "execute_result"
    },
    {
     "data": {
      "image/png": "[encoded data removed]",
      "text/plain": [
       "<Figure size 576x576 with 1 Axes>"
      ]
     },
     "metadata": {
      "needs_background": "light",
      "tags": []
     },
     "output_type": "display_data"
    }
   ],
   "source": [
    "pylab.figure(figsize(8, 8))\n",
    "pylab.scatter(list(map(lambda x: x[0], blobs[0])), list(map(lambda x: x[1], blobs[0])), c = blobs[1], cmap = 'autumn',\n",
    "             s=100)"
   ]
  },
  {
   "cell_type": "markdown",
   "metadata": {
    "id": "pWYsMJbrZake"
   },
   "source": [
    "### Сравненим два классификатора"
   ]
  },
  {
   "cell_type": "markdown",
   "metadata": {
    "id": "Je-06l-mZake"
   },
   "source": [
    "#### Точечная оценка"
   ]
  },
  {
   "cell_type": "code",
   "execution_count": 39,
   "metadata": {
    "id": "UtwQRNkFZakf"
   },
   "outputs": [],
   "source": [
    "train_data, test_data, train_labels, test_labels = model_selection.train_test_split(blobs[0], blobs[1], \n",
    "                                                                                    test_size = 30,\n",
    "                                                                                    random_state = 1)"
   ]
  },
  {
   "cell_type": "code",
   "execution_count": 40,
   "metadata": {
    "colab": {
     "base_uri": "https://localhost:8080/"
    },
    "id": "KMLdUs2DZakh",
    "outputId": "7240a5c4-cb7f-4a5c-c5ef-a7761c26813c"
   },
   "outputs": [
    {
     "data": {
      "text/plain": [
       "0.8303571428571429"
      ]
     },
     "execution_count": 40,
     "metadata": {
      "tags": []
     },
     "output_type": "execute_result"
    }
   ],
   "source": [
    "logreg_model = linear_model.LogisticRegression()\n",
    "logreg_model.fit(train_data, train_labels)\n",
    "metrics.roc_auc_score(test_labels, logreg_model.predict(test_data))"
   ]
  },
  {
   "cell_type": "code",
   "execution_count": 41,
   "metadata": {
    "colab": {
     "base_uri": "https://localhost:8080/"
    },
    "id": "i5htXK2MZakk",
    "outputId": "79720cbd-c11e-44ff-dd61-b6755e7f749b"
   },
   "outputs": [
    {
     "data": {
      "text/plain": [
       "0.8258928571428572"
      ]
     },
     "execution_count": 41,
     "metadata": {
      "tags": []
     },
     "output_type": "execute_result"
    }
   ],
   "source": [
    "knn_model = neighbors.KNeighborsClassifier(7)\n",
    "knn_model.fit(train_data, train_labels)\n",
    "metrics.roc_auc_score(test_labels, knn_model.predict(test_data))"
   ]
  },
  {
   "cell_type": "markdown",
   "metadata": {
    "id": "8lphBrQ8Zakm"
   },
   "source": [
    "#### Оценка среднего"
   ]
  },
  {
   "cell_type": "code",
   "execution_count": 43,
   "metadata": {
    "id": "pXLJMph_Zakn"
   },
   "outputs": [],
   "source": [
    "knn_auc_scores = model_selection.cross_val_score(neighbors.KNeighborsClassifier(7), \n",
    "                                 blobs[0], blobs[1], scoring = 'roc_auc', cv = 20)"
   ]
  },
  {
   "cell_type": "code",
   "execution_count": 44,
   "metadata": {
    "id": "-obGpZuzZakp"
   },
   "outputs": [],
   "source": [
    "logreg_auc_scores = model_selection.cross_val_score(linear_model.LogisticRegression(), \n",
    "                                 blobs[0], blobs[1], scoring = 'roc_auc',  \n",
    "                                 cv = 20)"
   ]
  },
  {
   "cell_type": "markdown",
   "metadata": {
    "id": "lTTW9r0wZakr"
   },
   "source": [
    "#### Точечная оценка среднего"
   ]
  },
  {
   "cell_type": "code",
   "execution_count": 45,
   "metadata": {
    "colab": {
     "base_uri": "https://localhost:8080/"
    },
    "id": "RX8MQFv9Zaks",
    "outputId": "76720400-19db-4ff7-9505-7cb5db936ad5"
   },
   "outputs": [
    {
     "name": "stdout",
     "output_type": "stream",
     "text": [
      "knn model auc: mean 0.915, std 0.068\n",
      "logreg model auc: mean 0.939, std 0.055\n"
     ]
    }
   ],
   "source": [
    "print(\"knn model auc: mean %.3f, std %.3f\" % (knn_auc_scores.mean(), knn_auc_scores.std(ddof=1)))\n",
    "print(\"logreg model auc: mean %.3f, std %.3f\" % (logreg_auc_scores.mean(), logreg_auc_scores.std(ddof=1)))"
   ]
  },
  {
   "cell_type": "markdown",
   "metadata": {
    "id": "zmoNLSx8Zaku"
   },
   "source": [
    "#### Интервальная оценка среднего "
   ]
  },
  {
   "cell_type": "code",
   "execution_count": 46,
   "metadata": {
    "id": "USAjyll5Zakv"
   },
   "outputs": [],
   "source": [
    "from statsmodels.stats.weightstats import _zconfint_generic, _tconfint_generic"
   ]
  },
  {
   "cell_type": "code",
   "execution_count": 47,
   "metadata": {
    "id": "tXXxal8UZakx"
   },
   "outputs": [],
   "source": [
    "knn_mean = knn_auc_scores.mean()\n",
    "logreg_mean = logreg_auc_scores.mean()"
   ]
  },
  {
   "cell_type": "markdown",
   "metadata": {
    "id": "yUT3c_2aZak1"
   },
   "source": [
    "##### z-интервал"
   ]
  },
  {
   "cell_type": "markdown",
   "metadata": {
    "id": "Zio4mc1PZak1"
   },
   "source": [
    "Пусть $\\sigma^2=0.1$. Доверительные интервалы $$\\bar{X}_n \\pm z_{1-\\frac{\\alpha}{2}} \\frac{\\sigma}{\\sqrt{n}}$$"
   ]
  },
  {
   "cell_type": "code",
   "execution_count": 48,
   "metadata": {
    "colab": {
     "base_uri": "https://localhost:8080/"
    },
    "id": "Ml_E5M6YZak2",
    "outputId": "bd70fa6c-e989-4a75-feef-7424c91c0992"
   },
   "outputs": [
    {
     "name": "stdout",
     "output_type": "stream",
     "text": [
      "knn model mean auc 95%% confidence interval (0.7759929508983654, 1.053173715768301)\n",
      "logreg model mean auc 95%% confidence interval (0.8008326944881092, 1.0780134593580448)\n"
     ]
    }
   ],
   "source": [
    "print(\"knn model mean auc 95%% confidence interval\", _zconfint_generic(knn_mean, \n",
    "                                                                  sqrt(0.1/len(knn_auc_scores)), \n",
    "                                                                  0.05, 'two-sided'))\n",
    "\n",
    "print(\"logreg model mean auc 95%% confidence interval\", _zconfint_generic(logreg_mean, \n",
    "                                                                    sqrt(0.1/len(logreg_auc_scores)), \n",
    "                                                                    0.05, 'two-sided'))"
   ]
  },
  {
   "cell_type": "markdown",
   "metadata": {
    "id": "kzj7DFMjZak5"
   },
   "source": [
    "##### t-интервал"
   ]
  },
  {
   "cell_type": "markdown",
   "metadata": {
    "id": "nAVXI7JzZak6"
   },
   "source": [
    "Вместо гипотетической теоретической дисперсии $\\sigma^2$, которую мы на самом деле в данном случае не знаем, используем выборочные дисперсии, и построим доверительные интервалы вида $$\\bar{X}_n \\pm t_{1-\\frac{\\alpha}{2}} \\frac{S}{\\sqrt{n}}$$"
   ]
  },
  {
   "cell_type": "code",
   "execution_count": 49,
   "metadata": {
    "id": "cMySzUAtZak9"
   },
   "outputs": [],
   "source": [
    "knn_mean_std = knn_auc_scores.std(ddof=1)/sqrt(len(knn_auc_scores))\n",
    "logreg_mean_std = logreg_auc_scores.std(ddof=1)/sqrt(len(logreg_auc_scores))"
   ]
  },
  {
   "cell_type": "code",
   "execution_count": 50,
   "metadata": {
    "colab": {
     "base_uri": "https://localhost:8080/"
    },
    "id": "3S-bfjc6ZalA",
    "outputId": "39c31616-8493-4954-b7b2-342ecb358579"
   },
   "outputs": [
    {
     "name": "stdout",
     "output_type": "stream",
     "text": [
      "knn model mean auc 95%% confidence interval (0.882959385641525, 0.9462072810251414)\n",
      "logreg model mean auc 95%% confidence interval (0.9136800910000443, 0.9651660628461097)\n"
     ]
    }
   ],
   "source": [
    "print(\"knn model mean auc 95%% confidence interval\", _tconfint_generic(knn_mean, knn_mean_std,\n",
    "                                                                       len(knn_auc_scores) - 1,\n",
    "                                                                       0.05, 'two-sided'))\n",
    "\n",
    "print(\"logreg model mean auc 95%% confidence interval\", _tconfint_generic(logreg_mean, logreg_mean_std,\n",
    "                                                                         len(logreg_auc_scores) - 1,\n",
    "                                                                         0.05, 'two-sided'))"
   ]
  },
  {
   "cell_type": "code",
   "execution_count": null,
   "metadata": {
    "id": "n105VsNcHXG9"
   },
   "outputs": [],
   "source": []
  },
  {
   "cell_type": "markdown",
   "metadata": {
    "id": "VhvPH8BMuVUb"
   },
   "source": [
    "### Загрузим уже знакомый нам набор данных по посещаемости врача"
   ]
  },
  {
   "cell_type": "code",
   "execution_count": 52,
   "metadata": {
    "colab": {
     "base_uri": "https://localhost:8080/",
     "height": 409
    },
    "id": "S-YJZKsszUBe",
    "outputId": "93246def-a63a-4fdb-fb57-117d5520bdd0"
   },
   "outputs": [
    {
     "ename": "FileNotFoundError",
     "evalue": "ignored",
     "output_type": "error",
     "traceback": [
      "\u001b[0;31m---------------------------------------------------------------------------\u001b[0m",
      "\u001b[0;31mFileNotFoundError\u001b[0m                         Traceback (most recent call last)",
      "\u001b[0;32m<ipython-input-52-90a83cf5a1ad>\u001b[0m in \u001b[0;36m<module>\u001b[0;34m()\u001b[0m\n\u001b[1;32m      3\u001b[0m \u001b[0;32mimport\u001b[0m \u001b[0mmatplotlib\u001b[0m\u001b[0;34m.\u001b[0m\u001b[0mpyplot\u001b[0m \u001b[0;32mas\u001b[0m \u001b[0mplt\u001b[0m\u001b[0;34m\u001b[0m\u001b[0;34m\u001b[0m\u001b[0m\n\u001b[1;32m      4\u001b[0m \u001b[0;34m\u001b[0m\u001b[0m\n\u001b[0;32m----> 5\u001b[0;31m \u001b[0mdf\u001b[0m \u001b[0;34m=\u001b[0m \u001b[0mpd\u001b[0m\u001b[0;34m.\u001b[0m\u001b[0mread_csv\u001b[0m\u001b[0;34m(\u001b[0m\u001b[0;34m'KaggleV2-May-2016.csv'\u001b[0m\u001b[0;34m)\u001b[0m\u001b[0;34m\u001b[0m\u001b[0;34m\u001b[0m\u001b[0m\n\u001b[0m",
      "\u001b[0;32m/usr/local/lib/python3.7/dist-packages/pandas/io/parsers.py\u001b[0m in \u001b[0;36mread_csv\u001b[0;34m(filepath_or_buffer, sep, delimiter, header, names, index_col, usecols, squeeze, prefix, mangle_dupe_cols, dtype, engine, converters, true_values, false_values, skipinitialspace, skiprows, skipfooter, nrows, na_values, keep_default_na, na_filter, verbose, skip_blank_lines, parse_dates, infer_datetime_format, keep_date_col, date_parser, dayfirst, cache_dates, iterator, chunksize, compression, thousands, decimal, lineterminator, quotechar, quoting, doublequote, escapechar, comment, encoding, dialect, error_bad_lines, warn_bad_lines, delim_whitespace, low_memory, memory_map, float_precision)\u001b[0m\n\u001b[1;32m    686\u001b[0m     )\n\u001b[1;32m    687\u001b[0m \u001b[0;34m\u001b[0m\u001b[0m\n\u001b[0;32m--> 688\u001b[0;31m     \u001b[0;32mreturn\u001b[0m \u001b[0m_read\u001b[0m\u001b[0;34m(\u001b[0m\u001b[0mfilepath_or_buffer\u001b[0m\u001b[0;34m,\u001b[0m \u001b[0mkwds\u001b[0m\u001b[0;34m)\u001b[0m\u001b[0;34m\u001b[0m\u001b[0;34m\u001b[0m\u001b[0m\n\u001b[0m\u001b[1;32m    689\u001b[0m \u001b[0;34m\u001b[0m\u001b[0m\n\u001b[1;32m    690\u001b[0m \u001b[0;34m\u001b[0m\u001b[0m\n",
      "\u001b[0;32m/usr/local/lib/python3.7/dist-packages/pandas/io/parsers.py\u001b[0m in \u001b[0;36m_read\u001b[0;34m(filepath_or_buffer, kwds)\u001b[0m\n\u001b[1;32m    452\u001b[0m \u001b[0;34m\u001b[0m\u001b[0m\n\u001b[1;32m    453\u001b[0m     \u001b[0;31m# Create the parser.\u001b[0m\u001b[0;34m\u001b[0m\u001b[0;34m\u001b[0m\u001b[0;34m\u001b[0m\u001b[0m\n\u001b[0;32m--> 454\u001b[0;31m     \u001b[0mparser\u001b[0m \u001b[0;34m=\u001b[0m \u001b[0mTextFileReader\u001b[0m\u001b[0;34m(\u001b[0m\u001b[0mfp_or_buf\u001b[0m\u001b[0;34m,\u001b[0m \u001b[0;34m**\u001b[0m\u001b[0mkwds\u001b[0m\u001b[0;34m)\u001b[0m\u001b[0;34m\u001b[0m\u001b[0;34m\u001b[0m\u001b[0m\n\u001b[0m\u001b[1;32m    455\u001b[0m \u001b[0;34m\u001b[0m\u001b[0m\n\u001b[1;32m    456\u001b[0m     \u001b[0;32mif\u001b[0m \u001b[0mchunksize\u001b[0m \u001b[0;32mor\u001b[0m \u001b[0miterator\u001b[0m\u001b[0;34m:\u001b[0m\u001b[0;34m\u001b[0m\u001b[0;34m\u001b[0m\u001b[0m\n",
      "\u001b[0;32m/usr/local/lib/python3.7/dist-packages/pandas/io/parsers.py\u001b[0m in \u001b[0;36m__init__\u001b[0;34m(self, f, engine, **kwds)\u001b[0m\n\u001b[1;32m    946\u001b[0m             \u001b[0mself\u001b[0m\u001b[0;34m.\u001b[0m\u001b[0moptions\u001b[0m\u001b[0;34m[\u001b[0m\u001b[0;34m\"has_index_names\"\u001b[0m\u001b[0;34m]\u001b[0m \u001b[0;34m=\u001b[0m \u001b[0mkwds\u001b[0m\u001b[0;34m[\u001b[0m\u001b[0;34m\"has_index_names\"\u001b[0m\u001b[0;34m]\u001b[0m\u001b[0;34m\u001b[0m\u001b[0;34m\u001b[0m\u001b[0m\n\u001b[1;32m    947\u001b[0m \u001b[0;34m\u001b[0m\u001b[0m\n\u001b[0;32m--> 948\u001b[0;31m         \u001b[0mself\u001b[0m\u001b[0;34m.\u001b[0m\u001b[0m_make_engine\u001b[0m\u001b[0;34m(\u001b[0m\u001b[0mself\u001b[0m\u001b[0;34m.\u001b[0m\u001b[0mengine\u001b[0m\u001b[0;34m)\u001b[0m\u001b[0;34m\u001b[0m\u001b[0;34m\u001b[0m\u001b[0m\n\u001b[0m\u001b[1;32m    949\u001b[0m \u001b[0;34m\u001b[0m\u001b[0m\n\u001b[1;32m    950\u001b[0m     \u001b[0;32mdef\u001b[0m \u001b[0mclose\u001b[0m\u001b[0;34m(\u001b[0m\u001b[0mself\u001b[0m\u001b[0;34m)\u001b[0m\u001b[0;34m:\u001b[0m\u001b[0;34m\u001b[0m\u001b[0;34m\u001b[0m\u001b[0m\n",
      "\u001b[0;32m/usr/local/lib/python3.7/dist-packages/pandas/io/parsers.py\u001b[0m in \u001b[0;36m_make_engine\u001b[0;34m(self, engine)\u001b[0m\n\u001b[1;32m   1178\u001b[0m     \u001b[0;32mdef\u001b[0m \u001b[0m_make_engine\u001b[0m\u001b[0;34m(\u001b[0m\u001b[0mself\u001b[0m\u001b[0;34m,\u001b[0m \u001b[0mengine\u001b[0m\u001b[0;34m=\u001b[0m\u001b[0;34m\"c\"\u001b[0m\u001b[0;34m)\u001b[0m\u001b[0;34m:\u001b[0m\u001b[0;34m\u001b[0m\u001b[0;34m\u001b[0m\u001b[0m\n\u001b[1;32m   1179\u001b[0m         \u001b[0;32mif\u001b[0m \u001b[0mengine\u001b[0m \u001b[0;34m==\u001b[0m \u001b[0;34m\"c\"\u001b[0m\u001b[0;34m:\u001b[0m\u001b[0;34m\u001b[0m\u001b[0;34m\u001b[0m\u001b[0m\n\u001b[0;32m-> 1180\u001b[0;31m             \u001b[0mself\u001b[0m\u001b[0;34m.\u001b[0m\u001b[0m_engine\u001b[0m \u001b[0;34m=\u001b[0m \u001b[0mCParserWrapper\u001b[0m\u001b[0;34m(\u001b[0m\u001b[0mself\u001b[0m\u001b[0;34m.\u001b[0m\u001b[0mf\u001b[0m\u001b[0;34m,\u001b[0m \u001b[0;34m**\u001b[0m\u001b[0mself\u001b[0m\u001b[0;34m.\u001b[0m\u001b[0moptions\u001b[0m\u001b[0;34m)\u001b[0m\u001b[0;34m\u001b[0m\u001b[0;34m\u001b[0m\u001b[0m\n\u001b[0m\u001b[1;32m   1181\u001b[0m         \u001b[0;32melse\u001b[0m\u001b[0;34m:\u001b[0m\u001b[0;34m\u001b[0m\u001b[0;34m\u001b[0m\u001b[0m\n\u001b[1;32m   1182\u001b[0m             \u001b[0;32mif\u001b[0m \u001b[0mengine\u001b[0m \u001b[0;34m==\u001b[0m \u001b[0;34m\"python\"\u001b[0m\u001b[0;34m:\u001b[0m\u001b[0;34m\u001b[0m\u001b[0;34m\u001b[0m\u001b[0m\n",
      "\u001b[0;32m/usr/local/lib/python3.7/dist-packages/pandas/io/parsers.py\u001b[0m in \u001b[0;36m__init__\u001b[0;34m(self, src, **kwds)\u001b[0m\n\u001b[1;32m   2008\u001b[0m         \u001b[0mkwds\u001b[0m\u001b[0;34m[\u001b[0m\u001b[0;34m\"usecols\"\u001b[0m\u001b[0;34m]\u001b[0m \u001b[0;34m=\u001b[0m \u001b[0mself\u001b[0m\u001b[0;34m.\u001b[0m\u001b[0musecols\u001b[0m\u001b[0;34m\u001b[0m\u001b[0;34m\u001b[0m\u001b[0m\n\u001b[1;32m   2009\u001b[0m \u001b[0;34m\u001b[0m\u001b[0m\n\u001b[0;32m-> 2010\u001b[0;31m         \u001b[0mself\u001b[0m\u001b[0;34m.\u001b[0m\u001b[0m_reader\u001b[0m \u001b[0;34m=\u001b[0m \u001b[0mparsers\u001b[0m\u001b[0;34m.\u001b[0m\u001b[0mTextReader\u001b[0m\u001b[0;34m(\u001b[0m\u001b[0msrc\u001b[0m\u001b[0;34m,\u001b[0m \u001b[0;34m**\u001b[0m\u001b[0mkwds\u001b[0m\u001b[0;34m)\u001b[0m\u001b[0;34m\u001b[0m\u001b[0;34m\u001b[0m\u001b[0m\n\u001b[0m\u001b[1;32m   2011\u001b[0m         \u001b[0mself\u001b[0m\u001b[0;34m.\u001b[0m\u001b[0munnamed_cols\u001b[0m \u001b[0;34m=\u001b[0m \u001b[0mself\u001b[0m\u001b[0;34m.\u001b[0m\u001b[0m_reader\u001b[0m\u001b[0;34m.\u001b[0m\u001b[0munnamed_cols\u001b[0m\u001b[0;34m\u001b[0m\u001b[0;34m\u001b[0m\u001b[0m\n\u001b[1;32m   2012\u001b[0m \u001b[0;34m\u001b[0m\u001b[0m\n",
      "\u001b[0;32mpandas/_libs/parsers.pyx\u001b[0m in \u001b[0;36mpandas._libs.parsers.TextReader.__cinit__\u001b[0;34m()\u001b[0m\n",
      "\u001b[0;32mpandas/_libs/parsers.pyx\u001b[0m in \u001b[0;36mpandas._libs.parsers.TextReader._setup_parser_source\u001b[0;34m()\u001b[0m\n",
      "\u001b[0;31mFileNotFoundError\u001b[0m: [Errno 2] No such file or directory: 'KaggleV2-May-2016.csv'"
     ]
    }
   ],
   "source": [
    "import pandas as pd\n",
    "import numpy as np\n",
    "import matplotlib.pyplot as plt\n",
    "\n",
    "df = pd.read_csv('KaggleV2-May-2016.csv')"
   ]
  },
  {
   "cell_type": "code",
   "execution_count": 53,
   "metadata": {
    "colab": {
     "base_uri": "https://localhost:8080/",
     "height": 35
    },
    "id": "QpMMCJHMGfh7",
    "outputId": "29b44154-c68b-4a7f-b8cf-c36658ea2ecb"
   },
   "outputs": [
    {
     "data": {
      "application/vnd.google.colaboratory.intrinsic+json": {
       "type": "string"
      },
      "text/plain": [
       "'/content'"
      ]
     },
     "execution_count": 53,
     "metadata": {
      "tags": []
     },
     "output_type": "execute_result"
    }
   ],
   "source": [
    "import os\n",
    "dir = os.path.abspath(os.curdir)\n",
    "\n",
    "dir"
   ]
  },
  {
   "cell_type": "code",
   "execution_count": null,
   "metadata": {
    "colab": {
     "base_uri": "https://localhost:8080/",
     "height": 326
    },
    "id": "Oy1RPb2hX50n",
    "outputId": "d04dd6f7-55ce-4ccc-a34e-6b408690057d"
   },
   "outputs": [
    {
     "data": {
      "text/html": [
       "<div>\n",
       "<style scoped>\n",
       "    .dataframe tbody tr th:only-of-type {\n",
       "        vertical-align: middle;\n",
       "    }\n",
       "\n",
       "    .dataframe tbody tr th {\n",
       "        vertical-align: top;\n",
       "    }\n",
       "\n",
       "    .dataframe thead th {\n",
       "        text-align: right;\n",
       "    }\n",
       "</style>\n",
       "<table border=\"1\" class=\"dataframe\">\n",
       "  <thead>\n",
       "    <tr style=\"text-align: right;\">\n",
       "      <th></th>\n",
       "      <th>PatientId</th>\n",
       "      <th>AppointmentID</th>\n",
       "      <th>Gender</th>\n",
       "      <th>ScheduledDay</th>\n",
       "      <th>AppointmentDay</th>\n",
       "      <th>Age</th>\n",
       "      <th>Neighbourhood</th>\n",
       "      <th>Scholarship</th>\n",
       "      <th>Hipertension</th>\n",
       "      <th>Diabetes</th>\n",
       "      <th>Alcoholism</th>\n",
       "      <th>Handcap</th>\n",
       "      <th>SMS_received</th>\n",
       "      <th>No-show</th>\n",
       "    </tr>\n",
       "  </thead>\n",
       "  <tbody>\n",
       "    <tr>\n",
       "      <th>0</th>\n",
       "      <td>2.987250e+13</td>\n",
       "      <td>5642903</td>\n",
       "      <td>F</td>\n",
       "      <td>2016-04-29T18:38:08Z</td>\n",
       "      <td>2016-04-29T00:00:00Z</td>\n",
       "      <td>62</td>\n",
       "      <td>JARDIM DA PENHA</td>\n",
       "      <td>0</td>\n",
       "      <td>1.0</td>\n",
       "      <td>0.0</td>\n",
       "      <td>0.0</td>\n",
       "      <td>0.0</td>\n",
       "      <td>0.0</td>\n",
       "      <td>No</td>\n",
       "    </tr>\n",
       "    <tr>\n",
       "      <th>1</th>\n",
       "      <td>5.589978e+14</td>\n",
       "      <td>5642503</td>\n",
       "      <td>M</td>\n",
       "      <td>2016-04-29T16:08:27Z</td>\n",
       "      <td>2016-04-29T00:00:00Z</td>\n",
       "      <td>56</td>\n",
       "      <td>JARDIM DA PENHA</td>\n",
       "      <td>0</td>\n",
       "      <td>0.0</td>\n",
       "      <td>0.0</td>\n",
       "      <td>0.0</td>\n",
       "      <td>0.0</td>\n",
       "      <td>0.0</td>\n",
       "      <td>No</td>\n",
       "    </tr>\n",
       "    <tr>\n",
       "      <th>2</th>\n",
       "      <td>4.262962e+12</td>\n",
       "      <td>5642549</td>\n",
       "      <td>F</td>\n",
       "      <td>2016-04-29T16:19:04Z</td>\n",
       "      <td>2016-04-29T00:00:00Z</td>\n",
       "      <td>62</td>\n",
       "      <td>MATA DA PRAIA</td>\n",
       "      <td>0</td>\n",
       "      <td>0.0</td>\n",
       "      <td>0.0</td>\n",
       "      <td>0.0</td>\n",
       "      <td>0.0</td>\n",
       "      <td>0.0</td>\n",
       "      <td>No</td>\n",
       "    </tr>\n",
       "    <tr>\n",
       "      <th>3</th>\n",
       "      <td>8.679512e+11</td>\n",
       "      <td>5642828</td>\n",
       "      <td>F</td>\n",
       "      <td>2016-04-29T17:29:31Z</td>\n",
       "      <td>2016-04-29T00:00:00Z</td>\n",
       "      <td>8</td>\n",
       "      <td>PONTAL DE CAMBURI</td>\n",
       "      <td>0</td>\n",
       "      <td>0.0</td>\n",
       "      <td>0.0</td>\n",
       "      <td>0.0</td>\n",
       "      <td>0.0</td>\n",
       "      <td>0.0</td>\n",
       "      <td>No</td>\n",
       "    </tr>\n",
       "    <tr>\n",
       "      <th>4</th>\n",
       "      <td>8.841186e+12</td>\n",
       "      <td>5642494</td>\n",
       "      <td>F</td>\n",
       "      <td>2016-04-29T16:07:23Z</td>\n",
       "      <td>2016-04-29T00:00:00Z</td>\n",
       "      <td>56</td>\n",
       "      <td>JARDIM DA PENHA</td>\n",
       "      <td>0</td>\n",
       "      <td>1.0</td>\n",
       "      <td>1.0</td>\n",
       "      <td>0.0</td>\n",
       "      <td>0.0</td>\n",
       "      <td>0.0</td>\n",
       "      <td>No</td>\n",
       "    </tr>\n",
       "  </tbody>\n",
       "</table>\n",
       "</div>"
      ],
      "text/plain": [
       "      PatientId  AppointmentID Gender  ... Handcap SMS_received  No-show\n",
       "0  2.987250e+13        5642903      F  ...     0.0          0.0       No\n",
       "1  5.589978e+14        5642503      M  ...     0.0          0.0       No\n",
       "2  4.262962e+12        5642549      F  ...     0.0          0.0       No\n",
       "3  8.679512e+11        5642828      F  ...     0.0          0.0       No\n",
       "4  8.841186e+12        5642494      F  ...     0.0          0.0       No\n",
       "\n",
       "[5 rows x 14 columns]"
      ]
     },
     "execution_count": 3,
     "metadata": {
      "tags": []
     },
     "output_type": "execute_result"
    }
   ],
   "source": [
    "df.head(5)"
   ]
  },
  {
   "cell_type": "code",
   "execution_count": null,
   "metadata": {
    "colab": {
     "base_uri": "https://localhost:8080/",
     "height": 326
    },
    "id": "1kvB5uOhX72u",
    "outputId": "a762f3c1-fe36-4d71-c156-8dec8170b75b"
   },
   "outputs": [
    {
     "data": {
      "text/html": [
       "<div>\n",
       "<style scoped>\n",
       "    .dataframe tbody tr th:only-of-type {\n",
       "        vertical-align: middle;\n",
       "    }\n",
       "\n",
       "    .dataframe tbody tr th {\n",
       "        vertical-align: top;\n",
       "    }\n",
       "\n",
       "    .dataframe thead th {\n",
       "        text-align: right;\n",
       "    }\n",
       "</style>\n",
       "<table border=\"1\" class=\"dataframe\">\n",
       "  <thead>\n",
       "    <tr style=\"text-align: right;\">\n",
       "      <th></th>\n",
       "      <th>PatientId</th>\n",
       "      <th>AppointmentID</th>\n",
       "      <th>Gender</th>\n",
       "      <th>ScheduledDay</th>\n",
       "      <th>AppointmentDay</th>\n",
       "      <th>Age</th>\n",
       "      <th>Neighbourhood</th>\n",
       "      <th>Scholarship</th>\n",
       "      <th>Hipertension</th>\n",
       "      <th>Diabetes</th>\n",
       "      <th>Alcoholism</th>\n",
       "      <th>Handcap</th>\n",
       "      <th>SMS_received</th>\n",
       "      <th>No-show</th>\n",
       "      <th>age_cohorts</th>\n",
       "    </tr>\n",
       "  </thead>\n",
       "  <tbody>\n",
       "    <tr>\n",
       "      <th>0</th>\n",
       "      <td>2.987250e+13</td>\n",
       "      <td>5642903</td>\n",
       "      <td>F</td>\n",
       "      <td>2016-04-29T18:38:08Z</td>\n",
       "      <td>2016-04-29T00:00:00Z</td>\n",
       "      <td>62</td>\n",
       "      <td>JARDIM DA PENHA</td>\n",
       "      <td>0</td>\n",
       "      <td>1.0</td>\n",
       "      <td>0.0</td>\n",
       "      <td>0.0</td>\n",
       "      <td>0.0</td>\n",
       "      <td>0.0</td>\n",
       "      <td>No</td>\n",
       "      <td>(57.5, 69.0]</td>\n",
       "    </tr>\n",
       "    <tr>\n",
       "      <th>1</th>\n",
       "      <td>5.589978e+14</td>\n",
       "      <td>5642503</td>\n",
       "      <td>M</td>\n",
       "      <td>2016-04-29T16:08:27Z</td>\n",
       "      <td>2016-04-29T00:00:00Z</td>\n",
       "      <td>56</td>\n",
       "      <td>JARDIM DA PENHA</td>\n",
       "      <td>0</td>\n",
       "      <td>0.0</td>\n",
       "      <td>0.0</td>\n",
       "      <td>0.0</td>\n",
       "      <td>0.0</td>\n",
       "      <td>0.0</td>\n",
       "      <td>No</td>\n",
       "      <td>(46.0, 57.5]</td>\n",
       "    </tr>\n",
       "    <tr>\n",
       "      <th>2</th>\n",
       "      <td>4.262962e+12</td>\n",
       "      <td>5642549</td>\n",
       "      <td>F</td>\n",
       "      <td>2016-04-29T16:19:04Z</td>\n",
       "      <td>2016-04-29T00:00:00Z</td>\n",
       "      <td>62</td>\n",
       "      <td>MATA DA PRAIA</td>\n",
       "      <td>0</td>\n",
       "      <td>0.0</td>\n",
       "      <td>0.0</td>\n",
       "      <td>0.0</td>\n",
       "      <td>0.0</td>\n",
       "      <td>0.0</td>\n",
       "      <td>No</td>\n",
       "      <td>(57.5, 69.0]</td>\n",
       "    </tr>\n",
       "    <tr>\n",
       "      <th>3</th>\n",
       "      <td>8.679512e+11</td>\n",
       "      <td>5642828</td>\n",
       "      <td>F</td>\n",
       "      <td>2016-04-29T17:29:31Z</td>\n",
       "      <td>2016-04-29T00:00:00Z</td>\n",
       "      <td>8</td>\n",
       "      <td>PONTAL DE CAMBURI</td>\n",
       "      <td>0</td>\n",
       "      <td>0.0</td>\n",
       "      <td>0.0</td>\n",
       "      <td>0.0</td>\n",
       "      <td>0.0</td>\n",
       "      <td>0.0</td>\n",
       "      <td>No</td>\n",
       "      <td>(-0.115, 11.5]</td>\n",
       "    </tr>\n",
       "    <tr>\n",
       "      <th>4</th>\n",
       "      <td>8.841186e+12</td>\n",
       "      <td>5642494</td>\n",
       "      <td>F</td>\n",
       "      <td>2016-04-29T16:07:23Z</td>\n",
       "      <td>2016-04-29T00:00:00Z</td>\n",
       "      <td>56</td>\n",
       "      <td>JARDIM DA PENHA</td>\n",
       "      <td>0</td>\n",
       "      <td>1.0</td>\n",
       "      <td>1.0</td>\n",
       "      <td>0.0</td>\n",
       "      <td>0.0</td>\n",
       "      <td>0.0</td>\n",
       "      <td>No</td>\n",
       "      <td>(46.0, 57.5]</td>\n",
       "    </tr>\n",
       "  </tbody>\n",
       "</table>\n",
       "</div>"
      ],
      "text/plain": [
       "      PatientId  AppointmentID Gender  ... SMS_received No-show     age_cohorts\n",
       "0  2.987250e+13        5642903      F  ...          0.0      No    (57.5, 69.0]\n",
       "1  5.589978e+14        5642503      M  ...          0.0      No    (46.0, 57.5]\n",
       "2  4.262962e+12        5642549      F  ...          0.0      No    (57.5, 69.0]\n",
       "3  8.679512e+11        5642828      F  ...          0.0      No  (-0.115, 11.5]\n",
       "4  8.841186e+12        5642494      F  ...          0.0      No    (46.0, 57.5]\n",
       "\n",
       "[5 rows x 15 columns]"
      ]
     },
     "execution_count": 6,
     "metadata": {
      "tags": []
     },
     "output_type": "execute_result"
    }
   ],
   "source": [
    "df['age_cohorts'] = pd.cut(df['Age'], 10)\n",
    "df.head(5)"
   ]
  },
  {
   "cell_type": "code",
   "execution_count": null,
   "metadata": {
    "colab": {
     "base_uri": "https://localhost:8080/",
     "height": 221
    },
    "id": "5V725vuDYGva",
    "outputId": "bdd2619d-67a3-4b35-d40c-ee7b83b41987"
   },
   "outputs": [
    {
     "data": {
      "text/plain": [
       "age_cohorts\n",
       "(-0.115, 11.5]    11731\n",
       "(11.5, 23.0]       9623\n",
       "(23.0, 34.5]       9370\n",
       "(34.5, 46.0]      10318\n",
       "(46.0, 57.5]       9984\n",
       "(57.5, 69.0]       8524\n",
       "(69.0, 80.5]       3606\n",
       "(80.5, 92.0]       1494\n",
       "(92.0, 103.5]        79\n",
       "(103.5, 115.0]        2\n",
       "dtype: int64"
      ]
     },
     "execution_count": 9,
     "metadata": {
      "tags": []
     },
     "output_type": "execute_result"
    }
   ],
   "source": [
    "df.groupby('age_cohorts').size()"
   ]
  },
  {
   "cell_type": "code",
   "execution_count": null,
   "metadata": {
    "colab": {
     "base_uri": "https://localhost:8080/",
     "height": 326
    },
    "id": "ZPLzorOtYSe0",
    "outputId": "d519e6f0-c3c5-40ec-aaa1-2a8664e9cfbf"
   },
   "outputs": [
    {
     "data": {
      "text/html": [
       "<div>\n",
       "<style scoped>\n",
       "    .dataframe tbody tr th:only-of-type {\n",
       "        vertical-align: middle;\n",
       "    }\n",
       "\n",
       "    .dataframe tbody tr th {\n",
       "        vertical-align: top;\n",
       "    }\n",
       "\n",
       "    .dataframe thead th {\n",
       "        text-align: right;\n",
       "    }\n",
       "</style>\n",
       "<table border=\"1\" class=\"dataframe\">\n",
       "  <thead>\n",
       "    <tr style=\"text-align: right;\">\n",
       "      <th></th>\n",
       "      <th>PatientId</th>\n",
       "      <th>AppointmentID</th>\n",
       "      <th>Gender</th>\n",
       "      <th>ScheduledDay</th>\n",
       "      <th>AppointmentDay</th>\n",
       "      <th>Age</th>\n",
       "      <th>Neighbourhood</th>\n",
       "      <th>Scholarship</th>\n",
       "      <th>Hipertension</th>\n",
       "      <th>Diabetes</th>\n",
       "      <th>Alcoholism</th>\n",
       "      <th>Handcap</th>\n",
       "      <th>SMS_received</th>\n",
       "      <th>No-show</th>\n",
       "      <th>age_cohorts</th>\n",
       "    </tr>\n",
       "  </thead>\n",
       "  <tbody>\n",
       "    <tr>\n",
       "      <th>0</th>\n",
       "      <td>2.987250e+13</td>\n",
       "      <td>5642903</td>\n",
       "      <td>F</td>\n",
       "      <td>2016-04-29T18:38:08Z</td>\n",
       "      <td>2016-04-29T00:00:00Z</td>\n",
       "      <td>62</td>\n",
       "      <td>JARDIM DA PENHA</td>\n",
       "      <td>0</td>\n",
       "      <td>1.0</td>\n",
       "      <td>0.0</td>\n",
       "      <td>0.0</td>\n",
       "      <td>0.0</td>\n",
       "      <td>0.0</td>\n",
       "      <td>False</td>\n",
       "      <td>(57.5, 69.0]</td>\n",
       "    </tr>\n",
       "    <tr>\n",
       "      <th>1</th>\n",
       "      <td>5.589978e+14</td>\n",
       "      <td>5642503</td>\n",
       "      <td>M</td>\n",
       "      <td>2016-04-29T16:08:27Z</td>\n",
       "      <td>2016-04-29T00:00:00Z</td>\n",
       "      <td>56</td>\n",
       "      <td>JARDIM DA PENHA</td>\n",
       "      <td>0</td>\n",
       "      <td>0.0</td>\n",
       "      <td>0.0</td>\n",
       "      <td>0.0</td>\n",
       "      <td>0.0</td>\n",
       "      <td>0.0</td>\n",
       "      <td>False</td>\n",
       "      <td>(46.0, 57.5]</td>\n",
       "    </tr>\n",
       "    <tr>\n",
       "      <th>2</th>\n",
       "      <td>4.262962e+12</td>\n",
       "      <td>5642549</td>\n",
       "      <td>F</td>\n",
       "      <td>2016-04-29T16:19:04Z</td>\n",
       "      <td>2016-04-29T00:00:00Z</td>\n",
       "      <td>62</td>\n",
       "      <td>MATA DA PRAIA</td>\n",
       "      <td>0</td>\n",
       "      <td>0.0</td>\n",
       "      <td>0.0</td>\n",
       "      <td>0.0</td>\n",
       "      <td>0.0</td>\n",
       "      <td>0.0</td>\n",
       "      <td>False</td>\n",
       "      <td>(57.5, 69.0]</td>\n",
       "    </tr>\n",
       "    <tr>\n",
       "      <th>3</th>\n",
       "      <td>8.679512e+11</td>\n",
       "      <td>5642828</td>\n",
       "      <td>F</td>\n",
       "      <td>2016-04-29T17:29:31Z</td>\n",
       "      <td>2016-04-29T00:00:00Z</td>\n",
       "      <td>8</td>\n",
       "      <td>PONTAL DE CAMBURI</td>\n",
       "      <td>0</td>\n",
       "      <td>0.0</td>\n",
       "      <td>0.0</td>\n",
       "      <td>0.0</td>\n",
       "      <td>0.0</td>\n",
       "      <td>0.0</td>\n",
       "      <td>False</td>\n",
       "      <td>(-0.115, 11.5]</td>\n",
       "    </tr>\n",
       "    <tr>\n",
       "      <th>4</th>\n",
       "      <td>8.841186e+12</td>\n",
       "      <td>5642494</td>\n",
       "      <td>F</td>\n",
       "      <td>2016-04-29T16:07:23Z</td>\n",
       "      <td>2016-04-29T00:00:00Z</td>\n",
       "      <td>56</td>\n",
       "      <td>JARDIM DA PENHA</td>\n",
       "      <td>0</td>\n",
       "      <td>1.0</td>\n",
       "      <td>1.0</td>\n",
       "      <td>0.0</td>\n",
       "      <td>0.0</td>\n",
       "      <td>0.0</td>\n",
       "      <td>False</td>\n",
       "      <td>(46.0, 57.5]</td>\n",
       "    </tr>\n",
       "  </tbody>\n",
       "</table>\n",
       "</div>"
      ],
      "text/plain": [
       "      PatientId  AppointmentID Gender  ... SMS_received No-show     age_cohorts\n",
       "0  2.987250e+13        5642903      F  ...          0.0   False    (57.5, 69.0]\n",
       "1  5.589978e+14        5642503      M  ...          0.0   False    (46.0, 57.5]\n",
       "2  4.262962e+12        5642549      F  ...          0.0   False    (57.5, 69.0]\n",
       "3  8.679512e+11        5642828      F  ...          0.0   False  (-0.115, 11.5]\n",
       "4  8.841186e+12        5642494      F  ...          0.0   False    (46.0, 57.5]\n",
       "\n",
       "[5 rows x 15 columns]"
      ]
     },
     "execution_count": 12,
     "metadata": {
      "tags": []
     },
     "output_type": "execute_result"
    }
   ],
   "source": [
    "df = df.replace({'No-show': {'No': False, 'Yes': True}})\n",
    "df.head(5)"
   ]
  },
  {
   "cell_type": "code",
   "execution_count": null,
   "metadata": {
    "colab": {
     "base_uri": "https://localhost:8080/",
     "height": 326
    },
    "id": "QXfCrYT4YlG1",
    "outputId": "8c0ba8a4-15f5-41bc-8656-0693b8dc70d5"
   },
   "outputs": [
    {
     "data": {
      "text/html": [
       "<div>\n",
       "<style scoped>\n",
       "    .dataframe tbody tr th:only-of-type {\n",
       "        vertical-align: middle;\n",
       "    }\n",
       "\n",
       "    .dataframe tbody tr th {\n",
       "        vertical-align: top;\n",
       "    }\n",
       "\n",
       "    .dataframe thead th {\n",
       "        text-align: right;\n",
       "    }\n",
       "</style>\n",
       "<table border=\"1\" class=\"dataframe\">\n",
       "  <thead>\n",
       "    <tr style=\"text-align: right;\">\n",
       "      <th></th>\n",
       "      <th>PatientId</th>\n",
       "      <th>AppointmentID</th>\n",
       "      <th>Gender</th>\n",
       "      <th>ScheduledDay</th>\n",
       "      <th>AppointmentDay</th>\n",
       "      <th>Age</th>\n",
       "      <th>Neighbourhood</th>\n",
       "      <th>Scholarship</th>\n",
       "      <th>Hipertension</th>\n",
       "      <th>Diabetes</th>\n",
       "      <th>Alcoholism</th>\n",
       "      <th>Handcap</th>\n",
       "      <th>SMS_received</th>\n",
       "      <th>No-show</th>\n",
       "      <th>age_cohorts</th>\n",
       "      <th>show</th>\n",
       "    </tr>\n",
       "  </thead>\n",
       "  <tbody>\n",
       "    <tr>\n",
       "      <th>0</th>\n",
       "      <td>2.987250e+13</td>\n",
       "      <td>5642903</td>\n",
       "      <td>F</td>\n",
       "      <td>2016-04-29T18:38:08Z</td>\n",
       "      <td>2016-04-29T00:00:00Z</td>\n",
       "      <td>62</td>\n",
       "      <td>JARDIM DA PENHA</td>\n",
       "      <td>0</td>\n",
       "      <td>1.0</td>\n",
       "      <td>0.0</td>\n",
       "      <td>0.0</td>\n",
       "      <td>0.0</td>\n",
       "      <td>0.0</td>\n",
       "      <td>False</td>\n",
       "      <td>(57.5, 69.0]</td>\n",
       "      <td>True</td>\n",
       "    </tr>\n",
       "    <tr>\n",
       "      <th>1</th>\n",
       "      <td>5.589978e+14</td>\n",
       "      <td>5642503</td>\n",
       "      <td>M</td>\n",
       "      <td>2016-04-29T16:08:27Z</td>\n",
       "      <td>2016-04-29T00:00:00Z</td>\n",
       "      <td>56</td>\n",
       "      <td>JARDIM DA PENHA</td>\n",
       "      <td>0</td>\n",
       "      <td>0.0</td>\n",
       "      <td>0.0</td>\n",
       "      <td>0.0</td>\n",
       "      <td>0.0</td>\n",
       "      <td>0.0</td>\n",
       "      <td>False</td>\n",
       "      <td>(46.0, 57.5]</td>\n",
       "      <td>True</td>\n",
       "    </tr>\n",
       "    <tr>\n",
       "      <th>2</th>\n",
       "      <td>4.262962e+12</td>\n",
       "      <td>5642549</td>\n",
       "      <td>F</td>\n",
       "      <td>2016-04-29T16:19:04Z</td>\n",
       "      <td>2016-04-29T00:00:00Z</td>\n",
       "      <td>62</td>\n",
       "      <td>MATA DA PRAIA</td>\n",
       "      <td>0</td>\n",
       "      <td>0.0</td>\n",
       "      <td>0.0</td>\n",
       "      <td>0.0</td>\n",
       "      <td>0.0</td>\n",
       "      <td>0.0</td>\n",
       "      <td>False</td>\n",
       "      <td>(57.5, 69.0]</td>\n",
       "      <td>True</td>\n",
       "    </tr>\n",
       "    <tr>\n",
       "      <th>3</th>\n",
       "      <td>8.679512e+11</td>\n",
       "      <td>5642828</td>\n",
       "      <td>F</td>\n",
       "      <td>2016-04-29T17:29:31Z</td>\n",
       "      <td>2016-04-29T00:00:00Z</td>\n",
       "      <td>8</td>\n",
       "      <td>PONTAL DE CAMBURI</td>\n",
       "      <td>0</td>\n",
       "      <td>0.0</td>\n",
       "      <td>0.0</td>\n",
       "      <td>0.0</td>\n",
       "      <td>0.0</td>\n",
       "      <td>0.0</td>\n",
       "      <td>False</td>\n",
       "      <td>(-0.115, 11.5]</td>\n",
       "      <td>True</td>\n",
       "    </tr>\n",
       "    <tr>\n",
       "      <th>4</th>\n",
       "      <td>8.841186e+12</td>\n",
       "      <td>5642494</td>\n",
       "      <td>F</td>\n",
       "      <td>2016-04-29T16:07:23Z</td>\n",
       "      <td>2016-04-29T00:00:00Z</td>\n",
       "      <td>56</td>\n",
       "      <td>JARDIM DA PENHA</td>\n",
       "      <td>0</td>\n",
       "      <td>1.0</td>\n",
       "      <td>1.0</td>\n",
       "      <td>0.0</td>\n",
       "      <td>0.0</td>\n",
       "      <td>0.0</td>\n",
       "      <td>False</td>\n",
       "      <td>(46.0, 57.5]</td>\n",
       "      <td>True</td>\n",
       "    </tr>\n",
       "  </tbody>\n",
       "</table>\n",
       "</div>"
      ],
      "text/plain": [
       "      PatientId  AppointmentID Gender  ... No-show     age_cohorts  show\n",
       "0  2.987250e+13        5642903      F  ...   False    (57.5, 69.0]  True\n",
       "1  5.589978e+14        5642503      M  ...   False    (46.0, 57.5]  True\n",
       "2  4.262962e+12        5642549      F  ...   False    (57.5, 69.0]  True\n",
       "3  8.679512e+11        5642828      F  ...   False  (-0.115, 11.5]  True\n",
       "4  8.841186e+12        5642494      F  ...   False    (46.0, 57.5]  True\n",
       "\n",
       "[5 rows x 16 columns]"
      ]
     },
     "execution_count": 18,
     "metadata": {
      "tags": []
     },
     "output_type": "execute_result"
    }
   ],
   "source": [
    "df['show'] = ~df['No-show'].astype(np.bool)\n",
    "df.head(5)"
   ]
  },
  {
   "cell_type": "code",
   "execution_count": null,
   "metadata": {
    "id": "FyCFoLxcY1hV"
   },
   "outputs": [],
   "source": [
    "percentage_by_age = df.groupby('age_cohorts')['show'].sum() / df.groupby('age_cohorts')['show'].count()"
   ]
  },
  {
   "cell_type": "code",
   "execution_count": null,
   "metadata": {
    "colab": {
     "base_uri": "https://localhost:8080/",
     "height": 358
    },
    "id": "2WdeonZEZUc4",
    "outputId": "cc2e60f6-7f70-4bd6-f76f-89ddb55859a3"
   },
   "outputs": [
    {
     "data": {
      "text/plain": [
       "<matplotlib.axes._subplots.AxesSubplot at 0x7fc8603e96d8>"
      ]
     },
     "execution_count": 26,
     "metadata": {
      "tags": []
     },
     "output_type": "execute_result"
    },
    {
     "data": {
      "image/png": "[encoded data removed]",
      "text/plain": [
       "<Figure size 432x288 with 1 Axes>"
      ]
     },
     "metadata": {
      "needs_background": "light",
      "tags": []
     },
     "output_type": "display_data"
    }
   ],
   "source": [
    "percentage_by_age.plot.bar()"
   ]
  },
  {
   "cell_type": "code",
   "execution_count": null,
   "metadata": {
    "id": "d4Xqi2ekcW-7"
   },
   "outputs": [],
   "source": [
    "percentage_mean_delta = (percentage_by_age - percentage_by_age.mean())"
   ]
  },
  {
   "cell_type": "code",
   "execution_count": null,
   "metadata": {
    "colab": {
     "base_uri": "https://localhost:8080/",
     "height": 374
    },
    "id": "Fcb2qqeNZjDf",
    "outputId": "399a2b9a-ec7b-4ffd-cd7d-00ad78a475e7"
   },
   "outputs": [
    {
     "data": {
      "text/plain": [
       "Text(1, -0.4, 'Mean attendance: 0.72')"
      ]
     },
     "execution_count": 45,
     "metadata": {
      "tags": []
     },
     "output_type": "execute_result"
    },
    {
     "data": {
      "image/png": "[encoded data removed]",
      "text/plain": [
       "<Figure size 432x288 with 1 Axes>"
      ]
     },
     "metadata": {
      "needs_background": "light",
      "tags": []
     },
     "output_type": "display_data"
    }
   ],
   "source": [
    "percentage_mean_delta.plot.bar(title='Mean delta for attendance by age groups')\n",
    "plt.text(1, -0.4, 'Mean attendance: {:.2f}'.format(percentage_by_age.mean()))"
   ]
  },
  {
   "cell_type": "code",
   "execution_count": null,
   "metadata": {
    "colab": {
     "base_uri": "https://localhost:8080/",
     "height": 372
    },
    "id": "gWl7oIc_Zwdp",
    "outputId": "b600bbd6-9476-4038-f688-5f05a622b888"
   },
   "outputs": [
    {
     "data": {
      "text/plain": [
       "Text(1, 0.1, 'Mean attendance: 0.72')"
      ]
     },
     "execution_count": 46,
     "metadata": {
      "tags": []
     },
     "output_type": "execute_result"
    },
    {
     "data": {
      "image/png": "[encoded data removed]",
      "text/plain": [
       "<Figure size 432x288 with 1 Axes>"
      ]
     },
     "metadata": {
      "needs_background": "light",
      "tags": []
     },
     "output_type": "display_data"
    }
   ],
   "source": [
    "percentage_mean_delta[:-1].plot.bar(title='Mean delta for attendance by age groups')\n",
    "plt.text(1, 0.10, 'Mean attendance: {:.2f}'.format(percentage_by_age.mean()))"
   ]
  },
  {
   "cell_type": "markdown",
   "metadata": {
    "id": "dS2Hegb8bbHB"
   },
   "source": [
    "### Построим доверительный интервал для посещаемости некоторых когорт"
   ]
  },
  {
   "cell_type": "code",
   "execution_count": null,
   "metadata": {
    "colab": {
     "base_uri": "https://localhost:8080/",
     "height": 71
    },
    "id": "RBocKZM7bJX9",
    "outputId": "989a2b56-bad7-4e88-9a41-1018a4fa7034"
   },
   "outputs": [
    {
     "name": "stderr",
     "output_type": "stream",
     "text": [
      "/usr/local/lib/python3.6/dist-packages/statsmodels/tools/_testing.py:19: FutureWarning: pandas.util.testing is deprecated. Use the functions in the public API at pandas.testing instead.\n",
      "  import pandas.util.testing as tm\n"
     ]
    }
   ],
   "source": [
    "from statsmodels.stats.proportion import proportion_confint"
   ]
  },
  {
   "cell_type": "markdown",
   "metadata": {
    "id": "xGcIwI6UcLBC"
   },
   "source": [
    "#### Доверительный интервал на основе нормального распределения\n",
    "$$\\hat{p}\\pm z_{1-\\frac{\\alpha}{2}} \\sqrt{\\frac{\\hat{p}\\left(1-\\hat{p}\\right)}{n}}$$"
   ]
  },
  {
   "cell_type": "code",
   "execution_count": null,
   "metadata": {
    "colab": {
     "base_uri": "https://localhost:8080/",
     "height": 326
    },
    "id": "VoMBQuCbdE6s",
    "outputId": "bf1f1891-2df4-4ca1-a3cf-dfeef0712c9e"
   },
   "outputs": [
    {
     "data": {
      "text/html": [
       "<div>\n",
       "<style scoped>\n",
       "    .dataframe tbody tr th:only-of-type {\n",
       "        vertical-align: middle;\n",
       "    }\n",
       "\n",
       "    .dataframe tbody tr th {\n",
       "        vertical-align: top;\n",
       "    }\n",
       "\n",
       "    .dataframe thead th {\n",
       "        text-align: right;\n",
       "    }\n",
       "</style>\n",
       "<table border=\"1\" class=\"dataframe\">\n",
       "  <thead>\n",
       "    <tr style=\"text-align: right;\">\n",
       "      <th></th>\n",
       "      <th>PatientId</th>\n",
       "      <th>AppointmentID</th>\n",
       "      <th>Gender</th>\n",
       "      <th>ScheduledDay</th>\n",
       "      <th>AppointmentDay</th>\n",
       "      <th>Age</th>\n",
       "      <th>Neighbourhood</th>\n",
       "      <th>Scholarship</th>\n",
       "      <th>Hipertension</th>\n",
       "      <th>Diabetes</th>\n",
       "      <th>Alcoholism</th>\n",
       "      <th>Handcap</th>\n",
       "      <th>SMS_received</th>\n",
       "      <th>No-show</th>\n",
       "      <th>age_cohorts</th>\n",
       "      <th>show</th>\n",
       "    </tr>\n",
       "  </thead>\n",
       "  <tbody>\n",
       "    <tr>\n",
       "      <th>38</th>\n",
       "      <td>5.873316e+12</td>\n",
       "      <td>5609446</td>\n",
       "      <td>M</td>\n",
       "      <td>2016-04-20T15:54:18Z</td>\n",
       "      <td>2016-04-29T00:00:00Z</td>\n",
       "      <td>85</td>\n",
       "      <td>SÃO CRISTÓVÃO</td>\n",
       "      <td>0</td>\n",
       "      <td>1.0</td>\n",
       "      <td>0.0</td>\n",
       "      <td>0.0</td>\n",
       "      <td>0.0</td>\n",
       "      <td>1.0</td>\n",
       "      <td>False</td>\n",
       "      <td>(80.5, 92.0]</td>\n",
       "      <td>True</td>\n",
       "    </tr>\n",
       "    <tr>\n",
       "      <th>190</th>\n",
       "      <td>9.458118e+09</td>\n",
       "      <td>5640554</td>\n",
       "      <td>M</td>\n",
       "      <td>2016-04-29T10:56:40Z</td>\n",
       "      <td>2016-04-29T00:00:00Z</td>\n",
       "      <td>81</td>\n",
       "      <td>CONQUISTA</td>\n",
       "      <td>0</td>\n",
       "      <td>0.0</td>\n",
       "      <td>0.0</td>\n",
       "      <td>0.0</td>\n",
       "      <td>1.0</td>\n",
       "      <td>0.0</td>\n",
       "      <td>False</td>\n",
       "      <td>(80.5, 92.0]</td>\n",
       "      <td>True</td>\n",
       "    </tr>\n",
       "    <tr>\n",
       "      <th>243</th>\n",
       "      <td>4.414318e+14</td>\n",
       "      <td>5639223</td>\n",
       "      <td>F</td>\n",
       "      <td>2016-04-29T08:49:15Z</td>\n",
       "      <td>2016-04-29T00:00:00Z</td>\n",
       "      <td>89</td>\n",
       "      <td>CARATOÍRA</td>\n",
       "      <td>0</td>\n",
       "      <td>1.0</td>\n",
       "      <td>0.0</td>\n",
       "      <td>0.0</td>\n",
       "      <td>0.0</td>\n",
       "      <td>0.0</td>\n",
       "      <td>False</td>\n",
       "      <td>(80.5, 92.0]</td>\n",
       "      <td>True</td>\n",
       "    </tr>\n",
       "    <tr>\n",
       "      <th>296</th>\n",
       "      <td>9.984591e+13</td>\n",
       "      <td>5640119</td>\n",
       "      <td>F</td>\n",
       "      <td>2016-04-29T10:08:47Z</td>\n",
       "      <td>2016-04-29T00:00:00Z</td>\n",
       "      <td>83</td>\n",
       "      <td>ILHA DE SANTA MARIA</td>\n",
       "      <td>0</td>\n",
       "      <td>0.0</td>\n",
       "      <td>0.0</td>\n",
       "      <td>0.0</td>\n",
       "      <td>0.0</td>\n",
       "      <td>0.0</td>\n",
       "      <td>False</td>\n",
       "      <td>(80.5, 92.0]</td>\n",
       "      <td>True</td>\n",
       "    </tr>\n",
       "    <tr>\n",
       "      <th>402</th>\n",
       "      <td>1.883563e+12</td>\n",
       "      <td>5624578</td>\n",
       "      <td>F</td>\n",
       "      <td>2016-04-26T16:23:49Z</td>\n",
       "      <td>2016-04-29T00:00:00Z</td>\n",
       "      <td>87</td>\n",
       "      <td>SOLON BORGES</td>\n",
       "      <td>0</td>\n",
       "      <td>0.0</td>\n",
       "      <td>0.0</td>\n",
       "      <td>0.0</td>\n",
       "      <td>0.0</td>\n",
       "      <td>0.0</td>\n",
       "      <td>False</td>\n",
       "      <td>(80.5, 92.0]</td>\n",
       "      <td>True</td>\n",
       "    </tr>\n",
       "  </tbody>\n",
       "</table>\n",
       "</div>"
      ],
      "text/plain": [
       "        PatientId  AppointmentID Gender  ... No-show   age_cohorts  show\n",
       "38   5.873316e+12        5609446      M  ...   False  (80.5, 92.0]  True\n",
       "190  9.458118e+09        5640554      M  ...   False  (80.5, 92.0]  True\n",
       "243  4.414318e+14        5639223      F  ...   False  (80.5, 92.0]  True\n",
       "296  9.984591e+13        5640119      F  ...   False  (80.5, 92.0]  True\n",
       "402  1.883563e+12        5624578      F  ...   False  (80.5, 92.0]  True\n",
       "\n",
       "[5 rows x 16 columns]"
      ]
     },
     "execution_count": 64,
     "metadata": {
      "tags": []
     },
     "output_type": "execute_result"
    }
   ],
   "source": [
    "cohort = df[df['age_cohorts'] == pd.Interval(80.5, 92.0, closed='right')]\n",
    "cohort.head(5)"
   ]
  },
  {
   "cell_type": "code",
   "execution_count": null,
   "metadata": {
    "colab": {
     "base_uri": "https://localhost:8080/",
     "height": 34
    },
    "id": "3F03pg8Udhj8",
    "outputId": "7bcfb72c-48f5-4b98-8938-4d2b59bcc48f"
   },
   "outputs": [
    {
     "data": {
      "text/plain": [
       "(1494, 16)"
      ]
     },
     "execution_count": 65,
     "metadata": {
      "tags": []
     },
     "output_type": "execute_result"
    }
   ],
   "source": [
    "cohort.shape"
   ]
  },
  {
   "cell_type": "code",
   "execution_count": null,
   "metadata": {
    "id": "TY1WK0tcOign"
   },
   "outputs": [],
   "source": [
    "normal_interval = proportion_confint(cohort['show'].sum(), cohort.shape[0], method = 'normal', alpha=0.05)"
   ]
  },
  {
   "cell_type": "code",
   "execution_count": null,
   "metadata": {
    "colab": {
     "base_uri": "https://localhost:8080/",
     "height": 34
    },
    "id": "5jKrLH2kOigt",
    "outputId": "d7d76b44-3892-4bcf-8df0-d40a57314b95"
   },
   "outputs": [
    {
     "name": "stdout",
     "output_type": "stream",
     "text": [
      "normal_interval [0.820738, 0.857977] with width 0.037240\n"
     ]
    }
   ],
   "source": [
    "print('normal_interval [%f, %f] with width %f' % (normal_interval[0],\n",
    "                                                  normal_interval[1], \n",
    "                                                  normal_interval[1] - normal_interval[0]))"
   ]
  },
  {
   "cell_type": "code",
   "execution_count": null,
   "metadata": {
    "id": "4pkPb_uUdsuu"
   },
   "outputs": [],
   "source": []
  },
  {
   "cell_type": "markdown",
   "metadata": {
    "id": "fI1mMtyZOig3"
   },
   "source": [
    "#### Доверительный интервал Уилсона"
   ]
  },
  {
   "cell_type": "markdown",
   "metadata": {
    "id": "uhNVeteKOig6"
   },
   "source": [
    "$$\\frac1{ 1 + \\frac{z^2}{n} } \\left( \\hat{p} + \\frac{z^2}{2n} \\pm z \\sqrt{ \\frac{ \\hat{p}\\left(1-\\hat{p}\\right)}{n} + \\frac{\n",
    "z^2}{4n^2} } \\right), \\;\\; z \\equiv z_{1-\\frac{\\alpha}{2}}$$ "
   ]
  },
  {
   "cell_type": "code",
   "execution_count": null,
   "metadata": {
    "id": "Q-m_pwEBOig9"
   },
   "outputs": [],
   "source": [
    "wilson_interval = proportion_confint(cohort['show'].sum(), cohort.shape[0], method = 'wilson', alpha=0.05)"
   ]
  },
  {
   "cell_type": "code",
   "execution_count": null,
   "metadata": {
    "colab": {
     "base_uri": "https://localhost:8080/",
     "height": 34
    },
    "id": "xCI1sDGDOihF",
    "outputId": "da3a480c-ad94-44f4-ee7d-e14c415b82ee"
   },
   "outputs": [
    {
     "name": "stdout",
     "output_type": "stream",
     "text": [
      "wilson_interval [0.819871, 0.857103] with width 0.037233\n"
     ]
    }
   ],
   "source": [
    "print('wilson_interval [%f, %f] with width %f' % (wilson_interval[0],\n",
    "                                                  wilson_interval[1],\n",
    "                                                  wilson_interval[1] - wilson_interval[0]))"
   ]
  },
  {
   "cell_type": "markdown",
   "metadata": {
    "id": "Xa3ue_Z0OihO"
   },
   "source": [
    "#### Размер выборки для интервала заданной ширины\n",
    "Мы можем решить обратную задачу, и посчитать сколько нужно данных для того, чтобы получить доверительный интервал заданной ширины"
   ]
  },
  {
   "cell_type": "code",
   "execution_count": null,
   "metadata": {
    "id": "PJIPHQ1rOihQ"
   },
   "outputs": [],
   "source": [
    "from statsmodels.stats.proportion import samplesize_confint_proportion\n",
    "np.random.seed(1)\n",
    "\n",
    "statistical_population = np.random.randint(2, size = 100000) \n",
    "\n",
    "random_sample = np.random.choice(statistical_population, size = 1000)"
   ]
  },
  {
   "cell_type": "code",
   "execution_count": null,
   "metadata": {
    "colab": {
     "base_uri": "https://localhost:8080/",
     "height": 34
    },
    "id": "Lvs3e1ZPOihW",
    "outputId": "33944867-5304-41fb-925b-82b18d17a70d"
   },
   "outputs": [
    {
     "data": {
      "text/plain": [
       "9604"
      ]
     },
     "execution_count": 76,
     "metadata": {
      "tags": []
     },
     "output_type": "execute_result"
    }
   ],
   "source": [
    "n_samples = int(np.ceil(samplesize_confint_proportion(random_sample.mean(), 0.01)))\n",
    "n_samples"
   ]
  },
  {
   "cell_type": "code",
   "execution_count": null,
   "metadata": {
    "id": "1XhBWYntOihe"
   },
   "outputs": [],
   "source": [
    "np.random.seed(1)\n",
    "random_sample = np.random.choice(statistical_population, size = n_samples)"
   ]
  },
  {
   "cell_type": "code",
   "execution_count": null,
   "metadata": {
    "id": "_VzDofJUOihm"
   },
   "outputs": [],
   "source": [
    "normal_interval = proportion_confint(sum(random_sample), len(random_sample), method = 'normal')"
   ]
  },
  {
   "cell_type": "code",
   "execution_count": null,
   "metadata": {
    "colab": {
     "base_uri": "https://localhost:8080/",
     "height": 34
    },
    "id": "scRdEtXKOihw",
    "outputId": "aa54dac4-6c8f-4873-ad1c-32eb9de05e91"
   },
   "outputs": [
    {
     "name": "stdout",
     "output_type": "stream",
     "text": [
      "normal_interval [0.481776, 0.501773] with width 0.019997\n"
     ]
    }
   ],
   "source": [
    "print('normal_interval [%f, %f] with width %f' % (normal_interval[0],\n",
    "                                                  normal_interval[1],\n",
    "                                                  normal_interval[1] - normal_interval[0]))"
   ]
  },
  {
   "cell_type": "code",
   "execution_count": null,
   "metadata": {
    "id": "jCLkqs3leuzo"
   },
   "outputs": [],
   "source": []
  },
  {
   "cell_type": "markdown",
   "metadata": {
    "id": "pkocAgD8fg2o"
   },
   "source": [
    "#### Что если интервалы пересекаются?"
   ]
  },
  {
   "cell_type": "code",
   "execution_count": null,
   "metadata": {
    "id": "ddf-QFX-Vfye"
   },
   "outputs": [],
   "source": [
    "cohort_a = df[df['age_cohorts'] == pd.Interval(69.0, 80.5, closed='right')]\n",
    "cohort_b = df[df['age_cohorts'] == pd.Interval(80.5, 92.0, closed='right')]\n",
    "\n",
    "conf_interval_a = proportion_confint(cohort_a['show'].sum(), \n",
    "                                            cohort_a.shape[0],\n",
    "                                            method = 'wilson')\n",
    "conf_interval_b = proportion_confint(cohort_b['show'].sum(), \n",
    "                                            cohort_b.shape[0],\n",
    "                                            method = 'wilson')"
   ]
  },
  {
   "cell_type": "code",
   "execution_count": null,
   "metadata": {
    "colab": {
     "base_uri": "https://localhost:8080/",
     "height": 51
    },
    "id": "bwdwfDi2Vfyk",
    "outputId": "0bd9815b-4696-4bdf-eb42-fc7851a51fd7"
   },
   "outputs": [
    {
     "name": "stdout",
     "output_type": "stream",
     "text": [
      "interval for a [0.835944, 0.859377]\n",
      "interval for b [0.819871, 0.857103]\n"
     ]
    }
   ],
   "source": [
    "print('interval for a [%f, %f]' % conf_interval_a)\n",
    "print('interval for b [%f, %f]' % conf_interval_b)"
   ]
  },
  {
   "cell_type": "code",
   "execution_count": null,
   "metadata": {
    "id": "VNvk5LqFiCd8"
   },
   "outputs": [],
   "source": []
  },
  {
   "cell_type": "markdown",
   "metadata": {
    "id": "9_PaBIrVVfyp"
   },
   "source": [
    "#### Доверительный интервал для разности долей (независимые выборки)"
   ]
  },
  {
   "cell_type": "code",
   "execution_count": null,
   "metadata": {
    "id": "MLleOyLcmJjD"
   },
   "outputs": [],
   "source": [
    "import scipy"
   ]
  },
  {
   "cell_type": "markdown",
   "metadata": {
    "id": "as5lLEbjVfys"
   },
   "source": [
    " \n",
    "   val\\adv  | $X_1$ | $X_2$  \n",
    "  --- | --- | --- |\n",
    "  1  | a | b \n",
    "  0  | c | d \n",
    "  $\\sum$ | $n_1$| $n_2$\n",
    "  \n",
    "$$ \\hat{p}_1 = \\frac{a}{n_1}$$\n",
    "\n",
    "$$ \\hat{p}_2 = \\frac{b}{n_2}$$\n",
    "\n",
    "\n",
    "$$\\text{Доверительный интервал для }p_1 - p_2\\colon \\;\\; \\hat{p}_1 - \\hat{p}_2 \\pm z_{1-\\frac{\\alpha}{2}}\\sqrt{\\frac{\\hat{p}_1(1 - \\hat{p}_1)}{n_1} + \\frac{\\hat{p}_2(1 - \\hat{p}_2)}{n_2}}$$"
   ]
  },
  {
   "cell_type": "code",
   "execution_count": null,
   "metadata": {
    "id": "-x9hWoxMVfyt"
   },
   "outputs": [],
   "source": [
    "def proportions_confint_diff_ind(sample1, sample2, alpha = 0.05):    \n",
    "    z = scipy.stats.norm.ppf(1 - alpha / 2.)   \n",
    "    p1 = float(sum(sample1)) / len(sample1)\n",
    "    p2 = float(sum(sample2)) / len(sample2)\n",
    "    \n",
    "    left_boundary = (p1 - p2) - z * np.sqrt(p1 * (1 - p1)/ len(sample1) + p2 * (1 - p2)/ len(sample2))\n",
    "    right_boundary = (p1 - p2) + z * np.sqrt(p1 * (1 - p1)/ len(sample1) + p2 * (1 - p2)/ len(sample2))\n",
    "    \n",
    "    return (left_boundary, right_boundary)"
   ]
  },
  {
   "cell_type": "code",
   "execution_count": null,
   "metadata": {
    "colab": {
     "base_uri": "https://localhost:8080/",
     "height": 34
    },
    "id": "LDqMXxPQVfyx",
    "outputId": "54d8bfec-a0cd-48eb-f328-3d0a4931137c"
   },
   "outputs": [
    {
     "name": "stdout",
     "output_type": "stream",
     "text": [
      "confidence interval: [-0.013326, 0.030673]\n"
     ]
    }
   ],
   "source": [
    "print(\"confidence interval: [%f, %f]\" % proportions_confint_diff_ind(cohort_a['show'], cohort_b['show']))"
   ]
  },
  {
   "cell_type": "code",
   "execution_count": null,
   "metadata": {
    "id": "SUYtidbVldws"
   },
   "outputs": [],
   "source": []
  },
  {
   "cell_type": "markdown",
   "metadata": {
    "id": "jPsorUcIVfy1"
   },
   "source": [
    "#### Доверительный интервал для разности долей (связанные выборки)"
   ]
  },
  {
   "cell_type": "markdown",
   "metadata": {
    "id": "n0Pi88EYVfy2"
   },
   "source": [
    "   $X_1$ \\ $X_2$ | 1| 0 | $\\sum$\n",
    "  --- | ---| --- | --- \n",
    "  1  | e | f | e + f\n",
    "  0  | g | h | g + h\n",
    "  $\\sum$ | e + g| f + h | n  \n",
    "\n",
    "  \n",
    "$$ \\hat{p}_1 = \\frac{e + f}{n}$$\n",
    "\n",
    "$$ \\hat{p}_2 = \\frac{e + g}{n}$$\n",
    "\n",
    "$$ \\hat{p}_1 - \\hat{p}_2 = \\frac{f - g}{n}$$\n",
    "\n",
    "\n",
    "$$\\text{Доверительный интервал для }p_1 - p_2\\colon \\;\\;  \\frac{f - g}{n} \\pm z_{1-\\frac{\\alpha}{2}}\\sqrt{\\frac{f + g}{n^2} - \\frac{(f - g)^2}{n^3}}$$"
   ]
  },
  {
   "cell_type": "code",
   "execution_count": null,
   "metadata": {
    "id": "bD_bDQNQnhhJ"
   },
   "outputs": [],
   "source": []
  }
 ],
 "metadata": {
  "colab": {
   "collapsed_sections": [],
   "name": "master.ipynb",
   "provenance": []
  },
  "kernelspec": {
   "display_name": "Python 3",
   "language": "python",
   "name": "python3"
  },
  "language_info": {
   "codemirror_mode": {
    "name": "ipython",
    "version": 3
   },
   "file_extension": ".py",
   "mimetype": "text/x-python",
   "name": "python",
   "nbconvert_exporter": "python",
   "pygments_lexer": "ipython3",
   "version": "3.8.3"
  }
 },
 "nbformat": 4,
 "nbformat_minor": 1
}
