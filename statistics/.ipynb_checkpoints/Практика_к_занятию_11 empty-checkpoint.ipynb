{
 "cells": [
  {
   "cell_type": "markdown",
   "metadata": {
    "id": "pDrecLU-4QjS"
   },
   "source": [
    "# Практика"
   ]
  },
  {
   "cell_type": "markdown",
   "metadata": {
    "id": "gUvTNDlMaV-a"
   },
   "source": [
    "## Определение вероятности. События\n",
    "\n",
    "Требуется сгенерировать необходимые выборки и произвести по ним расчеты"
   ]
  },
  {
   "cell_type": "code",
   "execution_count": 37,
   "metadata": {},
   "outputs": [],
   "source": [
    "import pandas as pd\n",
    "import numpy as np\n",
    "import itertools\n",
    "from random import seed, randint\n",
    "\n",
    "N = 90000"
   ]
  },
  {
   "cell_type": "markdown",
   "metadata": {
    "id": "5V70InEBTgup"
   },
   "source": [
    "### Задача 1\n",
    "Брошено две монеты. Найти вероятность того, что монеты выпали разными сторонами"
   ]
  },
  {
   "cell_type": "code",
   "execution_count": 33,
   "metadata": {
    "id": "88Iw-SL3jYQV"
   },
   "outputs": [
    {
     "name": "stdout",
     "output_type": "stream",
     "text": [
      "       Coin1  Coin2\n",
      "0          1      0\n",
      "1          0      0\n",
      "2          1      1\n",
      "3          0      0\n",
      "4          0      0\n",
      "...      ...    ...\n",
      "89995      0      1\n",
      "89996      1      1\n",
      "89997      1      0\n",
      "89998      0      0\n",
      "89999      1      1\n",
      "\n",
      "[90000 rows x 2 columns]\n"
     ]
    },
    {
     "data": {
      "text/plain": [
       "0.4983444444444444"
      ]
     },
     "execution_count": 33,
     "metadata": {},
     "output_type": "execute_result"
    }
   ],
   "source": [
    "coin_1 = np.random.randint(0, 2, size=N)\n",
    "coin_2 = np.random.randint(0, 2, size=N)\n",
    "cases = pd.DataFrame(zip(coin_1, coin_2), columns=['Coin1', 'Coin2'])\n",
    "p = cases[cases['Coin1']!=cases['Coin2']].shape[0] / N\n",
    "p"
   ]
  },
  {
   "cell_type": "markdown",
   "metadata": {
    "id": "t0XOMos2Tl0e"
   },
   "source": [
    "### Задача 2\n",
    "Брошено три монеты. Описать множество всех элементарных событий. Найти вероятности следующих событий:\n",
    "\n",
    "\n",
    "1.   A = {не выпало ни одного герба}\n",
    "2.   B = {выпало четное число гербов}\n",
    "3.   C = {на третьей монете выпал герб}\n"
   ]
  },
  {
   "cell_type": "code",
   "execution_count": 36,
   "metadata": {
    "id": "o7NjAE9uUo-L"
   },
   "outputs": [
    {
     "name": "stdout",
     "output_type": "stream",
     "text": [
      "Вероятность события А - 0.126, вероятность события В - 0.37722222222222224, вероятность события C - 0.5010777777777777\n"
     ]
    }
   ],
   "source": [
    "coin_1 = np.random.randint(0, 2, size=N)\n",
    "coin_2 = np.random.randint(0, 2, size=N)\n",
    "coin_3 = np.random.randint(0, 2, size=N)\n",
    "\n",
    "cases = pd.DataFrame(zip(coin_1, coin_2, coin_3), columns=['Coin1', 'Coin2', 'Coin3'])\n",
    "\n",
    "p_a = cases[(cases['Coin1']==0) & (cases['Coin2'] == 0) & (cases['Coin3'] == 0)].shape[0]/N\n",
    "cases['sum'] = (cases[['Coin1', 'Coin2', 'Coin3']] == 1).sum(axis=1)\n",
    "p_b = cases[(cases['sum'] % 2==0) & (cases['sum']!=0)].shape[0]/N\n",
    "p_c = cases[(cases['Coin3']==1)].shape[0]/N\n",
    "print(f'Вероятность события А - {p_a}, вероятность события В - {p_b}, вероятность события C - {p_c}')"
   ]
  },
  {
   "cell_type": "markdown",
   "metadata": {},
   "source": [
    "Предлагается также решить задачи: \n",
    "\n",
    "### Задача 3\n",
    "Из двух претендентов E и L на ответственную должность три члена комиссии должны отобрать одного. Каждый член комиссии должен указать либо одного достойного, либо забраковать обоих. Претендент считается выбранным, если он был признана достойным хотя бы двумя членами комиссии.\n",
    "Найти вероятность событий:\n",
    "\n",
    "A = {рекомендован L}, B = {рекомендован E}\n"
   ]
  },
  {
   "cell_type": "code",
   "execution_count": 34,
   "metadata": {},
   "outputs": [
    {
     "name": "stdout",
     "output_type": "stream",
     "text": [
      "[('E', 'E', 'E'), ('E', 'E', 'L'), ('E', 'E', 'O'), ('E', 'L', 'E'), ('E', 'L', 'L'), ('E', 'L', 'O'), ('E', 'O', 'E'), ('E', 'O', 'L'), ('E', 'O', 'O'), ('L', 'E', 'E'), ('L', 'E', 'L'), ('L', 'E', 'O'), ('L', 'L', 'E'), ('L', 'L', 'L'), ('L', 'L', 'O'), ('L', 'O', 'E'), ('L', 'O', 'L'), ('L', 'O', 'O'), ('O', 'E', 'E'), ('O', 'E', 'L'), ('O', 'E', 'O'), ('O', 'L', 'E'), ('O', 'L', 'L'), ('O', 'L', 'O'), ('O', 'O', 'E'), ('O', 'O', 'L'), ('O', 'O', 'O')]\n",
      "Вероятность события A - 0.25925925925925924, вероятность события B - 0.25925925925925924\n"
     ]
    }
   ],
   "source": [
    "omega = sorted(itertools.product(['E', 'L', 'O'], repeat=3))\n",
    "print(omega)\n",
    "A = sorted({i for i in omega if i.count('L') >= 2})\n",
    "B = sorted({i for i in omega if i.count('E') >= 2})\n",
    "p_a = len(A) / len(omega)\n",
    "p_b = len(B) / len(omega)\n",
    "print(f'Вероятность события A - {p_a}, вероятность события B - {p_b}')"
   ]
  },
  {
   "cell_type": "markdown",
   "metadata": {
    "id": "peM38mVfYa5B"
   },
   "source": [
    "### Задача 4\n",
    "Брошено две игральных кости. Описать множество элементарных событий. Найти вероятности событий:\n",
    "\n",
    "A = {вышло две \"шестерки\"}\n",
    "\n",
    "B = {сумма выпавших очков не меньше 11}\n",
    "\n",
    "C = {не выпала ни одна \"шестерка\"}"
   ]
  },
  {
   "cell_type": "code",
   "execution_count": 69,
   "metadata": {},
   "outputs": [
    {
     "name": "stdout",
     "output_type": "stream",
     "text": [
      "Вероятность события A - 0.028455555555555557, вероятность события B - 0.08396666666666666, вероятность события C - 0.6942222222222222\n"
     ]
    }
   ],
   "source": [
    "cube1 = np.random.choice([1, 2, 3, 4, 5, 6], size=N)\n",
    "cube2 = np.random.choice([1, 2, 3, 4, 5, 6], size=N)\n",
    "\n",
    "cases = pd.DataFrame(zip(cube1, cube2), columns=['Cube1', 'Cube2'])\n",
    "\n",
    "p_a = cases[((cases['Cube1'] == 6)&(cases['Cube2'] == 6))].shape[0]/N\n",
    "p_b = cases[(cases['Cube1'] + cases['Cube2'] >= 11)].shape[0]/N\n",
    "p_c = cases[((cases['Cube1'] != 6)&(cases['Cube2'] != 6))].shape[0]/N\n",
    "\n",
    "print(f'Вероятность события A - {p_a}, вероятность события B - {p_b}, вероятность события C - {p_c}')"
   ]
  },
  {
   "cell_type": "markdown",
   "metadata": {
    "id": "f-Bi0p8haclB"
   },
   "source": [
    "## Вероятность суммы событий"
   ]
  },
  {
   "cell_type": "markdown",
   "metadata": {
    "id": "g7A7QlvGTnwZ"
   },
   "source": [
    "### Задача 5\n",
    "Брошены две игральные кости. Найти вероятность события D = {выпала хотя бы одна шестёрка}\n"
   ]
  },
  {
   "cell_type": "code",
   "execution_count": 68,
   "metadata": {
    "id": "vjtTJN-kUp9D"
   },
   "outputs": [
    {
     "name": "stdout",
     "output_type": "stream",
     "text": [
      "0.3055555555555556\n"
     ]
    }
   ],
   "source": [
    "D = sorted({i for i in omega if i.count('6') >= 1})\n",
    "p_d = len(D) / len(omega)\n",
    "print(p_d)"
   ]
  },
  {
   "cell_type": "markdown",
   "metadata": {
    "id": "R1bYSzQQbC6I"
   },
   "source": [
    "Предлагается также решить задачи: \n",
    "\n",
    "### Задача 6\n",
    "В телефонном номере три последние цифры стерлись. Считая, что все возможные значения стершихся цифр равновероятны, найти вероятность событий:\n",
    "\n",
    "A = {Стерлись различные цифры},\n",
    "\n",
    "B = {Стерлись одинаковые цифры},\n",
    "\n",
    "C = {Среди стершихся цифр хотя бы две совпадают},\n",
    "\n",
    "D = {Среди стершихся цифр хотя бы две различны}\n"
   ]
  },
  {
   "cell_type": "code",
   "execution_count": 22,
   "metadata": {},
   "outputs": [
    {
     "name": "stdout",
     "output_type": "stream",
     "text": [
      "Вероятность события A - 0.72, вероятность события B - 0.01, вероятность события C - 0.28, вероятность события D - 0.99\n"
     ]
    }
   ],
   "source": [
    "omega = sorted(itertools.product(['0', '1', '2', '3', '4', '5', '6', '7', '8', '9'], repeat=3))\n",
    "A = sorted({i for i in omega if len(set(i)) == 3})\n",
    "B = sorted({i for i in omega if len(set(i)) == 1})\n",
    "C = sorted({i for i in omega if (len(set(i)) == 1) | (len(set(i)) == 2)})\n",
    "D = sorted({i for i in omega if (len(set(i)) == 3) | (len(set(i)) == 2)})\n",
    "\n",
    "p_a = len(A) / len(omega)\n",
    "p_b = len(B) / len(omega)\n",
    "p_c = len(C) / len(omega)\n",
    "p_d = len(D) / len(omega)\n",
    "print(f'Вероятность события A - {p_a}, вероятность события B - {p_b}, вероятность события C - {p_c}, вероятность события D - {p_d}')"
   ]
  },
  {
   "cell_type": "markdown",
   "metadata": {
    "id": "RnugkR8BalK_"
   },
   "source": [
    "## Случайные величины"
   ]
  },
  {
   "cell_type": "markdown",
   "metadata": {
    "id": "yLoZDZ17UVsp"
   },
   "source": [
    "### Задача 7\n",
    "В лотерее имеется 10 билетов, из которых один выигрышный. Размер выигрыша 10 ден. ед.; стоимость билета 1 ден ед. Найти закон распределения случайной величины X, равной чистому выигрышу участника лотереи, который вытаскивает билет первым."
   ]
  },
  {
   "cell_type": "code",
   "execution_count": 23,
   "metadata": {
    "id": "oNk432sKUqzT"
   },
   "outputs": [
    {
     "data": {
      "text/plain": [
       "array([-1, -1, -1, -1, -1, -1, -1,  9, -1, -1])"
      ]
     },
     "execution_count": 23,
     "metadata": {},
     "output_type": "execute_result"
    }
   ],
   "source": [
    "elements = [9, -1]\n",
    "probabilities = [0.1, 0.9]\n",
    "\n",
    "np.random.choice(elements, 10, p=probabilities)"
   ]
  },
  {
   "cell_type": "markdown",
   "metadata": {
    "id": "U-NK9liSbpvb"
   },
   "source": [
    "Предлагается также решить задачу: \n",
    "\n",
    "### Задача 8\n",
    "Брошены две игральные кости. Найти закон распределения случайной величины $X$, равной сумме выпавших очков. Найти вероятности событий ${X <= 4}$, ${X > 4}$"
   ]
  },
  {
   "cell_type": "code",
   "execution_count": 32,
   "metadata": {},
   "outputs": [
    {
     "name": "stdout",
     "output_type": "stream",
     "text": [
      "{2: 0.027777777777777776, 3: 0.05555555555555555, 4: 0.08333333333333333, 5: 0.1111111111111111, 6: 0.1388888888888889, 7: 0.16666666666666666, 8: 0.1388888888888889, 9: 0.1111111111111111, 10: 0.08333333333333333, 11: 0.05555555555555555, 12: 0.027777777777777776}\n"
     ]
    }
   ],
   "source": [
    "omega = sorted(itertools.product(['1', '2', '3', '4', '5', '6'], repeat=2))\n",
    "scores = []\n",
    "for i in omega:\n",
    "    score = int(i[0]) + int(i[1])\n",
    "    scores.append(score)\n",
    "summs = set(sorted(scores))\n",
    "\n",
    "law={}\n",
    "for i in summs:\n",
    "    a = {j for j in omega if int(j[0]) + int(j[1]) == i}\n",
    "    law[i] = len(a) / len(omega)\n",
    "print(law)\n",
    "        "
   ]
  },
  {
   "cell_type": "markdown",
   "metadata": {
    "id": "shgW4D83awjK"
   },
   "source": [
    "## Условные вероятности"
   ]
  },
  {
   "cell_type": "markdown",
   "metadata": {
    "id": "Fbu1RFZwWZrk"
   },
   "source": [
    "### Задача 9\n",
    "Из колоды (36 карт) вынимают последовательно без возвращения две карты. Найти вероятность того, что первой картой была шестерка, а второй — семерка. Найти условную вероятность того же события при условии, что обе карты бубновой масти.\n"
   ]
  },
  {
   "cell_type": "code",
   "execution_count": 70,
   "metadata": {
    "id": "037o56awW9-E"
   },
   "outputs": [
    {
     "name": "stdout",
     "output_type": "stream",
     "text": [
      "0.012698412698412698 0.0007936507936507937\n"
     ]
    }
   ],
   "source": [
    "W = 36 * 35 # число исходов за 2 выемки\n",
    "# A - {первая карта - шестерка, вторая карта - семерка}\n",
    "A = 4 * 4 # чиссло 6 и 7 в колоде\n",
    "# B - {обе карты бубновой масти}\n",
    "B = 1 * 1 #число бубновых карт в двух выборках\n",
    "pA = A/W\n",
    "pAB = B/W\n",
    "print(pA, pAB)"
   ]
  },
  {
   "cell_type": "markdown",
   "metadata": {
    "id": "hNVxtaz5c57b"
   },
   "source": [
    "Предлагается также решить задачу: \n",
    "\n",
    "### Задача 10\n",
    "Из урны, содержащей два белых и три черных шара, последовательно извлекают два шара; вынутые шары не возвращаются. Если первый шар оказался черным, то перед вторым извлечением в урну добавляют белый шар. В противном случае состав оставшихся шаров не меняют. Найти вероятности событий:\n",
    "\n",
    "$A$ = {извлечены два белых шара},\n",
    "\n",
    "$B$ = {извлечены два черных шара}\n",
    "\n",
    "Указание. Пусть событие $C_1$ = {первый шар белый}, событие $C_2$ = {второй шар белый}. Тогда $A = C_1C_2$, $B = \\overline C_1 \\overline C_2$ "
   ]
  },
  {
   "cell_type": "code",
   "execution_count": 76,
   "metadata": {
    "id": "WSLnhk2sdBt_"
   },
   "outputs": [
    {
     "name": "stdout",
     "output_type": "stream",
     "text": [
      "0.10076 0.24097\n"
     ]
    }
   ],
   "source": [
    "nB = 3\n",
    "nW = 2\n",
    "N = 100000\n",
    "ball_1, ball_2 = [], []\n",
    "for i in range(N):\n",
    "    BW = [\"\\u25Cd\" for b in range(nB)] + [\"\\u25CB\" for w in range(nW)]\n",
    "    first_ball = np.random.choice(BW)\n",
    "    BW.remove(first_ball)\n",
    "    if first_ball == \"\\u25Cd\":\n",
    "        BW.append(\"\\u25CB\")\n",
    "        ball_1.append(first_ball)\n",
    "    elif first_ball == \"\\u25CB\":\n",
    "        ball_1.append(first_ball)\n",
    "    second_ball = np.random.choice(BW)\n",
    "    ball_2.append(second_ball)\n",
    "df = pd.DataFrame(zip(ball_1, ball_2), columns=['ball_1', 'ball_2'])\n",
    "pA = df[(df.ball_1 == \"\\u25CB\") & (df.ball_2 == \"\\u25CB\")].shape[0] / N\n",
    "pB = df[(df.ball_1 == \"\\u25Cd\") & (df.ball_2 == \"\\u25Cd\")].shape[0] / N\n",
    "\n",
    "print(pA, pB)"
   ]
  },
  {
   "cell_type": "code",
   "execution_count": null,
   "metadata": {},
   "outputs": [],
   "source": []
  }
 ],
 "metadata": {
  "colab": {
   "collapsed_sections": [],
   "name": "Практика к занятию 11.ipynb",
   "provenance": []
  },
  "kernelspec": {
   "display_name": "Python 3",
   "language": "python",
   "name": "python3"
  },
  "language_info": {
   "codemirror_mode": {
    "name": "ipython",
    "version": 3
   },
   "file_extension": ".py",
   "mimetype": "text/x-python",
   "name": "python",
   "nbconvert_exporter": "python",
   "pygments_lexer": "ipython3",
   "version": "3.8.3"
  }
 },
 "nbformat": 4,
 "nbformat_minor": 1
}
