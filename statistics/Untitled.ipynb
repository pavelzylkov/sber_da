{
 "cells": [
  {
   "cell_type": "code",
   "execution_count": 10,
   "metadata": {},
   "outputs": [],
   "source": [
    "import pandas as pd\n",
    "import numpy as np\n",
    "import itertools\n",
    "import scipy.stats as sts\n",
    "from random import seed, randint\n",
    "\n",
    "N = 90000"
   ]
  },
  {
   "cell_type": "code",
   "execution_count": 11,
   "metadata": {},
   "outputs": [
    {
     "data": {
      "text/html": [
       "<div>\n",
       "<style scoped>\n",
       "    .dataframe tbody tr th:only-of-type {\n",
       "        vertical-align: middle;\n",
       "    }\n",
       "\n",
       "    .dataframe tbody tr th {\n",
       "        vertical-align: top;\n",
       "    }\n",
       "\n",
       "    .dataframe thead th {\n",
       "        text-align: right;\n",
       "    }\n",
       "</style>\n",
       "<table border=\"1\" class=\"dataframe\">\n",
       "  <thead>\n",
       "    <tr style=\"text-align: right;\">\n",
       "      <th></th>\n",
       "      <th>Num1</th>\n",
       "      <th>Num2</th>\n",
       "      <th>Num3</th>\n",
       "    </tr>\n",
       "  </thead>\n",
       "  <tbody>\n",
       "    <tr>\n",
       "      <th>0</th>\n",
       "      <td>0.249075</td>\n",
       "      <td>0.464026</td>\n",
       "      <td>0.045334</td>\n",
       "    </tr>\n",
       "    <tr>\n",
       "      <th>1</th>\n",
       "      <td>0.759274</td>\n",
       "      <td>0.010339</td>\n",
       "      <td>0.826290</td>\n",
       "    </tr>\n",
       "    <tr>\n",
       "      <th>2</th>\n",
       "      <td>0.169508</td>\n",
       "      <td>0.913867</td>\n",
       "      <td>0.179237</td>\n",
       "    </tr>\n",
       "    <tr>\n",
       "      <th>3</th>\n",
       "      <td>0.745069</td>\n",
       "      <td>0.036261</td>\n",
       "      <td>0.066036</td>\n",
       "    </tr>\n",
       "    <tr>\n",
       "      <th>4</th>\n",
       "      <td>0.314696</td>\n",
       "      <td>0.606977</td>\n",
       "      <td>0.166862</td>\n",
       "    </tr>\n",
       "    <tr>\n",
       "      <th>...</th>\n",
       "      <td>...</td>\n",
       "      <td>...</td>\n",
       "      <td>...</td>\n",
       "    </tr>\n",
       "    <tr>\n",
       "      <th>89995</th>\n",
       "      <td>0.069328</td>\n",
       "      <td>0.688102</td>\n",
       "      <td>0.197868</td>\n",
       "    </tr>\n",
       "    <tr>\n",
       "      <th>89996</th>\n",
       "      <td>0.178017</td>\n",
       "      <td>0.293797</td>\n",
       "      <td>0.525240</td>\n",
       "    </tr>\n",
       "    <tr>\n",
       "      <th>89997</th>\n",
       "      <td>0.206966</td>\n",
       "      <td>0.613792</td>\n",
       "      <td>0.309428</td>\n",
       "    </tr>\n",
       "    <tr>\n",
       "      <th>89998</th>\n",
       "      <td>0.589775</td>\n",
       "      <td>0.691726</td>\n",
       "      <td>0.123478</td>\n",
       "    </tr>\n",
       "    <tr>\n",
       "      <th>89999</th>\n",
       "      <td>0.141958</td>\n",
       "      <td>0.861480</td>\n",
       "      <td>0.576158</td>\n",
       "    </tr>\n",
       "  </tbody>\n",
       "</table>\n",
       "<p>90000 rows × 3 columns</p>\n",
       "</div>"
      ],
      "text/plain": [
       "           Num1      Num2      Num3\n",
       "0      0.249075  0.464026  0.045334\n",
       "1      0.759274  0.010339  0.826290\n",
       "2      0.169508  0.913867  0.179237\n",
       "3      0.745069  0.036261  0.066036\n",
       "4      0.314696  0.606977  0.166862\n",
       "...         ...       ...       ...\n",
       "89995  0.069328  0.688102  0.197868\n",
       "89996  0.178017  0.293797  0.525240\n",
       "89997  0.206966  0.613792  0.309428\n",
       "89998  0.589775  0.691726  0.123478\n",
       "89999  0.141958  0.861480  0.576158\n",
       "\n",
       "[90000 rows x 3 columns]"
      ]
     },
     "execution_count": 11,
     "metadata": {},
     "output_type": "execute_result"
    }
   ],
   "source": [
    "num1 = np.random.uniform(0, 1, N)\n",
    "num2 = np.random.uniform(0, 1, N)\n",
    "num3 = np.random.uniform(0, 1, N)\n",
    "\n",
    "cases = pd.DataFrame(zip(num1, num2, num3), columns=['Num1', 'Num2', 'Num3'])\n",
    "cases"
   ]
  },
  {
   "cell_type": "code",
   "execution_count": 6,
   "metadata": {},
   "outputs": [
    {
     "data": {
      "text/plain": [
       "0.16747777777777778"
      ]
     },
     "execution_count": 6,
     "metadata": {},
     "output_type": "execute_result"
    }
   ],
   "source": [
    "p = cases[(cases['Num1']+cases['Num2']+cases['Num3']) <= 1].shape[0] / N\n",
    "p"
   ]
  },
  {
   "cell_type": "code",
   "execution_count": 12,
   "metadata": {},
   "outputs": [
    {
     "data": {
      "text/plain": [
       "array([1038.14295326, 1174.00570434, 1039.62291661, 1088.86287248,\n",
       "       1090.41506701,  987.88824897, 1063.81645489, 1080.22845073,\n",
       "        988.57881461,  902.48525499, 1053.06384268, 1036.93681304,\n",
       "        931.64972849, 1050.3500617 ,  974.45421419,  825.65013737,\n",
       "       1009.42972381, 1003.15755358,  986.97487278, 1054.57030516,\n",
       "       1097.59314154, 1121.99773865, 1140.82966807,  942.93533692,\n",
       "       1097.78052744,  897.81711902, 1002.90899479,  999.48559026,\n",
       "       1095.11406911, 1010.18795658,  972.96486913, 1097.18175711,\n",
       "       1114.81093278, 1057.27513259, 1013.53294607, 1068.45193454,\n",
       "       1067.20347657, 1100.07055684, 1063.84955301,  946.11915159,\n",
       "        996.68521928,  987.17851695, 1014.43479607, 1060.81990162,\n",
       "       1136.51674423,  963.33943164, 1008.83515443,  987.52879258,\n",
       "       1069.3243478 ,  969.64147766, 1096.82018608, 1047.77643993,\n",
       "       1054.57821486, 1095.22605766,  948.85085286,  998.13238197,\n",
       "       1041.41256651, 1037.81280771,  981.23639776, 1080.63116129,\n",
       "        990.28918638, 1039.14840551,  972.31499769,  948.14976993,\n",
       "        904.16413505,  997.0041817 ,  955.94186092,  955.11295586,\n",
       "        950.54033774, 1063.5939903 , 1116.04503493,  993.27232647,\n",
       "       1144.5179544 , 1057.8109572 , 1087.31018323,  999.11559635,\n",
       "        983.89395373, 1070.16423153,  944.02839146,  922.62146406,\n",
       "       1114.08538192, 1111.36090022,  957.0903797 ,  997.68595904,\n",
       "       1041.76441153,  942.04827437,  974.59194816, 1032.38644917,\n",
       "        928.81320377, 1025.62886201,  977.18561275, 1028.09273383,\n",
       "       1096.27858883, 1107.18527861,  949.36939323, 1033.61783033,\n",
       "       1032.77405327,  981.66203651, 1024.60795107, 1118.34602124])"
      ]
     },
     "execution_count": 12,
     "metadata": {},
     "output_type": "execute_result"
    }
   ],
   "source": [
    "norm_rv = sts.norm(1024, 64)\n",
    "sample = norm_rv.rvs(100)\n",
    "sample"
   ]
  },
  {
   "cell_type": "code",
   "execution_count": 13,
   "metadata": {},
   "outputs": [
    {
     "data": {
      "text/plain": [
       "0.3538302333272762"
      ]
     },
     "execution_count": 13,
     "metadata": {},
     "output_type": "execute_result"
    }
   ],
   "source": [
    "norm_rv.cdf(1000)"
   ]
  },
  {
   "cell_type": "code",
   "execution_count": null,
   "metadata": {},
   "outputs": [],
   "source": []
  }
 ],
 "metadata": {
  "kernelspec": {
   "display_name": "Python 3",
   "language": "python",
   "name": "python3"
  },
  "language_info": {
   "codemirror_mode": {
    "name": "ipython",
    "version": 3
   },
   "file_extension": ".py",
   "mimetype": "text/x-python",
   "name": "python",
   "nbconvert_exporter": "python",
   "pygments_lexer": "ipython3",
   "version": "3.8.3"
  }
 },
 "nbformat": 4,
 "nbformat_minor": 4
}
