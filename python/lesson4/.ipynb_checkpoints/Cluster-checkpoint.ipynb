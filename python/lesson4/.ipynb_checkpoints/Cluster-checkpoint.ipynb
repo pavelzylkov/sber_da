{
 "cells": [
  {
   "cell_type": "markdown",
   "metadata": {},
   "source": [
    "# Задание"
   ]
  },
  {
   "cell_type": "markdown",
   "metadata": {},
   "source": [
    "### Основная часть"
   ]
  },
  {
   "cell_type": "markdown",
   "metadata": {},
   "source": [
    "* Попробовать построить все графики из тех, что были на уроке по Seaborn\n",
    "* Попробовать графики из тех, что были на уроке в Matplotlib и Plotly"
   ]
  },
  {
   "cell_type": "markdown",
   "metadata": {},
   "source": [
    "### Дополнительная часть"
   ]
  },
  {
   "cell_type": "markdown",
   "metadata": {},
   "source": [
    "* Некоторые данные представлены в агрегированном в виде в разном временном размере. Если вам нужны дополнительные переменные, то добавьте их в датасет.\n",
    "\n",
    "* Опишите данную вам выборку, а так же кластеризуйте данные с помощь инструментов Python (количество кластеров на ваше усмотрение) и опишите полученные кластеры ( например, в первом кластере представлены клиенты с таким-то поведением или продуктовым наполнением).\n",
    "\n",
    "* Для выполнения работы, пожалуйста, используйте Python. Задание мы ждем выполненным в Jupyter notebook с соответствующими комментариями."
   ]
  },
  {
   "cell_type": "markdown",
   "metadata": {},
   "source": [
    "# Описания полей"
   ]
  },
  {
   "cell_type": "markdown",
   "metadata": {},
   "source": [
    "* age\tвозраст\n",
    "* gender\tпол repexc_date\n",
    "* city_type\tТип города проживания клиента\n",
    "* full_mob\tДлительность взаимоотношений с банком\n",
    "\n",
    "* ml_balance\tипотека\n",
    "* cl_balance_0m\tпотребительский кредит\n",
    "* loan_balance_0m\tвсе кредиты\n",
    "\n",
    "* td_balance_0m\tдепозит\n",
    "* casa_balance_0m\tсчета\n",
    "\n",
    "* dc_trx_cnt\tколичество трат по картам\n",
    "* dc_trx_sum\tсумма трат по картам\n",
    "* Avg_trx\tсредний размер транзакции\n",
    "* avgtrx_to_balance\t\n",
    "\n",
    "\n",
    "* min_casa_balance_1q\tпоказатели по счетам за квартал\n",
    "* max_casa_balance_1q\t\n",
    "* avg_casa_balance_1Y\tпоказатели по счетам за год\n",
    "\n",
    "* min_td_balance_1q\t\n",
    "* max_td_balance_1q\t\n",
    "* avg_td_balance_1Y\n",
    "\n",
    "* min_loan_balance_1q\t\n",
    "* max_loan_balance_1q\t\n",
    "* avg_loan_balance_1Y\n",
    "\n",
    "* min_cl_balance_1q\t\n",
    "* max_cl_balance_1q\t\n",
    "* avg_cl_balance_1Y\t\n",
    "* loan_to_deposit\t\n",
    "\n",
    "* income\tдоход клиента\n",
    "* nbi\tдоход от клиента без OPEX"
   ]
  },
  {
   "cell_type": "code",
   "execution_count": 1,
   "metadata": {},
   "outputs": [],
   "source": [
    "# Эта команда позволяет вывыводить результаты друг за другом без вызова print\n",
    "from IPython.core.interactiveshell import InteractiveShell\n",
    "InteractiveShell.ast_node_interactivity = \"all\""
   ]
  },
  {
   "cell_type": "code",
   "execution_count": 2,
   "metadata": {},
   "outputs": [],
   "source": [
    "%matplotlib inline\n",
    "import pandas as pd\n",
    "import matplotlib.pyplot as plt\n",
    "import seaborn as sns\n",
    "import numpy as np\n",
    "from scipy import stats\n",
    "from tqdm.auto import tqdm"
   ]
  },
  {
   "cell_type": "code",
   "execution_count": 13,
   "metadata": {},
   "outputs": [
    {
     "data": {
      "text/html": [
       "<div>\n",
       "<style scoped>\n",
       "    .dataframe tbody tr th:only-of-type {\n",
       "        vertical-align: middle;\n",
       "    }\n",
       "\n",
       "    .dataframe tbody tr th {\n",
       "        vertical-align: top;\n",
       "    }\n",
       "\n",
       "    .dataframe thead th {\n",
       "        text-align: right;\n",
       "    }\n",
       "</style>\n",
       "<table border=\"1\" class=\"dataframe\">\n",
       "  <thead>\n",
       "    <tr style=\"text-align: right;\">\n",
       "      <th></th>\n",
       "      <th>age</th>\n",
       "      <th>gender</th>\n",
       "      <th>city_type</th>\n",
       "      <th>full_mob</th>\n",
       "      <th>ml_balance</th>\n",
       "      <th>cl_balance_0m</th>\n",
       "      <th>loan_balance_0m</th>\n",
       "      <th>td_balance_0m</th>\n",
       "      <th>casa_balance_0m</th>\n",
       "      <th>dc_trx_cnt</th>\n",
       "      <th>...</th>\n",
       "      <th>min_loan_balance_1q</th>\n",
       "      <th>max_loan_balance_1q</th>\n",
       "      <th>avg_loan_balance_1Y</th>\n",
       "      <th>min_cl_balance_1q</th>\n",
       "      <th>max_cl_balance_1q</th>\n",
       "      <th>avg_cl_balance_1Y</th>\n",
       "      <th>loan_to_deposit</th>\n",
       "      <th>Avg_trx</th>\n",
       "      <th>avgtrx_to_balance</th>\n",
       "      <th>nbi</th>\n",
       "    </tr>\n",
       "  </thead>\n",
       "  <tbody>\n",
       "    <tr>\n",
       "      <th>10</th>\n",
       "      <td>56</td>\n",
       "      <td>F</td>\n",
       "      <td>&lt;100</td>\n",
       "      <td>165</td>\n",
       "      <td>0.0</td>\n",
       "      <td>0.0</td>\n",
       "      <td>61189.99</td>\n",
       "      <td>70000.0</td>\n",
       "      <td>1524.5800</td>\n",
       "      <td>341</td>\n",
       "      <td>...</td>\n",
       "      <td>44360.86</td>\n",
       "      <td>61189.99</td>\n",
       "      <td>43218.413333</td>\n",
       "      <td>0.0</td>\n",
       "      <td>0.0</td>\n",
       "      <td>0.0</td>\n",
       "      <td>0.617406</td>\n",
       "      <td>1323.992698</td>\n",
       "      <td>0.226536</td>\n",
       "      <td>8009.940315</td>\n",
       "    </tr>\n",
       "    <tr>\n",
       "      <th>29</th>\n",
       "      <td>53</td>\n",
       "      <td>F</td>\n",
       "      <td>1M+</td>\n",
       "      <td>50</td>\n",
       "      <td>0.0</td>\n",
       "      <td>0.0</td>\n",
       "      <td>0.00</td>\n",
       "      <td>0.0</td>\n",
       "      <td>0.0000</td>\n",
       "      <td>15</td>\n",
       "      <td>...</td>\n",
       "      <td>0.00</td>\n",
       "      <td>0.00</td>\n",
       "      <td>0.000000</td>\n",
       "      <td>0.0</td>\n",
       "      <td>0.0</td>\n",
       "      <td>0.0</td>\n",
       "      <td>0.000000</td>\n",
       "      <td>6615.296000</td>\n",
       "      <td>0.520754</td>\n",
       "      <td>28503.869696</td>\n",
       "    </tr>\n",
       "    <tr>\n",
       "      <th>242</th>\n",
       "      <td>41</td>\n",
       "      <td>М</td>\n",
       "      <td>Mega</td>\n",
       "      <td>94</td>\n",
       "      <td>0.0</td>\n",
       "      <td>0.0</td>\n",
       "      <td>0.00</td>\n",
       "      <td>900000.0</td>\n",
       "      <td>16205.0300</td>\n",
       "      <td>3</td>\n",
       "      <td>...</td>\n",
       "      <td>0.00</td>\n",
       "      <td>0.00</td>\n",
       "      <td>0.000000</td>\n",
       "      <td>0.0</td>\n",
       "      <td>0.0</td>\n",
       "      <td>0.0</td>\n",
       "      <td>0.000000</td>\n",
       "      <td>6280.000000</td>\n",
       "      <td>0.945827</td>\n",
       "      <td>14333.600182</td>\n",
       "    </tr>\n",
       "    <tr>\n",
       "      <th>385</th>\n",
       "      <td>57</td>\n",
       "      <td>М</td>\n",
       "      <td>Mega</td>\n",
       "      <td>167</td>\n",
       "      <td>0.0</td>\n",
       "      <td>0.0</td>\n",
       "      <td>0.00</td>\n",
       "      <td>0.0</td>\n",
       "      <td>440095.3474</td>\n",
       "      <td>183</td>\n",
       "      <td>...</td>\n",
       "      <td>0.00</td>\n",
       "      <td>0.00</td>\n",
       "      <td>0.000000</td>\n",
       "      <td>0.0</td>\n",
       "      <td>0.0</td>\n",
       "      <td>0.0</td>\n",
       "      <td>0.000000</td>\n",
       "      <td>2693.479344</td>\n",
       "      <td>0.009221</td>\n",
       "      <td>30007.498843</td>\n",
       "    </tr>\n",
       "    <tr>\n",
       "      <th>416</th>\n",
       "      <td>62</td>\n",
       "      <td>F</td>\n",
       "      <td>&lt;100</td>\n",
       "      <td>16</td>\n",
       "      <td>0.0</td>\n",
       "      <td>0.0</td>\n",
       "      <td>0.00</td>\n",
       "      <td>0.0</td>\n",
       "      <td>320237.7500</td>\n",
       "      <td>4</td>\n",
       "      <td>...</td>\n",
       "      <td>0.00</td>\n",
       "      <td>0.00</td>\n",
       "      <td>0.000000</td>\n",
       "      <td>0.0</td>\n",
       "      <td>0.0</td>\n",
       "      <td>0.0</td>\n",
       "      <td>0.000000</td>\n",
       "      <td>25417.080000</td>\n",
       "      <td>0.396904</td>\n",
       "      <td>34956.302433</td>\n",
       "    </tr>\n",
       "  </tbody>\n",
       "</table>\n",
       "<p>5 rows × 28 columns</p>\n",
       "</div>"
      ],
      "text/plain": [
       "     age gender city_type  full_mob  ml_balance  cl_balance_0m  \\\n",
       "10    56      F      <100       165         0.0            0.0   \n",
       "29    53      F       1M+        50         0.0            0.0   \n",
       "242   41      М      Mega        94         0.0            0.0   \n",
       "385   57      М      Mega       167         0.0            0.0   \n",
       "416   62      F      <100        16         0.0            0.0   \n",
       "\n",
       "     loan_balance_0m  td_balance_0m  casa_balance_0m  dc_trx_cnt  ...  \\\n",
       "10          61189.99        70000.0        1524.5800         341  ...   \n",
       "29              0.00            0.0           0.0000          15  ...   \n",
       "242             0.00       900000.0       16205.0300           3  ...   \n",
       "385             0.00            0.0      440095.3474         183  ...   \n",
       "416             0.00            0.0      320237.7500           4  ...   \n",
       "\n",
       "     min_loan_balance_1q  max_loan_balance_1q  avg_loan_balance_1Y  \\\n",
       "10              44360.86             61189.99         43218.413333   \n",
       "29                  0.00                 0.00             0.000000   \n",
       "242                 0.00                 0.00             0.000000   \n",
       "385                 0.00                 0.00             0.000000   \n",
       "416                 0.00                 0.00             0.000000   \n",
       "\n",
       "     min_cl_balance_1q  max_cl_balance_1q  avg_cl_balance_1Y  loan_to_deposit  \\\n",
       "10                 0.0                0.0                0.0         0.617406   \n",
       "29                 0.0                0.0                0.0         0.000000   \n",
       "242                0.0                0.0                0.0         0.000000   \n",
       "385                0.0                0.0                0.0         0.000000   \n",
       "416                0.0                0.0                0.0         0.000000   \n",
       "\n",
       "          Avg_trx  avgtrx_to_balance           nbi  \n",
       "10    1323.992698           0.226536   8009.940315  \n",
       "29    6615.296000           0.520754  28503.869696  \n",
       "242   6280.000000           0.945827  14333.600182  \n",
       "385   2693.479344           0.009221  30007.498843  \n",
       "416  25417.080000           0.396904  34956.302433  \n",
       "\n",
       "[5 rows x 28 columns]"
      ]
     },
     "execution_count": 13,
     "metadata": {},
     "output_type": "execute_result"
    }
   ],
   "source": [
    "df = pd.read_csv('test_cluster.csv', encoding='cp1251', sep=';')\n",
    "df = df.dropna()\n",
    "df.head()"
   ]
  },
  {
   "cell_type": "code",
   "execution_count": 14,
   "metadata": {
    "scrolled": true
   },
   "outputs": [
    {
     "name": "stdout",
     "output_type": "stream",
     "text": [
      "<class 'pandas.core.frame.DataFrame'>\n",
      "Int64Index: 1642 entries, 10 to 49952\n",
      "Data columns (total 28 columns):\n",
      " #   Column               Non-Null Count  Dtype  \n",
      "---  ------               --------------  -----  \n",
      " 0   age                  1642 non-null   int64  \n",
      " 1   gender               1642 non-null   object \n",
      " 2   city_type            1642 non-null   object \n",
      " 3   full_mob             1642 non-null   int64  \n",
      " 4   ml_balance           1642 non-null   float64\n",
      " 5   cl_balance_0m        1642 non-null   float64\n",
      " 6   loan_balance_0m      1642 non-null   float64\n",
      " 7   td_balance_0m        1642 non-null   float64\n",
      " 8   casa_balance_0m      1642 non-null   float64\n",
      " 9   dc_trx_cnt           1642 non-null   int64  \n",
      " 10  dc_trx_sum           1642 non-null   float64\n",
      " 11  income               1642 non-null   float64\n",
      " 12  min_casa_balance_1q  1642 non-null   float64\n",
      " 13  max_casa_balance_1q  1642 non-null   float64\n",
      " 14  avg_casa_balance_1Y  1642 non-null   float64\n",
      " 15  min_td_balance_1q    1642 non-null   float64\n",
      " 16  max_td_balance_1q    1642 non-null   float64\n",
      " 17  avg_td_balance_1Y    1642 non-null   float64\n",
      " 18  min_loan_balance_1q  1642 non-null   float64\n",
      " 19  max_loan_balance_1q  1642 non-null   float64\n",
      " 20  avg_loan_balance_1Y  1642 non-null   float64\n",
      " 21  min_cl_balance_1q    1642 non-null   float64\n",
      " 22  max_cl_balance_1q    1642 non-null   float64\n",
      " 23  avg_cl_balance_1Y    1642 non-null   float64\n",
      " 24  loan_to_deposit      1642 non-null   float64\n",
      " 25  Avg_trx              1642 non-null   float64\n",
      " 26  avgtrx_to_balance    1642 non-null   float64\n",
      " 27  nbi                  1642 non-null   float64\n",
      "dtypes: float64(23), int64(3), object(2)\n",
      "memory usage: 372.0+ KB\n"
     ]
    }
   ],
   "source": [
    "df.info()"
   ]
  },
  {
   "cell_type": "code",
   "execution_count": 17,
   "metadata": {},
   "outputs": [
    {
     "data": {
      "image/png": "[encoded data removed]",
      "text/plain": [
       "<Figure size 433.975x360 with 1 Axes>"
      ]
     },
     "metadata": {},
     "output_type": "display_data"
    }
   ],
   "source": [
    "sns.set(style='darkgrid')  \n",
    "\n",
    "sns.relplot(\n",
    "    x='age', \n",
    "    y='full_mob', \n",
    "    hue='gender',\n",
    "    data=df.query(\"age < 45\"), \n",
    "    kind='line'\n",
    ")\n",
    "plt.title('Длительность взаимоотношений с банком от возраста', size=20, color='g');"
   ]
  },
  {
   "cell_type": "code",
   "execution_count": null,
   "metadata": {},
   "outputs": [],
   "source": [
    "\n",
    "plt.hist()"
   ]
  }
 ],
 "metadata": {
  "kernelspec": {
   "display_name": "Python 3",
   "language": "python",
   "name": "python3"
  },
  "language_info": {
   "codemirror_mode": {
    "name": "ipython",
    "version": 3
   },
   "file_extension": ".py",
   "mimetype": "text/x-python",
   "name": "python",
   "nbconvert_exporter": "python",
   "pygments_lexer": "ipython3",
   "version": "3.8.3"
  }
 },
 "nbformat": 4,
 "nbformat_minor": 4
}
