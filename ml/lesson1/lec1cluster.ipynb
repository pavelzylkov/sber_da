{
  "nbformat": 4,
  "nbformat_minor": 0,
  "metadata": {
    "colab": {
      "name": "lec1cluster.ipynb",
      "provenance": []
    },
    "kernelspec": {
      "name": "python3",
      "display_name": "Python 3"
    },
    "language_info": {
      "name": "python"
    }
  },
  "cells": [
    {
      "cell_type": "code",
      "metadata": {
        "id": "WyESXSFcc_ly"
      },
      "source": [
        "from sklearn.datasets import load_wine\n",
        "import pandas as pd\n",
        "import numpy as np\n",
        "import matplotlib.pyplot as plt\n",
        "data = load_wine()\n"
      ],
      "execution_count": 1,
      "outputs": []
    },
    {
      "cell_type": "code",
      "metadata": {
        "colab": {
          "base_uri": "https://localhost:8080/"
        },
        "id": "aQd_oYdodL5O",
        "outputId": "c007b628-d76b-4520-bcd5-dcd53a239eff"
      },
      "source": [
        "data.feature_names"
      ],
      "execution_count": 2,
      "outputs": [
        {
          "output_type": "execute_result",
          "data": {
            "text/plain": [
              "['alcohol',\n",
              " 'malic_acid',\n",
              " 'ash',\n",
              " 'alcalinity_of_ash',\n",
              " 'magnesium',\n",
              " 'total_phenols',\n",
              " 'flavanoids',\n",
              " 'nonflavanoid_phenols',\n",
              " 'proanthocyanins',\n",
              " 'color_intensity',\n",
              " 'hue',\n",
              " 'od280/od315_of_diluted_wines',\n",
              " 'proline']"
            ]
          },
          "metadata": {
            "tags": []
          },
          "execution_count": 2
        }
      ]
    },
    {
      "cell_type": "code",
      "metadata": {
        "id": "VhfdQM5DdcRt"
      },
      "source": [
        "df = pd.DataFrame(data.data)\n",
        "df.columns = data.feature_names"
      ],
      "execution_count": 3,
      "outputs": []
    },
    {
      "cell_type": "code",
      "metadata": {
        "colab": {
          "base_uri": "https://localhost:8080/",
          "height": 424
        },
        "id": "5cKus71AduFu",
        "outputId": "69a55679-d4a7-4cbd-e74f-05162c519a60"
      },
      "source": [
        "df"
      ],
      "execution_count": 4,
      "outputs": [
        {
          "output_type": "execute_result",
          "data": {
            "text/html": [
              "<div>\n",
              "<style scoped>\n",
              "    .dataframe tbody tr th:only-of-type {\n",
              "        vertical-align: middle;\n",
              "    }\n",
              "\n",
              "    .dataframe tbody tr th {\n",
              "        vertical-align: top;\n",
              "    }\n",
              "\n",
              "    .dataframe thead th {\n",
              "        text-align: right;\n",
              "    }\n",
              "</style>\n",
              "<table border=\"1\" class=\"dataframe\">\n",
              "  <thead>\n",
              "    <tr style=\"text-align: right;\">\n",
              "      <th></th>\n",
              "      <th>alcohol</th>\n",
              "      <th>malic_acid</th>\n",
              "      <th>ash</th>\n",
              "      <th>alcalinity_of_ash</th>\n",
              "      <th>magnesium</th>\n",
              "      <th>total_phenols</th>\n",
              "      <th>flavanoids</th>\n",
              "      <th>nonflavanoid_phenols</th>\n",
              "      <th>proanthocyanins</th>\n",
              "      <th>color_intensity</th>\n",
              "      <th>hue</th>\n",
              "      <th>od280/od315_of_diluted_wines</th>\n",
              "      <th>proline</th>\n",
              "    </tr>\n",
              "  </thead>\n",
              "  <tbody>\n",
              "    <tr>\n",
              "      <th>0</th>\n",
              "      <td>14.23</td>\n",
              "      <td>1.71</td>\n",
              "      <td>2.43</td>\n",
              "      <td>15.6</td>\n",
              "      <td>127.0</td>\n",
              "      <td>2.80</td>\n",
              "      <td>3.06</td>\n",
              "      <td>0.28</td>\n",
              "      <td>2.29</td>\n",
              "      <td>5.64</td>\n",
              "      <td>1.04</td>\n",
              "      <td>3.92</td>\n",
              "      <td>1065.0</td>\n",
              "    </tr>\n",
              "    <tr>\n",
              "      <th>1</th>\n",
              "      <td>13.20</td>\n",
              "      <td>1.78</td>\n",
              "      <td>2.14</td>\n",
              "      <td>11.2</td>\n",
              "      <td>100.0</td>\n",
              "      <td>2.65</td>\n",
              "      <td>2.76</td>\n",
              "      <td>0.26</td>\n",
              "      <td>1.28</td>\n",
              "      <td>4.38</td>\n",
              "      <td>1.05</td>\n",
              "      <td>3.40</td>\n",
              "      <td>1050.0</td>\n",
              "    </tr>\n",
              "    <tr>\n",
              "      <th>2</th>\n",
              "      <td>13.16</td>\n",
              "      <td>2.36</td>\n",
              "      <td>2.67</td>\n",
              "      <td>18.6</td>\n",
              "      <td>101.0</td>\n",
              "      <td>2.80</td>\n",
              "      <td>3.24</td>\n",
              "      <td>0.30</td>\n",
              "      <td>2.81</td>\n",
              "      <td>5.68</td>\n",
              "      <td>1.03</td>\n",
              "      <td>3.17</td>\n",
              "      <td>1185.0</td>\n",
              "    </tr>\n",
              "    <tr>\n",
              "      <th>3</th>\n",
              "      <td>14.37</td>\n",
              "      <td>1.95</td>\n",
              "      <td>2.50</td>\n",
              "      <td>16.8</td>\n",
              "      <td>113.0</td>\n",
              "      <td>3.85</td>\n",
              "      <td>3.49</td>\n",
              "      <td>0.24</td>\n",
              "      <td>2.18</td>\n",
              "      <td>7.80</td>\n",
              "      <td>0.86</td>\n",
              "      <td>3.45</td>\n",
              "      <td>1480.0</td>\n",
              "    </tr>\n",
              "    <tr>\n",
              "      <th>4</th>\n",
              "      <td>13.24</td>\n",
              "      <td>2.59</td>\n",
              "      <td>2.87</td>\n",
              "      <td>21.0</td>\n",
              "      <td>118.0</td>\n",
              "      <td>2.80</td>\n",
              "      <td>2.69</td>\n",
              "      <td>0.39</td>\n",
              "      <td>1.82</td>\n",
              "      <td>4.32</td>\n",
              "      <td>1.04</td>\n",
              "      <td>2.93</td>\n",
              "      <td>735.0</td>\n",
              "    </tr>\n",
              "    <tr>\n",
              "      <th>...</th>\n",
              "      <td>...</td>\n",
              "      <td>...</td>\n",
              "      <td>...</td>\n",
              "      <td>...</td>\n",
              "      <td>...</td>\n",
              "      <td>...</td>\n",
              "      <td>...</td>\n",
              "      <td>...</td>\n",
              "      <td>...</td>\n",
              "      <td>...</td>\n",
              "      <td>...</td>\n",
              "      <td>...</td>\n",
              "      <td>...</td>\n",
              "    </tr>\n",
              "    <tr>\n",
              "      <th>173</th>\n",
              "      <td>13.71</td>\n",
              "      <td>5.65</td>\n",
              "      <td>2.45</td>\n",
              "      <td>20.5</td>\n",
              "      <td>95.0</td>\n",
              "      <td>1.68</td>\n",
              "      <td>0.61</td>\n",
              "      <td>0.52</td>\n",
              "      <td>1.06</td>\n",
              "      <td>7.70</td>\n",
              "      <td>0.64</td>\n",
              "      <td>1.74</td>\n",
              "      <td>740.0</td>\n",
              "    </tr>\n",
              "    <tr>\n",
              "      <th>174</th>\n",
              "      <td>13.40</td>\n",
              "      <td>3.91</td>\n",
              "      <td>2.48</td>\n",
              "      <td>23.0</td>\n",
              "      <td>102.0</td>\n",
              "      <td>1.80</td>\n",
              "      <td>0.75</td>\n",
              "      <td>0.43</td>\n",
              "      <td>1.41</td>\n",
              "      <td>7.30</td>\n",
              "      <td>0.70</td>\n",
              "      <td>1.56</td>\n",
              "      <td>750.0</td>\n",
              "    </tr>\n",
              "    <tr>\n",
              "      <th>175</th>\n",
              "      <td>13.27</td>\n",
              "      <td>4.28</td>\n",
              "      <td>2.26</td>\n",
              "      <td>20.0</td>\n",
              "      <td>120.0</td>\n",
              "      <td>1.59</td>\n",
              "      <td>0.69</td>\n",
              "      <td>0.43</td>\n",
              "      <td>1.35</td>\n",
              "      <td>10.20</td>\n",
              "      <td>0.59</td>\n",
              "      <td>1.56</td>\n",
              "      <td>835.0</td>\n",
              "    </tr>\n",
              "    <tr>\n",
              "      <th>176</th>\n",
              "      <td>13.17</td>\n",
              "      <td>2.59</td>\n",
              "      <td>2.37</td>\n",
              "      <td>20.0</td>\n",
              "      <td>120.0</td>\n",
              "      <td>1.65</td>\n",
              "      <td>0.68</td>\n",
              "      <td>0.53</td>\n",
              "      <td>1.46</td>\n",
              "      <td>9.30</td>\n",
              "      <td>0.60</td>\n",
              "      <td>1.62</td>\n",
              "      <td>840.0</td>\n",
              "    </tr>\n",
              "    <tr>\n",
              "      <th>177</th>\n",
              "      <td>14.13</td>\n",
              "      <td>4.10</td>\n",
              "      <td>2.74</td>\n",
              "      <td>24.5</td>\n",
              "      <td>96.0</td>\n",
              "      <td>2.05</td>\n",
              "      <td>0.76</td>\n",
              "      <td>0.56</td>\n",
              "      <td>1.35</td>\n",
              "      <td>9.20</td>\n",
              "      <td>0.61</td>\n",
              "      <td>1.60</td>\n",
              "      <td>560.0</td>\n",
              "    </tr>\n",
              "  </tbody>\n",
              "</table>\n",
              "<p>178 rows × 13 columns</p>\n",
              "</div>"
            ],
            "text/plain": [
              "     alcohol  malic_acid   ash  ...   hue  od280/od315_of_diluted_wines  proline\n",
              "0      14.23        1.71  2.43  ...  1.04                          3.92   1065.0\n",
              "1      13.20        1.78  2.14  ...  1.05                          3.40   1050.0\n",
              "2      13.16        2.36  2.67  ...  1.03                          3.17   1185.0\n",
              "3      14.37        1.95  2.50  ...  0.86                          3.45   1480.0\n",
              "4      13.24        2.59  2.87  ...  1.04                          2.93    735.0\n",
              "..       ...         ...   ...  ...   ...                           ...      ...\n",
              "173    13.71        5.65  2.45  ...  0.64                          1.74    740.0\n",
              "174    13.40        3.91  2.48  ...  0.70                          1.56    750.0\n",
              "175    13.27        4.28  2.26  ...  0.59                          1.56    835.0\n",
              "176    13.17        2.59  2.37  ...  0.60                          1.62    840.0\n",
              "177    14.13        4.10  2.74  ...  0.61                          1.60    560.0\n",
              "\n",
              "[178 rows x 13 columns]"
            ]
          },
          "metadata": {
            "tags": []
          },
          "execution_count": 4
        }
      ]
    },
    {
      "cell_type": "code",
      "metadata": {
        "id": "pwmkFgUHhgb_"
      },
      "source": [
        "from sklearn.cluster import KMeans"
      ],
      "execution_count": 5,
      "outputs": []
    },
    {
      "cell_type": "code",
      "metadata": {
        "id": "UciIzGQ7t0HW"
      },
      "source": [
        "from sklearn.decomposition import PCA"
      ],
      "execution_count": 6,
      "outputs": []
    },
    {
      "cell_type": "code",
      "metadata": {
        "id": "W6IrEwmht2Ha"
      },
      "source": [
        "pca = PCA(2)"
      ],
      "execution_count": 7,
      "outputs": []
    },
    {
      "cell_type": "code",
      "metadata": {
        "id": "UnwElo7ht64C"
      },
      "source": [
        "df_pca = pca.fit_transform(df)"
      ],
      "execution_count": 8,
      "outputs": []
    },
    {
      "cell_type": "code",
      "metadata": {
        "colab": {
          "base_uri": "https://localhost:8080/"
        },
        "id": "xx2dLms89XUr",
        "outputId": "7cfc4760-4ca5-456b-d376-d6774d7ab488"
      },
      "source": [
        "df_pca"
      ],
      "execution_count": 9,
      "outputs": [
        {
          "output_type": "execute_result",
          "data": {
            "text/plain": [
              "array([[ 3.18562979e+02,  2.14921307e+01],\n",
              "       [ 3.03097420e+02, -5.36471768e+00],\n",
              "       [ 4.38061133e+02, -6.53730945e+00],\n",
              "       [ 7.33240139e+02,  1.92729032e-01],\n",
              "       [-1.15714285e+01,  1.84899946e+01],\n",
              "       [ 7.03231192e+02, -3.32158674e-01],\n",
              "       [ 5.42971581e+02, -1.35189666e+01],\n",
              "       [ 5.48401860e+02,  1.14494324e+01],\n",
              "       [ 2.98036863e+02, -8.18015784e+00],\n",
              "       [ 2.98049553e+02, -7.10154294e+00],\n",
              "       [ 7.63079712e+02, -8.33431723e+00],\n",
              "       [ 5.32943228e+02, -1.42876338e+01],\n",
              "       [ 5.72834410e+02, -2.10050143e+01],\n",
              "       [ 4.02925358e+02, -1.61026352e+01],\n",
              "       [ 8.00053394e+02, -1.21184472e+01],\n",
              "       [ 5.63245578e+02,  2.21482866e+00],\n",
              "       [ 5.33379651e+02,  1.08048022e+01],\n",
              "       [ 3.83317591e+02,  8.47741982e+00],\n",
              "       [ 9.33118387e+02, -8.35447844e+00],\n",
              "       [ 9.84031775e+01,  1.43926594e+01],\n",
              "       [ 3.35935940e+01,  2.55679565e+01],\n",
              "       [ 2.31464375e+01,  1.81747309e+00],\n",
              "       [ 2.88093030e+02, -3.96304175e+00],\n",
              "       [ 2.67981513e+02, -9.57070401e+00],\n",
              "       [ 9.80198858e+01, -5.49584606e+00],\n",
              "       [ 8.34987440e+01,  2.28916215e+01],\n",
              "       [ 4.47925596e+02, -1.47973313e+01],\n",
              "       [ 5.37919165e+02, -1.53883461e+01],\n",
              "       [ 1.68210468e+02,  4.25531096e+00],\n",
              "       [ 2.88008247e+02, -8.95973155e+00],\n",
              "       [ 5.38026452e+02, -8.21273882e+00],\n",
              "       [ 7.68092939e+02, -7.37989737e+00],\n",
              "       [ 2.43150751e+02, -1.43914928e-01],\n",
              "       [ 4.88601280e+02,  2.35653250e+01],\n",
              "       [ 3.48231007e+02,  4.03808015e+00],\n",
              "       [ 1.73079957e+02, -2.79292165e+00],\n",
              "       [ 1.33286424e+02,  7.77272958e+00],\n",
              "       [ 3.58018559e+02, -8.15798412e+00],\n",
              "       [ 2.73044432e+02, -6.72507431e+00],\n",
              "       [ 1.36430021e+01,  2.78468321e+01],\n",
              "       [ 4.84296422e+01,  1.63219498e+01],\n",
              "       [ 2.87884092e+02, -1.48851185e+01],\n",
              "       [ 3.48095348e+02, -5.04342609e+00],\n",
              "       [-6.68146554e+01,  4.38482992e+00],\n",
              "       [ 1.38227010e+02,  4.73068836e+00],\n",
              "       [ 3.33254806e+02,  5.31933116e+00],\n",
              "       [ 3.18111848e+02, -3.48694494e+00],\n",
              "       [ 2.38111485e+02, -3.05152100e+00],\n",
              "       [ 3.13119915e+02, -2.30536316e+00],\n",
              "       [ 5.13187748e+02, -8.63759235e-01],\n",
              "       [ 4.02939017e+02, -1.50533028e+01],\n",
              "       [ 5.17928963e+02, -1.49975549e+01],\n",
              "       [ 4.43266411e+02,  3.26050204e+00],\n",
              "       [ 6.28286071e+02,  4.04114538e+00],\n",
              "       [ 3.13397613e+02,  1.26089135e+01],\n",
              "       [ 3.73333291e+02,  9.66419863e+00],\n",
              "       [ 2.23417106e+02,  1.42168924e+01],\n",
              "       [ 5.23072851e+02, -7.09662526e+00],\n",
              "       [ 5.38182097e+02, -1.35678013e+00],\n",
              "       [-2.27032690e+02, -7.99496797e+00],\n",
              "       [-6.68501220e+01,  2.31986654e+00],\n",
              "       [-2.96824437e+02,  5.46847570e+00],\n",
              "       [-1.16970473e+02, -3.72638342e+00],\n",
              "       [-3.27059126e+02, -6.94813081e+00],\n",
              "       [-3.91752486e+02,  1.11716783e+01],\n",
              "       [-6.89057604e+01, -5.58620537e-01],\n",
              "       [-2.45212524e+02, -1.74936393e+01],\n",
              "       [-2.37241410e+02, -1.75310256e+01],\n",
              "       [ 3.29615599e+00,  1.00958116e+01],\n",
              "       [-2.79661207e+01,  5.16301252e+01],\n",
              "       [ 1.23130138e+02,  1.05983451e+00],\n",
              "       [-3.37104122e+02, -7.62385512e+00],\n",
              "       [-2.75096026e+02, -7.75315213e+00],\n",
              "       [ 2.38716757e+02,  3.52518274e+01],\n",
              "       [ 1.39094057e+02, -1.20747620e+00],\n",
              "       [-3.18876329e+02,  2.81077113e+00],\n",
              "       [-3.55060253e+02, -7.53070183e+00],\n",
              "       [-2.46633597e+02,  1.65584367e+01],\n",
              "       [ 3.77168966e+00,  3.60310924e+01],\n",
              "       [-2.83842248e+02,  6.36186080e+00],\n",
              "       [-4.69059350e+02, -5.45892398e+00],\n",
              "       [-3.31313392e+01, -1.31871050e+01],\n",
              "       [-1.17290392e+02, -1.95786125e+01],\n",
              "       [-2.32132988e+02, -1.05301033e+01],\n",
              "       [-2.26953299e+02, -1.77605879e+00],\n",
              "       [-2.96852152e+02,  4.45280309e+00],\n",
              "       [-2.52046392e+02, -5.21261759e+00],\n",
              "       [-1.85108857e+02, -8.31858202e+00],\n",
              "       [-6.71807518e+01, -1.45246902e+01],\n",
              "       [-1.22431326e+02, -2.75040387e+01],\n",
              "       [-2.67185333e+02, -1.40538901e+01],\n",
              "       [-2.97104415e+02, -8.41503161e+00],\n",
              "       [-2.52213885e+02, -1.52515702e+01],\n",
              "       [-4.57022215e+02, -3.69733793e+00],\n",
              "       [-4.01851274e+02,  5.33140022e+00],\n",
              "       [ 1.91183397e+02,  5.87937624e+01],\n",
              "       [-1.21279178e+02,  3.64175149e+01],\n",
              "       [-3.19088273e+02, -9.19307820e+00],\n",
              "       [-8.70802926e+01, -1.02265727e+01],\n",
              "       [-3.41040900e+02, -5.75056559e+00],\n",
              "       [-3.69316146e+01, -2.17041593e+00],\n",
              "       [-1.85073713e+02, -8.52051902e+00],\n",
              "       [-3.08882387e+02,  3.75165655e+00],\n",
              "       [-3.32089296e+02, -7.88372875e+00],\n",
              "       [-7.51531378e+01, -1.34138279e+01],\n",
              "       [-4.32009742e+02, -2.03294673e+00],\n",
              "       [-2.37206697e+02, -1.55619679e+01],\n",
              "       [-2.59148368e+02, -1.10788163e+01],\n",
              "       [-4.34957780e+02, -5.95260295e-02],\n",
              "       [-6.69906958e+01, -4.57145764e+00],\n",
              "       [-1.84736439e+02,  1.05164632e+01],\n",
              "       [-4.22042874e+02, -4.24492194e+00],\n",
              "       [-1.39818663e+02,  5.73555207e+00],\n",
              "       [-3.13060948e+02, -6.16709401e+00],\n",
              "       [-3.62129633e+02, -9.25929540e+00],\n",
              "       [-3.40115006e+02, -8.68973443e+00],\n",
              "       [-2.52109472e+02, -9.27587015e+00],\n",
              "       [-4.01695973e+02,  1.54258903e+01],\n",
              "       [-3.75171092e+02, -1.31850503e+01],\n",
              "       [-1.83097929e+02, -9.55354432e+00],\n",
              "       [-1.21945241e+02, -1.58889428e+00],\n",
              "       [-2.81534569e+02,  2.45082612e+01],\n",
              "       [-3.81826778e+02,  9.18910976e+00],\n",
              "       [-3.67089380e+02, -7.18821589e+00],\n",
              "       [-3.67157175e+02, -1.11963202e+01],\n",
              "       [-3.69103601e+02, -8.17580491e+00],\n",
              "       [-3.95078836e+02, -6.67983187e+00],\n",
              "       [-2.81030369e+02, -2.53586007e+00],\n",
              "       [-4.05061288e+02, -4.45107367e+00],\n",
              "       [-1.67237642e+02, -1.67311857e+01],\n",
              "       [-1.16473000e+02,  2.42660201e+01],\n",
              "       [-2.16784540e+02,  8.13044956e+00],\n",
              "       [-1.86915112e+02,  1.71005736e+00],\n",
              "       [-1.46769530e+02,  8.92033411e+00],\n",
              "       [-9.71329736e+01, -1.30582838e+01],\n",
              "       [-5.19820469e+01, -4.81229310e+00],\n",
              "       [-2.70979307e+01, -1.02299962e+01],\n",
              "       [-2.31951534e+02,  5.34907410e-01],\n",
              "       [-1.67076246e+02, -8.75672311e+00],\n",
              "       [-1.56868045e+02,  4.16316249e+00],\n",
              "       [-1.46946490e+02, -1.09672896e+00],\n",
              "       [ 3.29042927e+01, -1.13053656e+01],\n",
              "       [-2.26926210e+02,  1.38827837e+00],\n",
              "       [-1.97004347e+02, -4.22842870e+00],\n",
              "       [ 1.08312677e+02,  1.03513304e+01],\n",
              "       [ 8.31182626e+01,  8.06869695e-01],\n",
              "       [-3.32195840e+02, -1.38132989e+01],\n",
              "       [-1.22126092e+02, -1.14699259e+01],\n",
              "       [-9.70193893e+01, -5.90644258e+00],\n",
              "       [-1.96624807e+02,  1.68731139e+01],\n",
              "       [-2.46449199e+02,  2.78100954e+01],\n",
              "       [-2.66628788e+02,  1.71502320e+01],\n",
              "       [-3.21570741e+02,  2.21643401e+01],\n",
              "       [-7.18976587e+01, -3.99656400e-01],\n",
              "       [-1.06816618e+02,  5.20612307e+00],\n",
              "       [-2.20202568e+01, -6.22943925e+00],\n",
              "       [-2.67031732e+02, -5.92308914e+00],\n",
              "       [ 1.32999841e+02, -4.86770544e+00],\n",
              "       [-8.69139986e+01,  7.96357772e-02],\n",
              "       [-1.27061290e+02, -8.29141684e+00],\n",
              "       [-2.27068836e+02, -7.61863030e+00],\n",
              "       [-6.67554312e+01,  8.47028990e+00],\n",
              "       [-1.76765098e+02,  9.47319000e+00],\n",
              "       [-7.17683979e+01,  7.51063784e+00],\n",
              "       [-1.32048248e+02, -7.25503031e+00],\n",
              "       [-2.27077845e+02, -7.59337930e+00],\n",
              "       [-5.16895065e+01,  1.23580850e+01],\n",
              "       [-6.20850111e+01, -1.05540153e+01],\n",
              "       [ 3.18276465e+00,  5.39136150e+00],\n",
              "       [-1.16674818e+02,  1.45333703e+01],\n",
              "       [-2.36921208e+02,  4.63036998e-01],\n",
              "       [-2.77083578e+02, -8.74033191e+00],\n",
              "       [-8.70274026e+01, -7.10459575e+00],\n",
              "       [-6.98021096e+00, -4.54113657e+00],\n",
              "       [ 3.13160468e+00,  2.33519051e+00],\n",
              "       [ 8.84580737e+01,  1.87762846e+01],\n",
              "       [ 9.34562419e+01,  1.86708191e+01],\n",
              "       [-1.86943190e+02, -2.13330803e-01]])"
            ]
          },
          "metadata": {
            "tags": []
          },
          "execution_count": 9
        }
      ]
    },
    {
      "cell_type": "code",
      "metadata": {
        "id": "thl6bkHchaMT"
      },
      "source": [
        "kmeans = KMeans(n_clusters= 3, random_state=27)\n"
      ],
      "execution_count": 10,
      "outputs": []
    },
    {
      "cell_type": "code",
      "metadata": {
        "id": "Jg8d0MwMup1D"
      },
      "source": [
        "label = kmeans.fit_predict(df)"
      ],
      "execution_count": 11,
      "outputs": []
    },
    {
      "cell_type": "code",
      "metadata": {
        "colab": {
          "base_uri": "https://localhost:8080/"
        },
        "id": "Yy5fxf_b-S7E",
        "outputId": "613fdf44-f8be-4a57-a7e7-8c8357b28553"
      },
      "source": [
        "label\n"
      ],
      "execution_count": 12,
      "outputs": [
        {
          "output_type": "execute_result",
          "data": {
            "text/plain": [
              "array([1, 1, 1, 1, 0, 1, 1, 1, 1, 1, 1, 1, 1, 1, 1, 1, 1, 1, 1, 0, 0, 0,\n",
              "       1, 1, 0, 0, 1, 1, 0, 1, 1, 1, 1, 1, 1, 0, 0, 1, 1, 0, 0, 1, 1, 0,\n",
              "       0, 1, 1, 1, 1, 1, 1, 1, 1, 1, 1, 1, 1, 1, 1, 2, 0, 2, 0, 2, 2, 0,\n",
              "       2, 2, 0, 0, 0, 2, 2, 1, 0, 2, 2, 2, 0, 2, 2, 0, 0, 2, 2, 2, 2, 2,\n",
              "       0, 0, 2, 2, 2, 2, 2, 0, 0, 2, 0, 2, 0, 2, 2, 2, 0, 2, 2, 2, 2, 0,\n",
              "       2, 2, 0, 2, 2, 2, 2, 2, 2, 2, 0, 2, 2, 2, 2, 2, 2, 2, 2, 2, 0, 2,\n",
              "       2, 0, 0, 0, 0, 2, 2, 2, 0, 0, 2, 2, 0, 0, 2, 0, 0, 2, 2, 2, 2, 0,\n",
              "       0, 0, 2, 0, 0, 0, 2, 0, 2, 0, 0, 2, 0, 0, 0, 0, 2, 2, 0, 0, 0, 0,\n",
              "       0, 2], dtype=int32)"
            ]
          },
          "metadata": {
            "tags": []
          },
          "execution_count": 12
        }
      ]
    },
    {
      "cell_type": "code",
      "metadata": {
        "id": "u17dE6xDPeGA"
      },
      "source": [
        "df['ClusterId'] = label"
      ],
      "execution_count": 20,
      "outputs": []
    },
    {
      "cell_type": "code",
      "metadata": {
        "colab": {
          "base_uri": "https://localhost:8080/",
          "height": 424
        },
        "id": "BTXhxLxzPm5l",
        "outputId": "e3df11f9-9676-496b-8274-38a6acfa5da5"
      },
      "source": [
        "df"
      ],
      "execution_count": 21,
      "outputs": [
        {
          "output_type": "execute_result",
          "data": {
            "text/html": [
              "<div>\n",
              "<style scoped>\n",
              "    .dataframe tbody tr th:only-of-type {\n",
              "        vertical-align: middle;\n",
              "    }\n",
              "\n",
              "    .dataframe tbody tr th {\n",
              "        vertical-align: top;\n",
              "    }\n",
              "\n",
              "    .dataframe thead th {\n",
              "        text-align: right;\n",
              "    }\n",
              "</style>\n",
              "<table border=\"1\" class=\"dataframe\">\n",
              "  <thead>\n",
              "    <tr style=\"text-align: right;\">\n",
              "      <th></th>\n",
              "      <th>alcohol</th>\n",
              "      <th>malic_acid</th>\n",
              "      <th>ash</th>\n",
              "      <th>alcalinity_of_ash</th>\n",
              "      <th>magnesium</th>\n",
              "      <th>total_phenols</th>\n",
              "      <th>flavanoids</th>\n",
              "      <th>nonflavanoid_phenols</th>\n",
              "      <th>proanthocyanins</th>\n",
              "      <th>color_intensity</th>\n",
              "      <th>hue</th>\n",
              "      <th>od280/od315_of_diluted_wines</th>\n",
              "      <th>proline</th>\n",
              "      <th>ClusterId</th>\n",
              "    </tr>\n",
              "  </thead>\n",
              "  <tbody>\n",
              "    <tr>\n",
              "      <th>0</th>\n",
              "      <td>14.23</td>\n",
              "      <td>1.71</td>\n",
              "      <td>2.43</td>\n",
              "      <td>15.6</td>\n",
              "      <td>127.0</td>\n",
              "      <td>2.80</td>\n",
              "      <td>3.06</td>\n",
              "      <td>0.28</td>\n",
              "      <td>2.29</td>\n",
              "      <td>5.64</td>\n",
              "      <td>1.04</td>\n",
              "      <td>3.92</td>\n",
              "      <td>1065.0</td>\n",
              "      <td>1</td>\n",
              "    </tr>\n",
              "    <tr>\n",
              "      <th>1</th>\n",
              "      <td>13.20</td>\n",
              "      <td>1.78</td>\n",
              "      <td>2.14</td>\n",
              "      <td>11.2</td>\n",
              "      <td>100.0</td>\n",
              "      <td>2.65</td>\n",
              "      <td>2.76</td>\n",
              "      <td>0.26</td>\n",
              "      <td>1.28</td>\n",
              "      <td>4.38</td>\n",
              "      <td>1.05</td>\n",
              "      <td>3.40</td>\n",
              "      <td>1050.0</td>\n",
              "      <td>1</td>\n",
              "    </tr>\n",
              "    <tr>\n",
              "      <th>2</th>\n",
              "      <td>13.16</td>\n",
              "      <td>2.36</td>\n",
              "      <td>2.67</td>\n",
              "      <td>18.6</td>\n",
              "      <td>101.0</td>\n",
              "      <td>2.80</td>\n",
              "      <td>3.24</td>\n",
              "      <td>0.30</td>\n",
              "      <td>2.81</td>\n",
              "      <td>5.68</td>\n",
              "      <td>1.03</td>\n",
              "      <td>3.17</td>\n",
              "      <td>1185.0</td>\n",
              "      <td>1</td>\n",
              "    </tr>\n",
              "    <tr>\n",
              "      <th>3</th>\n",
              "      <td>14.37</td>\n",
              "      <td>1.95</td>\n",
              "      <td>2.50</td>\n",
              "      <td>16.8</td>\n",
              "      <td>113.0</td>\n",
              "      <td>3.85</td>\n",
              "      <td>3.49</td>\n",
              "      <td>0.24</td>\n",
              "      <td>2.18</td>\n",
              "      <td>7.80</td>\n",
              "      <td>0.86</td>\n",
              "      <td>3.45</td>\n",
              "      <td>1480.0</td>\n",
              "      <td>1</td>\n",
              "    </tr>\n",
              "    <tr>\n",
              "      <th>4</th>\n",
              "      <td>13.24</td>\n",
              "      <td>2.59</td>\n",
              "      <td>2.87</td>\n",
              "      <td>21.0</td>\n",
              "      <td>118.0</td>\n",
              "      <td>2.80</td>\n",
              "      <td>2.69</td>\n",
              "      <td>0.39</td>\n",
              "      <td>1.82</td>\n",
              "      <td>4.32</td>\n",
              "      <td>1.04</td>\n",
              "      <td>2.93</td>\n",
              "      <td>735.0</td>\n",
              "      <td>0</td>\n",
              "    </tr>\n",
              "    <tr>\n",
              "      <th>...</th>\n",
              "      <td>...</td>\n",
              "      <td>...</td>\n",
              "      <td>...</td>\n",
              "      <td>...</td>\n",
              "      <td>...</td>\n",
              "      <td>...</td>\n",
              "      <td>...</td>\n",
              "      <td>...</td>\n",
              "      <td>...</td>\n",
              "      <td>...</td>\n",
              "      <td>...</td>\n",
              "      <td>...</td>\n",
              "      <td>...</td>\n",
              "      <td>...</td>\n",
              "    </tr>\n",
              "    <tr>\n",
              "      <th>173</th>\n",
              "      <td>13.71</td>\n",
              "      <td>5.65</td>\n",
              "      <td>2.45</td>\n",
              "      <td>20.5</td>\n",
              "      <td>95.0</td>\n",
              "      <td>1.68</td>\n",
              "      <td>0.61</td>\n",
              "      <td>0.52</td>\n",
              "      <td>1.06</td>\n",
              "      <td>7.70</td>\n",
              "      <td>0.64</td>\n",
              "      <td>1.74</td>\n",
              "      <td>740.0</td>\n",
              "      <td>0</td>\n",
              "    </tr>\n",
              "    <tr>\n",
              "      <th>174</th>\n",
              "      <td>13.40</td>\n",
              "      <td>3.91</td>\n",
              "      <td>2.48</td>\n",
              "      <td>23.0</td>\n",
              "      <td>102.0</td>\n",
              "      <td>1.80</td>\n",
              "      <td>0.75</td>\n",
              "      <td>0.43</td>\n",
              "      <td>1.41</td>\n",
              "      <td>7.30</td>\n",
              "      <td>0.70</td>\n",
              "      <td>1.56</td>\n",
              "      <td>750.0</td>\n",
              "      <td>0</td>\n",
              "    </tr>\n",
              "    <tr>\n",
              "      <th>175</th>\n",
              "      <td>13.27</td>\n",
              "      <td>4.28</td>\n",
              "      <td>2.26</td>\n",
              "      <td>20.0</td>\n",
              "      <td>120.0</td>\n",
              "      <td>1.59</td>\n",
              "      <td>0.69</td>\n",
              "      <td>0.43</td>\n",
              "      <td>1.35</td>\n",
              "      <td>10.20</td>\n",
              "      <td>0.59</td>\n",
              "      <td>1.56</td>\n",
              "      <td>835.0</td>\n",
              "      <td>0</td>\n",
              "    </tr>\n",
              "    <tr>\n",
              "      <th>176</th>\n",
              "      <td>13.17</td>\n",
              "      <td>2.59</td>\n",
              "      <td>2.37</td>\n",
              "      <td>20.0</td>\n",
              "      <td>120.0</td>\n",
              "      <td>1.65</td>\n",
              "      <td>0.68</td>\n",
              "      <td>0.53</td>\n",
              "      <td>1.46</td>\n",
              "      <td>9.30</td>\n",
              "      <td>0.60</td>\n",
              "      <td>1.62</td>\n",
              "      <td>840.0</td>\n",
              "      <td>0</td>\n",
              "    </tr>\n",
              "    <tr>\n",
              "      <th>177</th>\n",
              "      <td>14.13</td>\n",
              "      <td>4.10</td>\n",
              "      <td>2.74</td>\n",
              "      <td>24.5</td>\n",
              "      <td>96.0</td>\n",
              "      <td>2.05</td>\n",
              "      <td>0.76</td>\n",
              "      <td>0.56</td>\n",
              "      <td>1.35</td>\n",
              "      <td>9.20</td>\n",
              "      <td>0.61</td>\n",
              "      <td>1.60</td>\n",
              "      <td>560.0</td>\n",
              "      <td>2</td>\n",
              "    </tr>\n",
              "  </tbody>\n",
              "</table>\n",
              "<p>178 rows × 14 columns</p>\n",
              "</div>"
            ],
            "text/plain": [
              "     alcohol  malic_acid  ...  proline  ClusterId\n",
              "0      14.23        1.71  ...   1065.0          1\n",
              "1      13.20        1.78  ...   1050.0          1\n",
              "2      13.16        2.36  ...   1185.0          1\n",
              "3      14.37        1.95  ...   1480.0          1\n",
              "4      13.24        2.59  ...    735.0          0\n",
              "..       ...         ...  ...      ...        ...\n",
              "173    13.71        5.65  ...    740.0          0\n",
              "174    13.40        3.91  ...    750.0          0\n",
              "175    13.27        4.28  ...    835.0          0\n",
              "176    13.17        2.59  ...    840.0          0\n",
              "177    14.13        4.10  ...    560.0          2\n",
              "\n",
              "[178 rows x 14 columns]"
            ]
          },
          "metadata": {
            "tags": []
          },
          "execution_count": 21
        }
      ]
    },
    {
      "cell_type": "code",
      "metadata": {
        "id": "2URW3hERuxuv"
      },
      "source": [
        "u_labels = np.unique(label)"
      ],
      "execution_count": 13,
      "outputs": []
    },
    {
      "cell_type": "code",
      "metadata": {
        "colab": {
          "base_uri": "https://localhost:8080/",
          "height": 265
        },
        "id": "W2JgabEPu8za",
        "outputId": "c96100a0-a8d2-4850-ab6d-0f2e3b76b005"
      },
      "source": [
        "for i in u_labels:\n",
        "    plt.scatter(df_pca[label == i , 0] , df_pca[label == i , 1] , label = i)\n",
        "plt.legend()\n",
        "plt.show()"
      ],
      "execution_count": 14,
      "outputs": [
        {
          "output_type": "display_data",
          "data": {
            "image/png": "[encoded data removed]",
            "text/plain": [
              "<Figure size 432x288 with 1 Axes>"
            ]
          },
          "metadata": {
            "tags": [],
            "needs_background": "light"
          }
        }
      ]
    },
    {
      "cell_type": "markdown",
      "metadata": {
        "id": "8iNcQdQSvmim"
      },
      "source": [
        "Но данные так чётко разделены не всегда. Поэтому познакомимся с другим способом поиска числа кластеров — методом локтя (англ. elbow method). Своё название получил неслучайно: по форме его график напоминает согнутую в локте руку. Оптимальное количество кластеров определяется условным «локтем». "
      ]
    },
    {
      "cell_type": "code",
      "metadata": {
        "id": "PFE_NmBCvpYy"
      },
      "source": [
        "distortion = []\n",
        "K = range(1, 10)\n",
        "for k in K:\n",
        "    model = KMeans(n_clusters=k, random_state=12345)\n",
        "    model.fit(df)\n",
        "    distortion.append(model.inertia_) "
      ],
      "execution_count": 15,
      "outputs": []
    },
    {
      "cell_type": "code",
      "metadata": {
        "colab": {
          "base_uri": "https://localhost:8080/",
          "height": 290
        },
        "id": "cMvvfQgdv0Pz",
        "outputId": "aaaf2903-6935-4979-dfed-a678a5eeeb8f"
      },
      "source": [
        "plt.plot(K, distortion, 'bx-')\n",
        "plt.xlabel('Число кластеров')\n",
        "plt.ylabel('Значение целевой функции')\n",
        "plt.show() "
      ],
      "execution_count": 16,
      "outputs": [
        {
          "output_type": "display_data",
          "data": {
            "image/png": "[encoded data removed]",
            "text/plain": [
              "<Figure size 432x288 with 1 Axes>"
            ]
          },
          "metadata": {
            "tags": [],
            "needs_background": "light"
          }
        }
      ]
    }
  ]
}