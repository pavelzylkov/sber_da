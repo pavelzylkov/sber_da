{
 "cells": [
  {
   "cell_type": "code",
   "execution_count": 2,
   "metadata": {
    "id": "Ea55jLmsBNNX"
   },
   "outputs": [],
   "source": [
    "import pandas as pd\n",
    "from sklearn.model_selection import train_test_split, cross_val_score, ShuffleSplit\n",
    "from sklearn.metrics import mean_squared_error, accuracy_score, precision_score, recall_score, f1_score, roc_auc_score, roc_curve,auc, fbeta_score\n",
    "import matplotlib.pyplot as plt\n",
    "from sklearn import tree\n",
    "from google.colab import drive"
   ]
  },
  {
   "cell_type": "code",
   "execution_count": 3,
   "metadata": {
    "colab": {
     "base_uri": "https://localhost:8080/"
    },
    "id": "Hemjj-ZrAbHt",
    "outputId": "90a2c2da-c05e-435d-8997-91771715e216"
   },
   "outputs": [
    {
     "name": "stdout",
     "output_type": "stream",
     "text": [
      "Go to this URL in a browser: https://accounts.google.com/o/oauth2/auth?client_id=947318989803-6bn6qk8qdgf4n4g3pfee6491hc0brc4i.apps.googleusercontent.com&redirect_uri=urn%3aietf%3awg%3aoauth%3a2.0%3aoob&scope=email%20https%3a%2f%2fwww.googleapis.com%2fauth%2fdocs.test%20https%3a%2f%2fwww.googleapis.com%2fauth%2fdrive%20https%3a%2f%2fwww.googleapis.com%2fauth%2fdrive.photos.readonly%20https%3a%2f%2fwww.googleapis.com%2fauth%2fpeopleapi.readonly%20https%3a%2f%2fwww.googleapis.com%2fauth%2fdrive.activity.readonly%20https%3a%2f%2fwww.googleapis.com%2fauth%2fexperimentsandconfigs%20https%3a%2f%2fwww.googleapis.com%2fauth%2fphotos.native&response_type=code\n",
      "\n",
      "Enter your authorization code:\n",
      "4/1AX4XfWjq8sLnuxnlfFYdxFdNsjQOBC2AvX3cZD6JoQxA_o0oGhKQsdre1yY\n",
      "Mounted at /content/drive\n"
     ]
    }
   ],
   "source": [
    "\n",
    "drive.mount('/content/drive')"
   ]
  },
  {
   "cell_type": "code",
   "execution_count": 4,
   "metadata": {
    "colab": {
     "base_uri": "https://localhost:8080/"
    },
    "id": "It8lwbV5AoLG",
    "outputId": "bd04cd08-c128-45ab-ebef-b1ccfa2425c1"
   },
   "outputs": [
    {
     "name": "stdout",
     "output_type": "stream",
     "text": [
      "/content/drive/My Drive\n"
     ]
    }
   ],
   "source": [
    "cd drive/My\\ Drive"
   ]
  },
  {
   "cell_type": "code",
   "execution_count": 5,
   "metadata": {
    "colab": {
     "base_uri": "https://localhost:8080/"
    },
    "id": "He7guYpjAqC-",
    "outputId": "2fbe0305-25c1-46b0-ae70-9d9ef29e6020"
   },
   "outputs": [
    {
     "name": "stdout",
     "output_type": "stream",
     "text": [
      "/content/drive/My Drive/Colab Notebooks\n"
     ]
    }
   ],
   "source": [
    "cd Colab\\ Notebooks"
   ]
  },
  {
   "cell_type": "code",
   "execution_count": 6,
   "metadata": {
    "id": "VRPWZhbHAvLi"
   },
   "outputs": [],
   "source": [
    "\n",
    "\n",
    "titanic_df = pd.read_csv('titanic.csv')"
   ]
  },
  {
   "cell_type": "code",
   "execution_count": 7,
   "metadata": {
    "colab": {
     "base_uri": "https://localhost:8080/",
     "height": 204
    },
    "id": "Vz-h3DpsAxDl",
    "outputId": "0635f8e1-53a8-48dc-fecb-3289a2a727c4"
   },
   "outputs": [
    {
     "data": {
      "text/html": [
       "<div>\n",
       "<style scoped>\n",
       "    .dataframe tbody tr th:only-of-type {\n",
       "        vertical-align: middle;\n",
       "    }\n",
       "\n",
       "    .dataframe tbody tr th {\n",
       "        vertical-align: top;\n",
       "    }\n",
       "\n",
       "    .dataframe thead th {\n",
       "        text-align: right;\n",
       "    }\n",
       "</style>\n",
       "<table border=\"1\" class=\"dataframe\">\n",
       "  <thead>\n",
       "    <tr style=\"text-align: right;\">\n",
       "      <th></th>\n",
       "      <th>PassengerId</th>\n",
       "      <th>Survived</th>\n",
       "      <th>Pclass</th>\n",
       "      <th>Name</th>\n",
       "      <th>Sex</th>\n",
       "      <th>Age</th>\n",
       "      <th>SibSp</th>\n",
       "      <th>Parch</th>\n",
       "      <th>Ticket</th>\n",
       "      <th>Fare</th>\n",
       "      <th>Cabin</th>\n",
       "      <th>Embarked</th>\n",
       "    </tr>\n",
       "  </thead>\n",
       "  <tbody>\n",
       "    <tr>\n",
       "      <th>0</th>\n",
       "      <td>1</td>\n",
       "      <td>0</td>\n",
       "      <td>3</td>\n",
       "      <td>Braund, Mr. Owen Harris</td>\n",
       "      <td>male</td>\n",
       "      <td>22.0</td>\n",
       "      <td>1</td>\n",
       "      <td>0</td>\n",
       "      <td>A/5 21171</td>\n",
       "      <td>7.2500</td>\n",
       "      <td>NaN</td>\n",
       "      <td>S</td>\n",
       "    </tr>\n",
       "    <tr>\n",
       "      <th>1</th>\n",
       "      <td>2</td>\n",
       "      <td>1</td>\n",
       "      <td>1</td>\n",
       "      <td>Cumings, Mrs. John Bradley (Florence Briggs Th...</td>\n",
       "      <td>female</td>\n",
       "      <td>38.0</td>\n",
       "      <td>1</td>\n",
       "      <td>0</td>\n",
       "      <td>PC 17599</td>\n",
       "      <td>71.2833</td>\n",
       "      <td>C85</td>\n",
       "      <td>C</td>\n",
       "    </tr>\n",
       "    <tr>\n",
       "      <th>2</th>\n",
       "      <td>3</td>\n",
       "      <td>1</td>\n",
       "      <td>3</td>\n",
       "      <td>Heikkinen, Miss. Laina</td>\n",
       "      <td>female</td>\n",
       "      <td>26.0</td>\n",
       "      <td>0</td>\n",
       "      <td>0</td>\n",
       "      <td>STON/O2. 3101282</td>\n",
       "      <td>7.9250</td>\n",
       "      <td>NaN</td>\n",
       "      <td>S</td>\n",
       "    </tr>\n",
       "    <tr>\n",
       "      <th>3</th>\n",
       "      <td>4</td>\n",
       "      <td>1</td>\n",
       "      <td>1</td>\n",
       "      <td>Futrelle, Mrs. Jacques Heath (Lily May Peel)</td>\n",
       "      <td>female</td>\n",
       "      <td>35.0</td>\n",
       "      <td>1</td>\n",
       "      <td>0</td>\n",
       "      <td>113803</td>\n",
       "      <td>53.1000</td>\n",
       "      <td>C123</td>\n",
       "      <td>S</td>\n",
       "    </tr>\n",
       "    <tr>\n",
       "      <th>4</th>\n",
       "      <td>5</td>\n",
       "      <td>0</td>\n",
       "      <td>3</td>\n",
       "      <td>Allen, Mr. William Henry</td>\n",
       "      <td>male</td>\n",
       "      <td>35.0</td>\n",
       "      <td>0</td>\n",
       "      <td>0</td>\n",
       "      <td>373450</td>\n",
       "      <td>8.0500</td>\n",
       "      <td>NaN</td>\n",
       "      <td>S</td>\n",
       "    </tr>\n",
       "  </tbody>\n",
       "</table>\n",
       "</div>"
      ],
      "text/plain": [
       "   PassengerId  Survived  Pclass  ...     Fare Cabin  Embarked\n",
       "0            1         0       3  ...   7.2500   NaN         S\n",
       "1            2         1       1  ...  71.2833   C85         C\n",
       "2            3         1       3  ...   7.9250   NaN         S\n",
       "3            4         1       1  ...  53.1000  C123         S\n",
       "4            5         0       3  ...   8.0500   NaN         S\n",
       "\n",
       "[5 rows x 12 columns]"
      ]
     },
     "execution_count": 7,
     "metadata": {
      "tags": []
     },
     "output_type": "execute_result"
    }
   ],
   "source": [
    "titanic_df.head()"
   ]
  },
  {
   "cell_type": "code",
   "execution_count": 8,
   "metadata": {
    "colab": {
     "base_uri": "https://localhost:8080/"
    },
    "id": "O3FgSn8boZQs",
    "outputId": "0165eee3-a0d4-439d-990a-99fabaed69f1"
   },
   "outputs": [
    {
     "data": {
      "text/plain": [
       "0    0.616162\n",
       "1    0.383838\n",
       "Name: Survived, dtype: float64"
      ]
     },
     "execution_count": 8,
     "metadata": {
      "tags": []
     },
     "output_type": "execute_result"
    }
   ],
   "source": [
    "titanic_df.Survived.value_counts(normalize=True)"
   ]
  },
  {
   "cell_type": "code",
   "execution_count": 9,
   "metadata": {
    "id": "VsWHdq--AxLp"
   },
   "outputs": [],
   "source": [
    "titanic_df = titanic_df[['Survived','Pclass','Age','Fare']]"
   ]
  },
  {
   "cell_type": "code",
   "execution_count": 10,
   "metadata": {
    "id": "aDDuaZ5FA02S"
   },
   "outputs": [],
   "source": [
    "# titanic_df.fillna(titanic_df.Age.median(),inplace = True)\n",
    "titanic_df.dropna(inplace=True)"
   ]
  },
  {
   "cell_type": "code",
   "execution_count": 11,
   "metadata": {
    "id": "KE2OvaYQo6Dv"
   },
   "outputs": [],
   "source": [
    "def check_age_for_ten_years(df):\n",
    "  return df.Age // 10 * 10"
   ]
  },
  {
   "cell_type": "code",
   "execution_count": 12,
   "metadata": {
    "id": "1dT6QKM5pBis"
   },
   "outputs": [],
   "source": [
    "titanic_df['youth_10'] = titanic_df.apply(check_age_for_ten_years,axis=1)"
   ]
  },
  {
   "cell_type": "code",
   "execution_count": 13,
   "metadata": {
    "colab": {
     "base_uri": "https://localhost:8080/",
     "height": 282
    },
    "id": "KFlW_TEGzD3F",
    "outputId": "178a9093-421e-4521-d98f-6f9995eff530"
   },
   "outputs": [
    {
     "data": {
      "text/plain": [
       "<matplotlib.axes._subplots.AxesSubplot at 0x7fbbfde09cd0>"
      ]
     },
     "execution_count": 13,
     "metadata": {
      "tags": []
     },
     "output_type": "execute_result"
    },
    {
     "data": {
      "image/png": "[encoded data removed]",
      "text/plain": [
       "<Figure size 432x288 with 1 Axes>"
      ]
     },
     "metadata": {
      "needs_background": "light",
      "tags": []
     },
     "output_type": "display_data"
    }
   ],
   "source": [
    "titanic_df.Fare.plot(kind='hist', bins=100)"
   ]
  },
  {
   "cell_type": "code",
   "execution_count": 14,
   "metadata": {
    "colab": {
     "base_uri": "https://localhost:8080/",
     "height": 282
    },
    "id": "6T4wdqUbzRer",
    "outputId": "4babf2c0-cb55-48b7-db06-82aad5617586"
   },
   "outputs": [
    {
     "data": {
      "text/plain": [
       "<matplotlib.axes._subplots.AxesSubplot at 0x7fbbfcc61490>"
      ]
     },
     "execution_count": 14,
     "metadata": {
      "tags": []
     },
     "output_type": "execute_result"
    },
    {
     "data": {
      "image/png": "[encoded data removed]",
      "text/plain": [
       "<Figure size 432x288 with 1 Axes>"
      ]
     },
     "metadata": {
      "needs_background": "light",
      "tags": []
     },
     "output_type": "display_data"
    }
   ],
   "source": [
    "titanic_df.Age.plot(kind='hist', bins=100)"
   ]
  },
  {
   "cell_type": "code",
   "execution_count": 15,
   "metadata": {
    "colab": {
     "base_uri": "https://localhost:8080/",
     "height": 282
    },
    "id": "sUma_MkGzbGB",
    "outputId": "03e25c7f-0090-471a-be0d-c6d02efe2f4e"
   },
   "outputs": [
    {
     "data": {
      "text/plain": [
       "<matplotlib.axes._subplots.AxesSubplot at 0x7fbbfcaf2d90>"
      ]
     },
     "execution_count": 15,
     "metadata": {
      "tags": []
     },
     "output_type": "execute_result"
    },
    {
     "data": {
      "image/png": "[encoded data removed]",
      "text/plain": [
       "<Figure size 432x288 with 1 Axes>"
      ]
     },
     "metadata": {
      "needs_background": "light",
      "tags": []
     },
     "output_type": "display_data"
    }
   ],
   "source": [
    "titanic_df.boxplot('Age')"
   ]
  },
  {
   "cell_type": "code",
   "execution_count": 16,
   "metadata": {
    "id": "Lu7XQs8HA9yA"
   },
   "outputs": [],
   "source": [
    "X_train, X_test, y_train, y_test = train_test_split(titanic_df.drop('Survived',axis=1), titanic_df['Survived'], test_size=0.33, random_state=42)"
   ]
  },
  {
   "cell_type": "code",
   "execution_count": 17,
   "metadata": {
    "colab": {
     "base_uri": "https://localhost:8080/",
     "height": 204
    },
    "id": "n10gz8lopKu6",
    "outputId": "654e8d91-17e6-44ea-c074-22e2f798b710"
   },
   "outputs": [
    {
     "data": {
      "text/html": [
       "<div>\n",
       "<style scoped>\n",
       "    .dataframe tbody tr th:only-of-type {\n",
       "        vertical-align: middle;\n",
       "    }\n",
       "\n",
       "    .dataframe tbody tr th {\n",
       "        vertical-align: top;\n",
       "    }\n",
       "\n",
       "    .dataframe thead th {\n",
       "        text-align: right;\n",
       "    }\n",
       "</style>\n",
       "<table border=\"1\" class=\"dataframe\">\n",
       "  <thead>\n",
       "    <tr style=\"text-align: right;\">\n",
       "      <th></th>\n",
       "      <th>Pclass</th>\n",
       "      <th>Age</th>\n",
       "      <th>Fare</th>\n",
       "      <th>youth_10</th>\n",
       "    </tr>\n",
       "  </thead>\n",
       "  <tbody>\n",
       "    <tr>\n",
       "      <th>271</th>\n",
       "      <td>3</td>\n",
       "      <td>25.0</td>\n",
       "      <td>0.0000</td>\n",
       "      <td>20.0</td>\n",
       "    </tr>\n",
       "    <tr>\n",
       "      <th>853</th>\n",
       "      <td>1</td>\n",
       "      <td>16.0</td>\n",
       "      <td>39.4000</td>\n",
       "      <td>10.0</td>\n",
       "    </tr>\n",
       "    <tr>\n",
       "      <th>696</th>\n",
       "      <td>3</td>\n",
       "      <td>44.0</td>\n",
       "      <td>8.0500</td>\n",
       "      <td>40.0</td>\n",
       "    </tr>\n",
       "    <tr>\n",
       "      <th>518</th>\n",
       "      <td>2</td>\n",
       "      <td>36.0</td>\n",
       "      <td>26.0000</td>\n",
       "      <td>30.0</td>\n",
       "    </tr>\n",
       "    <tr>\n",
       "      <th>609</th>\n",
       "      <td>1</td>\n",
       "      <td>40.0</td>\n",
       "      <td>153.4625</td>\n",
       "      <td>40.0</td>\n",
       "    </tr>\n",
       "  </tbody>\n",
       "</table>\n",
       "</div>"
      ],
      "text/plain": [
       "     Pclass   Age      Fare  youth_10\n",
       "271       3  25.0    0.0000      20.0\n",
       "853       1  16.0   39.4000      10.0\n",
       "696       3  44.0    8.0500      40.0\n",
       "518       2  36.0   26.0000      30.0\n",
       "609       1  40.0  153.4625      40.0"
      ]
     },
     "execution_count": 17,
     "metadata": {
      "tags": []
     },
     "output_type": "execute_result"
    }
   ],
   "source": [
    "X_train.head()"
   ]
  },
  {
   "cell_type": "code",
   "execution_count": 39,
   "metadata": {
    "id": "xBztneAuBCla"
   },
   "outputs": [],
   "source": [
    "clf = tree.DecisionTreeClassifier()"
   ]
  },
  {
   "cell_type": "code",
   "execution_count": 40,
   "metadata": {
    "id": "C4usrqtjBQ9X"
   },
   "outputs": [],
   "source": [
    "model = clf.fit(X_train, y_train)\n",
    "pred = model.predict(X_test)\n"
   ]
  },
  {
   "cell_type": "code",
   "execution_count": 41,
   "metadata": {
    "colab": {
     "base_uri": "https://localhost:8080/"
    },
    "id": "ROWhEI97BskI",
    "outputId": "c5d534d8-e244-4aad-cc63-bbe811c06480"
   },
   "outputs": [
    {
     "name": "stdout",
     "output_type": "stream",
     "text": [
      "Accuracy: 0.6694915254237288\n",
      "Precision: 0.6235294117647059\n",
      "Recall: 0.5353535353535354\n",
      "F1: 0.5760869565217391\n"
     ]
    }
   ],
   "source": [
    "print('Accuracy:',accuracy_score(y_test,pred))\n",
    "print('Precision:',precision_score(y_test,pred))\n",
    "print('Recall:',recall_score(y_test,pred))\n",
    "print('F1:',f1_score(y_test,pred))\n"
   ]
  },
  {
   "cell_type": "markdown",
   "metadata": {
    "id": "icmJuTEdIxnC"
   },
   "source": [
    "# ROC-AUC"
   ]
  },
  {
   "cell_type": "code",
   "execution_count": 21,
   "metadata": {
    "colab": {
     "base_uri": "https://localhost:8080/"
    },
    "id": "NElSKJJNpqoh",
    "outputId": "55ce84e8-f748-4bb1-edea-014282f099bd"
   },
   "outputs": [
    {
     "data": {
      "text/plain": [
       "array([1, 1, 1, 1, 0, 1, 0, 0, 0, 0, 1, 0, 1, 0, 1, 0, 0, 1, 0, 0, 0, 0,\n",
       "       0, 1, 0, 0, 0, 0, 0, 0, 0, 0, 1, 0, 0, 0, 1, 0, 0, 0, 0, 0, 1, 0,\n",
       "       1, 0, 1, 0, 1, 0, 1, 0, 1, 0, 0, 0, 1, 0, 0, 0, 0, 0, 0, 0, 0, 0,\n",
       "       1, 1, 0, 0, 0, 1, 0, 0, 0, 0, 0, 0, 0, 1, 0, 1, 0, 0, 0, 0, 0, 0,\n",
       "       0, 1, 0, 1, 1, 0, 1, 0, 1, 1, 0, 0, 0, 1, 0, 1, 1, 1, 0, 1, 0, 1,\n",
       "       1, 0, 0, 0, 0, 0, 0, 0, 0, 0, 1, 0, 0, 0, 1, 0, 0, 0, 0, 0, 0, 0,\n",
       "       0, 0, 1, 0, 0, 1, 0, 0, 0, 0, 1, 0, 0, 0, 0, 0, 1, 0, 1, 0, 0, 0,\n",
       "       0, 0, 0, 1, 1, 0, 0, 0, 0, 1, 0, 0, 1, 0, 1, 0, 0, 1, 0, 0, 1, 1,\n",
       "       0, 0, 0, 0, 1, 0, 1, 1, 0, 0, 1, 1, 0, 1, 1, 1, 1, 0, 0, 1, 0, 0,\n",
       "       1, 0, 0, 0, 0, 1, 0, 1, 0, 0, 0, 1, 0, 0, 1, 0, 0, 0, 1, 0, 0, 1,\n",
       "       1, 0, 0, 0, 0, 1, 0, 0, 1, 1, 0, 1, 0, 0, 1, 0])"
      ]
     },
     "execution_count": 21,
     "metadata": {
      "tags": []
     },
     "output_type": "execute_result"
    }
   ],
   "source": [
    "model.predict(X_test)"
   ]
  },
  {
   "cell_type": "code",
   "execution_count": 22,
   "metadata": {
    "colab": {
     "base_uri": "https://localhost:8080/"
    },
    "id": "0F895jl8pyoV",
    "outputId": "0821adb5-ad9a-4295-cc7c-1c0f74a32ada"
   },
   "outputs": [
    {
     "data": {
      "text/plain": [
       "array([0.71428571, 0.59259259, 0.59259259, 0.7972973 , 0.        ,\n",
       "       0.59259259, 0.13513514, 0.27777778, 0.25170068, 0.25170068,\n",
       "       0.7972973 , 0.2826087 , 0.7972973 , 0.        , 0.7972973 ,\n",
       "       0.2826087 , 0.25170068, 0.7972973 , 0.2826087 , 0.27777778,\n",
       "       0.25170068, 0.27777778, 0.25170068, 0.7972973 , 0.25170068,\n",
       "       0.25170068, 0.25170068, 0.25170068, 0.25170068, 0.13513514,\n",
       "       0.25170068, 0.25170068, 0.7972973 , 0.        , 0.13513514,\n",
       "       0.13513514, 0.59259259, 0.27777778, 0.27777778, 0.        ,\n",
       "       0.25170068, 0.25170068, 0.7972973 , 0.        , 0.65384615,\n",
       "       0.2826087 , 0.59259259, 0.25170068, 0.71428571, 0.27777778,\n",
       "       0.7972973 , 0.2826087 , 0.7972973 , 0.25170068, 0.25170068,\n",
       "       0.        , 0.7972973 , 0.        , 0.25170068, 0.        ,\n",
       "       0.27777778, 0.25170068, 0.27777778, 0.25170068, 0.2826087 ,\n",
       "       0.27777778, 1.        , 0.7972973 , 0.25170068, 0.2826087 ,\n",
       "       0.25170068, 0.65384615, 0.25170068, 0.25170068, 0.        ,\n",
       "       0.25170068, 0.2826087 , 0.25170068, 0.25170068, 0.7972973 ,\n",
       "       0.25170068, 0.7972973 , 0.13513514, 0.25170068, 0.25170068,\n",
       "       0.25170068, 0.25170068, 0.        , 0.25170068, 0.59259259,\n",
       "       0.27777778, 0.7972973 , 0.71428571, 0.25170068, 0.59259259,\n",
       "       0.25170068, 0.7972973 , 0.7972973 , 0.2826087 , 0.13513514,\n",
       "       0.2826087 , 0.59259259, 0.25170068, 1.        , 0.59259259,\n",
       "       0.59259259, 0.25170068, 0.7972973 , 0.13513514, 0.59259259,\n",
       "       1.        , 0.25170068, 0.25170068, 0.27777778, 0.25170068,\n",
       "       0.25170068, 0.25170068, 0.25170068, 0.25170068, 0.13513514,\n",
       "       0.7972973 , 0.25170068, 0.25170068, 0.25170068, 0.7972973 ,\n",
       "       0.25170068, 0.25170068, 0.2826087 , 0.25170068, 0.27777778,\n",
       "       0.25170068, 0.25170068, 0.25170068, 0.2826087 , 1.        ,\n",
       "       0.25170068, 0.13513514, 0.7972973 , 0.25170068, 0.        ,\n",
       "       0.        , 0.2826087 , 0.7972973 , 0.25170068, 0.25170068,\n",
       "       0.25170068, 0.        , 0.2826087 , 0.7972973 , 0.25170068,\n",
       "       0.59259259, 0.25170068, 0.25170068, 0.25170068, 0.25170068,\n",
       "       0.25170068, 0.25170068, 0.59259259, 0.59259259, 0.27777778,\n",
       "       0.25170068, 0.25170068, 0.25170068, 0.7972973 , 0.2826087 ,\n",
       "       0.2826087 , 0.7972973 , 0.25170068, 0.7972973 , 0.25170068,\n",
       "       0.27777778, 0.59259259, 0.25170068, 0.2826087 , 0.7972973 ,\n",
       "       0.59259259, 0.        , 0.25170068, 0.2826087 , 0.2826087 ,\n",
       "       1.        , 0.25170068, 0.7972973 , 0.7972973 , 0.25170068,\n",
       "       0.2826087 , 0.7972973 , 0.7972973 , 0.2826087 , 0.71428571,\n",
       "       1.        , 1.        , 0.59259259, 0.25170068, 0.25170068,\n",
       "       0.7972973 , 0.25170068, 0.13513514, 0.7972973 , 0.13513514,\n",
       "       0.25170068, 0.25170068, 0.25170068, 1.        , 0.2826087 ,\n",
       "       0.59259259, 0.25170068, 0.25170068, 0.27777778, 0.7972973 ,\n",
       "       0.25170068, 0.27777778, 1.        , 0.25170068, 0.27777778,\n",
       "       0.25170068, 0.59259259, 0.25170068, 0.        , 0.7972973 ,\n",
       "       0.7972973 , 0.25170068, 0.25170068, 0.25170068, 0.27777778,\n",
       "       0.7972973 , 0.2826087 , 0.13513514, 1.        , 0.59259259,\n",
       "       0.25170068, 1.        , 0.25170068, 0.2826087 , 0.65384615,\n",
       "       0.25170068])"
      ]
     },
     "execution_count": 22,
     "metadata": {
      "tags": []
     },
     "output_type": "execute_result"
    }
   ],
   "source": [
    "model.predict_proba(X_test)[:,1]"
   ]
  },
  {
   "cell_type": "code",
   "execution_count": 23,
   "metadata": {
    "id": "JfZUbZisI09Q"
   },
   "outputs": [],
   "source": [
    "pred_proba = model.predict_proba(X_test)[:,1]"
   ]
  },
  {
   "cell_type": "code",
   "execution_count": 24,
   "metadata": {
    "colab": {
     "base_uri": "https://localhost:8080/"
    },
    "id": "UnEuFBeyB49P",
    "outputId": "5439037e-2de4-4d85-f860-e36c85f2c6b9"
   },
   "outputs": [
    {
     "name": "stdout",
     "output_type": "stream",
     "text": [
      "DecisionTreeClassifier: ROC AUC=0.733\n"
     ]
    }
   ],
   "source": [
    "fpr, tpr, treshold = roc_curve(y_test, pred_proba)\n",
    "tree_auc = roc_auc_score(y_test, pred_proba)\n",
    "print('DecisionTreeClassifier: ROC AUC=%.3f' % (tree_auc))"
   ]
  },
  {
   "cell_type": "code",
   "execution_count": 25,
   "metadata": {
    "colab": {
     "base_uri": "https://localhost:8080/",
     "height": 295
    },
    "id": "L0-QgaOPE0XJ",
    "outputId": "944bf43b-73c1-4435-aff4-c745b226a7aa"
   },
   "outputs": [
    {
     "data": {
      "image/png": "[encoded data removed]",
      "text/plain": [
       "<Figure size 432x288 with 1 Axes>"
      ]
     },
     "metadata": {
      "needs_background": "light",
      "tags": []
     },
     "output_type": "display_data"
    }
   ],
   "source": [
    "roc_auc = auc(fpr, tpr)\n",
    "# строим график\n",
    "plt.plot(fpr, tpr,  color='darkorange',\n",
    "         label='ROC кривая (area = %0.2f)' % roc_auc)\n",
    "plt.plot([0, 1], [0, 1], color='navy', linestyle='--')\n",
    "plt.xlim([0.0, 1.0])\n",
    "plt.ylim([0.0, 1.05])\n",
    "plt.xlabel('False Positive Rate')\n",
    "plt.ylabel('True Positive Rate')\n",
    "plt.title('Пример ROC-кривой')\n",
    "plt.legend(loc=\"lower right\")\n",
    "plt.show()"
   ]
  },
  {
   "cell_type": "code",
   "execution_count": 26,
   "metadata": {
    "colab": {
     "base_uri": "https://localhost:8080/"
    },
    "id": "w3MlPv2yqnr3",
    "outputId": "6be31f43-7290-4456-899b-e17a9d6f0fe5"
   },
   "outputs": [
    {
     "data": {
      "text/plain": [
       "array([2.        , 1.        , 0.7972973 , 0.71428571, 0.65384615,\n",
       "       0.59259259, 0.2826087 , 0.27777778, 0.25170068, 0.13513514,\n",
       "       0.        ])"
      ]
     },
     "execution_count": 26,
     "metadata": {
      "tags": []
     },
     "output_type": "execute_result"
    }
   ],
   "source": [
    "treshold"
   ]
  },
  {
   "cell_type": "markdown",
   "metadata": {
    "id": "Gyqe_a52NdfO"
   },
   "source": [
    "# Подбор гиперпараметров"
   ]
  },
  {
   "cell_type": "code",
   "execution_count": 27,
   "metadata": {
    "id": "PYWJMOhqNcA8"
   },
   "outputs": [],
   "source": [
    "test_deep = []\n",
    "for deep in range (1,31):\n",
    "  for leaf in range (1,5):\n",
    "    # print(\"--------\", deep, \"--------\", leaf)\n",
    "    clf = tree.DecisionTreeClassifier(max_depth=deep, min_samples_leaf=leaf)\n",
    "    model = clf.fit(X_train, y_train)\n",
    "    pred = model.predict(X_test)\n",
    "    test_deep.append([deep,leaf,f1_score(y_test,pred),recall_score(y_test,pred)])"
   ]
  },
  {
   "cell_type": "code",
   "execution_count": 28,
   "metadata": {
    "id": "HCJQLb01OGTL"
   },
   "outputs": [],
   "source": [
    "test_deep = pd.DataFrame(test_deep)\n",
    "test_deep.columns = ['tree_depth','leaf','f1_score','recall_score']\n",
    "# test_deep.sort_values(by='f1_score',ascending=False).head()"
   ]
  },
  {
   "cell_type": "code",
   "execution_count": 29,
   "metadata": {
    "colab": {
     "base_uri": "https://localhost:8080/",
     "height": 359
    },
    "id": "ICV5dNy8sOwk",
    "outputId": "a4e66d9c-1862-4fb5-ef70-d32530234258"
   },
   "outputs": [
    {
     "data": {
      "text/html": [
       "<div>\n",
       "<style scoped>\n",
       "    .dataframe tbody tr th:only-of-type {\n",
       "        vertical-align: middle;\n",
       "    }\n",
       "\n",
       "    .dataframe tbody tr th {\n",
       "        vertical-align: top;\n",
       "    }\n",
       "\n",
       "    .dataframe thead th {\n",
       "        text-align: right;\n",
       "    }\n",
       "</style>\n",
       "<table border=\"1\" class=\"dataframe\">\n",
       "  <thead>\n",
       "    <tr style=\"text-align: right;\">\n",
       "      <th></th>\n",
       "      <th>tree_depth</th>\n",
       "      <th>leaf</th>\n",
       "      <th>f1_score</th>\n",
       "      <th>recall_score</th>\n",
       "    </tr>\n",
       "  </thead>\n",
       "  <tbody>\n",
       "    <tr>\n",
       "      <th>0</th>\n",
       "      <td>1</td>\n",
       "      <td>1</td>\n",
       "      <td>0.660287</td>\n",
       "      <td>0.696970</td>\n",
       "    </tr>\n",
       "    <tr>\n",
       "      <th>1</th>\n",
       "      <td>1</td>\n",
       "      <td>2</td>\n",
       "      <td>0.660287</td>\n",
       "      <td>0.696970</td>\n",
       "    </tr>\n",
       "    <tr>\n",
       "      <th>2</th>\n",
       "      <td>1</td>\n",
       "      <td>3</td>\n",
       "      <td>0.660287</td>\n",
       "      <td>0.696970</td>\n",
       "    </tr>\n",
       "    <tr>\n",
       "      <th>3</th>\n",
       "      <td>1</td>\n",
       "      <td>4</td>\n",
       "      <td>0.660287</td>\n",
       "      <td>0.696970</td>\n",
       "    </tr>\n",
       "    <tr>\n",
       "      <th>4</th>\n",
       "      <td>2</td>\n",
       "      <td>1</td>\n",
       "      <td>0.648936</td>\n",
       "      <td>0.616162</td>\n",
       "    </tr>\n",
       "    <tr>\n",
       "      <th>5</th>\n",
       "      <td>2</td>\n",
       "      <td>2</td>\n",
       "      <td>0.648936</td>\n",
       "      <td>0.616162</td>\n",
       "    </tr>\n",
       "    <tr>\n",
       "      <th>6</th>\n",
       "      <td>2</td>\n",
       "      <td>3</td>\n",
       "      <td>0.648936</td>\n",
       "      <td>0.616162</td>\n",
       "    </tr>\n",
       "    <tr>\n",
       "      <th>7</th>\n",
       "      <td>2</td>\n",
       "      <td>4</td>\n",
       "      <td>0.648936</td>\n",
       "      <td>0.616162</td>\n",
       "    </tr>\n",
       "    <tr>\n",
       "      <th>36</th>\n",
       "      <td>10</td>\n",
       "      <td>1</td>\n",
       "      <td>0.621469</td>\n",
       "      <td>0.555556</td>\n",
       "    </tr>\n",
       "    <tr>\n",
       "      <th>30</th>\n",
       "      <td>8</td>\n",
       "      <td>3</td>\n",
       "      <td>0.607735</td>\n",
       "      <td>0.555556</td>\n",
       "    </tr>\n",
       "  </tbody>\n",
       "</table>\n",
       "</div>"
      ],
      "text/plain": [
       "    tree_depth  leaf  f1_score  recall_score\n",
       "0            1     1  0.660287      0.696970\n",
       "1            1     2  0.660287      0.696970\n",
       "2            1     3  0.660287      0.696970\n",
       "3            1     4  0.660287      0.696970\n",
       "4            2     1  0.648936      0.616162\n",
       "5            2     2  0.648936      0.616162\n",
       "6            2     3  0.648936      0.616162\n",
       "7            2     4  0.648936      0.616162\n",
       "36          10     1  0.621469      0.555556\n",
       "30           8     3  0.607735      0.555556"
      ]
     },
     "execution_count": 29,
     "metadata": {
      "tags": []
     },
     "output_type": "execute_result"
    }
   ],
   "source": [
    "test_deep.sort_values(by='f1_score',ascending=False).head(10)"
   ]
  },
  {
   "cell_type": "markdown",
   "metadata": {
    "id": "cQs0A0r0P9Oo"
   },
   "source": [
    "# GridSearch"
   ]
  },
  {
   "cell_type": "code",
   "execution_count": 30,
   "metadata": {
    "id": "y4u_WQk9P7qL"
   },
   "outputs": [],
   "source": [
    "from sklearn.model_selection import GridSearchCV\n",
    "from sklearn.tree import DecisionTreeClassifier"
   ]
  },
  {
   "cell_type": "code",
   "execution_count": 31,
   "metadata": {
    "id": "evi2Rm43tu4X"
   },
   "outputs": [],
   "source": [
    "tree_para = {'criterion':['gini','entropy'],\n",
    "             'max_depth':[4,5,6,7,8,9,10,11,12,15,20,30,40,50,70,90,120,150],\n",
    "             'min_samples_leaf':[1,2,3,4,5]}"
   ]
  },
  {
   "cell_type": "code",
   "execution_count": 32,
   "metadata": {
    "colab": {
     "base_uri": "https://localhost:8080/"
    },
    "id": "Zak79640twMn",
    "outputId": "1528d841-06c2-44e6-d445-e723e679cc30"
   },
   "outputs": [
    {
     "data": {
      "text/plain": [
       "{'criterion': ['gini', 'entropy'],\n",
       " 'max_depth': [4,\n",
       "  5,\n",
       "  6,\n",
       "  7,\n",
       "  8,\n",
       "  9,\n",
       "  10,\n",
       "  11,\n",
       "  12,\n",
       "  15,\n",
       "  20,\n",
       "  30,\n",
       "  40,\n",
       "  50,\n",
       "  70,\n",
       "  90,\n",
       "  120,\n",
       "  150],\n",
       " 'min_samples_leaf': [1, 2, 3, 4, 5]}"
      ]
     },
     "execution_count": 32,
     "metadata": {
      "tags": []
     },
     "output_type": "execute_result"
    }
   ],
   "source": [
    "tree_para"
   ]
  },
  {
   "cell_type": "code",
   "execution_count": 57,
   "metadata": {
    "colab": {
     "base_uri": "https://localhost:8080/"
    },
    "id": "PCGBcy6IP66b",
    "outputId": "89240f87-5d8e-422d-8fec-27f39dcbfaa1"
   },
   "outputs": [
    {
     "data": {
      "text/plain": [
       "GridSearchCV(cv=10, error_score=nan,\n",
       "             estimator=DecisionTreeClassifier(ccp_alpha=0.0, class_weight=None,\n",
       "                                              criterion='gini', max_depth=None,\n",
       "                                              max_features=None,\n",
       "                                              max_leaf_nodes=None,\n",
       "                                              min_impurity_decrease=0.0,\n",
       "                                              min_impurity_split=None,\n",
       "                                              min_samples_leaf=1,\n",
       "                                              min_samples_split=2,\n",
       "                                              min_weight_fraction_leaf=0.0,\n",
       "                                              presort='deprecated',\n",
       "                                              random_state=None,\n",
       "                                              splitter='best'),\n",
       "             iid='deprecated', n_jobs=None,\n",
       "             param_grid={'criterion': ['gini', 'entropy'],\n",
       "                         'max_depth': [4, 5, 6, 7, 8, 9, 10, 11, 12, 15, 20, 30,\n",
       "                                       40, 50, 70, 90, 120, 150],\n",
       "                         'min_samples_leaf': [1, 2, 3, 4, 5]},\n",
       "             pre_dispatch='2*n_jobs', refit=True, return_train_score=False,\n",
       "             scoring='recall', verbose=0)"
      ]
     },
     "execution_count": 57,
     "metadata": {
      "tags": []
     },
     "output_type": "execute_result"
    }
   ],
   "source": [
    "clf_gs = GridSearchCV(DecisionTreeClassifier(), tree_para, cv=10, scoring = 'recall')\n",
    "clf_gs.fit(X_train, y_train)"
   ]
  },
  {
   "cell_type": "code",
   "execution_count": 58,
   "metadata": {
    "colab": {
     "base_uri": "https://localhost:8080/"
    },
    "id": "Cttel8GrRBYw",
    "outputId": "f5e94b7d-026c-456f-a642-f508834cb708"
   },
   "outputs": [
    {
     "data": {
      "text/plain": [
       "{'criterion': 'entropy', 'max_depth': 6, 'min_samples_leaf': 1}"
      ]
     },
     "execution_count": 58,
     "metadata": {
      "tags": []
     },
     "output_type": "execute_result"
    }
   ],
   "source": [
    "clf_gs.best_params_"
   ]
  },
  {
   "cell_type": "markdown",
   "metadata": {
    "id": "7hvHm9Uuubm6"
   },
   "source": [
    "# New best params"
   ]
  },
  {
   "cell_type": "code",
   "execution_count": 59,
   "metadata": {
    "id": "OrDEkdcYufqP"
   },
   "outputs": [],
   "source": [
    "model_new = DecisionTreeClassifier(**clf_gs.best_params_)\n"
   ]
  },
  {
   "cell_type": "code",
   "execution_count": 60,
   "metadata": {
    "colab": {
     "base_uri": "https://localhost:8080/"
    },
    "id": "gUY-Yjh2vl22",
    "outputId": "57ab3ea6-255e-4b48-9e6b-7d461698093d"
   },
   "outputs": [
    {
     "data": {
      "text/plain": [
       "DecisionTreeClassifier(ccp_alpha=0.0, class_weight=None, criterion='entropy',\n",
       "                       max_depth=6, max_features=None, max_leaf_nodes=None,\n",
       "                       min_impurity_decrease=0.0, min_impurity_split=None,\n",
       "                       min_samples_leaf=1, min_samples_split=2,\n",
       "                       min_weight_fraction_leaf=0.0, presort='deprecated',\n",
       "                       random_state=None, splitter='best')"
      ]
     },
     "execution_count": 60,
     "metadata": {
      "tags": []
     },
     "output_type": "execute_result"
    }
   ],
   "source": [
    "model_new.fit(X_train,y_train)"
   ]
  },
  {
   "cell_type": "code",
   "execution_count": 61,
   "metadata": {
    "id": "Aja7mHVtvvep"
   },
   "outputs": [],
   "source": [
    "new_pred = model_new.predict(X_test)"
   ]
  },
  {
   "cell_type": "code",
   "execution_count": 62,
   "metadata": {
    "colab": {
     "base_uri": "https://localhost:8080/"
    },
    "id": "1EHPHoN8vqSR",
    "outputId": "1cfeddcf-ae9d-40c1-d510-4b2daa27b606"
   },
   "outputs": [
    {
     "name": "stdout",
     "output_type": "stream",
     "text": [
      "Accuracy: 0.6949152542372882\n",
      "Precision: 0.6956521739130435\n",
      "Recall: 0.48484848484848486\n",
      "F1: 0.5714285714285715\n"
     ]
    }
   ],
   "source": [
    "print('Accuracy:',accuracy_score(y_test,new_pred))\n",
    "print('Precision:',precision_score(y_test,new_pred))\n",
    "print('Recall:',recall_score(y_test,new_pred))\n",
    "print('F1:',f1_score(y_test,new_pred))\n"
   ]
  },
  {
   "cell_type": "markdown",
   "metadata": {
    "id": "-ifG0EJfRN7M"
   },
   "source": [
    "# Кросс-валидация"
   ]
  },
  {
   "cell_type": "code",
   "execution_count": 63,
   "metadata": {
    "id": "wr_rYdOzRRgY"
   },
   "outputs": [],
   "source": [
    "cv = ShuffleSplit(n_splits=10, test_size=0.33, random_state=0)\n",
    "scores = cross_val_score(model_new, X_train, y_train, cv=cv, scoring='recall')\n"
   ]
  },
  {
   "cell_type": "code",
   "execution_count": 64,
   "metadata": {
    "colab": {
     "base_uri": "https://localhost:8080/"
    },
    "id": "_GyxdrS6Shkz",
    "outputId": "4a2e8f6e-d6d3-4b44-8de2-772649f08ba6"
   },
   "outputs": [
    {
     "data": {
      "text/plain": [
       "0.5369530329705493"
      ]
     },
     "execution_count": 64,
     "metadata": {
      "tags": []
     },
     "output_type": "execute_result"
    }
   ],
   "source": [
    "scores.mean()"
   ]
  },
  {
   "cell_type": "code",
   "execution_count": 65,
   "metadata": {
    "colab": {
     "base_uri": "https://localhost:8080/"
    },
    "id": "WIFEfWy7xoxz",
    "outputId": "4bd928c5-e7bb-4040-df94-640b07e3c502"
   },
   "outputs": [
    {
     "data": {
      "text/plain": [
       "array([0.46031746, 0.63793103, 0.38095238, 0.59649123, 0.61428571,\n",
       "       0.39393939, 0.57407407, 0.55714286, 0.57627119, 0.578125  ])"
      ]
     },
     "execution_count": 65,
     "metadata": {
      "tags": []
     },
     "output_type": "execute_result"
    }
   ],
   "source": [
    "scores"
   ]
  }
 ],
 "metadata": {
  "colab": {
   "collapsed_sections": [],
   "name": "lec2 metrics.ipynb",
   "provenance": []
  },
  "kernelspec": {
   "display_name": "Python 3",
   "language": "python",
   "name": "python3"
  },
  "language_info": {
   "codemirror_mode": {
    "name": "ipython",
    "version": 3
   },
   "file_extension": ".py",
   "mimetype": "text/x-python",
   "name": "python",
   "nbconvert_exporter": "python",
   "pygments_lexer": "ipython3",
   "version": "3.8.3"
  }
 },
 "nbformat": 4,
 "nbformat_minor": 1
}
