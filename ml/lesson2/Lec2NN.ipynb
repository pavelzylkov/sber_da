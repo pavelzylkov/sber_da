{
  "nbformat": 4,
  "nbformat_minor": 0,
  "metadata": {
    "colab": {
      "name": "Lec2NN.ipynb",
      "provenance": [],
      "collapsed_sections": []
    },
    "kernelspec": {
      "name": "python3",
      "display_name": "Python 3"
    },
    "language_info": {
      "name": "python"
    }
  },
  "cells": [
    {
      "cell_type": "code",
      "metadata": {
        "colab": {
          "base_uri": "https://localhost:8080/"
        },
        "id": "aTkUiSpMFlgv",
        "outputId": "8904ba83-0e43-456a-d009-fa4c0f469dfa"
      },
      "source": [
        "from google.colab import drive\n",
        "drive.mount('/content/drive')"
      ],
      "execution_count": null,
      "outputs": [
        {
          "output_type": "stream",
          "text": [
            "Mounted at /content/drive\n"
          ],
          "name": "stdout"
        }
      ]
    },
    {
      "cell_type": "code",
      "metadata": {
        "colab": {
          "base_uri": "https://localhost:8080/"
        },
        "id": "KOfoRgNnFzxA",
        "outputId": "a5e38189-d060-403c-f514-3c2dc7206c2f"
      },
      "source": [
        "cd drive/My\\ Drive\n"
      ],
      "execution_count": null,
      "outputs": [
        {
          "output_type": "stream",
          "text": [
            "/content/drive/My Drive\n"
          ],
          "name": "stdout"
        }
      ]
    },
    {
      "cell_type": "code",
      "metadata": {
        "colab": {
          "base_uri": "https://localhost:8080/"
        },
        "id": "BTirkhAgF6b9",
        "outputId": "8d3eb55f-b449-4193-8f1c-71051852bf26"
      },
      "source": [
        "cd Colab\\ Notebooks"
      ],
      "execution_count": null,
      "outputs": [
        {
          "output_type": "stream",
          "text": [
            "/content/drive/My Drive/Colab Notebooks\n"
          ],
          "name": "stdout"
        }
      ]
    },
    {
      "cell_type": "code",
      "metadata": {
        "id": "ekA3aHfDF_Gk"
      },
      "source": [
        "import pandas as pd\n",
        "import numpy as np\n",
        "from sklearn.model_selection import train_test_split\n",
        "from sklearn.metrics import mean_squared_error\n",
        "import matplotlib.pyplot as plt\n",
        "from sklearn.preprocessing import StandardScaler,MinMaxScaler\n"
      ],
      "execution_count": null,
      "outputs": []
    },
    {
      "cell_type": "code",
      "metadata": {
        "id": "mcMsFUX_IHtE"
      },
      "source": [
        "df = pd.read_csv('housing.csv')\n",
        "X_train, X_test, y_train, y_test = train_test_split(df.drop('MEDV',axis=1), df['MEDV'], test_size=0.2, random_state=42)"
      ],
      "execution_count": null,
      "outputs": []
    },
    {
      "cell_type": "code",
      "metadata": {
        "colab": {
          "base_uri": "https://localhost:8080/",
          "height": 419
        },
        "id": "5WYT7GwIVHso",
        "outputId": "2135903f-1f8d-4c99-996c-4943c4b9055c"
      },
      "source": [
        "X_train"
      ],
      "execution_count": null,
      "outputs": [
        {
          "output_type": "execute_result",
          "data": {
            "text/html": [
              "<div>\n",
              "<style scoped>\n",
              "    .dataframe tbody tr th:only-of-type {\n",
              "        vertical-align: middle;\n",
              "    }\n",
              "\n",
              "    .dataframe tbody tr th {\n",
              "        vertical-align: top;\n",
              "    }\n",
              "\n",
              "    .dataframe thead th {\n",
              "        text-align: right;\n",
              "    }\n",
              "</style>\n",
              "<table border=\"1\" class=\"dataframe\">\n",
              "  <thead>\n",
              "    <tr style=\"text-align: right;\">\n",
              "      <th></th>\n",
              "      <th>CRIM</th>\n",
              "      <th>ZN</th>\n",
              "      <th>INDUS</th>\n",
              "      <th>CHAS</th>\n",
              "      <th>NOX</th>\n",
              "      <th>RM</th>\n",
              "      <th>AGE</th>\n",
              "      <th>DIS</th>\n",
              "      <th>RAD</th>\n",
              "      <th>TAX</th>\n",
              "      <th>PTRATIO</th>\n",
              "      <th>B</th>\n",
              "      <th>LSTAT</th>\n",
              "    </tr>\n",
              "  </thead>\n",
              "  <tbody>\n",
              "    <tr>\n",
              "      <th>477</th>\n",
              "      <td>15.02340</td>\n",
              "      <td>0.0</td>\n",
              "      <td>18.10</td>\n",
              "      <td>0.0</td>\n",
              "      <td>0.6140</td>\n",
              "      <td>5.304</td>\n",
              "      <td>97.3</td>\n",
              "      <td>2.1007</td>\n",
              "      <td>24.0</td>\n",
              "      <td>666.0</td>\n",
              "      <td>20.2</td>\n",
              "      <td>349.48</td>\n",
              "      <td>24.91</td>\n",
              "    </tr>\n",
              "    <tr>\n",
              "      <th>15</th>\n",
              "      <td>0.62739</td>\n",
              "      <td>0.0</td>\n",
              "      <td>8.14</td>\n",
              "      <td>0.0</td>\n",
              "      <td>0.5380</td>\n",
              "      <td>5.834</td>\n",
              "      <td>56.5</td>\n",
              "      <td>4.4986</td>\n",
              "      <td>4.0</td>\n",
              "      <td>307.0</td>\n",
              "      <td>21.0</td>\n",
              "      <td>395.62</td>\n",
              "      <td>8.47</td>\n",
              "    </tr>\n",
              "    <tr>\n",
              "      <th>332</th>\n",
              "      <td>0.03466</td>\n",
              "      <td>35.0</td>\n",
              "      <td>6.06</td>\n",
              "      <td>0.0</td>\n",
              "      <td>0.4379</td>\n",
              "      <td>6.031</td>\n",
              "      <td>23.3</td>\n",
              "      <td>6.6407</td>\n",
              "      <td>1.0</td>\n",
              "      <td>304.0</td>\n",
              "      <td>16.9</td>\n",
              "      <td>362.25</td>\n",
              "      <td>7.83</td>\n",
              "    </tr>\n",
              "    <tr>\n",
              "      <th>423</th>\n",
              "      <td>7.05042</td>\n",
              "      <td>0.0</td>\n",
              "      <td>18.10</td>\n",
              "      <td>0.0</td>\n",
              "      <td>0.6140</td>\n",
              "      <td>6.103</td>\n",
              "      <td>85.1</td>\n",
              "      <td>2.0218</td>\n",
              "      <td>24.0</td>\n",
              "      <td>666.0</td>\n",
              "      <td>20.2</td>\n",
              "      <td>2.52</td>\n",
              "      <td>23.29</td>\n",
              "    </tr>\n",
              "    <tr>\n",
              "      <th>19</th>\n",
              "      <td>0.72580</td>\n",
              "      <td>0.0</td>\n",
              "      <td>8.14</td>\n",
              "      <td>0.0</td>\n",
              "      <td>0.5380</td>\n",
              "      <td>5.727</td>\n",
              "      <td>69.5</td>\n",
              "      <td>3.7965</td>\n",
              "      <td>4.0</td>\n",
              "      <td>307.0</td>\n",
              "      <td>21.0</td>\n",
              "      <td>390.95</td>\n",
              "      <td>11.28</td>\n",
              "    </tr>\n",
              "    <tr>\n",
              "      <th>...</th>\n",
              "      <td>...</td>\n",
              "      <td>...</td>\n",
              "      <td>...</td>\n",
              "      <td>...</td>\n",
              "      <td>...</td>\n",
              "      <td>...</td>\n",
              "      <td>...</td>\n",
              "      <td>...</td>\n",
              "      <td>...</td>\n",
              "      <td>...</td>\n",
              "      <td>...</td>\n",
              "      <td>...</td>\n",
              "      <td>...</td>\n",
              "    </tr>\n",
              "    <tr>\n",
              "      <th>106</th>\n",
              "      <td>0.17120</td>\n",
              "      <td>0.0</td>\n",
              "      <td>8.56</td>\n",
              "      <td>0.0</td>\n",
              "      <td>0.5200</td>\n",
              "      <td>5.836</td>\n",
              "      <td>91.9</td>\n",
              "      <td>2.2110</td>\n",
              "      <td>5.0</td>\n",
              "      <td>384.0</td>\n",
              "      <td>20.9</td>\n",
              "      <td>395.67</td>\n",
              "      <td>18.66</td>\n",
              "    </tr>\n",
              "    <tr>\n",
              "      <th>270</th>\n",
              "      <td>0.29916</td>\n",
              "      <td>20.0</td>\n",
              "      <td>6.96</td>\n",
              "      <td>0.0</td>\n",
              "      <td>0.4640</td>\n",
              "      <td>5.856</td>\n",
              "      <td>42.1</td>\n",
              "      <td>4.4290</td>\n",
              "      <td>3.0</td>\n",
              "      <td>223.0</td>\n",
              "      <td>18.6</td>\n",
              "      <td>388.65</td>\n",
              "      <td>13.00</td>\n",
              "    </tr>\n",
              "    <tr>\n",
              "      <th>348</th>\n",
              "      <td>0.01501</td>\n",
              "      <td>80.0</td>\n",
              "      <td>2.01</td>\n",
              "      <td>0.0</td>\n",
              "      <td>0.4350</td>\n",
              "      <td>6.635</td>\n",
              "      <td>29.7</td>\n",
              "      <td>8.3440</td>\n",
              "      <td>4.0</td>\n",
              "      <td>280.0</td>\n",
              "      <td>17.0</td>\n",
              "      <td>390.94</td>\n",
              "      <td>5.99</td>\n",
              "    </tr>\n",
              "    <tr>\n",
              "      <th>435</th>\n",
              "      <td>11.16040</td>\n",
              "      <td>0.0</td>\n",
              "      <td>18.10</td>\n",
              "      <td>0.0</td>\n",
              "      <td>0.7400</td>\n",
              "      <td>6.629</td>\n",
              "      <td>94.6</td>\n",
              "      <td>2.1247</td>\n",
              "      <td>24.0</td>\n",
              "      <td>666.0</td>\n",
              "      <td>20.2</td>\n",
              "      <td>109.85</td>\n",
              "      <td>23.27</td>\n",
              "    </tr>\n",
              "    <tr>\n",
              "      <th>102</th>\n",
              "      <td>0.22876</td>\n",
              "      <td>0.0</td>\n",
              "      <td>8.56</td>\n",
              "      <td>0.0</td>\n",
              "      <td>0.5200</td>\n",
              "      <td>6.405</td>\n",
              "      <td>85.4</td>\n",
              "      <td>2.7147</td>\n",
              "      <td>5.0</td>\n",
              "      <td>384.0</td>\n",
              "      <td>20.9</td>\n",
              "      <td>70.80</td>\n",
              "      <td>10.63</td>\n",
              "    </tr>\n",
              "  </tbody>\n",
              "</table>\n",
              "<p>404 rows × 13 columns</p>\n",
              "</div>"
            ],
            "text/plain": [
              "         CRIM    ZN  INDUS  CHAS     NOX  ...   RAD    TAX  PTRATIO       B  LSTAT\n",
              "477  15.02340   0.0  18.10   0.0  0.6140  ...  24.0  666.0     20.2  349.48  24.91\n",
              "15    0.62739   0.0   8.14   0.0  0.5380  ...   4.0  307.0     21.0  395.62   8.47\n",
              "332   0.03466  35.0   6.06   0.0  0.4379  ...   1.0  304.0     16.9  362.25   7.83\n",
              "423   7.05042   0.0  18.10   0.0  0.6140  ...  24.0  666.0     20.2    2.52  23.29\n",
              "19    0.72580   0.0   8.14   0.0  0.5380  ...   4.0  307.0     21.0  390.95  11.28\n",
              "..        ...   ...    ...   ...     ...  ...   ...    ...      ...     ...    ...\n",
              "106   0.17120   0.0   8.56   0.0  0.5200  ...   5.0  384.0     20.9  395.67  18.66\n",
              "270   0.29916  20.0   6.96   0.0  0.4640  ...   3.0  223.0     18.6  388.65  13.00\n",
              "348   0.01501  80.0   2.01   0.0  0.4350  ...   4.0  280.0     17.0  390.94   5.99\n",
              "435  11.16040   0.0  18.10   0.0  0.7400  ...  24.0  666.0     20.2  109.85  23.27\n",
              "102   0.22876   0.0   8.56   0.0  0.5200  ...   5.0  384.0     20.9   70.80  10.63\n",
              "\n",
              "[404 rows x 13 columns]"
            ]
          },
          "metadata": {
            "tags": []
          },
          "execution_count": 6
        }
      ]
    },
    {
      "cell_type": "code",
      "metadata": {
        "id": "rI6uTkWFLi9-"
      },
      "source": [
        "scaler = MinMaxScaler()"
      ],
      "execution_count": null,
      "outputs": []
    },
    {
      "cell_type": "code",
      "metadata": {
        "colab": {
          "base_uri": "https://localhost:8080/",
          "height": 419
        },
        "id": "KMPhEdxALp8z",
        "outputId": "5ccf8cdd-d7da-4cc5-be00-46ec85e8714d"
      },
      "source": [
        "pd.DataFrame(scaler.fit_transform(X_train))"
      ],
      "execution_count": null,
      "outputs": [
        {
          "output_type": "execute_result",
          "data": {
            "text/html": [
              "<div>\n",
              "<style scoped>\n",
              "    .dataframe tbody tr th:only-of-type {\n",
              "        vertical-align: middle;\n",
              "    }\n",
              "\n",
              "    .dataframe tbody tr th {\n",
              "        vertical-align: top;\n",
              "    }\n",
              "\n",
              "    .dataframe thead th {\n",
              "        text-align: right;\n",
              "    }\n",
              "</style>\n",
              "<table border=\"1\" class=\"dataframe\">\n",
              "  <thead>\n",
              "    <tr style=\"text-align: right;\">\n",
              "      <th></th>\n",
              "      <th>0</th>\n",
              "      <th>1</th>\n",
              "      <th>2</th>\n",
              "      <th>3</th>\n",
              "      <th>4</th>\n",
              "      <th>5</th>\n",
              "      <th>6</th>\n",
              "      <th>7</th>\n",
              "      <th>8</th>\n",
              "      <th>9</th>\n",
              "      <th>10</th>\n",
              "      <th>11</th>\n",
              "      <th>12</th>\n",
              "    </tr>\n",
              "  </thead>\n",
              "  <tbody>\n",
              "    <tr>\n",
              "      <th>0</th>\n",
              "      <td>0.168763</td>\n",
              "      <td>0.00</td>\n",
              "      <td>0.642963</td>\n",
              "      <td>0.0</td>\n",
              "      <td>0.471193</td>\n",
              "      <td>0.293065</td>\n",
              "      <td>0.972194</td>\n",
              "      <td>0.088307</td>\n",
              "      <td>1.000000</td>\n",
              "      <td>0.914122</td>\n",
              "      <td>0.808511</td>\n",
              "      <td>0.880428</td>\n",
              "      <td>0.639625</td>\n",
              "    </tr>\n",
              "    <tr>\n",
              "      <th>1</th>\n",
              "      <td>0.006950</td>\n",
              "      <td>0.00</td>\n",
              "      <td>0.274074</td>\n",
              "      <td>0.0</td>\n",
              "      <td>0.314815</td>\n",
              "      <td>0.400854</td>\n",
              "      <td>0.552008</td>\n",
              "      <td>0.306359</td>\n",
              "      <td>0.130435</td>\n",
              "      <td>0.229008</td>\n",
              "      <td>0.893617</td>\n",
              "      <td>0.996772</td>\n",
              "      <td>0.185982</td>\n",
              "    </tr>\n",
              "    <tr>\n",
              "      <th>2</th>\n",
              "      <td>0.000288</td>\n",
              "      <td>0.35</td>\n",
              "      <td>0.197037</td>\n",
              "      <td>0.0</td>\n",
              "      <td>0.108848</td>\n",
              "      <td>0.440919</td>\n",
              "      <td>0.210093</td>\n",
              "      <td>0.501150</td>\n",
              "      <td>0.000000</td>\n",
              "      <td>0.223282</td>\n",
              "      <td>0.457447</td>\n",
              "      <td>0.912628</td>\n",
              "      <td>0.168322</td>\n",
              "    </tr>\n",
              "    <tr>\n",
              "      <th>3</th>\n",
              "      <td>0.079146</td>\n",
              "      <td>0.00</td>\n",
              "      <td>0.642963</td>\n",
              "      <td>0.0</td>\n",
              "      <td>0.471193</td>\n",
              "      <td>0.455562</td>\n",
              "      <td>0.846550</td>\n",
              "      <td>0.081132</td>\n",
              "      <td>1.000000</td>\n",
              "      <td>0.914122</td>\n",
              "      <td>0.808511</td>\n",
              "      <td>0.005547</td>\n",
              "      <td>0.594923</td>\n",
              "    </tr>\n",
              "    <tr>\n",
              "      <th>4</th>\n",
              "      <td>0.008056</td>\n",
              "      <td>0.00</td>\n",
              "      <td>0.274074</td>\n",
              "      <td>0.0</td>\n",
              "      <td>0.314815</td>\n",
              "      <td>0.379093</td>\n",
              "      <td>0.685891</td>\n",
              "      <td>0.242514</td>\n",
              "      <td>0.130435</td>\n",
              "      <td>0.229008</td>\n",
              "      <td>0.893617</td>\n",
              "      <td>0.984997</td>\n",
              "      <td>0.263521</td>\n",
              "    </tr>\n",
              "    <tr>\n",
              "      <th>...</th>\n",
              "      <td>...</td>\n",
              "      <td>...</td>\n",
              "      <td>...</td>\n",
              "      <td>...</td>\n",
              "      <td>...</td>\n",
              "      <td>...</td>\n",
              "      <td>...</td>\n",
              "      <td>...</td>\n",
              "      <td>...</td>\n",
              "      <td>...</td>\n",
              "      <td>...</td>\n",
              "      <td>...</td>\n",
              "      <td>...</td>\n",
              "    </tr>\n",
              "    <tr>\n",
              "      <th>399</th>\n",
              "      <td>0.001822</td>\n",
              "      <td>0.00</td>\n",
              "      <td>0.289630</td>\n",
              "      <td>0.0</td>\n",
              "      <td>0.277778</td>\n",
              "      <td>0.401261</td>\n",
              "      <td>0.916581</td>\n",
              "      <td>0.098337</td>\n",
              "      <td>0.173913</td>\n",
              "      <td>0.375954</td>\n",
              "      <td>0.882979</td>\n",
              "      <td>0.996898</td>\n",
              "      <td>0.467163</td>\n",
              "    </tr>\n",
              "    <tr>\n",
              "      <th>400</th>\n",
              "      <td>0.003261</td>\n",
              "      <td>0.20</td>\n",
              "      <td>0.230370</td>\n",
              "      <td>0.0</td>\n",
              "      <td>0.162551</td>\n",
              "      <td>0.405328</td>\n",
              "      <td>0.403708</td>\n",
              "      <td>0.300030</td>\n",
              "      <td>0.086957</td>\n",
              "      <td>0.068702</td>\n",
              "      <td>0.638298</td>\n",
              "      <td>0.979197</td>\n",
              "      <td>0.310982</td>\n",
              "    </tr>\n",
              "    <tr>\n",
              "      <th>401</th>\n",
              "      <td>0.000067</td>\n",
              "      <td>0.80</td>\n",
              "      <td>0.047037</td>\n",
              "      <td>0.0</td>\n",
              "      <td>0.102881</td>\n",
              "      <td>0.563758</td>\n",
              "      <td>0.276004</td>\n",
              "      <td>0.656039</td>\n",
              "      <td>0.130435</td>\n",
              "      <td>0.177481</td>\n",
              "      <td>0.468085</td>\n",
              "      <td>0.984972</td>\n",
              "      <td>0.117550</td>\n",
              "    </tr>\n",
              "    <tr>\n",
              "      <th>402</th>\n",
              "      <td>0.125342</td>\n",
              "      <td>0.00</td>\n",
              "      <td>0.642963</td>\n",
              "      <td>0.0</td>\n",
              "      <td>0.730453</td>\n",
              "      <td>0.562538</td>\n",
              "      <td>0.944387</td>\n",
              "      <td>0.090489</td>\n",
              "      <td>1.000000</td>\n",
              "      <td>0.914122</td>\n",
              "      <td>0.808511</td>\n",
              "      <td>0.276186</td>\n",
              "      <td>0.594371</td>\n",
              "    </tr>\n",
              "    <tr>\n",
              "      <th>403</th>\n",
              "      <td>0.002469</td>\n",
              "      <td>0.00</td>\n",
              "      <td>0.289630</td>\n",
              "      <td>0.0</td>\n",
              "      <td>0.277778</td>\n",
              "      <td>0.516982</td>\n",
              "      <td>0.849640</td>\n",
              "      <td>0.144141</td>\n",
              "      <td>0.173913</td>\n",
              "      <td>0.375954</td>\n",
              "      <td>0.882979</td>\n",
              "      <td>0.177720</td>\n",
              "      <td>0.245585</td>\n",
              "    </tr>\n",
              "  </tbody>\n",
              "</table>\n",
              "<p>404 rows × 13 columns</p>\n",
              "</div>"
            ],
            "text/plain": [
              "           0     1         2    3   ...        9         10        11        12\n",
              "0    0.168763  0.00  0.642963  0.0  ...  0.914122  0.808511  0.880428  0.639625\n",
              "1    0.006950  0.00  0.274074  0.0  ...  0.229008  0.893617  0.996772  0.185982\n",
              "2    0.000288  0.35  0.197037  0.0  ...  0.223282  0.457447  0.912628  0.168322\n",
              "3    0.079146  0.00  0.642963  0.0  ...  0.914122  0.808511  0.005547  0.594923\n",
              "4    0.008056  0.00  0.274074  0.0  ...  0.229008  0.893617  0.984997  0.263521\n",
              "..        ...   ...       ...  ...  ...       ...       ...       ...       ...\n",
              "399  0.001822  0.00  0.289630  0.0  ...  0.375954  0.882979  0.996898  0.467163\n",
              "400  0.003261  0.20  0.230370  0.0  ...  0.068702  0.638298  0.979197  0.310982\n",
              "401  0.000067  0.80  0.047037  0.0  ...  0.177481  0.468085  0.984972  0.117550\n",
              "402  0.125342  0.00  0.642963  0.0  ...  0.914122  0.808511  0.276186  0.594371\n",
              "403  0.002469  0.00  0.289630  0.0  ...  0.375954  0.882979  0.177720  0.245585\n",
              "\n",
              "[404 rows x 13 columns]"
            ]
          },
          "metadata": {
            "tags": []
          },
          "execution_count": 9
        }
      ]
    },
    {
      "cell_type": "markdown",
      "metadata": {
        "id": "WpZOJCVuHO14"
      },
      "source": [
        "# Собираем нейронную сеть"
      ]
    },
    {
      "cell_type": "code",
      "metadata": {
        "id": "bHJZQ1r1G6Nv"
      },
      "source": [
        "from tensorflow.keras.models import Sequential \n",
        "from tensorflow.keras.layers import Dense, Dropout\n",
        "from tensorflow.keras.callbacks import EarlyStopping\n"
      ],
      "execution_count": null,
      "outputs": []
    },
    {
      "cell_type": "code",
      "metadata": {
        "id": "Yv2Hk30KHKy3"
      },
      "source": [
        "model = Sequential()\n",
        "model.add(Dense(100, activation='relu', input_shape=(X_train.shape[1],)))\n",
        "model.add(Dense(32, activation='relu'))\n",
        "model.add(Dense(1, activation='relu'))\n",
        "\n",
        "# про функции активации нейронов:\n",
        "# https://ru.wikipedia.org/wiki/Функция_активации\n"
      ],
      "execution_count": null,
      "outputs": []
    },
    {
      "cell_type": "code",
      "metadata": {
        "colab": {
          "base_uri": "https://localhost:8080/"
        },
        "id": "XTbLedZoISyI",
        "outputId": "7b7410d2-83a0-4f7f-e46f-a7f7f2f753ef"
      },
      "source": [
        "print(model.summary())"
      ],
      "execution_count": null,
      "outputs": [
        {
          "output_type": "stream",
          "text": [
            "Model: \"sequential\"\n",
            "_________________________________________________________________\n",
            "Layer (type)                 Output Shape              Param #   \n",
            "=================================================================\n",
            "dense (Dense)                (None, 100)               1400      \n",
            "_________________________________________________________________\n",
            "dense_1 (Dense)              (None, 32)                3232      \n",
            "_________________________________________________________________\n",
            "dense_2 (Dense)              (None, 1)                 33        \n",
            "=================================================================\n",
            "Total params: 4,665\n",
            "Trainable params: 4,665\n",
            "Non-trainable params: 0\n",
            "_________________________________________________________________\n",
            "None\n"
          ],
          "name": "stdout"
        }
      ]
    },
    {
      "cell_type": "code",
      "metadata": {
        "id": "Li_NgSVAI06W"
      },
      "source": [
        "model.compile(optimizer='adam', loss='mae', metrics=['mse'])"
      ],
      "execution_count": null,
      "outputs": []
    },
    {
      "cell_type": "code",
      "metadata": {
        "id": "CRsU6bDaPa8G"
      },
      "source": [
        "early_stopping_monitor = EarlyStopping(patience=3)"
      ],
      "execution_count": null,
      "outputs": []
    },
    {
      "cell_type": "code",
      "metadata": {
        "colab": {
          "base_uri": "https://localhost:8080/"
        },
        "id": "aYWJT4ilI_gf",
        "outputId": "4e3b24f3-7cb0-4182-f26a-db7154aa9030"
      },
      "source": [
        "history = model.fit(scaler.fit_transform(X_train),\n",
        "                    y_train,\n",
        "                    epochs = 300,\n",
        "                    validation_split=0.2,\n",
        "                    callbacks=[early_stopping_monitor])"
      ],
      "execution_count": null,
      "outputs": [
        {
          "output_type": "stream",
          "text": [
            "Epoch 1/300\n",
            "11/11 [==============================] - 1s 21ms/step - loss: 22.5150 - mse: 598.8438 - val_loss: 21.3656 - val_mse: 526.8804\n",
            "Epoch 2/300\n",
            "11/11 [==============================] - 0s 4ms/step - loss: 21.9036 - mse: 572.2276 - val_loss: 20.6330 - val_mse: 496.8829\n",
            "Epoch 3/300\n",
            "11/11 [==============================] - 0s 4ms/step - loss: 21.0061 - mse: 535.3366 - val_loss: 19.4692 - val_mse: 451.5150\n",
            "Epoch 4/300\n",
            "11/11 [==============================] - 0s 4ms/step - loss: 19.5676 - mse: 479.2826 - val_loss: 17.5865 - val_mse: 384.0854\n",
            "Epoch 5/300\n",
            "11/11 [==============================] - 0s 4ms/step - loss: 17.3353 - mse: 401.2804 - val_loss: 14.8376 - val_mse: 294.8930\n",
            "Epoch 6/300\n",
            "11/11 [==============================] - 0s 6ms/step - loss: 14.3407 - mse: 302.6695 - val_loss: 11.2784 - val_mse: 198.3019\n",
            "Epoch 7/300\n",
            "11/11 [==============================] - 0s 4ms/step - loss: 11.4513 - mse: 209.3337 - val_loss: 8.6936 - val_mse: 127.9052\n",
            "Epoch 8/300\n",
            "11/11 [==============================] - 0s 5ms/step - loss: 9.4659 - mse: 150.1436 - val_loss: 7.7078 - val_mse: 98.8551\n",
            "Epoch 9/300\n",
            "11/11 [==============================] - 0s 4ms/step - loss: 8.7558 - mse: 129.2944 - val_loss: 7.2309 - val_mse: 89.6333\n",
            "Epoch 10/300\n",
            "11/11 [==============================] - 0s 4ms/step - loss: 8.2146 - mse: 116.7515 - val_loss: 6.7197 - val_mse: 81.8150\n",
            "Epoch 11/300\n",
            "11/11 [==============================] - 0s 4ms/step - loss: 7.7271 - mse: 106.4409 - val_loss: 6.3252 - val_mse: 74.9063\n",
            "Epoch 12/300\n",
            "11/11 [==============================] - 0s 4ms/step - loss: 7.3181 - mse: 98.4987 - val_loss: 5.9592 - val_mse: 70.7349\n",
            "Epoch 13/300\n",
            "11/11 [==============================] - 0s 4ms/step - loss: 6.9266 - mse: 91.9692 - val_loss: 5.6397 - val_mse: 64.9048\n",
            "Epoch 14/300\n",
            "11/11 [==============================] - 0s 5ms/step - loss: 6.5770 - mse: 85.0132 - val_loss: 5.3756 - val_mse: 61.5742\n",
            "Epoch 15/300\n",
            "11/11 [==============================] - 0s 4ms/step - loss: 6.3042 - mse: 80.9474 - val_loss: 5.1521 - val_mse: 58.7348\n",
            "Epoch 16/300\n",
            "11/11 [==============================] - 0s 4ms/step - loss: 6.0814 - mse: 73.8584 - val_loss: 4.9670 - val_mse: 54.4299\n",
            "Epoch 17/300\n",
            "11/11 [==============================] - 0s 4ms/step - loss: 5.8230 - mse: 70.3938 - val_loss: 4.8208 - val_mse: 54.7071\n",
            "Epoch 18/300\n",
            "11/11 [==============================] - 0s 4ms/step - loss: 5.6799 - mse: 68.6326 - val_loss: 4.6935 - val_mse: 52.8604\n",
            "Epoch 19/300\n",
            "11/11 [==============================] - 0s 4ms/step - loss: 5.6028 - mse: 68.6303 - val_loss: 4.6486 - val_mse: 53.0091\n",
            "Epoch 20/300\n",
            "11/11 [==============================] - 0s 5ms/step - loss: 5.4714 - mse: 63.1282 - val_loss: 4.5435 - val_mse: 48.3941\n",
            "Epoch 21/300\n",
            "11/11 [==============================] - 0s 4ms/step - loss: 5.3866 - mse: 60.1640 - val_loss: 4.4667 - val_mse: 48.4277\n",
            "Epoch 22/300\n",
            "11/11 [==============================] - 0s 4ms/step - loss: 5.2664 - mse: 60.9551 - val_loss: 4.4896 - val_mse: 50.2005\n",
            "Epoch 23/300\n",
            "11/11 [==============================] - 0s 4ms/step - loss: 5.2142 - mse: 61.2985 - val_loss: 4.4390 - val_mse: 49.1497\n",
            "Epoch 24/300\n",
            "11/11 [==============================] - 0s 4ms/step - loss: 5.1347 - mse: 59.5775 - val_loss: 4.3488 - val_mse: 47.2069\n",
            "Epoch 25/300\n",
            "11/11 [==============================] - 0s 4ms/step - loss: 5.0945 - mse: 56.2182 - val_loss: 4.2815 - val_mse: 44.4866\n",
            "Epoch 26/300\n",
            "11/11 [==============================] - 0s 4ms/step - loss: 4.9830 - mse: 55.5307 - val_loss: 4.2878 - val_mse: 46.0814\n",
            "Epoch 27/300\n",
            "11/11 [==============================] - 0s 4ms/step - loss: 4.9178 - mse: 54.4591 - val_loss: 4.2343 - val_mse: 44.3042\n",
            "Epoch 28/300\n",
            "11/11 [==============================] - 0s 4ms/step - loss: 4.8794 - mse: 54.2244 - val_loss: 4.2126 - val_mse: 44.2056\n",
            "Epoch 29/300\n",
            "11/11 [==============================] - 0s 4ms/step - loss: 4.8985 - mse: 50.7935 - val_loss: 4.1197 - val_mse: 41.1306\n",
            "Epoch 30/300\n",
            "11/11 [==============================] - 0s 5ms/step - loss: 4.7535 - mse: 51.5738 - val_loss: 4.1704 - val_mse: 43.8569\n",
            "Epoch 31/300\n",
            "11/11 [==============================] - 0s 5ms/step - loss: 4.7078 - mse: 51.4936 - val_loss: 4.0621 - val_mse: 41.3747\n",
            "Epoch 32/300\n",
            "11/11 [==============================] - 0s 5ms/step - loss: 4.6157 - mse: 48.3039 - val_loss: 4.0116 - val_mse: 40.2377\n",
            "Epoch 33/300\n",
            "11/11 [==============================] - 0s 4ms/step - loss: 4.5942 - mse: 48.7139 - val_loss: 3.9747 - val_mse: 39.4442\n",
            "Epoch 34/300\n",
            "11/11 [==============================] - 0s 5ms/step - loss: 4.5629 - mse: 44.3968 - val_loss: 3.9060 - val_mse: 37.2269\n",
            "Epoch 35/300\n",
            "11/11 [==============================] - 0s 4ms/step - loss: 4.5044 - mse: 46.0903 - val_loss: 3.9746 - val_mse: 40.3759\n",
            "Epoch 36/300\n",
            "11/11 [==============================] - 0s 4ms/step - loss: 4.4486 - mse: 45.9055 - val_loss: 3.8326 - val_mse: 36.6789\n",
            "Epoch 37/300\n",
            "11/11 [==============================] - 0s 4ms/step - loss: 4.3401 - mse: 42.5111 - val_loss: 3.7827 - val_mse: 36.1483\n",
            "Epoch 38/300\n",
            "11/11 [==============================] - 0s 4ms/step - loss: 4.2715 - mse: 42.6563 - val_loss: 3.7377 - val_mse: 35.9064\n",
            "Epoch 39/300\n",
            "11/11 [==============================] - 0s 6ms/step - loss: 4.2187 - mse: 41.1466 - val_loss: 3.6891 - val_mse: 34.6555\n",
            "Epoch 40/300\n",
            "11/11 [==============================] - 0s 4ms/step - loss: 4.1870 - mse: 41.1986 - val_loss: 3.6357 - val_mse: 33.6061\n",
            "Epoch 41/300\n",
            "11/11 [==============================] - 0s 4ms/step - loss: 4.2657 - mse: 37.4789 - val_loss: 3.5938 - val_mse: 31.7686\n",
            "Epoch 42/300\n",
            "11/11 [==============================] - 0s 4ms/step - loss: 4.1460 - mse: 36.9956 - val_loss: 3.5414 - val_mse: 32.6219\n",
            "Epoch 43/300\n",
            "11/11 [==============================] - 0s 4ms/step - loss: 4.0130 - mse: 37.2989 - val_loss: 3.5020 - val_mse: 31.8508\n",
            "Epoch 44/300\n",
            "11/11 [==============================] - 0s 4ms/step - loss: 3.9896 - mse: 35.3661 - val_loss: 3.4620 - val_mse: 31.2368\n",
            "Epoch 45/300\n",
            "11/11 [==============================] - 0s 5ms/step - loss: 3.9110 - mse: 35.3505 - val_loss: 3.4208 - val_mse: 31.5294\n",
            "Epoch 46/300\n",
            "11/11 [==============================] - 0s 4ms/step - loss: 3.8894 - mse: 35.7355 - val_loss: 3.3464 - val_mse: 29.5415\n",
            "Epoch 47/300\n",
            "11/11 [==============================] - 0s 4ms/step - loss: 3.8890 - mse: 32.4586 - val_loss: 3.3194 - val_mse: 28.2336\n",
            "Epoch 48/300\n",
            "11/11 [==============================] - 0s 4ms/step - loss: 3.8156 - mse: 33.4688 - val_loss: 3.2737 - val_mse: 29.5516\n",
            "Epoch 49/300\n",
            "11/11 [==============================] - 0s 4ms/step - loss: 3.7227 - mse: 32.0079 - val_loss: 3.2295 - val_mse: 27.7995\n",
            "Epoch 50/300\n",
            "11/11 [==============================] - 0s 4ms/step - loss: 3.6992 - mse: 31.1581 - val_loss: 3.1925 - val_mse: 27.7743\n",
            "Epoch 51/300\n",
            "11/11 [==============================] - 0s 4ms/step - loss: 3.6579 - mse: 29.8958 - val_loss: 3.1598 - val_mse: 27.7021\n",
            "Epoch 52/300\n",
            "11/11 [==============================] - 0s 4ms/step - loss: 3.6381 - mse: 31.4194 - val_loss: 3.1749 - val_mse: 28.7205\n",
            "Epoch 53/300\n",
            "11/11 [==============================] - 0s 4ms/step - loss: 3.6156 - mse: 28.9077 - val_loss: 3.1663 - val_mse: 26.2423\n",
            "Epoch 54/300\n",
            "11/11 [==============================] - 0s 4ms/step - loss: 3.5276 - mse: 27.6269 - val_loss: 3.0669 - val_mse: 26.6599\n",
            "Epoch 55/300\n",
            "11/11 [==============================] - 0s 4ms/step - loss: 3.4666 - mse: 28.1225 - val_loss: 3.0617 - val_mse: 25.6758\n",
            "Epoch 56/300\n",
            "11/11 [==============================] - 0s 4ms/step - loss: 3.4538 - mse: 25.8585 - val_loss: 3.0704 - val_mse: 25.3267\n",
            "Epoch 57/300\n",
            "11/11 [==============================] - 0s 4ms/step - loss: 3.4534 - mse: 27.8366 - val_loss: 3.0492 - val_mse: 26.5372\n",
            "Epoch 58/300\n",
            "11/11 [==============================] - 0s 4ms/step - loss: 3.3944 - mse: 25.7246 - val_loss: 3.0243 - val_mse: 24.7553\n",
            "Epoch 59/300\n",
            "11/11 [==============================] - 0s 4ms/step - loss: 3.3181 - mse: 25.5102 - val_loss: 3.0015 - val_mse: 25.2725\n",
            "Epoch 60/300\n",
            "11/11 [==============================] - 0s 4ms/step - loss: 3.3175 - mse: 25.3972 - val_loss: 3.0006 - val_mse: 24.4648\n",
            "Epoch 61/300\n",
            "11/11 [==============================] - 0s 5ms/step - loss: 3.2555 - mse: 24.9359 - val_loss: 2.9923 - val_mse: 24.7725\n",
            "Epoch 62/300\n",
            "11/11 [==============================] - 0s 4ms/step - loss: 3.2374 - mse: 23.8761 - val_loss: 2.9911 - val_mse: 24.8649\n",
            "Epoch 63/300\n",
            "11/11 [==============================] - 0s 5ms/step - loss: 3.2047 - mse: 23.7709 - val_loss: 2.9815 - val_mse: 24.5455\n",
            "Epoch 64/300\n",
            "11/11 [==============================] - 0s 5ms/step - loss: 3.1851 - mse: 23.5666 - val_loss: 2.9773 - val_mse: 24.1425\n",
            "Epoch 65/300\n",
            "11/11 [==============================] - 0s 5ms/step - loss: 3.1382 - mse: 22.9331 - val_loss: 2.9529 - val_mse: 23.8444\n",
            "Epoch 66/300\n",
            "11/11 [==============================] - 0s 4ms/step - loss: 3.1202 - mse: 22.6390 - val_loss: 2.9325 - val_mse: 23.7283\n",
            "Epoch 67/300\n",
            "11/11 [==============================] - 0s 4ms/step - loss: 3.1069 - mse: 22.1175 - val_loss: 2.9666 - val_mse: 24.4792\n",
            "Epoch 68/300\n",
            "11/11 [==============================] - 0s 5ms/step - loss: 3.1365 - mse: 23.3911 - val_loss: 2.9104 - val_mse: 23.5958\n",
            "Epoch 69/300\n",
            "11/11 [==============================] - 0s 4ms/step - loss: 3.0752 - mse: 22.0351 - val_loss: 2.8875 - val_mse: 23.4505\n",
            "Epoch 70/300\n",
            "11/11 [==============================] - 0s 4ms/step - loss: 3.0577 - mse: 21.5782 - val_loss: 2.8977 - val_mse: 23.8175\n",
            "Epoch 71/300\n",
            "11/11 [==============================] - 0s 4ms/step - loss: 3.0414 - mse: 21.3400 - val_loss: 2.8969 - val_mse: 23.8460\n",
            "Epoch 72/300\n",
            "11/11 [==============================] - 0s 4ms/step - loss: 3.0266 - mse: 21.6278 - val_loss: 2.8827 - val_mse: 23.5519\n",
            "Epoch 73/300\n",
            "11/11 [==============================] - 0s 4ms/step - loss: 3.0223 - mse: 21.4554 - val_loss: 2.8791 - val_mse: 23.6226\n",
            "Epoch 74/300\n",
            "11/11 [==============================] - 0s 4ms/step - loss: 3.0805 - mse: 20.9575 - val_loss: 2.8698 - val_mse: 23.9088\n",
            "Epoch 75/300\n",
            "11/11 [==============================] - 0s 5ms/step - loss: 3.0227 - mse: 21.2346 - val_loss: 2.8725 - val_mse: 23.5342\n",
            "Epoch 76/300\n",
            "11/11 [==============================] - 0s 4ms/step - loss: 2.9917 - mse: 21.0061 - val_loss: 2.8252 - val_mse: 22.3846\n",
            "Epoch 77/300\n",
            "11/11 [==============================] - 0s 5ms/step - loss: 3.0306 - mse: 20.1081 - val_loss: 2.8104 - val_mse: 22.1602\n",
            "Epoch 78/300\n",
            "11/11 [==============================] - 0s 4ms/step - loss: 2.9695 - mse: 20.0230 - val_loss: 2.8323 - val_mse: 22.8529\n",
            "Epoch 79/300\n",
            "11/11 [==============================] - 0s 4ms/step - loss: 3.0278 - mse: 21.7568 - val_loss: 2.8064 - val_mse: 22.5105\n",
            "Epoch 80/300\n",
            "11/11 [==============================] - 0s 4ms/step - loss: 2.9828 - mse: 19.9104 - val_loss: 2.7899 - val_mse: 22.4379\n",
            "Epoch 81/300\n",
            "11/11 [==============================] - 0s 4ms/step - loss: 2.9447 - mse: 20.5576 - val_loss: 2.7841 - val_mse: 22.2316\n",
            "Epoch 82/300\n",
            "11/11 [==============================] - 0s 4ms/step - loss: 2.9983 - mse: 19.5321 - val_loss: 2.7776 - val_mse: 22.6251\n",
            "Epoch 83/300\n",
            "11/11 [==============================] - 0s 4ms/step - loss: 2.9208 - mse: 20.6196 - val_loss: 2.7793 - val_mse: 22.5910\n",
            "Epoch 84/300\n",
            "11/11 [==============================] - 0s 4ms/step - loss: 2.8979 - mse: 19.6391 - val_loss: 2.7719 - val_mse: 22.1288\n",
            "Epoch 85/300\n",
            "11/11 [==============================] - 0s 4ms/step - loss: 2.8945 - mse: 19.8413 - val_loss: 2.7649 - val_mse: 22.2539\n",
            "Epoch 86/300\n",
            "11/11 [==============================] - 0s 5ms/step - loss: 2.8865 - mse: 19.6270 - val_loss: 2.7401 - val_mse: 21.9500\n",
            "Epoch 87/300\n",
            "11/11 [==============================] - 0s 4ms/step - loss: 2.8834 - mse: 19.9925 - val_loss: 2.7364 - val_mse: 22.3556\n",
            "Epoch 88/300\n",
            "11/11 [==============================] - 0s 4ms/step - loss: 2.8772 - mse: 19.6810 - val_loss: 2.7103 - val_mse: 21.6582\n",
            "Epoch 89/300\n",
            "11/11 [==============================] - 0s 4ms/step - loss: 2.8680 - mse: 19.1103 - val_loss: 2.7090 - val_mse: 21.8658\n",
            "Epoch 90/300\n",
            "11/11 [==============================] - 0s 4ms/step - loss: 2.8650 - mse: 19.8449 - val_loss: 2.7243 - val_mse: 22.2398\n",
            "Epoch 91/300\n",
            "11/11 [==============================] - 0s 4ms/step - loss: 2.8483 - mse: 19.6213 - val_loss: 2.7389 - val_mse: 21.9700\n",
            "Epoch 92/300\n",
            "11/11 [==============================] - 0s 4ms/step - loss: 2.9556 - mse: 18.5535 - val_loss: 2.7094 - val_mse: 22.0370\n"
          ],
          "name": "stdout"
        }
      ]
    },
    {
      "cell_type": "code",
      "metadata": {
        "colab": {
          "base_uri": "https://localhost:8080/",
          "height": 279
        },
        "id": "zM-Uft1xK0vB",
        "outputId": "109ce0ab-dbb6-4f4e-de40-be1cc1a6ec37"
      },
      "source": [
        "plt.plot(history.history['mse'], \n",
        "         label='Ошибка на обучающем наборе')\n",
        "\n",
        "plt.xlabel('Эпоха обучения')\n",
        "plt.ylabel('Средняя абсолютная ошибка')\n",
        "plt.legend()\n",
        "plt.show()"
      ],
      "execution_count": null,
      "outputs": [
        {
          "output_type": "display_data",
          "data": {
            "image/png": "[encoded data removed]",
            "text/plain": [
              "<Figure size 432x288 with 1 Axes>"
            ]
          },
          "metadata": {
            "tags": [],
            "needs_background": "light"
          }
        }
      ]
    },
    {
      "cell_type": "code",
      "metadata": {
        "id": "wXv7jeCVJxVo"
      },
      "source": [
        "pred = model.predict(scaler.fit_transform(X_test))"
      ],
      "execution_count": null,
      "outputs": []
    },
    {
      "cell_type": "code",
      "metadata": {
        "colab": {
          "base_uri": "https://localhost:8080/"
        },
        "id": "pqttVKfRJ3Ma",
        "outputId": "6183236d-d571-4170-f1d9-a4ccff777821"
      },
      "source": [
        "print(np.sqrt(mean_squared_error(y_test, pred)))"
      ],
      "execution_count": null,
      "outputs": [
        {
          "output_type": "stream",
          "text": [
            "5.159051280371816\n"
          ],
          "name": "stdout"
        }
      ]
    },
    {
      "cell_type": "code",
      "metadata": {
        "colab": {
          "base_uri": "https://localhost:8080/",
          "height": 553
        },
        "id": "ggSfeMGmKMh8",
        "outputId": "cbaaf417-05a5-4839-cf5c-b823d17ae9f2"
      },
      "source": [
        "plt.figure(figsize=(20,9))\n",
        "plt.plot(y_test.values, \"blue\",linewidth=5, label='Реальные значения', alpha = 0.5)\n",
        "plt.plot(pred, \"red\",linewidth=5, label='Предсказание')\n",
        "plt.legend(loc='best')\n",
        "plt.title(\"График пример\")\n",
        "plt.grid(True)\n",
        "plt.show()"
      ],
      "execution_count": null,
      "outputs": [
        {
          "output_type": "display_data",
          "data": {
            "image/png": "[encoded data removed]",
            "text/plain": [
              "<Figure size 1440x648 with 1 Axes>"
            ]
          },
          "metadata": {
            "tags": [],
            "needs_background": "light"
          }
        }
      ]
    }
  ]
}